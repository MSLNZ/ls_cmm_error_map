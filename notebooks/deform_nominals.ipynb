{
 "cells": [
  {
   "cell_type": "markdown",
   "metadata": {},
   "source": [
    "working on new code for `Measurement.recalculate`"
   ]
  },
  {
   "cell_type": "code",
   "execution_count": 59,
   "metadata": {},
   "outputs": [],
   "source": [
    "import numpy as np\n",
    "\n",
    "import pyqtgraph as pg\n",
    "from cmm_error_map import data_cmpts as dc\n",
    "from cmm_error_map import design_linear as design\n",
    "from cmm_error_map import  gui_cmpts as gc\n",
    "\n",
    "import matplotlib.pyplot as plt"
   ]
  },
  {
   "cell_type": "code",
   "execution_count": 91,
   "metadata": {},
   "outputs": [
    {
     "data": {
      "text/plain": [
       "Transform3D((0.925417, 0.115383, 0.360958, 10, 0.163176, 0.73836, -0.654368, 10, -0.34202, 0.664463, 0.664463, 10, 0, 0, 0, 1))"
      ]
     },
     "execution_count": 91,
     "metadata": {},
     "output_type": "execute_result"
    }
   ],
   "source": [
    "p0 = dc.Probe(title=\"P0\", name=\"p0\", length=np.array([0, 0, 0]))\n",
    "cmm = dc.pmm_866\n",
    "mmt = dc.Measurement(\n",
    "    title=\"m1\",\n",
    "    name=\"mmt_00\",\n",
    "    artefact=dc.default_artefacts[\"KOBA 0620\"],\n",
    "    transform3d=pg.Transform3D(),\n",
    "    probe=p0,\n",
    "    cmm_nominal=None,\n",
    "    cmm_dev=None,\n",
    "    mmt_nominal=None,\n",
    "    mmt_dev=None,\n",
    "\n",
    ")\n",
    "model_params = dc.model_parameters_dict.copy()\n",
    "mmt.transform3d = gc.vec_to_transform3d([10,10,10], (45, 20, 10))\n",
    "mmt.transform3d\n"
   ]
  },
  {
   "cell_type": "code",
   "execution_count": 92,
   "metadata": {},
   "outputs": [
    {
     "data": {
      "text/plain": [
       "((25, 3),\n",
       " array([[  10.        ,   10.        ,   10.        ],\n",
       "        [ 133.08039838,   31.70239612,  -35.48867652],\n",
       "        [ 256.16079676,   53.40479225,  -80.97735304],\n",
       "        [ 379.24119514,   75.10718837, -126.46602955],\n",
       "        [ 502.32159352,   96.8095845 , -171.95470607],\n",
       "        [  25.34590916,  108.20189422,   98.37357682],\n",
       "        [ 148.42630754,  129.90429035,   52.8849003 ],\n",
       "        [ 271.50670592,  151.60668647,    7.39622378],\n",
       "        [ 394.58710431,  173.3090826 ,  -38.09245273],\n",
       "        [ 517.66750269,  195.01147872,  -83.58112925],\n",
       "        [  40.69181833,  206.40378845,  186.74715364],\n",
       "        [ 163.77221671,  228.10618457,  141.25847712],\n",
       "        [ 286.85261509,  249.8085807 ,   95.7698006 ],\n",
       "        [ 409.93301347,  271.51097682,   50.28112409],\n",
       "        [ 533.01341185,  293.21337295,    4.79244757],\n",
       "        [  56.03772749,  304.60568267,  275.12073046],\n",
       "        [ 179.11812587,  326.3080788 ,  229.63205394],\n",
       "        [ 302.19852425,  348.01047492,  184.14337742],\n",
       "        [ 425.27892263,  369.71287104,  138.65470091],\n",
       "        [ 548.35932101,  391.41526717,   93.16602439],\n",
       "        [  71.38363665,  402.80757689,  363.49430728],\n",
       "        [ 194.46403503,  424.50997302,  318.00563076],\n",
       "        [ 317.54443341,  446.21236914,  272.51695424],\n",
       "        [ 440.6248318 ,  467.91476527,  227.02827772],\n",
       "        [ 563.70523018,  489.61716139,  181.53960121]]))"
      ]
     },
     "execution_count": 92,
     "metadata": {},
     "output_type": "execute_result"
    }
   ],
   "source": [
    "nx, ny = mmt.artefact.nballs\n",
    "ball_range = np.arange(nx * ny)\n",
    "x = (ball_range) % nx * mmt.artefact.ball_spacing\n",
    "y = (ball_range) // nx * mmt.artefact.ball_spacing\n",
    "z = (ball_range) * 0.0\n",
    "xyz = np.stack((x, y, z))\n",
    "mmt.cmm_nominal = mmt.transform3d.map(xyz).T\n",
    "mmt.cmm_nominal.shape, mmt.cmm_nominal"
   ]
  },
  {
   "cell_type": "code",
   "execution_count": 93,
   "metadata": {},
   "outputs": [
    {
     "data": {
      "text/plain": [
       "array([[0., 0., 0.],\n",
       "       [0., 0., 0.],\n",
       "       [0., 0., 0.],\n",
       "       [0., 0., 0.],\n",
       "       [0., 0., 0.],\n",
       "       [0., 0., 0.],\n",
       "       [0., 0., 0.],\n",
       "       [0., 0., 0.],\n",
       "       [0., 0., 0.],\n",
       "       [0., 0., 0.],\n",
       "       [0., 0., 0.],\n",
       "       [0., 0., 0.],\n",
       "       [0., 0., 0.],\n",
       "       [0., 0., 0.],\n",
       "       [0., 0., 0.],\n",
       "       [0., 0., 0.],\n",
       "       [0., 0., 0.],\n",
       "       [0., 0., 0.],\n",
       "       [0., 0., 0.],\n",
       "       [0., 0., 0.],\n",
       "       [0., 0., 0.],\n",
       "       [0., 0., 0.],\n",
       "       [0., 0., 0.],\n",
       "       [0., 0., 0.],\n",
       "       [0., 0., 0.]])"
      ]
     },
     "execution_count": 93,
     "metadata": {},
     "output_type": "execute_result"
    }
   ],
   "source": [
    "np.apply_along_axis(design.linear_model_point, 1, mmt.cmm_nominal, xyzt=p0.length, model_params=model_params, fixed_table=False, bridge_axis=1 )"
   ]
  },
  {
   "cell_type": "code",
   "execution_count": 94,
   "metadata": {},
   "outputs": [],
   "source": [
    "\n",
    "# deformed position of plate relative to nominal - in CMM CSY\n",
    "mmt.cmm_dev = design.linear_model_matrix(\n",
    "    mmt.cmm_nominal,\n",
    "    p0.length,\n",
    "    model_params,\n",
    "    cmm.cmm_model.fixed_table,\n",
    "    cmm.cmm_model.bridge_axis,\n",
    ")"
   ]
  },
  {
   "cell_type": "code",
   "execution_count": 95,
   "metadata": {},
   "outputs": [
    {
     "data": {
      "text/plain": [
       "array([[0., 0., 0.],\n",
       "       [0., 0., 0.],\n",
       "       [0., 0., 0.],\n",
       "       [0., 0., 0.],\n",
       "       [0., 0., 0.],\n",
       "       [0., 0., 0.],\n",
       "       [0., 0., 0.],\n",
       "       [0., 0., 0.],\n",
       "       [0., 0., 0.],\n",
       "       [0., 0., 0.],\n",
       "       [0., 0., 0.],\n",
       "       [0., 0., 0.],\n",
       "       [0., 0., 0.],\n",
       "       [0., 0., 0.],\n",
       "       [0., 0., 0.],\n",
       "       [0., 0., 0.],\n",
       "       [0., 0., 0.],\n",
       "       [0., 0., 0.],\n",
       "       [0., 0., 0.],\n",
       "       [0., 0., 0.],\n",
       "       [0., 0., 0.],\n",
       "       [0., 0., 0.],\n",
       "       [0., 0., 0.],\n",
       "       [0., 0., 0.],\n",
       "       [0., 0., 0.]])"
      ]
     },
     "execution_count": 95,
     "metadata": {},
     "output_type": "execute_result"
    }
   ],
   "source": [
    "mmt.cmm_dev"
   ]
  },
  {
   "cell_type": "code",
   "execution_count": 96,
   "metadata": {},
   "outputs": [
    {
     "data": {
      "text/plain": [
       "array([[  10.        ,   10.        ,   10.        ],\n",
       "       [ 133.08039838,   31.70239612,  -35.48867652],\n",
       "       [ 256.16079676,   53.40479225,  -80.97735304],\n",
       "       [ 379.24119514,   75.10718837, -126.46602955],\n",
       "       [ 502.32159352,   96.8095845 , -171.95470607],\n",
       "       [  25.34590916,  108.20189422,   98.37357682],\n",
       "       [ 148.42630754,  129.90429035,   52.8849003 ],\n",
       "       [ 271.50670592,  151.60668647,    7.39622378],\n",
       "       [ 394.58710431,  173.3090826 ,  -38.09245273],\n",
       "       [ 517.66750269,  195.01147872,  -83.58112925],\n",
       "       [  40.69181833,  206.40378845,  186.74715364],\n",
       "       [ 163.77221671,  228.10618457,  141.25847712],\n",
       "       [ 286.85261509,  249.8085807 ,   95.7698006 ],\n",
       "       [ 409.93301347,  271.51097682,   50.28112409],\n",
       "       [ 533.01341185,  293.21337295,    4.79244757],\n",
       "       [  56.03772749,  304.60568267,  275.12073046],\n",
       "       [ 179.11812587,  326.3080788 ,  229.63205394],\n",
       "       [ 302.19852425,  348.01047492,  184.14337742],\n",
       "       [ 425.27892263,  369.71287104,  138.65470091],\n",
       "       [ 548.35932101,  391.41526717,   93.16602439],\n",
       "       [  71.38363665,  402.80757689,  363.49430728],\n",
       "       [ 194.46403503,  424.50997302,  318.00563076],\n",
       "       [ 317.54443341,  446.21236914,  272.51695424],\n",
       "       [ 440.6248318 ,  467.91476527,  227.02827772],\n",
       "       [ 563.70523018,  489.61716139,  181.53960121]])"
      ]
     },
     "execution_count": 96,
     "metadata": {},
     "output_type": "execute_result"
    }
   ],
   "source": [
    "cmm_deform = mmt.cmm_nominal + mmt.cmm_dev\n",
    "cmm_deform"
   ]
  },
  {
   "cell_type": "code",
   "execution_count": 97,
   "metadata": {},
   "outputs": [
    {
     "data": {
      "image/png": "[encoded data removed]",
      "text/plain": [
       "<Figure size 640x480 with 1 Axes>"
      ]
     },
     "metadata": {},
     "output_type": "display_data"
    }
   ],
   "source": [
    "plt.scatter(cmm_deform[:, 0], cmm_deform[:,1])\n",
    "plt.title(\"XY\");"
   ]
  },
  {
   "cell_type": "code",
   "execution_count": 98,
   "metadata": {},
   "outputs": [
    {
     "data": {
      "image/png": "[encoded data removed]",
      "text/plain": [
       "<Figure size 640x480 with 1 Axes>"
      ]
     },
     "metadata": {},
     "output_type": "display_data"
    }
   ],
   "source": [
    "plt.scatter(cmm_deform[:, 0], cmm_deform[:,2])\n",
    "plt.title(\"XZ\");"
   ]
  },
  {
   "cell_type": "code",
   "execution_count": 99,
   "metadata": {},
   "outputs": [
    {
     "data": {
      "image/png": "[encoded data removed]",
      "text/plain": [
       "<Figure size 640x480 with 1 Axes>"
      ]
     },
     "metadata": {},
     "output_type": "display_data"
    }
   ],
   "source": [
    "plt.scatter(cmm_deform[:, 1], cmm_deform[:,2])\n",
    "plt.title(\"YZ\");"
   ]
  },
  {
   "cell_type": "code",
   "execution_count": 100,
   "metadata": {},
   "outputs": [
    {
     "data": {
      "text/plain": [
       "Transform3D((0.925417, 0.163176, -0.34202, -7.46572, 0.115383, 0.73836, 0.664463, -15.1821, 0.360958, -0.654368, 0.664463, -3.71053, 0, 0, 0, 1))"
      ]
     },
     "execution_count": 100,
     "metadata": {},
     "output_type": "execute_result"
    }
   ],
   "source": [
    "tinv = mmt.transform3d.inverted()[0]\n",
    "tinv\n"
   ]
  },
  {
   "cell_type": "code",
   "execution_count": 101,
   "metadata": {},
   "outputs": [
    {
     "data": {
      "text/plain": [
       "array([[-8.34465027e-07,  3.27825546e-07,  1.19209290e-07],\n",
       "       [ 1.32999985e+02,  1.26718163e-07,  8.01876055e-07],\n",
       "       [ 2.65999971e+02, -7.43892201e-08,  1.48454282e-06],\n",
       "       [ 3.98999958e+02, -2.75496589e-07,  2.16720957e-06],\n",
       "       [ 5.31999944e+02, -4.76603986e-07,  2.84987635e-06],\n",
       "       [-1.03557241e-06,  1.32999986e+02, -5.18001355e-06],\n",
       "       [ 1.32999985e+02,  1.32999985e+02, -4.49734678e-06],\n",
       "       [ 2.65999971e+02,  1.32999985e+02, -3.81468001e-06],\n",
       "       [ 3.98999957e+02,  1.32999985e+02, -3.13201325e-06],\n",
       "       [ 5.31999943e+02,  1.32999985e+02, -2.44934648e-06],\n",
       "       [-1.23667979e-06,  2.65999971e+02, -1.04792364e-05],\n",
       "       [ 1.32999985e+02,  2.65999971e+02, -9.79656963e-06],\n",
       "       [ 2.65999971e+02,  2.65999970e+02, -9.11390285e-06],\n",
       "       [ 3.98999957e+02,  2.65999970e+02, -8.43123610e-06],\n",
       "       [ 5.31999943e+02,  2.65999970e+02, -7.74856932e-06],\n",
       "       [-1.43778716e-06,  3.98999956e+02, -1.57784592e-05],\n",
       "       [ 1.32999985e+02,  3.98999956e+02, -1.50957925e-05],\n",
       "       [ 2.65999971e+02,  3.98999956e+02, -1.44131257e-05],\n",
       "       [ 3.98999957e+02,  3.98999955e+02, -1.37304589e-05],\n",
       "       [ 5.31999943e+02,  3.98999955e+02, -1.30477922e-05],\n",
       "       [-1.63889456e-06,  5.31999941e+02, -2.10776820e-05],\n",
       "       [ 1.32999984e+02,  5.31999941e+02, -2.03950153e-05],\n",
       "       [ 2.65999971e+02,  5.31999941e+02, -1.97123485e-05],\n",
       "       [ 3.98999957e+02,  5.31999941e+02, -1.90296818e-05],\n",
       "       [ 5.31999943e+02,  5.31999940e+02, -1.83470150e-05]])"
      ]
     },
     "execution_count": 101,
     "metadata": {},
     "output_type": "execute_result"
    }
   ],
   "source": [
    "xyz = tinv.map(cmm_deform.T).T\n",
    "xyz"
   ]
  },
  {
   "cell_type": "code",
   "execution_count": 102,
   "metadata": {},
   "outputs": [
    {
     "data": {
      "image/png": "[encoded data removed]",
      "text/plain": [
       "<Figure size 640x480 with 1 Axes>"
      ]
     },
     "metadata": {},
     "output_type": "display_data"
    }
   ],
   "source": [
    "plt.scatter(xyz[:, 0], xyz[:,1])\n",
    "plt.title(\"XY\");"
   ]
  },
  {
   "cell_type": "code",
   "execution_count": 103,
   "metadata": {},
   "outputs": [
    {
     "data": {
      "image/png": "[encoded data removed]",
      "text/plain": [
       "<Figure size 640x480 with 1 Axes>"
      ]
     },
     "metadata": {},
     "output_type": "display_data"
    }
   ],
   "source": [
    "plt.scatter(xyz[:, 0],xyz[:,2])\n",
    "plt.title(\"XZ\");"
   ]
  },
  {
   "cell_type": "code",
   "execution_count": 104,
   "metadata": {},
   "outputs": [
    {
     "data": {
      "image/png": "[encoded data removed]",
      "text/plain": [
       "<Figure size 640x480 with 1 Axes>"
      ]
     },
     "metadata": {},
     "output_type": "display_data"
    }
   ],
   "source": [
    "plt.scatter(xyz[:, 1],xyz[:,2])\n",
    "plt.title(\"YZ\");"
   ]
  },
  {
   "cell_type": "markdown",
   "metadata": {},
   "source": [
    "Would expect for no deformation ie model_params == 0 that Z after inverse transform would be all 0.0?"
   ]
  },
  {
   "cell_type": "code",
   "execution_count": 111,
   "metadata": {},
   "outputs": [
    {
     "data": {
      "text/plain": [
       "Transform3D((0.925417, 0.115383, 0.360958, 10, 0.163176, 0.73836, -0.654368, 10, -0.34202, 0.664463, 0.664463, 10, 0, 0, 0, 1))"
      ]
     },
     "execution_count": 111,
     "metadata": {},
     "output_type": "execute_result"
    }
   ],
   "source": [
    "mat = gc.vec_to_transform3d([10,10,10], (45, 20, 10))\n",
    "mat"
   ]
  },
  {
   "cell_type": "code",
   "execution_count": 112,
   "metadata": {},
   "outputs": [],
   "source": [
    "nx, ny = mmt.artefact.nballs\n",
    "ball_range = np.arange(nx * ny)\n",
    "x = (ball_range) % nx * mmt.artefact.ball_spacing\n",
    "y = (ball_range) // nx * mmt.artefact.ball_spacing\n",
    "z = (ball_range) * 0.0\n",
    "xyz = np.stack((x, y, z))"
   ]
  },
  {
   "cell_type": "code",
   "execution_count": 115,
   "metadata": {},
   "outputs": [
    {
     "data": {
      "text/plain": [
       "array([[  10.        ,  133.08039838,  256.16079676,  379.24119514,\n",
       "         502.32159352,   25.34590916,  148.42630754,  271.50670592,\n",
       "         394.58710431,  517.66750269,   40.69181833,  163.77221671,\n",
       "         286.85261509,  409.93301347,  533.01341185,   56.03772749,\n",
       "         179.11812587,  302.19852425,  425.27892263,  548.35932101,\n",
       "          71.38363665,  194.46403503,  317.54443341,  440.6248318 ,\n",
       "         563.70523018],\n",
       "       [  10.        ,   31.70239612,   53.40479225,   75.10718837,\n",
       "          96.8095845 ,  108.20189422,  129.90429035,  151.60668647,\n",
       "         173.3090826 ,  195.01147872,  206.40378845,  228.10618457,\n",
       "         249.8085807 ,  271.51097682,  293.21337295,  304.60568267,\n",
       "         326.3080788 ,  348.01047492,  369.71287104,  391.41526717,\n",
       "         402.80757689,  424.50997302,  446.21236914,  467.91476527,\n",
       "         489.61716139],\n",
       "       [  10.        ,  -35.48867652,  -80.97735304, -126.46602955,\n",
       "        -171.95470607,   98.37357682,   52.8849003 ,    7.39622378,\n",
       "         -38.09245273,  -83.58112925,  186.74715364,  141.25847712,\n",
       "          95.7698006 ,   50.28112409,    4.79244757,  275.12073046,\n",
       "         229.63205394,  184.14337742,  138.65470091,   93.16602439,\n",
       "         363.49430728,  318.00563076,  272.51695424,  227.02827772,\n",
       "         181.53960121]])"
      ]
     },
     "execution_count": 115,
     "metadata": {},
     "output_type": "execute_result"
    }
   ],
   "source": [
    "txyz = mat.map(xyz)\n",
    "txyz"
   ]
  },
  {
   "cell_type": "code",
   "execution_count": 116,
   "metadata": {},
   "outputs": [
    {
     "data": {
      "text/plain": [
       "Transform3D((0.925417, 0.163176, -0.34202, -7.46572, 0.115383, 0.73836, 0.664463, -15.1821, 0.360958, -0.654368, 0.664463, -3.71053, 0, 0, 0, 1))"
      ]
     },
     "execution_count": 116,
     "metadata": {},
     "output_type": "execute_result"
    }
   ],
   "source": [
    "mat_inv = mat.inverted()[0]\n",
    "mat_inv"
   ]
  },
  {
   "cell_type": "code",
   "execution_count": 118,
   "metadata": {},
   "outputs": [
    {
     "data": {
      "text/plain": [
       "array([[-8.34465027e-07,  1.32999985e+02,  2.65999971e+02,\n",
       "         3.98999958e+02,  5.31999944e+02, -1.03557241e-06,\n",
       "         1.32999985e+02,  2.65999971e+02,  3.98999957e+02,\n",
       "         5.31999943e+02, -1.23667979e-06,  1.32999985e+02,\n",
       "         2.65999971e+02,  3.98999957e+02,  5.31999943e+02,\n",
       "        -1.43778716e-06,  1.32999985e+02,  2.65999971e+02,\n",
       "         3.98999957e+02,  5.31999943e+02, -1.63889456e-06,\n",
       "         1.32999984e+02,  2.65999971e+02,  3.98999957e+02,\n",
       "         5.31999943e+02],\n",
       "       [ 3.27825546e-07,  1.26718163e-07, -7.43892201e-08,\n",
       "        -2.75496589e-07, -4.76603986e-07,  1.32999986e+02,\n",
       "         1.32999985e+02,  1.32999985e+02,  1.32999985e+02,\n",
       "         1.32999985e+02,  2.65999971e+02,  2.65999971e+02,\n",
       "         2.65999970e+02,  2.65999970e+02,  2.65999970e+02,\n",
       "         3.98999956e+02,  3.98999956e+02,  3.98999956e+02,\n",
       "         3.98999955e+02,  3.98999955e+02,  5.31999941e+02,\n",
       "         5.31999941e+02,  5.31999941e+02,  5.31999941e+02,\n",
       "         5.31999940e+02],\n",
       "       [ 1.19209290e-07,  8.01876055e-07,  1.48454282e-06,\n",
       "         2.16720957e-06,  2.84987635e-06, -5.18001355e-06,\n",
       "        -4.49734678e-06, -3.81468001e-06, -3.13201325e-06,\n",
       "        -2.44934648e-06, -1.04792364e-05, -9.79656963e-06,\n",
       "        -9.11390285e-06, -8.43123610e-06, -7.74856932e-06,\n",
       "        -1.57784592e-05, -1.50957925e-05, -1.44131257e-05,\n",
       "        -1.37304589e-05, -1.30477922e-05, -2.10776820e-05,\n",
       "        -2.03950153e-05, -1.97123485e-05, -1.90296818e-05,\n",
       "        -1.83470150e-05]])"
      ]
     },
     "execution_count": 118,
     "metadata": {},
     "output_type": "execute_result"
    }
   ],
   "source": [
    "ttxyz = mat_inv.map(txyz)\n",
    "ttxyz"
   ]
  },
  {
   "cell_type": "code",
   "execution_count": 119,
   "metadata": {},
   "outputs": [
    {
     "data": {
      "text/plain": [
       "array([[-8.34465027e-07, -1.47104619e-05, -2.85864588e-05,\n",
       "        -4.24624557e-05, -5.63384525e-05, -1.03557241e-06,\n",
       "        -1.49115693e-05, -2.87875661e-05, -4.26635630e-05,\n",
       "        -5.65395599e-05, -1.23667979e-06, -1.51126767e-05,\n",
       "        -2.89886735e-05, -4.28646704e-05, -5.67406672e-05,\n",
       "        -1.43778716e-06, -1.53137840e-05, -2.91897809e-05,\n",
       "        -4.30657778e-05, -5.69417747e-05, -1.63889456e-06,\n",
       "        -1.55148914e-05, -2.93908883e-05, -4.32668851e-05,\n",
       "        -5.71428820e-05],\n",
       "       [ 3.27825546e-07,  1.26718163e-07, -7.43892201e-08,\n",
       "        -2.75496589e-07, -4.76603986e-07, -1.44307236e-05,\n",
       "        -1.46318310e-05, -1.48329384e-05, -1.50340458e-05,\n",
       "        -1.52351532e-05, -2.91892728e-05, -2.93903802e-05,\n",
       "        -2.95914876e-05, -2.97925950e-05, -2.99937024e-05,\n",
       "        -4.39478221e-05, -4.41489294e-05, -4.43500368e-05,\n",
       "        -4.45511442e-05, -4.47522515e-05, -5.87063712e-05,\n",
       "        -5.89074787e-05, -5.91085860e-05, -5.93096934e-05,\n",
       "        -5.95108008e-05],\n",
       "       [ 1.19209290e-07,  8.01876055e-07,  1.48454282e-06,\n",
       "         2.16720957e-06,  2.84987635e-06, -5.18001355e-06,\n",
       "        -4.49734678e-06, -3.81468001e-06, -3.13201325e-06,\n",
       "        -2.44934648e-06, -1.04792364e-05, -9.79656963e-06,\n",
       "        -9.11390285e-06, -8.43123610e-06, -7.74856932e-06,\n",
       "        -1.57784592e-05, -1.50957925e-05, -1.44131257e-05,\n",
       "        -1.37304589e-05, -1.30477922e-05, -2.10776820e-05,\n",
       "        -2.03950153e-05, -1.97123485e-05, -1.90296818e-05,\n",
       "        -1.83470150e-05]])"
      ]
     },
     "execution_count": 119,
     "metadata": {},
     "output_type": "execute_result"
    }
   ],
   "source": [
    "ttxyz-xyz"
   ]
  },
  {
   "cell_type": "code",
   "execution_count": 121,
   "metadata": {},
   "outputs": [
    {
     "data": {
      "text/plain": [
       "array([[ 0.92541653,  0.11538278,  0.3609584 , 10.        ],\n",
       "       [ 0.16317591,  0.73836011, -0.65436834, 10.        ],\n",
       "       [-0.34202012,  0.66446298,  0.66446298, 10.        ],\n",
       "       [ 0.        ,  0.        ,  0.        ,  1.        ]])"
      ]
     },
     "execution_count": 121,
     "metadata": {},
     "output_type": "execute_result"
    }
   ],
   "source": [
    "np_mat = mat.matrix()\n",
    "np_mat"
   ]
  },
  {
   "cell_type": "code",
   "execution_count": 137,
   "metadata": {},
   "outputs": [
    {
     "data": {
      "text/plain": [
       "(4, 25)"
      ]
     },
     "execution_count": 137,
     "metadata": {},
     "output_type": "execute_result"
    }
   ],
   "source": [
    "xyz1 = np.vstack((xyz, np.ones((1, xyz.shape[1]))))\n",
    "xyz1.shape"
   ]
  },
  {
   "cell_type": "code",
   "execution_count": 139,
   "metadata": {},
   "outputs": [
    {
     "data": {
      "text/plain": [
       "array([[  0., 133., 266., 399., 532.,   0., 133., 266., 399., 532.,   0.,\n",
       "        133., 266., 399., 532.,   0., 133., 266., 399., 532.,   0., 133.,\n",
       "        266., 399., 532.],\n",
       "       [  0.,   0.,   0.,   0.,   0., 133., 133., 133., 133., 133., 266.,\n",
       "        266., 266., 266., 266., 399., 399., 399., 399., 399., 532., 532.,\n",
       "        532., 532., 532.],\n",
       "       [  0.,   0.,   0.,   0.,   0.,   0.,   0.,   0.,   0.,   0.,   0.,\n",
       "          0.,   0.,   0.,   0.,   0.,   0.,   0.,   0.,   0.,   0.,   0.,\n",
       "          0.,   0.,   0.],\n",
       "       [  1.,   1.,   1.,   1.,   1.,   1.,   1.,   1.,   1.,   1.,   1.,\n",
       "          1.,   1.,   1.,   1.,   1.,   1.,   1.,   1.,   1.,   1.,   1.,\n",
       "          1.,   1.,   1.]])"
      ]
     },
     "execution_count": 139,
     "metadata": {},
     "output_type": "execute_result"
    }
   ],
   "source": [
    "xyz1"
   ]
  },
  {
   "cell_type": "code",
   "execution_count": 143,
   "metadata": {},
   "outputs": [
    {
     "data": {
      "text/plain": [
       "array([[  10.        ,  133.08039838,  256.16079676,  379.24119514,\n",
       "         502.32159352,   25.34590916,  148.42630754,  271.50670592,\n",
       "         394.58710431,  517.66750269,   40.69181833,  163.77221671,\n",
       "         286.85261509,  409.93301347,  533.01341185,   56.03772749,\n",
       "         179.11812587,  302.19852425,  425.27892263,  548.35932101,\n",
       "          71.38363665,  194.46403503,  317.54443341,  440.6248318 ,\n",
       "         563.70523018],\n",
       "       [  10.        ,   31.70239612,   53.40479225,   75.10718837,\n",
       "          96.8095845 ,  108.20189422,  129.90429035,  151.60668647,\n",
       "         173.3090826 ,  195.01147872,  206.40378845,  228.10618457,\n",
       "         249.8085807 ,  271.51097682,  293.21337295,  304.60568267,\n",
       "         326.3080788 ,  348.01047492,  369.71287104,  391.41526717,\n",
       "         402.80757689,  424.50997302,  446.21236914,  467.91476527,\n",
       "         489.61716139],\n",
       "       [  10.        ,  -35.48867652,  -80.97735304, -126.46602955,\n",
       "        -171.95470607,   98.37357682,   52.8849003 ,    7.39622378,\n",
       "         -38.09245273,  -83.58112925,  186.74715364,  141.25847712,\n",
       "          95.7698006 ,   50.28112409,    4.79244757,  275.12073046,\n",
       "         229.63205394,  184.14337742,  138.65470091,   93.16602439,\n",
       "         363.49430728,  318.00563076,  272.51695424,  227.02827772,\n",
       "         181.53960121],\n",
       "       [   1.        ,    1.        ,    1.        ,    1.        ,\n",
       "           1.        ,    1.        ,    1.        ,    1.        ,\n",
       "           1.        ,    1.        ,    1.        ,    1.        ,\n",
       "           1.        ,    1.        ,    1.        ,    1.        ,\n",
       "           1.        ,    1.        ,    1.        ,    1.        ,\n",
       "           1.        ,    1.        ,    1.        ,    1.        ,\n",
       "           1.        ]])"
      ]
     },
     "execution_count": 143,
     "metadata": {},
     "output_type": "execute_result"
    }
   ],
   "source": [
    "t1 = np_mat @ xyz1\n",
    "t1"
   ]
  },
  {
   "cell_type": "code",
   "execution_count": 144,
   "metadata": {},
   "outputs": [
    {
     "data": {
      "text/plain": [
       "array([[  0.92541662,   0.16317593,  -0.34202016,  -7.46572394],\n",
       "       [  0.1153828 ,   0.73836016,   0.66446308, -15.18206051],\n",
       "       [  0.36095842,  -0.65436835,   0.66446305,  -3.71053116],\n",
       "       [  0.        ,   0.        ,   0.        ,   1.        ]])"
      ]
     },
     "execution_count": 144,
     "metadata": {},
     "output_type": "execute_result"
    }
   ],
   "source": [
    "np_inv = np.linalg.inv(np_mat)\n",
    "np_inv"
   ]
  },
  {
   "cell_type": "code",
   "execution_count": 147,
   "metadata": {},
   "outputs": [
    {
     "data": {
      "text/plain": [
       "array([[ 0.00000000e+00,  1.33000000e+02,  2.66000000e+02,\n",
       "         3.99000000e+02,  5.32000000e+02,  5.32907052e-15,\n",
       "         1.33000000e+02,  2.66000000e+02,  3.99000000e+02,\n",
       "         5.32000000e+02, -1.77635684e-15,  1.33000000e+02,\n",
       "         2.66000000e+02,  3.99000000e+02,  5.32000000e+02,\n",
       "         5.32907052e-15,  1.33000000e+02,  2.66000000e+02,\n",
       "         3.99000000e+02,  5.32000000e+02,  1.24344979e-14,\n",
       "         1.33000000e+02,  2.66000000e+02,  3.99000000e+02,\n",
       "         5.32000000e+02],\n",
       "       [-3.55271368e-15, -7.10542736e-15, -7.10542736e-15,\n",
       "        -1.95399252e-14, -3.37507799e-14,  1.33000000e+02,\n",
       "         1.33000000e+02,  1.33000000e+02,  1.33000000e+02,\n",
       "         1.33000000e+02,  2.66000000e+02,  2.66000000e+02,\n",
       "         2.66000000e+02,  2.66000000e+02,  2.66000000e+02,\n",
       "         3.99000000e+02,  3.99000000e+02,  3.99000000e+02,\n",
       "         3.99000000e+02,  3.99000000e+02,  5.32000000e+02,\n",
       "         5.32000000e+02,  5.32000000e+02,  5.32000000e+02,\n",
       "         5.32000000e+02],\n",
       "       [-4.44089210e-16, -3.10862447e-15, -3.99680289e-15,\n",
       "        -7.99360578e-15,  8.88178420e-15, -4.44089210e-16,\n",
       "        -4.88498131e-15, -1.77635684e-15,  4.44089210e-16,\n",
       "        -1.06581410e-14,  1.33226763e-15, -1.02140518e-14,\n",
       "        -4.44089210e-16, -1.19904087e-14, -2.39808173e-14,\n",
       "        -1.82076576e-14, -1.55431223e-14,  1.33226763e-15,\n",
       "         3.99680289e-15, -7.54951657e-15,  4.44089210e-15,\n",
       "        -2.08721929e-14, -1.82076576e-14, -1.55431223e-14,\n",
       "        -2.70894418e-14],\n",
       "       [ 1.00000000e+00,  1.00000000e+00,  1.00000000e+00,\n",
       "         1.00000000e+00,  1.00000000e+00,  1.00000000e+00,\n",
       "         1.00000000e+00,  1.00000000e+00,  1.00000000e+00,\n",
       "         1.00000000e+00,  1.00000000e+00,  1.00000000e+00,\n",
       "         1.00000000e+00,  1.00000000e+00,  1.00000000e+00,\n",
       "         1.00000000e+00,  1.00000000e+00,  1.00000000e+00,\n",
       "         1.00000000e+00,  1.00000000e+00,  1.00000000e+00,\n",
       "         1.00000000e+00,  1.00000000e+00,  1.00000000e+00,\n",
       "         1.00000000e+00]])"
      ]
     },
     "execution_count": 147,
     "metadata": {},
     "output_type": "execute_result"
    }
   ],
   "source": [
    "t2 = np_inv @ t1\n",
    "t2"
   ]
  },
  {
   "cell_type": "code",
   "execution_count": 148,
   "metadata": {},
   "outputs": [
    {
     "data": {
      "text/plain": [
       "array([[ 0.00000000e+00,  0.00000000e+00,  0.00000000e+00,\n",
       "         5.68434189e-14,  0.00000000e+00,  5.32907052e-15,\n",
       "         0.00000000e+00,  0.00000000e+00,  5.68434189e-14,\n",
       "         0.00000000e+00, -1.77635684e-15,  2.84217094e-14,\n",
       "         5.68434189e-14,  0.00000000e+00,  0.00000000e+00,\n",
       "         5.32907052e-15,  2.84217094e-14,  5.68434189e-14,\n",
       "         5.68434189e-14,  0.00000000e+00,  1.24344979e-14,\n",
       "         2.84217094e-14,  5.68434189e-14,  5.68434189e-14,\n",
       "         0.00000000e+00],\n",
       "       [-3.55271368e-15, -7.10542736e-15, -7.10542736e-15,\n",
       "        -1.95399252e-14, -3.37507799e-14, -2.84217094e-14,\n",
       "        -2.84217094e-14, -2.84217094e-14, -2.84217094e-14,\n",
       "        -2.84217094e-14, -5.68434189e-14, -5.68434189e-14,\n",
       "        -5.68434189e-14, -5.68434189e-14, -5.68434189e-14,\n",
       "        -5.68434189e-14, -5.68434189e-14, -5.68434189e-14,\n",
       "        -1.13686838e-13, -5.68434189e-14,  0.00000000e+00,\n",
       "         0.00000000e+00,  0.00000000e+00,  0.00000000e+00,\n",
       "         0.00000000e+00],\n",
       "       [-4.44089210e-16, -3.10862447e-15, -3.99680289e-15,\n",
       "        -7.99360578e-15,  8.88178420e-15, -4.44089210e-16,\n",
       "        -4.88498131e-15, -1.77635684e-15,  4.44089210e-16,\n",
       "        -1.06581410e-14,  1.33226763e-15, -1.02140518e-14,\n",
       "        -4.44089210e-16, -1.19904087e-14, -2.39808173e-14,\n",
       "        -1.82076576e-14, -1.55431223e-14,  1.33226763e-15,\n",
       "         3.99680289e-15, -7.54951657e-15,  4.44089210e-15,\n",
       "        -2.08721929e-14, -1.82076576e-14, -1.55431223e-14,\n",
       "        -2.70894418e-14],\n",
       "       [ 0.00000000e+00,  0.00000000e+00,  0.00000000e+00,\n",
       "         0.00000000e+00,  0.00000000e+00,  0.00000000e+00,\n",
       "         0.00000000e+00,  0.00000000e+00,  0.00000000e+00,\n",
       "         0.00000000e+00,  0.00000000e+00,  0.00000000e+00,\n",
       "         0.00000000e+00,  0.00000000e+00,  0.00000000e+00,\n",
       "         0.00000000e+00,  0.00000000e+00,  0.00000000e+00,\n",
       "         0.00000000e+00,  0.00000000e+00,  0.00000000e+00,\n",
       "         0.00000000e+00,  0.00000000e+00,  0.00000000e+00,\n",
       "         0.00000000e+00]])"
      ]
     },
     "execution_count": 148,
     "metadata": {},
     "output_type": "execute_result"
    }
   ],
   "source": [
    "t2 - xyz1"
   ]
  },
  {
   "cell_type": "code",
   "execution_count": 151,
   "metadata": {},
   "outputs": [
    {
     "data": {
      "text/plain": [
       "array([[-8.34465027e-07, -1.47104619e-05, -2.85864588e-05,\n",
       "        -4.24624557e-05, -5.63384525e-05, -1.03557241e-06,\n",
       "        -1.49115693e-05, -2.87875661e-05, -4.26635630e-05,\n",
       "        -5.65395599e-05, -1.23667979e-06, -1.51126767e-05,\n",
       "        -2.89886735e-05, -4.28646704e-05, -5.67406672e-05,\n",
       "        -1.43778716e-06, -1.53137840e-05, -2.91897809e-05,\n",
       "        -4.30657778e-05, -5.69417747e-05, -1.63889456e-06,\n",
       "        -1.55148914e-05, -2.93908883e-05, -4.32668851e-05,\n",
       "        -5.71428820e-05],\n",
       "       [ 3.27825546e-07,  1.26718163e-07, -7.43892201e-08,\n",
       "        -2.75496589e-07, -4.76603986e-07, -1.44307236e-05,\n",
       "        -1.46318310e-05, -1.48329384e-05, -1.50340458e-05,\n",
       "        -1.52351532e-05, -2.91892728e-05, -2.93903802e-05,\n",
       "        -2.95914876e-05, -2.97925950e-05, -2.99937024e-05,\n",
       "        -4.39478221e-05, -4.41489294e-05, -4.43500368e-05,\n",
       "        -4.45511442e-05, -4.47522515e-05, -5.87063712e-05,\n",
       "        -5.89074787e-05, -5.91085860e-05, -5.93096934e-05,\n",
       "        -5.95108008e-05],\n",
       "       [ 1.19209290e-07,  8.01876055e-07,  1.48454282e-06,\n",
       "         2.16720957e-06,  2.84987635e-06, -5.18001355e-06,\n",
       "        -4.49734678e-06, -3.81468001e-06, -3.13201325e-06,\n",
       "        -2.44934648e-06, -1.04792364e-05, -9.79656963e-06,\n",
       "        -9.11390285e-06, -8.43123610e-06, -7.74856932e-06,\n",
       "        -1.57784592e-05, -1.50957925e-05, -1.44131257e-05,\n",
       "        -1.37304589e-05, -1.30477922e-05, -2.10776820e-05,\n",
       "        -2.03950153e-05, -1.97123485e-05, -1.90296818e-05,\n",
       "        -1.83470150e-05]])"
      ]
     },
     "execution_count": 151,
     "metadata": {},
     "output_type": "execute_result"
    }
   ],
   "source": [
    "xyz2 = mat.inverted()[0].map(mat.map(xyz)) - xyz\n",
    "xyz2"
   ]
  },
  {
   "cell_type": "code",
   "execution_count": 152,
   "metadata": {},
   "outputs": [
    {
     "data": {
      "text/plain": [
       "(2.8498763526840776e-06, -5.951080083832494e-05)"
      ]
     },
     "execution_count": 152,
     "metadata": {},
     "output_type": "execute_result"
    }
   ],
   "source": [
    "xyz2.max(), xyz2.min()"
   ]
  },
  {
   "cell_type": "code",
   "execution_count": 153,
   "metadata": {},
   "outputs": [
    {
     "data": {
      "text/plain": [
       "(5.684341886080802e-14, -1.1368683772161603e-13)"
      ]
     },
     "execution_count": 153,
     "metadata": {},
     "output_type": "execute_result"
    }
   ],
   "source": [
    "np_mat = mat.matrix()\n",
    "np_inv = np.linalg.inv(np_mat)\n",
    "xyz1 = np.vstack((xyz, np.ones((1, xyz.shape[1]))))\n",
    "xyz3 = (np_inv @ (np_mat @ xyz1) ) - xyz1\n",
    "xyz3.max(), xyz3.min()\n"
   ]
  }
 ],
 "metadata": {
  "kernelspec": {
   "display_name": ".venv",
   "language": "python",
   "name": "python3"
  },
  "language_info": {
   "codemirror_mode": {
    "name": "ipython",
    "version": 3
   },
   "file_extension": ".py",
   "mimetype": "text/x-python",
   "name": "python",
   "nbconvert_exporter": "python",
   "pygments_lexer": "ipython3",
   "version": "3.11.9"
  }
 },
 "nbformat": 4,
 "nbformat_minor": 2
}
