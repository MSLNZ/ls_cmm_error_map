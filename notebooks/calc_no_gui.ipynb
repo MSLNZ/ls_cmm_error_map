{
 "cells": [
  {
   "cell_type": "markdown",
   "metadata": {},
   "source": [
    "Calculate deformation etc without gui interface"
   ]
  },
  {
   "cell_type": "code",
   "execution_count": 20,
   "metadata": {},
   "outputs": [],
   "source": [
    "import numpy as np\n",
    "\n",
    "import pyqtgraph as pg\n",
    "import pyqtgraph.Qt.QtGui as qtg\n",
    "from cmm_error_map import data_cmpts as dc\n",
    "from cmm_error_map import design_linear as design"
   ]
  },
  {
   "cell_type": "code",
   "execution_count": 17,
   "metadata": {},
   "outputs": [],
   "source": [
    "p0 = dc.Probe(title=\"P0\", name=\"p0\", length=qtg.QVector3D(0, 0, 0))\n",
    "mmt = dc.Measurement(\n",
    "    title=\"m1\",\n",
    "    name=\"mmt_00\",\n",
    "    artefact=dc.default_artefacts[\"KOBA 0620\"],\n",
    "    transform3d=pg.Transform3D(),\n",
    "    probe=p0,\n",
    "    xy2d=None,\n",
    "    dev2d=None,\n",
    "    xyz3d=None,\n",
    "    dev3d=None,\n",
    ")\n",
    "mmt.artefact.nballs = (5, 5)\n",
    "model_params = dc.model_parameters_dict.copy()\n",
    "mmt.recalculate(model_params)"
   ]
  },
  {
   "cell_type": "code",
   "execution_count": 18,
   "metadata": {},
   "outputs": [
    {
     "data": {
      "text/plain": [
       "(25, 3)"
      ]
     },
     "execution_count": 18,
     "metadata": {},
     "output_type": "execute_result"
    }
   ],
   "source": [
    "mmt.xyz3d.shape"
   ]
  },
  {
   "cell_type": "code",
   "execution_count": 19,
   "metadata": {},
   "outputs": [
    {
     "data": {
      "text/plain": [
       "array([[  -0.,    0.,    0.],\n",
       "       [-133.,    0.,    0.],\n",
       "       [-266.,    0.,    0.],\n",
       "       [-399.,    0.,    0.],\n",
       "       [-532.,    0.,    0.],\n",
       "       [  -0.,  133.,    0.],\n",
       "       [-133.,  133.,    0.],\n",
       "       [-266.,  133.,    0.],\n",
       "       [-399.,  133.,    0.],\n",
       "       [-532.,  133.,    0.],\n",
       "       [  -0.,  266.,    0.],\n",
       "       [-133.,  266.,    0.],\n",
       "       [-266.,  266.,    0.],\n",
       "       [-399.,  266.,    0.],\n",
       "       [-532.,  266.,    0.],\n",
       "       [  -0.,  399.,    0.],\n",
       "       [-133.,  399.,    0.],\n",
       "       [-266.,  399.,    0.],\n",
       "       [-399.,  399.,    0.],\n",
       "       [-532.,  399.,    0.],\n",
       "       [  -0.,  532.,    0.],\n",
       "       [-133.,  532.,    0.],\n",
       "       [-266.,  532.,    0.],\n",
       "       [-399.,  532.,    0.],\n",
       "       [-532.,  532.,    0.]])"
      ]
     },
     "execution_count": 19,
     "metadata": {},
     "output_type": "execute_result"
    }
   ],
   "source": [
    "mmt.xyz3d * [-1, 1, 1]"
   ]
  },
  {
   "cell_type": "code",
   "execution_count": 13,
   "metadata": {},
   "outputs": [
    {
     "data": {
      "text/plain": [
       "(25, 2)"
      ]
     },
     "execution_count": 13,
     "metadata": {},
     "output_type": "execute_result"
    }
   ],
   "source": [
    "mmt.xy2d.shape"
   ]
  },
  {
   "cell_type": "code",
   "execution_count": 11,
   "metadata": {},
   "outputs": [],
   "source": [
    "box = dc.BoxGrid(\n",
    "    title='test',\n",
    "    name='test',\n",
    "    spacing=(200,200,200),\n",
    "    npts=(5,4,4),\n",
    "    probe=p0,\n",
    "    xyz3d=None,\n",
    "    dev3d=None,\n",
    ")\n",
    "box.recalculate(model_params)"
   ]
  },
  {
   "cell_type": "code",
   "execution_count": 12,
   "metadata": {},
   "outputs": [
    {
     "data": {
      "text/plain": [
       "(80, 3)"
      ]
     },
     "execution_count": 12,
     "metadata": {},
     "output_type": "execute_result"
    }
   ],
   "source": [
    "box.xyz3d.shape"
   ]
  },
  {
   "cell_type": "code",
   "execution_count": 23,
   "metadata": {},
   "outputs": [
    {
     "data": {
      "text/plain": [
       "{'Txx': 0.0,\n",
       " 'Txy': 0.0,\n",
       " 'Txz': 0.0,\n",
       " 'Tyx': 0.0,\n",
       " 'Tyy': 0.0,\n",
       " 'Tyz': 0.0,\n",
       " 'Tzx': 0.0,\n",
       " 'Tzy': 0.0,\n",
       " 'Tzz': 0.0,\n",
       " 'Rxx': 0.0,\n",
       " 'Rxy': 0.0,\n",
       " 'Rxz': 0.0,\n",
       " 'Ryx': 0.0,\n",
       " 'Ryy': 0.0,\n",
       " 'Ryz': 0.0,\n",
       " 'Rzx': 0.0,\n",
       " 'Rzy': 0.0,\n",
       " 'Rzz': 0.0,\n",
       " 'Wxy': 0.0,\n",
       " 'Wxz': 0.0,\n",
       " 'Wyz': 0.0}"
      ]
     },
     "execution_count": 23,
     "metadata": {},
     "output_type": "execute_result"
    }
   ],
   "source": [
    "design.linear_dependency(np.array([1,1,1]), model_params)"
   ]
  },
  {
   "cell_type": "code",
   "execution_count": 47,
   "metadata": {},
   "outputs": [
    {
     "data": {
      "text/plain": [
       "array([0., 0., 0.])"
      ]
     },
     "execution_count": 47,
     "metadata": {},
     "output_type": "execute_result"
    }
   ],
   "source": [
    "xyzt = np.array([0.,0., 0.0])\n",
    "dev3d = design.linear_model_point(np.array([100.,100.,100.]), xyzt, model_params, fixed_table=False, bridge_axis=1)\n",
    "dev3d"
   ]
  },
  {
   "cell_type": "code",
   "execution_count": 48,
   "metadata": {},
   "outputs": [
    {
     "data": {
      "text/plain": [
       "array([[0., 0., 0.],\n",
       "       [0., 0., 0.],\n",
       "       [0., 0., 0.],\n",
       "       [0., 0., 0.],\n",
       "       [0., 0., 0.],\n",
       "       [0., 0., 0.],\n",
       "       [0., 0., 0.],\n",
       "       [0., 0., 0.],\n",
       "       [0., 0., 0.],\n",
       "       [0., 0., 0.],\n",
       "       [0., 0., 0.],\n",
       "       [0., 0., 0.],\n",
       "       [0., 0., 0.],\n",
       "       [0., 0., 0.],\n",
       "       [0., 0., 0.],\n",
       "       [0., 0., 0.],\n",
       "       [0., 0., 0.],\n",
       "       [0., 0., 0.],\n",
       "       [0., 0., 0.],\n",
       "       [0., 0., 0.],\n",
       "       [0., 0., 0.],\n",
       "       [0., 0., 0.],\n",
       "       [0., 0., 0.],\n",
       "       [0., 0., 0.],\n",
       "       [0., 0., 0.]])"
      ]
     },
     "execution_count": 48,
     "metadata": {},
     "output_type": "execute_result"
    }
   ],
   "source": [
    "np.apply_along_axis(design.linear_model_point, 1, mmt.xyz3d, xyzt=xyzt, model_params=model_params, fixed_table=False, bridge_axis=1 )"
   ]
  },
  {
   "cell_type": "code",
   "execution_count": 49,
   "metadata": {},
   "outputs": [
    {
     "data": {
      "text/plain": [
       "array([[0., 0., 0.],\n",
       "       [0., 0., 0.],\n",
       "       [0., 0., 0.],\n",
       "       [0., 0., 0.],\n",
       "       [0., 0., 0.],\n",
       "       [0., 0., 0.],\n",
       "       [0., 0., 0.],\n",
       "       [0., 0., 0.],\n",
       "       [0., 0., 0.],\n",
       "       [0., 0., 0.],\n",
       "       [0., 0., 0.],\n",
       "       [0., 0., 0.],\n",
       "       [0., 0., 0.],\n",
       "       [0., 0., 0.],\n",
       "       [0., 0., 0.],\n",
       "       [0., 0., 0.],\n",
       "       [0., 0., 0.],\n",
       "       [0., 0., 0.],\n",
       "       [0., 0., 0.],\n",
       "       [0., 0., 0.],\n",
       "       [0., 0., 0.],\n",
       "       [0., 0., 0.],\n",
       "       [0., 0., 0.],\n",
       "       [0., 0., 0.],\n",
       "       [0., 0., 0.]])"
      ]
     },
     "execution_count": 49,
     "metadata": {},
     "output_type": "execute_result"
    }
   ],
   "source": [
    "design.linear_model_matrix(mmt.xyz3d, xyzt=xyzt, model_params=model_params, fixed_table=False, bridge_axis=1,)"
   ]
  },
  {
   "cell_type": "code",
   "execution_count": 52,
   "metadata": {},
   "outputs": [
    {
     "data": {
      "text/plain": [
       "array([[0., 0., 0.],\n",
       "       [0., 0., 0.],\n",
       "       [0., 0., 0.],\n",
       "       [0., 0., 0.],\n",
       "       [0., 0., 0.],\n",
       "       [0., 0., 0.],\n",
       "       [0., 0., 0.],\n",
       "       [0., 0., 0.],\n",
       "       [0., 0., 0.],\n",
       "       [0., 0., 0.],\n",
       "       [0., 0., 0.],\n",
       "       [0., 0., 0.],\n",
       "       [0., 0., 0.],\n",
       "       [0., 0., 0.],\n",
       "       [0., 0., 0.],\n",
       "       [0., 0., 0.],\n",
       "       [0., 0., 0.],\n",
       "       [0., 0., 0.],\n",
       "       [0., 0., 0.],\n",
       "       [0., 0., 0.],\n",
       "       [0., 0., 0.],\n",
       "       [0., 0., 0.],\n",
       "       [0., 0., 0.],\n",
       "       [0., 0., 0.],\n",
       "       [0., 0., 0.]])"
      ]
     },
     "execution_count": 52,
     "metadata": {},
     "output_type": "execute_result"
    }
   ],
   "source": [
    "xyzt = (20,20,-100)\n",
    "design.linear_model_matrix(mmt.xyz3d, xyzt=xyzt, model_params=model_params, fixed_table=False, bridge_axis=1,)"
   ]
  },
  {
   "cell_type": "code",
   "execution_count": 53,
   "metadata": {},
   "outputs": [
    {
     "data": {
      "text/plain": [
       "array([[ 0.00000000e+00,  0.00000000e+00,  0.00000000e+00],\n",
       "       [ 1.55078000e-03,  2.01363176e-04, -2.93454823e-04],\n",
       "       [ 3.10156000e-03,  5.79618705e-04, -1.13173809e-03],\n",
       "       [ 4.65234000e-03,  1.13476659e-03, -2.51484981e-03],\n",
       "       [ 6.20312000e-03,  1.86680682e-03, -4.44278997e-03],\n",
       "       [-1.35766404e-03, -6.79629600e-04,  2.58554526e-05],\n",
       "       [ 1.04671464e-04, -4.78267352e-04, -1.35106657e-04],\n",
       "       [ 1.56700697e-03, -1.00012752e-04, -8.40897212e-04],\n",
       "       [ 3.02934247e-03,  4.55134201e-04, -2.09151621e-03],\n",
       "       [ 4.49167798e-03,  1.18717351e-03, -3.88696366e-03],\n",
       "       [-2.71532817e-03, -1.35925840e-03,  5.17114102e-05],\n",
       "       [-1.34143716e-03, -1.15789708e-03,  2.32420146e-05],\n",
       "       [ 3.24538540e-05, -7.79643409e-04, -5.50055827e-04],\n",
       "       [ 1.40634486e-03, -2.24497385e-04, -1.66818211e-03],\n",
       "       [ 2.78023587e-03,  5.07540992e-04, -3.33113685e-03],\n",
       "       [-4.07299237e-03, -2.03888640e-03,  7.75678729e-05],\n",
       "       [-2.78754586e-03, -1.83752601e-03,  1.81591191e-04],\n",
       "       [-1.50209934e-03, -1.45927327e-03, -2.59213937e-04],\n",
       "       [-2.16652829e-04, -9.04128170e-04, -1.24484751e-03],\n",
       "       [ 1.06879369e-03, -1.72090722e-04, -2.77530953e-03],\n",
       "       [-5.43065666e-03, -2.71851360e-03,  1.03424841e-04],\n",
       "       [-4.23365464e-03, -2.51715414e-03,  3.39940873e-04],\n",
       "       [-3.03665262e-03, -2.13890232e-03,  3.16284585e-05],\n",
       "       [-1.83965060e-03, -1.58375816e-03, -8.21512402e-04],\n",
       "       [-6.42648584e-04, -8.51721636e-04, -2.21948171e-03]])"
      ]
     },
     "execution_count": 53,
     "metadata": {},
     "output_type": "execute_result"
    }
   ],
   "source": [
    "xyzt = (20,20,-100)\n",
    "design.linear_model_matrix(mmt.xyz3d, xyzt=xyzt, model_params=dc.model_parameters_test, fixed_table=False, bridge_axis=1,)"
   ]
  }
 ],
 "metadata": {
  "kernelspec": {
   "display_name": ".venv",
   "language": "python",
   "name": "python3"
  },
  "language_info": {
   "codemirror_mode": {
    "name": "ipython",
    "version": 3
   },
   "file_extension": ".py",
   "mimetype": "text/x-python",
   "name": "python",
   "nbconvert_exporter": "python",
   "pygments_lexer": "ipython3",
   "version": "3.11.9"
  }
 },
 "nbformat": 4,
 "nbformat_minor": 2
}
