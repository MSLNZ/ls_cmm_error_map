{
 "cells": [
  {
   "cell_type": "markdown",
   "metadata": {},
   "source": [
    "Attempting to show pyqtgraph in jupyter notebook\n",
    "one of these work"
   ]
  },
  {
   "cell_type": "code",
   "execution_count": 1,
   "metadata": {},
   "outputs": [
    {
     "name": "stderr",
     "output_type": "stream",
     "text": [
      "ERROR:root:module 'PySide6.QtPrintSupport' has no attribute 'QApplication'\n"
     ]
    }
   ],
   "source": [
    "%gui qt"
   ]
  },
  {
   "cell_type": "code",
   "execution_count": 2,
   "metadata": {},
   "outputs": [
    {
     "data": {
      "image/png": "[encoded data removed]",
      "text/plain": [
       "<IPython.core.display.Image object>"
      ]
     },
     "metadata": {},
     "output_type": "display_data"
    }
   ],
   "source": [
    "import pyqtgraph as pg\n",
    "import pyqtgraph.exporters\n",
    "import numpy as np\n",
    "from IPython.display import display, Image\n",
    "\n",
    "\n",
    "def show_image(data):\n",
    "    img = pg.image(data)\n",
    "    file_name = \"temp.png\"\n",
    "    exporter = pg.exporters.ImageExporter(img.imageItem).export(file_name)\n",
    "    img.close()\n",
    "    display(Image(filename=file_name))\n",
    "\n",
    "\n",
    "data = np.array([[1, 0], [2, 3]])\n",
    "show_image(data)"
   ]
  },
  {
   "cell_type": "code",
   "execution_count": null,
   "metadata": {},
   "outputs": [
    {
     "name": "stderr",
     "output_type": "stream",
     "text": [
      "ERROR:root:module 'PySide6.QtPrintSupport' has no attribute 'QApplication'\n"
     ]
    },
    {
     "name": "stderr",
     "output_type": "stream",
     "text": [
      "QGridLayoutEngine::addItem: Cell (1, 0) already taken\n"
     ]
    },
    {
     "ename": "",
     "evalue": "",
     "output_type": "error",
     "traceback": [
      "\u001b[1;31mThe Kernel crashed while executing code in the current cell or a previous cell. \n",
      "\u001b[1;31mPlease review the code in the cell(s) to identify a possible cause of the failure. \n",
      "\u001b[1;31mClick <a href='https://aka.ms/vscodeJupyterKernelCrash'>here</a> for more info. \n",
      "\u001b[1;31mView Jupyter <a href='command:jupyter.viewOutput'>log</a> for further details."
     ]
    }
   ],
   "source": [
    "%gui qt6\n",
    "from PySide6.QtWidgets import QApplication\n",
    "import pyqtgraph as pg\n",
    "\n",
    "# start qt event loop\n",
    "_instance = QApplication.instance()\n",
    "if not _instance:\n",
    "    _instance = QApplication([])\n",
    "app = _instance\n",
    "\n",
    "\n",
    "# create and and set layout\n",
    "view = pg.GraphicsView()\n",
    "view.setWindowTitle(\"Your title\")\n",
    "layout = pg.GraphicsLayout()\n",
    "view.setCentralItem(layout)\n",
    "view.show()\n",
    "\n",
    "# Set white graph\n",
    "pg.setConfigOptions(antialias=True)\n",
    "pg.setConfigOption(\"background\", \"w\")\n",
    "pg.setConfigOption(\"foreground\", \"k\")\n",
    "\n",
    "# add subplots\n",
    "p0 = layout.addPlot(0, 0)\n",
    "p0.addLegend()\n",
    "p0.plot([1, 2, 3, 4, 5], pen=\"b\", name=\"p0\")\n",
    "\n",
    "p1 = layout.addPlot(1, 0)\n",
    "p1.addLegend()\n",
    "p1.plot(\n",
    "    [\n",
    "        2,\n",
    "        2,\n",
    "        2,\n",
    "        2,\n",
    "    ],\n",
    "    pen=\"r\",\n",
    "    name=\"p1\",\n",
    ")\n",
    "\n",
    "p2 = layout.addPlot(1, 0)\n",
    "p2.addLegend(offset=(50, 0))\n",
    "p2.plot(\n",
    "    [\n",
    "        -1,\n",
    "        0,\n",
    "        1,\n",
    "        1,\n",
    "    ],\n",
    "    pen=\"g\",\n",
    "    name=\"p1.1\",\n",
    ")\n",
    "p2.hideAxis(\"left\")\n",
    "p2.showAxis(\"right\")"
   ]
  }
 ],
 "metadata": {
  "kernelspec": {
   "display_name": ".venv",
   "language": "python",
   "name": "python3"
  },
  "language_info": {
   "codemirror_mode": {
    "name": "ipython",
    "version": 3
   },
   "file_extension": ".py",
   "mimetype": "text/x-python",
   "name": "python",
   "nbconvert_exporter": "python",
   "pygments_lexer": "ipython3",
   "version": "3.11.9"
  }
 },
 "nbformat": 4,
 "nbformat_minor": 2
}
