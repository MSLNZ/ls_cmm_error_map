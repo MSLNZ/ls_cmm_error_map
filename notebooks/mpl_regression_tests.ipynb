{
 "cells": [
  {
   "cell_type": "markdown",
   "metadata": {},
   "source": [
    "# Developing regression tests\n",
    "\n",
    "Comparing output of old (2014, `src/cmm_error_map/mpl_2014`) matplotlib code with new code.\n",
    "\n",
    "Will write these up as pytest tests."
   ]
  },
  {
   "cell_type": "code",
   "execution_count": 16,
   "metadata": {},
   "outputs": [],
   "source": [
    "import numpy as np\n",
    "\n",
    "import cmm_error_map.config.config as cf\n",
    "import cmm_error_map.data_cmpts as dc\n",
    "import cmm_error_map.mpl_2014.design_matrix_linear as design_old"
   ]
  },
  {
   "cell_type": "code",
   "execution_count": 17,
   "metadata": {},
   "outputs": [],
   "source": [
    "model_params = dc.model_parameters_dict.copy()\n",
    "\"\"\"\n",
    "regression test the  a set of parameter with a Koba plate on the XY plane\n",
    "against the old matplotlib code\n",
    "\"\"\"\n",
    "# XY plane\n",
    "x0, y0, z0 = 250.0, 50.0, 50.0\n",
    "x0xy, y0xy, z0xy = x0, y0, z0\n",
    "transform_mat_xy = np.array(\n",
    "    [\n",
    "        [1.0, 0.0, 0.0, x0xy],\n",
    "        [0.0, 1.0, 0.0, y0xy],\n",
    "        [0.0, 0.0, 1.0, z0xy],\n",
    "        [0.0, 0.0, 0.0, 1.0],\n",
    "    ]\n",
    ")\n",
    "\n",
    "xt, yt, zt = 0.0, 0.0, -243.4852\n",
    "\n",
    "# new code\n",
    "cmm = dc.pmm_866\n",
    "prb_xy = dc.Probe(title=\"P0\", name=\"p0\", length=np.array([xt, yt, zt]))\n",
    "\n",
    "mmt = dc.Measurement(\n",
    "    title=\"Plate XY\",\n",
    "    name=\"mmt_00\",\n",
    "    artefact=cf.artefact_models[\"KOBA 0620\"],\n",
    "    transform_mat=transform_mat_xy,\n",
    "    probe=prb_xy,\n",
    "    cmm_nominal=None,\n",
    "    cmm_dev=None,\n",
    "    mmt_nominal=None,\n",
    "    mmt_dev=None,\n",
    ")\n",
    "\n",
    "mmt.recalculate(model_params, cmm.cmm_model)\n",
    "\n",
    "# matplotlib code\n",
    "params = list(model_params.values())\n",
    "dxy, eXYZ, XYZp, XM, plate_nom = design_old.modelled_mmts_XYZ(\n",
    "    transform_mat_xy, xt, yt, zt, params, verbose=True\n",
    ")\n"
   ]
  },
  {
   "cell_type": "markdown",
   "metadata": {},
   "source": [
    "need to check `mmt.cmm_nominal`, `mmt.cmm_dev`, `mmt.mmt_nominal` and `mmt.mmt_dev` against old code"
   ]
  },
  {
   "cell_type": "code",
   "execution_count": 18,
   "metadata": {},
   "outputs": [
    {
     "name": "stdout",
     "output_type": "stream",
     "text": [
      "mmt.cmm_nominal.shape=(3, 25) \n",
      "XM[:-1, :].shape=(3, 25)\n"
     ]
    }
   ],
   "source": [
    "# mmt.cmm_nominal is nominals in machine csy - new code\n",
    "# XM is nominals in machine csy - old code\n",
    "print(f\"{mmt.cmm_nominal.shape=} \\n{XM[:-1, :].shape=}\")"
   ]
  },
  {
   "cell_type": "code",
   "execution_count": 19,
   "metadata": {},
   "outputs": [],
   "source": [
    "np.testing.assert_allclose(XM[:-1, :], mmt.cmm_nominal)"
   ]
  },
  {
   "cell_type": "code",
   "execution_count": 20,
   "metadata": {},
   "outputs": [
    {
     "name": "stdout",
     "output_type": "stream",
     "text": [
      "mmt.cmm_dev.shape=(3, 25) \n",
      "eXYZ[:-1,:].shape=(3, 25)\n"
     ]
    }
   ],
   "source": [
    "# mmt.cmm_dev is deformed minus nominal position in CMM CSY\n",
    "# eXYZ is error in CMM CSY\n",
    "print(f\"{mmt.cmm_dev.shape=} \\n{eXYZ[:-1,:].shape=}\")"
   ]
  },
  {
   "cell_type": "code",
   "execution_count": 21,
   "metadata": {},
   "outputs": [],
   "source": [
    "np.testing.assert_allclose(eXYZ[:-1, :], mmt.cmm_dev)"
   ]
  },
  {
   "cell_type": "code",
   "execution_count": 22,
   "metadata": {},
   "outputs": [
    {
     "name": "stdout",
     "output_type": "stream",
     "text": [
      "mmt.mmt_nominal[:-1, :].shape=(2, 25) \n",
      "plate_nom.shape=(2, 25)\n"
     ]
    }
   ],
   "source": [
    "# mmt.mmt_nominal is the nominal position of the balls in artefact CSY\n",
    "# plate_nom\n",
    "print(f\"{mmt.mmt_nominal[:-1, :].shape=} \\n{plate_nom.shape=}\")"
   ]
  },
  {
   "cell_type": "code",
   "execution_count": 23,
   "metadata": {},
   "outputs": [],
   "source": [
    "np.testing.assert_allclose(plate_nom, mmt.mmt_nominal[:-1, :])"
   ]
  },
  {
   "cell_type": "code",
   "execution_count": 24,
   "metadata": {},
   "outputs": [
    {
     "name": "stdout",
     "output_type": "stream",
     "text": [
      "mmt.mmt_dev[:-1,:].shape=(2, 25) \n",
      "dxy.T.shape=(2, 25)\n"
     ]
    }
   ],
   "source": [
    "# mmt.mmt_dev is the deformed minus nominal position in artefact CSY\n",
    "# dxy\n",
    "print(f\"{mmt.mmt_dev[:-1,:].shape=} \\n{dxy.T.shape=}\")"
   ]
  },
  {
   "cell_type": "code",
   "execution_count": 25,
   "metadata": {},
   "outputs": [],
   "source": [
    "np.testing.assert_allclose(dxy.T, mmt.mmt_dev[:-1, :], atol=1e-6)"
   ]
  },
  {
   "cell_type": "code",
   "execution_count": 26,
   "metadata": {},
   "outputs": [],
   "source": [
    "# as  a function\n",
    "def test_XY(model_params: dict[str, float], verbose=False, signs={\"old\": 1, \"new\": 1}):\n",
    "    \"\"\"\n",
    "    regression test the  a set of parameter with a Koba plate on the XY plane\n",
    "    against the old matplotlib code\n",
    "    \"\"\"\n",
    "    # XY plane\n",
    "    x0, y0, z0 = 250.0, 50.0, 50.0\n",
    "    x0xy, y0xy, z0xy = x0, y0, z0\n",
    "    transform_mat_xy = np.array(\n",
    "        [\n",
    "            [1.0, 0.0, 0.0, x0xy],\n",
    "            [0.0, 1.0, 0.0, y0xy],\n",
    "            [0.0, 0.0, 1.0, z0xy],\n",
    "            [0.0, 0.0, 0.0, 1.0],\n",
    "        ]\n",
    "    )\n",
    "\n",
    "    xt, yt, zt = 0.0, 0.0, -243.4852\n",
    "\n",
    "    # new code\n",
    "    cmm = dc.pmm_866\n",
    "    prb_xy = dc.Probe(title=\"P0\", name=\"p0\", length=np.array([xt, yt, zt]))\n",
    "\n",
    "    mmt = dc.Measurement(\n",
    "        title=\"Plate XY\",\n",
    "        name=\"mmt_00\",\n",
    "        artefact=cf.artefact_models[\"KOBA 0620\"],\n",
    "        transform_mat=transform_mat_xy,\n",
    "        probe=prb_xy,\n",
    "        cmm_nominal=None,\n",
    "        cmm_dev=None,\n",
    "        mmt_nominal=None,\n",
    "        mmt_dev=None,\n",
    "    )\n",
    "    signed_mp = {key: signs[\"new\"] * value for key, value in model_params.items()}\n",
    "    mmt.recalculate(signed_mp, cmm.cmm_model)\n",
    "\n",
    "    # matplotlib code\n",
    "    params = list(model_params.values())\n",
    "    signed_params = [value * signs[\"old\"] for value in params]\n",
    "    dxy, eXYZ, XYZp, XM, plate_nom = design_old.modelled_mmts_XYZ(\n",
    "        transform_mat_xy, xt, yt, zt, signed_params, verbose=True\n",
    "    )\n",
    "    if verbose:\n",
    "        print(signed_mp)\n",
    "        print(signed_params)\n",
    "        print(\n",
    "            f\"cmm dev difference\\n max {(eXYZ[:-1, :] - mmt.cmm_dev).max()}, min {(eXYZ[:-1, :] - mmt.cmm_dev).min()}\"\n",
    "        )\n",
    "        print(\n",
    "            f\"mmt dev difference\\n max {(dxy.T - mmt.mmt_dev[:-1, :]).max()}, min {(dxy.T - mmt.mmt_dev[:-1, :]).min()}\"\n",
    "        )\n",
    "\n",
    "        print(f\"{eXYZ[:-1, :]=}\")\n",
    "        print(f\"{mmt.cmm_dev=}\")\n",
    "\n",
    "        print(f\"{dxy.T=}\")\n",
    "        print(f\"{mmt.mmt_dev=}\")\n",
    "\n",
    "    np.testing.assert_allclose(XM[:-1, :], mmt.cmm_nominal, atol=1e-6)\n",
    "    np.testing.assert_allclose(eXYZ[:-1, :], mmt.cmm_dev, atol=1e-6)\n",
    "    np.testing.assert_allclose(plate_nom, mmt.mmt_nominal[:-1, :], atol=1e-6)\n",
    "    np.testing.assert_allclose(dxy.T, mmt.mmt_dev[:-1, :], atol=1e-6)\n",
    "    return eXYZ[:-1, :], mmt.cmm_dev, dxy.T, mmt.mmt_dev[:-1, :]"
   ]
  },
  {
   "cell_type": "code",
   "execution_count": 27,
   "metadata": {},
   "outputs": [],
   "source": [
    "# the above null case\n",
    "model_params = dc.model_parameters_dict.copy()\n",
    "old_cmm_dev, new_cmm_dev, old_mmt_dev, new_mmt_dev = test_XY(model_params)\n"
   ]
  },
  {
   "cell_type": "code",
   "execution_count": 28,
   "metadata": {},
   "outputs": [],
   "source": [
    "# Txx\n",
    "model_params = dc.model_parameters_dict.copy()\n",
    "model_params[\"Txx\"] = 1e-6\n",
    "old_cmm_dev, new_cmm_dev, old_mmt_dev, new_mmt_dev = test_XY(model_params)"
   ]
  },
  {
   "cell_type": "code",
   "execution_count": 29,
   "metadata": {},
   "outputs": [],
   "source": [
    "# Tyy\n",
    "model_params = dc.model_parameters_dict.copy()\n",
    "model_params[\"Tyy\"] = 1e-6\n",
    "old_cmm_dev, new_cmm_dev, old_mmt_dev, new_mmt_dev = test_XY(model_params)"
   ]
  },
  {
   "cell_type": "code",
   "execution_count": 30,
   "metadata": {},
   "outputs": [],
   "source": [
    "# Tzz\n",
    "model_params = dc.model_parameters_dict.copy()\n",
    "model_params[\"Tzz\"] = 1e-6\n",
    "old_cmm_dev, new_cmm_dev, old_mmt_dev, new_mmt_dev = test_XY(model_params)"
   ]
  },
  {
   "cell_type": "code",
   "execution_count": 31,
   "metadata": {},
   "outputs": [
    {
     "name": "stdout",
     "output_type": "stream",
     "text": [
      "{'Txx': 0.0, 'Txy': 1e-06, 'Txz': 0.0, 'Tyx': 0.0, 'Tyy': 0.0, 'Tyz': 0.0, 'Tzx': 0.0, 'Tzy': 0.0, 'Tzz': 0.0, 'Rxx': 0.0, 'Rxy': 0.0, 'Rxz': 0.0, 'Ryx': 0.0, 'Ryy': 0.0, 'Ryz': 0.0, 'Rzx': 0.0, 'Rzy': 0.0, 'Rzz': 0.0, 'Wxy': 0.0, 'Wxz': 0.0, 'Wyz': 0.0}\n",
      "[0.0, 1e-06, 0.0, 0.0, 0.0, 0.0, 0.0, 0.0, 0.0, 0.0, 0.0, 0.0, 0.0, 0.0, 0.0, 0.0, 0.0, 0.0, 0.0, 0.0, 0.0]\n",
      "cmm dev difference\n",
      " max 0.0, min -0.0015640000000151594\n",
      "mmt dev difference\n",
      " max 2.2737367544323206e-13, min -0.0010640000000137206\n",
      "eXYZ[:-1, :]=array([[ 0.      ,  0.      ,  0.      ,  0.      ,  0.      ,  0.      ,\n",
      "         0.      ,  0.      ,  0.      ,  0.      ,  0.      ,  0.      ,\n",
      "         0.      ,  0.      ,  0.      ,  0.      ,  0.      ,  0.      ,\n",
      "         0.      ,  0.      ,  0.      ,  0.      ,  0.      ,  0.      ,\n",
      "         0.      ],\n",
      "       [-0.00025 , -0.000383, -0.000516, -0.000649, -0.000782, -0.00025 ,\n",
      "        -0.000383, -0.000516, -0.000649, -0.000782, -0.00025 , -0.000383,\n",
      "        -0.000516, -0.000649, -0.000782, -0.00025 , -0.000383, -0.000516,\n",
      "        -0.000649, -0.000782, -0.00025 , -0.000383, -0.000516, -0.000649,\n",
      "        -0.000782],\n",
      "       [ 0.      ,  0.      ,  0.      ,  0.      ,  0.      ,  0.      ,\n",
      "         0.      ,  0.      ,  0.      ,  0.      ,  0.      ,  0.      ,\n",
      "         0.      ,  0.      ,  0.      ,  0.      ,  0.      ,  0.      ,\n",
      "         0.      ,  0.      ,  0.      ,  0.      ,  0.      ,  0.      ,\n",
      "         0.      ]])\n",
      "mmt.cmm_dev=array([[0.      , 0.      , 0.      , 0.      , 0.      , 0.      ,\n",
      "        0.      , 0.      , 0.      , 0.      , 0.      , 0.      ,\n",
      "        0.      , 0.      , 0.      , 0.      , 0.      , 0.      ,\n",
      "        0.      , 0.      , 0.      , 0.      , 0.      , 0.      ,\n",
      "        0.      ],\n",
      "       [0.00025 , 0.000383, 0.000516, 0.000649, 0.000782, 0.00025 ,\n",
      "        0.000383, 0.000516, 0.000649, 0.000782, 0.00025 , 0.000383,\n",
      "        0.000516, 0.000649, 0.000782, 0.00025 , 0.000383, 0.000516,\n",
      "        0.000649, 0.000782, 0.00025 , 0.000383, 0.000516, 0.000649,\n",
      "        0.000782],\n",
      "       [0.      , 0.      , 0.      , 0.      , 0.      , 0.      ,\n",
      "        0.      , 0.      , 0.      , 0.      , 0.      , 0.      ,\n",
      "        0.      , 0.      , 0.      , 0.      , 0.      , 0.      ,\n",
      "        0.      , 0.      , 0.      , 0.      , 0.      , 0.      ,\n",
      "        0.      ]])\n",
      "dxy.T=array([[ 0.00000000e+00,  6.65068001e-11,  1.33013600e-10,\n",
      "         1.99463557e-10,  2.66027200e-10, -1.33000000e-04,\n",
      "        -1.32999933e-04, -1.32999867e-04, -1.32999801e-04,\n",
      "        -1.32999734e-04, -2.66000000e-04, -2.65999934e-04,\n",
      "        -2.65999867e-04, -2.65999801e-04, -2.65999734e-04,\n",
      "        -3.99000000e-04, -3.98999934e-04, -3.98999867e-04,\n",
      "        -3.98999800e-04, -3.98999734e-04, -5.32000000e-04,\n",
      "        -5.31999934e-04, -5.31999867e-04, -5.31999801e-04,\n",
      "        -5.31999734e-04],\n",
      "       [ 0.00000000e+00,  1.77634695e-15,  3.55269390e-15,\n",
      "        -1.77638651e-15, -3.95655732e-20, -6.65068001e-11,\n",
      "        -6.65068001e-11, -6.65068001e-11, -6.65352218e-11,\n",
      "        -6.65068001e-11, -1.33013600e-10, -1.33013600e-10,\n",
      "        -1.33013600e-10, -1.33013600e-10, -1.33013600e-10,\n",
      "        -1.99520400e-10, -1.99520400e-10, -1.99520400e-10,\n",
      "        -1.99520400e-10, -1.99520400e-10, -2.66027200e-10,\n",
      "        -2.66027200e-10, -2.65913513e-10, -2.65913513e-10,\n",
      "        -2.65913513e-10]])\n",
      "mmt.mmt_dev=array([[ 0.00000000e+00,  6.65068001e-11,  1.33013600e-10,\n",
      "         1.99463557e-10,  2.66027200e-10,  1.33000000e-04,\n",
      "         1.33000066e-04,  1.33000133e-04,  1.33000199e-04,\n",
      "         1.33000266e-04,  2.66000000e-04,  2.66000066e-04,\n",
      "         2.66000133e-04,  2.66000199e-04,  2.66000266e-04,\n",
      "         3.99000000e-04,  3.99000066e-04,  3.99000133e-04,\n",
      "         3.99000199e-04,  3.99000266e-04,  5.32000000e-04,\n",
      "         5.32000066e-04,  5.32000133e-04,  5.32000199e-04,\n",
      "         5.32000266e-04],\n",
      "       [ 0.00000000e+00, -1.77634695e-15, -3.55269390e-15,\n",
      "         1.77638651e-15,  3.95655732e-20, -6.65068001e-11,\n",
      "        -6.65068001e-11, -6.65068001e-11, -6.64783784e-11,\n",
      "        -6.65068001e-11, -1.33013600e-10, -1.33013600e-10,\n",
      "        -1.33013600e-10, -1.33013600e-10, -1.33013600e-10,\n",
      "        -1.99520400e-10, -1.99520400e-10, -1.99520400e-10,\n",
      "        -1.99520400e-10, -1.99520400e-10, -2.66027200e-10,\n",
      "        -2.66027200e-10, -2.66140887e-10, -2.66140887e-10,\n",
      "        -2.66140887e-10],\n",
      "       [ 0.00000000e+00,  0.00000000e+00,  0.00000000e+00,\n",
      "         0.00000000e+00,  0.00000000e+00,  0.00000000e+00,\n",
      "         0.00000000e+00,  0.00000000e+00,  0.00000000e+00,\n",
      "         0.00000000e+00,  0.00000000e+00,  0.00000000e+00,\n",
      "         0.00000000e+00,  0.00000000e+00,  0.00000000e+00,\n",
      "         0.00000000e+00,  0.00000000e+00,  0.00000000e+00,\n",
      "         0.00000000e+00,  0.00000000e+00,  0.00000000e+00,\n",
      "         0.00000000e+00,  0.00000000e+00,  0.00000000e+00,\n",
      "         0.00000000e+00]])\n"
     ]
    },
    {
     "ename": "AssertionError",
     "evalue": "\nNot equal to tolerance rtol=1e-07, atol=1e-06\n\nMismatched elements: 25 / 75 (33.3%)\nMax absolute difference: 0.001564\nMax relative difference: 2.\n x: array([[ 0.      ,  0.      ,  0.      ,  0.      ,  0.      ,  0.      ,\n         0.      ,  0.      ,  0.      ,  0.      ,  0.      ,  0.      ,\n         0.      ,  0.      ,  0.      ,  0.      ,  0.      ,  0.      ,...\n y: array([[0.      , 0.      , 0.      , 0.      , 0.      , 0.      ,\n        0.      , 0.      , 0.      , 0.      , 0.      , 0.      ,\n        0.      , 0.      , 0.      , 0.      , 0.      , 0.      ,...",
     "output_type": "error",
     "traceback": [
      "\u001b[0;31m---------------------------------------------------------------------------\u001b[0m",
      "\u001b[0;31mAssertionError\u001b[0m                            Traceback (most recent call last)",
      "Cell \u001b[0;32mIn[31], line 4\u001b[0m\n\u001b[1;32m      2\u001b[0m model_params \u001b[38;5;241m=\u001b[39m dc\u001b[38;5;241m.\u001b[39mmodel_parameters_dict\u001b[38;5;241m.\u001b[39mcopy()\n\u001b[1;32m      3\u001b[0m model_params[\u001b[38;5;124m\"\u001b[39m\u001b[38;5;124mTxy\u001b[39m\u001b[38;5;124m\"\u001b[39m] \u001b[38;5;241m=\u001b[39m \u001b[38;5;241m1e-6\u001b[39m\n\u001b[0;32m----> 4\u001b[0m old_cmm_dev, new_cmm_dev, old_mmt_dev, new_mmt_dev \u001b[38;5;241m=\u001b[39m \u001b[43mtest_XY\u001b[49m\u001b[43m(\u001b[49m\u001b[43mmodel_params\u001b[49m\u001b[43m,\u001b[49m\u001b[43m \u001b[49m\u001b[43mverbose\u001b[49m\u001b[38;5;241;43m=\u001b[39;49m\u001b[38;5;28;43;01mTrue\u001b[39;49;00m\u001b[43m)\u001b[49m\n",
      "Cell \u001b[0;32mIn[26], line 62\u001b[0m, in \u001b[0;36mtest_XY\u001b[0;34m(model_params, verbose, signs)\u001b[0m\n\u001b[1;32m     59\u001b[0m     \u001b[38;5;28mprint\u001b[39m(\u001b[38;5;124mf\u001b[39m\u001b[38;5;124m\"\u001b[39m\u001b[38;5;132;01m{\u001b[39;00mmmt\u001b[38;5;241m.\u001b[39mmmt_dev\u001b[38;5;132;01m=}\u001b[39;00m\u001b[38;5;124m\"\u001b[39m)\n\u001b[1;32m     61\u001b[0m np\u001b[38;5;241m.\u001b[39mtesting\u001b[38;5;241m.\u001b[39massert_allclose(XM[:\u001b[38;5;241m-\u001b[39m\u001b[38;5;241m1\u001b[39m, :], mmt\u001b[38;5;241m.\u001b[39mcmm_nominal, atol\u001b[38;5;241m=\u001b[39m\u001b[38;5;241m1e-6\u001b[39m)\n\u001b[0;32m---> 62\u001b[0m \u001b[43mnp\u001b[49m\u001b[38;5;241;43m.\u001b[39;49m\u001b[43mtesting\u001b[49m\u001b[38;5;241;43m.\u001b[39;49m\u001b[43massert_allclose\u001b[49m\u001b[43m(\u001b[49m\u001b[43meXYZ\u001b[49m\u001b[43m[\u001b[49m\u001b[43m:\u001b[49m\u001b[38;5;241;43m-\u001b[39;49m\u001b[38;5;241;43m1\u001b[39;49m\u001b[43m,\u001b[49m\u001b[43m \u001b[49m\u001b[43m:\u001b[49m\u001b[43m]\u001b[49m\u001b[43m,\u001b[49m\u001b[43m \u001b[49m\u001b[43mmmt\u001b[49m\u001b[38;5;241;43m.\u001b[39;49m\u001b[43mcmm_dev\u001b[49m\u001b[43m,\u001b[49m\u001b[43m \u001b[49m\u001b[43matol\u001b[49m\u001b[38;5;241;43m=\u001b[39;49m\u001b[38;5;241;43m1e-6\u001b[39;49m\u001b[43m)\u001b[49m\n\u001b[1;32m     63\u001b[0m np\u001b[38;5;241m.\u001b[39mtesting\u001b[38;5;241m.\u001b[39massert_allclose(plate_nom, mmt\u001b[38;5;241m.\u001b[39mmmt_nominal[:\u001b[38;5;241m-\u001b[39m\u001b[38;5;241m1\u001b[39m, :], atol\u001b[38;5;241m=\u001b[39m\u001b[38;5;241m1e-6\u001b[39m)\n\u001b[1;32m     64\u001b[0m np\u001b[38;5;241m.\u001b[39mtesting\u001b[38;5;241m.\u001b[39massert_allclose(dxy\u001b[38;5;241m.\u001b[39mT, mmt\u001b[38;5;241m.\u001b[39mmmt_dev[:\u001b[38;5;241m-\u001b[39m\u001b[38;5;241m1\u001b[39m, :], atol\u001b[38;5;241m=\u001b[39m\u001b[38;5;241m1e-6\u001b[39m)\n",
      "    \u001b[0;31m[... skipping hidden 1 frame]\u001b[0m\n",
      "File \u001b[0;32m~/.local/share/uv/python/cpython-3.11.9-linux-x86_64-gnu/lib/python3.11/contextlib.py:81\u001b[0m, in \u001b[0;36mContextDecorator.__call__.<locals>.inner\u001b[0;34m(*args, **kwds)\u001b[0m\n\u001b[1;32m     78\u001b[0m \u001b[38;5;129m@wraps\u001b[39m(func)\n\u001b[1;32m     79\u001b[0m \u001b[38;5;28;01mdef\u001b[39;00m \u001b[38;5;21minner\u001b[39m(\u001b[38;5;241m*\u001b[39margs, \u001b[38;5;241m*\u001b[39m\u001b[38;5;241m*\u001b[39mkwds):\n\u001b[1;32m     80\u001b[0m     \u001b[38;5;28;01mwith\u001b[39;00m \u001b[38;5;28mself\u001b[39m\u001b[38;5;241m.\u001b[39m_recreate_cm():\n\u001b[0;32m---> 81\u001b[0m         \u001b[38;5;28;01mreturn\u001b[39;00m \u001b[43mfunc\u001b[49m\u001b[43m(\u001b[49m\u001b[38;5;241;43m*\u001b[39;49m\u001b[43margs\u001b[49m\u001b[43m,\u001b[49m\u001b[43m \u001b[49m\u001b[38;5;241;43m*\u001b[39;49m\u001b[38;5;241;43m*\u001b[39;49m\u001b[43mkwds\u001b[49m\u001b[43m)\u001b[49m\n",
      "File \u001b[0;32m~/gits/ls_cmm_error_map/.venv/lib/python3.11/site-packages/numpy/testing/_private/utils.py:797\u001b[0m, in \u001b[0;36massert_array_compare\u001b[0;34m(comparison, x, y, err_msg, verbose, header, precision, equal_nan, equal_inf, strict)\u001b[0m\n\u001b[1;32m    793\u001b[0m         err_msg \u001b[38;5;241m+\u001b[39m\u001b[38;5;241m=\u001b[39m \u001b[38;5;124m'\u001b[39m\u001b[38;5;130;01m\\n\u001b[39;00m\u001b[38;5;124m'\u001b[39m \u001b[38;5;241m+\u001b[39m \u001b[38;5;124m'\u001b[39m\u001b[38;5;130;01m\\n\u001b[39;00m\u001b[38;5;124m'\u001b[39m\u001b[38;5;241m.\u001b[39mjoin(remarks)\n\u001b[1;32m    794\u001b[0m         msg \u001b[38;5;241m=\u001b[39m build_err_msg([ox, oy], err_msg,\n\u001b[1;32m    795\u001b[0m                             verbose\u001b[38;5;241m=\u001b[39mverbose, header\u001b[38;5;241m=\u001b[39mheader,\n\u001b[1;32m    796\u001b[0m                             names\u001b[38;5;241m=\u001b[39m(\u001b[38;5;124m'\u001b[39m\u001b[38;5;124mx\u001b[39m\u001b[38;5;124m'\u001b[39m, \u001b[38;5;124m'\u001b[39m\u001b[38;5;124my\u001b[39m\u001b[38;5;124m'\u001b[39m), precision\u001b[38;5;241m=\u001b[39mprecision)\n\u001b[0;32m--> 797\u001b[0m         \u001b[38;5;28;01mraise\u001b[39;00m \u001b[38;5;167;01mAssertionError\u001b[39;00m(msg)\n\u001b[1;32m    798\u001b[0m \u001b[38;5;28;01mexcept\u001b[39;00m \u001b[38;5;167;01mValueError\u001b[39;00m:\n\u001b[1;32m    799\u001b[0m     \u001b[38;5;28;01mimport\u001b[39;00m \u001b[38;5;21;01mtraceback\u001b[39;00m\n",
      "\u001b[0;31mAssertionError\u001b[0m: \nNot equal to tolerance rtol=1e-07, atol=1e-06\n\nMismatched elements: 25 / 75 (33.3%)\nMax absolute difference: 0.001564\nMax relative difference: 2.\n x: array([[ 0.      ,  0.      ,  0.      ,  0.      ,  0.      ,  0.      ,\n         0.      ,  0.      ,  0.      ,  0.      ,  0.      ,  0.      ,\n         0.      ,  0.      ,  0.      ,  0.      ,  0.      ,  0.      ,...\n y: array([[0.      , 0.      , 0.      , 0.      , 0.      , 0.      ,\n        0.      , 0.      , 0.      , 0.      , 0.      , 0.      ,\n        0.      , 0.      , 0.      , 0.      , 0.      , 0.      ,..."
     ]
    }
   ],
   "source": [
    "# Txy\n",
    "model_params = dc.model_parameters_dict.copy()\n",
    "model_params[\"Txy\"] = 1e-6\n",
    "old_cmm_dev, new_cmm_dev, old_mmt_dev, new_mmt_dev = test_XY(model_params, verbose=True)"
   ]
  },
  {
   "cell_type": "code",
   "execution_count": 33,
   "metadata": {},
   "outputs": [],
   "source": [
    "# mess with signs Txy\n",
    "model_params = dc.model_parameters_dict.copy()\n",
    "model_params[\"Txy\"] = 1e-6\n",
    "old_cmm_dev, new_cmm_dev, old_mmt_dev, new_mmt_dev = test_XY(\n",
    "    model_params, signs={\"old\": 1, \"new\": -1}\n",
    ")"
   ]
  }
 ],
 "metadata": {
  "kernelspec": {
   "display_name": ".venv",
   "language": "python",
   "name": "python3"
  },
  "language_info": {
   "codemirror_mode": {
    "name": "ipython",
    "version": 3
   },
   "file_extension": ".py",
   "mimetype": "text/x-python",
   "name": "python",
   "nbconvert_exporter": "python",
   "pygments_lexer": "ipython3",
   "version": "3.11.9"
  }
 },
 "nbformat": 4,
 "nbformat_minor": 2
}
