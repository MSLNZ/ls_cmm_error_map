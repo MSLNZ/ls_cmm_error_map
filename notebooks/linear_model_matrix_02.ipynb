{
 "cells": [
  {
   "cell_type": "markdown",
   "metadata": {},
   "source": [
    "Work straight from matrix equations"
   ]
  },
  {
   "cell_type": "code",
   "execution_count": 1,
   "metadata": {},
   "outputs": [],
   "source": [
    "import numpy as np\n",
    "import pandas as pd\n",
    "from cmm_error_map import data_cmpts as dc\n",
    "from cmm_error_map import design_matrix_linear_fixed as design"
   ]
  },
  {
   "cell_type": "code",
   "execution_count": 2,
   "metadata": {},
   "outputs": [],
   "source": [
    "def linear_dependency(xyz, model_params):\n",
    "    x,y,z = xyz\n",
    "    ld_dict = {\n",
    "        \"Txx\": x,\n",
    "        \"Txy\": x,\n",
    "        \"Txz\": x,\n",
    "        \"Tyx\": y,\n",
    "        \"Tyy\": y,\n",
    "        \"Tyz\": y,\n",
    "        \"Tzx\": z,\n",
    "        \"Tzy\": z,\n",
    "        \"Tzz\": z,\n",
    "        \"Rxx\": x,\n",
    "        \"Rxy\": x,\n",
    "        \"Rxz\": x,\n",
    "        \"Ryx\": y,\n",
    "        \"Ryy\": y,\n",
    "        \"Ryz\": y,\n",
    "        \"Rzx\": z,\n",
    "        \"Rzy\": z,\n",
    "        \"Rzz\": z,\n",
    "        \"Wxy\": x,\n",
    "        \"Wxz\": y,\n",
    "        \"Wyz\": z,\n",
    "    }\n",
    "    pl = {key: model_params[key]* ld_dict[key] for key in model_params}\n",
    "    return pl"
   ]
  },
  {
   "cell_type": "code",
   "execution_count": 3,
   "metadata": {},
   "outputs": [],
   "source": [
    "def linear_model_matrix(xyz, xyzt, model_params):\n",
    "    pl = linear_dependency(xyz, model_params)\n",
    "    # rotation\n",
    "    rxl = np.array([[1.,       pl['Rxz'], -pl['Rxy']], \n",
    "                [-pl['Rxz'],   1.,      pl['Rxx']],\n",
    "                [ pl['Rxy'],-pl['Rxx'],     1.   ]])\n",
    "    ryl = np.array([[1.,       pl['Ryz'], -pl['Ryy']], \n",
    "                [-pl['Ryz'],   1.,      pl['Ryx']],\n",
    "                [ pl['Ryy'],-pl['Ryx'],     1.   ]])\n",
    "    rzl = np.array([[1.,       pl['Rzz'], -pl['Rzy']], \n",
    "                [-pl['Rzz'],   1.,      pl['Rzx']],\n",
    "                [ pl['Rzy'],-pl['Rzx'],     1.   ]])\n",
    "    # inverse rotation\n",
    "    inv_ryl = np.linalg.inv(ryl)\n",
    "    inv_rzl = np.linalg.inv(rzl)\n",
    "    # translation\n",
    "    x, y, z = xyz\n",
    "    xl = np.array([x + pl['Txx'], pl['Txy'], pl['Txz'] ])\n",
    "    yl = np.array([pl['Tyx'], y + pl['Tyy'], pl['Tyz'] ])\n",
    "    zl = np.array([pl['Tzx'], pl['Tzy'], z + pl['Tzz'] ])\n",
    "    w = rxl @ yl - rxl @ xl + rxl @ inv_ryl @ zl + rxl @ inv_ryl @ inv_rzl @ xyzt\n",
    "    return w\n",
    "    \n",
    "    \n",
    "    "
   ]
  },
  {
   "cell_type": "code",
   "execution_count": 4,
   "metadata": {},
   "outputs": [],
   "source": [
    "xyz  = np.array([100.,50.,20.])\n",
    "x,y,z = xyz\n",
    "xyzt = np.array([0.,0.,0.])\n",
    "xt,yt,zt = xyzt"
   ]
  },
  {
   "cell_type": "code",
   "execution_count": 51,
   "metadata": {},
   "outputs": [],
   "source": [
    "# compare design and matrix functions\n",
    "results = pd.DataFrame(columns= ['value', 'w0', 'w1', 'w2', 'xE', 'yE', 'zE'])\n",
    "for key in dc.model_parameters_dict:\n",
    "    mp = dc.model_parameters_dict.copy()\n",
    "    mp[key] = 1e-4\n",
    "    w1 = linear_model_matrix(xyz, xyzt, mp)\n",
    "    xE, yE, zE = design.model_linear(x,y,z, list(mp.values()), xt, yt, zt)\n",
    "    results.loc[key] = [mp[key], w1[0], w1[1], w1[2], xE, yE, zE ]\n",
    "\n"
   ]
  },
  {
   "cell_type": "code",
   "execution_count": 52,
   "metadata": {},
   "outputs": [
    {
     "data": {
      "text/html": [
       "<div>\n",
       "<style scoped>\n",
       "    .dataframe tbody tr th:only-of-type {\n",
       "        vertical-align: middle;\n",
       "    }\n",
       "\n",
       "    .dataframe tbody tr th {\n",
       "        vertical-align: top;\n",
       "    }\n",
       "\n",
       "    .dataframe thead th {\n",
       "        text-align: right;\n",
       "    }\n",
       "</style>\n",
       "<table border=\"1\" class=\"dataframe\">\n",
       "  <thead>\n",
       "    <tr style=\"text-align: right;\">\n",
       "      <th></th>\n",
       "      <th>value</th>\n",
       "      <th>w0</th>\n",
       "      <th>w1</th>\n",
       "      <th>w2</th>\n",
       "      <th>xE</th>\n",
       "      <th>yE</th>\n",
       "      <th>zE</th>\n",
       "    </tr>\n",
       "  </thead>\n",
       "  <tbody>\n",
       "    <tr>\n",
       "      <th>Txx</th>\n",
       "      <td>0.0001</td>\n",
       "      <td>-100.010000</td>\n",
       "      <td>50.000000</td>\n",
       "      <td>20.0000</td>\n",
       "      <td>0.010</td>\n",
       "      <td>0.000</td>\n",
       "      <td>0.000</td>\n",
       "    </tr>\n",
       "    <tr>\n",
       "      <th>Txy</th>\n",
       "      <td>0.0001</td>\n",
       "      <td>-100.000000</td>\n",
       "      <td>49.990000</td>\n",
       "      <td>20.0000</td>\n",
       "      <td>0.000</td>\n",
       "      <td>-0.010</td>\n",
       "      <td>0.000</td>\n",
       "    </tr>\n",
       "    <tr>\n",
       "      <th>Txz</th>\n",
       "      <td>0.0001</td>\n",
       "      <td>-100.000000</td>\n",
       "      <td>50.000000</td>\n",
       "      <td>19.9900</td>\n",
       "      <td>0.000</td>\n",
       "      <td>0.000</td>\n",
       "      <td>-0.010</td>\n",
       "    </tr>\n",
       "    <tr>\n",
       "      <th>Tyx</th>\n",
       "      <td>0.0001</td>\n",
       "      <td>-99.995000</td>\n",
       "      <td>50.000000</td>\n",
       "      <td>20.0000</td>\n",
       "      <td>-0.005</td>\n",
       "      <td>0.000</td>\n",
       "      <td>0.000</td>\n",
       "    </tr>\n",
       "    <tr>\n",
       "      <th>Tyy</th>\n",
       "      <td>0.0001</td>\n",
       "      <td>-100.000000</td>\n",
       "      <td>50.005000</td>\n",
       "      <td>20.0000</td>\n",
       "      <td>0.000</td>\n",
       "      <td>0.005</td>\n",
       "      <td>0.000</td>\n",
       "    </tr>\n",
       "    <tr>\n",
       "      <th>Tyz</th>\n",
       "      <td>0.0001</td>\n",
       "      <td>-100.000000</td>\n",
       "      <td>50.000000</td>\n",
       "      <td>20.0050</td>\n",
       "      <td>0.000</td>\n",
       "      <td>0.000</td>\n",
       "      <td>-0.005</td>\n",
       "    </tr>\n",
       "    <tr>\n",
       "      <th>Tzx</th>\n",
       "      <td>0.0001</td>\n",
       "      <td>-99.998000</td>\n",
       "      <td>50.000000</td>\n",
       "      <td>20.0000</td>\n",
       "      <td>-0.002</td>\n",
       "      <td>0.000</td>\n",
       "      <td>0.000</td>\n",
       "    </tr>\n",
       "    <tr>\n",
       "      <th>Tzy</th>\n",
       "      <td>0.0001</td>\n",
       "      <td>-100.000000</td>\n",
       "      <td>50.002000</td>\n",
       "      <td>20.0000</td>\n",
       "      <td>0.000</td>\n",
       "      <td>-0.002</td>\n",
       "      <td>0.000</td>\n",
       "    </tr>\n",
       "    <tr>\n",
       "      <th>Tzz</th>\n",
       "      <td>0.0001</td>\n",
       "      <td>-100.000000</td>\n",
       "      <td>50.000000</td>\n",
       "      <td>20.0020</td>\n",
       "      <td>0.000</td>\n",
       "      <td>0.000</td>\n",
       "      <td>0.002</td>\n",
       "    </tr>\n",
       "    <tr>\n",
       "      <th>Rxx</th>\n",
       "      <td>0.0001</td>\n",
       "      <td>-100.000000</td>\n",
       "      <td>50.200000</td>\n",
       "      <td>19.5000</td>\n",
       "      <td>0.000</td>\n",
       "      <td>0.200</td>\n",
       "      <td>-0.500</td>\n",
       "    </tr>\n",
       "    <tr>\n",
       "      <th>Rxy</th>\n",
       "      <td>0.0001</td>\n",
       "      <td>-100.200000</td>\n",
       "      <td>50.000000</td>\n",
       "      <td>19.0000</td>\n",
       "      <td>-0.200</td>\n",
       "      <td>0.000</td>\n",
       "      <td>1.000</td>\n",
       "    </tr>\n",
       "    <tr>\n",
       "      <th>Rxz</th>\n",
       "      <td>0.0001</td>\n",
       "      <td>-99.500000</td>\n",
       "      <td>51.000000</td>\n",
       "      <td>20.0000</td>\n",
       "      <td>0.500</td>\n",
       "      <td>-1.000</td>\n",
       "      <td>0.000</td>\n",
       "    </tr>\n",
       "    <tr>\n",
       "      <th>Ryx</th>\n",
       "      <td>0.0001</td>\n",
       "      <td>-100.000000</td>\n",
       "      <td>49.900002</td>\n",
       "      <td>19.9995</td>\n",
       "      <td>0.000</td>\n",
       "      <td>0.100</td>\n",
       "      <td>0.000</td>\n",
       "    </tr>\n",
       "    <tr>\n",
       "      <th>Ryy</th>\n",
       "      <td>0.0001</td>\n",
       "      <td>-99.900002</td>\n",
       "      <td>50.000000</td>\n",
       "      <td>19.9995</td>\n",
       "      <td>-0.100</td>\n",
       "      <td>0.000</td>\n",
       "      <td>0.000</td>\n",
       "    </tr>\n",
       "    <tr>\n",
       "      <th>Ryz</th>\n",
       "      <td>0.0001</td>\n",
       "      <td>-100.000000</td>\n",
       "      <td>50.000000</td>\n",
       "      <td>20.0000</td>\n",
       "      <td>0.000</td>\n",
       "      <td>0.000</td>\n",
       "      <td>0.000</td>\n",
       "    </tr>\n",
       "    <tr>\n",
       "      <th>Rzx</th>\n",
       "      <td>0.0001</td>\n",
       "      <td>-100.000000</td>\n",
       "      <td>50.000000</td>\n",
       "      <td>20.0000</td>\n",
       "      <td>0.000</td>\n",
       "      <td>0.000</td>\n",
       "      <td>0.000</td>\n",
       "    </tr>\n",
       "    <tr>\n",
       "      <th>Rzy</th>\n",
       "      <td>0.0001</td>\n",
       "      <td>-100.000000</td>\n",
       "      <td>50.000000</td>\n",
       "      <td>20.0000</td>\n",
       "      <td>0.000</td>\n",
       "      <td>0.000</td>\n",
       "      <td>0.000</td>\n",
       "    </tr>\n",
       "    <tr>\n",
       "      <th>Rzz</th>\n",
       "      <td>0.0001</td>\n",
       "      <td>-100.000000</td>\n",
       "      <td>50.000000</td>\n",
       "      <td>20.0000</td>\n",
       "      <td>0.000</td>\n",
       "      <td>0.000</td>\n",
       "      <td>0.000</td>\n",
       "    </tr>\n",
       "    <tr>\n",
       "      <th>Wxy</th>\n",
       "      <td>0.0001</td>\n",
       "      <td>-100.000000</td>\n",
       "      <td>50.000000</td>\n",
       "      <td>20.0000</td>\n",
       "      <td>-0.005</td>\n",
       "      <td>-0.010</td>\n",
       "      <td>0.000</td>\n",
       "    </tr>\n",
       "    <tr>\n",
       "      <th>Wxz</th>\n",
       "      <td>0.0001</td>\n",
       "      <td>-100.000000</td>\n",
       "      <td>50.000000</td>\n",
       "      <td>20.0000</td>\n",
       "      <td>-0.002</td>\n",
       "      <td>0.000</td>\n",
       "      <td>-0.010</td>\n",
       "    </tr>\n",
       "    <tr>\n",
       "      <th>Wyz</th>\n",
       "      <td>0.0001</td>\n",
       "      <td>-100.000000</td>\n",
       "      <td>50.000000</td>\n",
       "      <td>20.0000</td>\n",
       "      <td>0.000</td>\n",
       "      <td>-0.002</td>\n",
       "      <td>-0.005</td>\n",
       "    </tr>\n",
       "  </tbody>\n",
       "</table>\n",
       "</div>"
      ],
      "text/plain": [
       "      value          w0         w1       w2     xE     yE     zE\n",
       "Txx  0.0001 -100.010000  50.000000  20.0000  0.010  0.000  0.000\n",
       "Txy  0.0001 -100.000000  49.990000  20.0000  0.000 -0.010  0.000\n",
       "Txz  0.0001 -100.000000  50.000000  19.9900  0.000  0.000 -0.010\n",
       "Tyx  0.0001  -99.995000  50.000000  20.0000 -0.005  0.000  0.000\n",
       "Tyy  0.0001 -100.000000  50.005000  20.0000  0.000  0.005  0.000\n",
       "Tyz  0.0001 -100.000000  50.000000  20.0050  0.000  0.000 -0.005\n",
       "Tzx  0.0001  -99.998000  50.000000  20.0000 -0.002  0.000  0.000\n",
       "Tzy  0.0001 -100.000000  50.002000  20.0000  0.000 -0.002  0.000\n",
       "Tzz  0.0001 -100.000000  50.000000  20.0020  0.000  0.000  0.002\n",
       "Rxx  0.0001 -100.000000  50.200000  19.5000  0.000  0.200 -0.500\n",
       "Rxy  0.0001 -100.200000  50.000000  19.0000 -0.200  0.000  1.000\n",
       "Rxz  0.0001  -99.500000  51.000000  20.0000  0.500 -1.000  0.000\n",
       "Ryx  0.0001 -100.000000  49.900002  19.9995  0.000  0.100  0.000\n",
       "Ryy  0.0001  -99.900002  50.000000  19.9995 -0.100  0.000  0.000\n",
       "Ryz  0.0001 -100.000000  50.000000  20.0000  0.000  0.000  0.000\n",
       "Rzx  0.0001 -100.000000  50.000000  20.0000  0.000  0.000  0.000\n",
       "Rzy  0.0001 -100.000000  50.000000  20.0000  0.000  0.000  0.000\n",
       "Rzz  0.0001 -100.000000  50.000000  20.0000  0.000  0.000  0.000\n",
       "Wxy  0.0001 -100.000000  50.000000  20.0000 -0.005 -0.010  0.000\n",
       "Wxz  0.0001 -100.000000  50.000000  20.0000 -0.002  0.000 -0.010\n",
       "Wyz  0.0001 -100.000000  50.000000  20.0000  0.000 -0.002 -0.005"
      ]
     },
     "execution_count": 52,
     "metadata": {},
     "output_type": "execute_result"
    }
   ],
   "source": [
    "results"
   ]
  },
  {
   "cell_type": "code",
   "execution_count": 53,
   "metadata": {},
   "outputs": [],
   "source": [
    "results.to_clipboard()"
   ]
  },
  {
   "cell_type": "code",
   "execution_count": 17,
   "metadata": {},
   "outputs": [
    {
     "data": {
      "text/plain": [
       "array([-100.0013901 ,   49.99990706,   19.99980922])"
      ]
     },
     "execution_count": 17,
     "metadata": {},
     "output_type": "execute_result"
    }
   ],
   "source": [
    "w = linear_model_matrix(xyz, xyzt, dc.model_parameters_test)\n",
    "w"
   ]
  },
  {
   "cell_type": "code",
   "execution_count": 18,
   "metadata": {},
   "outputs": [
    {
     "data": {
      "text/plain": [
       "array([-100.,   50.,   20.])"
      ]
     },
     "execution_count": 18,
     "metadata": {},
     "output_type": "execute_result"
    }
   ],
   "source": [
    "w = linear_model_matrix(xyz, xyzt, dc.model_parameters_dict)\n",
    "w"
   ]
  },
  {
   "cell_type": "code",
   "execution_count": 34,
   "metadata": {},
   "outputs": [
    {
     "data": {
      "text/plain": [
       "{'Txx': 0.0,\n",
       " 'Txy': 0.0,\n",
       " 'Txz': 0.0,\n",
       " 'Tyx': 0.0,\n",
       " 'Tyy': 0.0,\n",
       " 'Tyz': 0.0,\n",
       " 'Tzx': 0.0,\n",
       " 'Tzy': 0.0,\n",
       " 'Tzz': 0.0,\n",
       " 'Rxx': 0.0,\n",
       " 'Rxy': 0.0,\n",
       " 'Rxz': 0.0,\n",
       " 'Ryx': 0.0,\n",
       " 'Ryy': 0.0,\n",
       " 'Ryz': 0.0,\n",
       " 'Rzx': 0.0,\n",
       " 'Rzy': 0.0,\n",
       " 'Rzz': 0.0,\n",
       " 'Wxy': 0.0,\n",
       " 'Wxz': 0.0,\n",
       " 'Wyz': 0.0}"
      ]
     },
     "execution_count": 34,
     "metadata": {},
     "output_type": "execute_result"
    }
   ],
   "source": [
    "dc.model_parameters_dict"
   ]
  },
  {
   "cell_type": "code",
   "execution_count": 22,
   "metadata": {},
   "outputs": [],
   "source": [
    "model_params = dc.model_parameters_dict\n",
    "\n",
    "pl= linear_dependency(xyz, model_params)\n",
    "# rotation\n",
    "rxl = np.array([[1.,       pl['Rxz'], -pl['Rxy']], \n",
    "            [-pl['Rxz'],   1.,      pl['Rxx']],\n",
    "            [ pl['Rxy'],-pl['Rxx'],     1.   ]])\n",
    "ryl = np.array([[1.,       pl['Ryz'], -pl['Ryy']], \n",
    "            [-pl['Ryz'],   1.,      pl['Ryx']],\n",
    "            [ pl['Ryy'],-pl['Ryx'],     1.   ]])\n",
    "rzl = np.array([[1.,       pl['Rzz'], -pl['Rzy']], \n",
    "            [-pl['Rzz'],   1.,      pl['Rzx']],\n",
    "            [ pl['Rzy'],-pl['Rzx'],     1.   ]])\n",
    "# inverse rotation\n",
    "inv_ryl = np.linalg.inv(ryl)\n",
    "inv_rzl = np.linalg.inv(rzl)\n",
    "# translation\n",
    "x,y,z =xyz\n",
    "xl = np.array([x + pl['Txx'], pl['Txy'], pl['Txz'] ])\n",
    "yl = np.array([pl['Tyx'], y + pl['Tyy'], pl['Tyz'] ])\n",
    "zl = np.array([pl['Tzx'], pl['Tzy'], z + pl['Tzz'] ])\n",
    "w = rxl @ yl - rxl @ xl + rxl @ inv_ryl @ zl + rxl @ inv_ryl @ inv_rzl @ xyzt"
   ]
  },
  {
   "cell_type": "code",
   "execution_count": 23,
   "metadata": {},
   "outputs": [
    {
     "data": {
      "text/plain": [
       "array([-100.,   50.,   20.])"
      ]
     },
     "execution_count": 23,
     "metadata": {},
     "output_type": "execute_result"
    }
   ],
   "source": [
    "w"
   ]
  },
  {
   "cell_type": "code",
   "execution_count": 24,
   "metadata": {},
   "outputs": [
    {
     "data": {
      "text/plain": [
       "array([[ 1.,  0., -0.],\n",
       "       [-0.,  1.,  0.],\n",
       "       [ 0., -0.,  1.]])"
      ]
     },
     "execution_count": 24,
     "metadata": {},
     "output_type": "execute_result"
    }
   ],
   "source": [
    "rxl"
   ]
  },
  {
   "cell_type": "code",
   "execution_count": 25,
   "metadata": {},
   "outputs": [
    {
     "data": {
      "text/plain": [
       "array([[1., 0., 0.],\n",
       "       [0., 1., 0.],\n",
       "       [0., 0., 1.]])"
      ]
     },
     "execution_count": 25,
     "metadata": {},
     "output_type": "execute_result"
    }
   ],
   "source": [
    "inv_ryl"
   ]
  },
  {
   "cell_type": "code",
   "execution_count": 26,
   "metadata": {},
   "outputs": [
    {
     "data": {
      "text/plain": [
       "array([[1., 0., 0.],\n",
       "       [0., 1., 0.],\n",
       "       [0., 0., 1.]])"
      ]
     },
     "execution_count": 26,
     "metadata": {},
     "output_type": "execute_result"
    }
   ],
   "source": [
    "inv_rzl"
   ]
  },
  {
   "cell_type": "code",
   "execution_count": null,
   "metadata": {},
   "outputs": [],
   "source": []
  }
 ],
 "metadata": {
  "kernelspec": {
   "display_name": ".venv",
   "language": "python",
   "name": "python3"
  },
  "language_info": {
   "codemirror_mode": {
    "name": "ipython",
    "version": 3
   },
   "file_extension": ".py",
   "mimetype": "text/x-python",
   "name": "python",
   "nbconvert_exporter": "python",
   "pygments_lexer": "ipython3",
   "version": "3.11.9"
  }
 },
 "nbformat": 4,
 "nbformat_minor": 2
}
