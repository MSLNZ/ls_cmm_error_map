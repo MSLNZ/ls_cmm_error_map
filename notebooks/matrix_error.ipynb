{
 "cells": [
  {
   "cell_type": "code",
   "execution_count": 1,
   "metadata": {},
   "outputs": [],
   "source": [
    "import pyqtgraph as pg\n",
    "import pyqtgraph.opengl as gl"
   ]
  },
  {
   "cell_type": "code",
   "execution_count": 2,
   "metadata": {},
   "outputs": [
    {
     "data": {
      "text/plain": [
       "array([[ 0.81379765, -0.46984631,  0.34202012,  0.        ],\n",
       "       [ 0.54383814,  0.82317293, -0.16317591,  0.        ],\n",
       "       [-0.2048741 ,  0.31879574,  0.92541653,  0.        ],\n",
       "       [ 0.        ,  0.        ,  0.        ,  1.        ]])"
      ]
     },
     "execution_count": 2,
     "metadata": {},
     "output_type": "execute_result"
    }
   ],
   "source": [
    "t1 = pg.Transform3D()\n",
    "t1.rotate(10., 1., 0., 0.)\n",
    "t1.rotate(20., 0., 1., 0.)\n",
    "t1.rotate(30., 0., 0., 1.)\n",
    "t1.matrix()\n"
   ]
  },
  {
   "cell_type": "code",
   "execution_count": 9,
   "metadata": {},
   "outputs": [
    {
     "data": {
      "text/plain": [
       "array([[ 0.81379765, -0.44096962,  0.37852228,  0.        ],\n",
       "       [ 0.46984631,  0.88256407,  0.0180283 ,  0.        ],\n",
       "       [-0.34202012,  0.16317591,  0.92541653,  0.        ],\n",
       "       [ 0.        ,  0.        ,  0.        ,  1.        ]])"
      ]
     },
     "execution_count": 9,
     "metadata": {},
     "output_type": "execute_result"
    }
   ],
   "source": [
    "g1 = gl.GLGridItem()\n",
    "g1.rotate(10., 1., 0., 0.)\n",
    "g1.rotate(20., 0., 1., 0.)\n",
    "g1.rotate(30., 0., 0., 1.)\n",
    "g1.transform().matrix()"
   ]
  },
  {
   "cell_type": "code",
   "execution_count": 10,
   "metadata": {},
   "outputs": [
    {
     "data": {
      "text/plain": [
       "array([[ 0.81379765, -0.46984631,  0.34202012,  0.        ],\n",
       "       [ 0.54383814,  0.82317293, -0.16317591,  0.        ],\n",
       "       [-0.2048741 ,  0.31879574,  0.92541653,  0.        ],\n",
       "       [ 0.        ,  0.        ,  0.        ,  1.        ]])"
      ]
     },
     "execution_count": 10,
     "metadata": {},
     "output_type": "execute_result"
    }
   ],
   "source": [
    "g2 = gl.GLGridItem()\n",
    "g2.rotate(10., 1., 0., 0., local=True)\n",
    "g2.rotate(20., 0., 1., 0., local=True)\n",
    "g2.rotate(30., 0., 0., 1., local=True)\n",
    "g2.transform().matrix()"
   ]
  },
  {
   "cell_type": "code",
   "execution_count": 12,
   "metadata": {},
   "outputs": [
    {
     "data": {
      "text/plain": [
       "(Transform3D((0.813798, 0.543838, -0.204874, 0, -0.469846, 0.823173, 0.318796, 0, 0.34202, -0.163176, 0.925417, 0, 0, 0, 0, 1)),\n",
       " True)"
      ]
     },
     "execution_count": 12,
     "metadata": {},
     "output_type": "execute_result"
    }
   ],
   "source": [
    "g2.transform().inverted()"
   ]
  },
  {
   "cell_type": "code",
   "execution_count": 18,
   "metadata": {},
   "outputs": [
    {
     "data": {
      "text/plain": [
       "array([[ 0.81379765, -0.44096962,  0.37852228,  0.        ],\n",
       "       [ 0.46984631,  0.88256407,  0.0180283 ,  0.        ],\n",
       "       [-0.34202012,  0.16317591,  0.92541653,  0.        ],\n",
       "       [ 0.        ,  0.        ,  0.        ,  1.        ]])"
      ]
     },
     "execution_count": 18,
     "metadata": {},
     "output_type": "execute_result"
    }
   ],
   "source": [
    "t1 = pg.Transform3D()\n",
    "tr = pg.Transform3D()\n",
    "tr.rotate(10., 1., 0., 0.)\n",
    "t1 = tr * t1\n",
    "tr = pg.Transform3D()\n",
    "tr.rotate(20., 0., 1., 0.)\n",
    "t1 = tr * t1\n",
    "tr = pg.Transform3D()\n",
    "tr.rotate(30., 0., 0., 1.)\n",
    "t1 = tr * t1\n",
    "pg.Transform3D(t1).matrix()"
   ]
  },
  {
   "cell_type": "code",
   "execution_count": 25,
   "metadata": {},
   "outputs": [
    {
     "data": {
      "text/plain": [
       "array([[ 0.81379765, -0.44096962,  0.37852228,  0.        ],\n",
       "       [ 0.46984631,  0.88256407,  0.0180283 ,  0.        ],\n",
       "       [-0.34202012,  0.16317591,  0.92541653,  0.        ],\n",
       "       [ 0.        ,  0.        ,  0.        ,  1.        ]])"
      ]
     },
     "execution_count": 25,
     "metadata": {},
     "output_type": "execute_result"
    }
   ],
   "source": [
    "\n",
    "rx = pg.Transform3D()\n",
    "rx.rotate(10., 1., 0., 0.)\n",
    "ry = pg.Transform3D()\n",
    "ry.rotate(20., 0., 1., 0.)\n",
    "rz = pg.Transform3D()\n",
    "rz.rotate(30., 0., 0., 1.)\n",
    "rot = rz*ry*rx\n",
    "pg.Transform3D(rot).matrix()"
   ]
  },
  {
   "cell_type": "code",
   "execution_count": 26,
   "metadata": {},
   "outputs": [],
   "source": [
    "rot.translate(1,2,3)"
   ]
  },
  {
   "cell_type": "code",
   "execution_count": 27,
   "metadata": {},
   "outputs": [
    {
     "data": {
      "text/plain": [
       "array([[ 0.81379765, -0.44096962,  0.37852228,  1.06742525],\n",
       "       [ 0.46984631,  0.88256407,  0.0180283 ,  2.2890594 ],\n",
       "       [-0.34202012,  0.16317591,  0.92541653,  2.76058125],\n",
       "       [ 0.        ,  0.        ,  0.        ,  1.        ]])"
      ]
     },
     "execution_count": 27,
     "metadata": {},
     "output_type": "execute_result"
    }
   ],
   "source": [
    "pg.Transform3D(rot).matrix()"
   ]
  },
  {
   "cell_type": "code",
   "execution_count": 28,
   "metadata": {},
   "outputs": [],
   "source": [
    "def gui_to_transform3d(vloc, vrot) -> pg.Transform3D:\n",
    "    \"\"\"\n",
    "    takes the vectors from the gui elements (rot in degrees) and\n",
    "    returns the corresponding Transform3D object\n",
    "    sets the (euler) angles in order xyz and uses multiplication order to match the\n",
    "    Blender mathutils Euler.to_matrix method\n",
    "    \"\"\"\n",
    "    # vloc = [grand_kid.value() for grand_kid in loc]\n",
    "    # vrot = [grand_kid.value() for grand_kid in rot]\n",
    "    rx = pg.Transform3D()\n",
    "    rx.rotate(vrot[0], 1.0, 0.0, 0.0)\n",
    "    ry = pg.Transform3D()\n",
    "    ry.rotate(vrot[1], 0.0, 1.0, 0.0)\n",
    "    rz = pg.Transform3D()\n",
    "    rz.rotate(vrot[2], 0.0, 0.0, 1.0)\n",
    "    rot = rz * ry * rx\n",
    "    txyz = pg.Transform3D()\n",
    "    txyz.translate(*vloc)\n",
    "    mat = pg.Transform3D(txyz * rz * ry * rx)\n",
    "    return mat"
   ]
  },
  {
   "cell_type": "code",
   "execution_count": 30,
   "metadata": {},
   "outputs": [
    {
     "data": {
      "text/plain": [
       "array([[ 0.81379765, -0.44096962,  0.37852228,  1.        ],\n",
       "       [ 0.46984631,  0.88256407,  0.0180283 ,  2.        ],\n",
       "       [-0.34202012,  0.16317591,  0.92541653,  3.        ],\n",
       "       [ 0.        ,  0.        ,  0.        ,  1.        ]])"
      ]
     },
     "execution_count": 30,
     "metadata": {},
     "output_type": "execute_result"
    }
   ],
   "source": [
    "mat = gui_to_transform3d([1, 2, 3], [10,20,30])\n",
    "mat.matrix()"
   ]
  },
  {
   "cell_type": "code",
   "execution_count": 31,
   "metadata": {},
   "outputs": [
    {
     "ename": "TypeError",
     "evalue": "unsupported operand type(s) for @: 'Transform3D' and 'Transform3D'",
     "output_type": "error",
     "traceback": [
      "\u001b[0;31m---------------------------------------------------------------------------\u001b[0m",
      "\u001b[0;31mTypeError\u001b[0m                                 Traceback (most recent call last)",
      "Cell \u001b[0;32mIn[31], line 1\u001b[0m\n\u001b[0;32m----> 1\u001b[0m \u001b[43mrx\u001b[49m\u001b[43m \u001b[49m\u001b[38;5;241;43m@\u001b[39;49m\u001b[43m \u001b[49m\u001b[43mry\u001b[49m\n",
      "\u001b[0;31mTypeError\u001b[0m: unsupported operand type(s) for @: 'Transform3D' and 'Transform3D'"
     ]
    }
   ],
   "source": [
    "rx @ ry"
   ]
  },
  {
   "cell_type": "code",
   "execution_count": 33,
   "metadata": {},
   "outputs": [],
   "source": [
    "from pyqtgraph.Qt.QtGui import QVector3D"
   ]
  },
  {
   "cell_type": "code",
   "execution_count": null,
   "metadata": {},
   "outputs": [],
   "source": []
  }
 ],
 "metadata": {
  "kernelspec": {
   "display_name": ".venv",
   "language": "python",
   "name": "python3"
  },
  "language_info": {
   "codemirror_mode": {
    "name": "ipython",
    "version": 3
   },
   "file_extension": ".py",
   "mimetype": "text/x-python",
   "name": "python",
   "nbconvert_exporter": "python",
   "pygments_lexer": "ipython3",
   "version": "3.11.9"
  }
 },
 "nbformat": 4,
 "nbformat_minor": 2
}
