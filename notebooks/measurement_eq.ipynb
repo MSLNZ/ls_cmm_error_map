{
 "cells": [
  {
   "cell_type": "code",
   "execution_count": 3,
   "metadata": {},
   "outputs": [],
   "source": [
    "import copy\n",
    "import numpy as np\n",
    "import cmm_error_map.config as cf\n",
    "import cmm_error_map.data_cmpts as dc"
   ]
  },
  {
   "cell_type": "code",
   "execution_count": 4,
   "metadata": {},
   "outputs": [],
   "source": [
    "ballspacing = 133.0\n",
    "x0, y0, z0 = 250.0, 50.0, 50.0\n",
    "transform_mat_xz = dc.matrix_from_vectors(\n",
    "    [x0, y0 + 2.0 * ballspacing, z0],\n",
    "    [90.0, 0.0, 0.0],\n",
    ")\n",
    "xt_xz, yt_xz, zt_xz = 0.0, 130.0, -243.4852\n",
    "prb_xz = dc.Probe(title=\"P0\", name=\"p0\", length=np.array([xt_xz, yt_xz, zt_xz]))\n",
    "mmt = dc.Measurement(\n",
    "    title=\"Plate XZ\",\n",
    "    name=\"mmt_01\",\n",
    "    artefact=cf.artefact_models[\"KOBA 0620\"],\n",
    "    transform_mat=transform_mat_xz,\n",
    "    probe=prb_xz,\n",
    "    cmm_nominal=None,\n",
    "    cmm_dev=None,\n",
    "    mmt_nominal=None,\n",
    "    mmt_dev=None,\n",
    ")"
   ]
  },
  {
   "cell_type": "code",
   "execution_count": 6,
   "metadata": {},
   "outputs": [
    {
     "data": {
      "text/plain": [
       "True"
      ]
     },
     "execution_count": 6,
     "metadata": {},
     "output_type": "execute_result"
    }
   ],
   "source": [
    "mmt1 = copy.deepcopy(mmt)\n",
    "mmt1 == mmt"
   ]
  },
  {
   "cell_type": "code",
   "execution_count": null,
   "metadata": {},
   "outputs": [
    {
     "data": {
      "text/plain": [
       "'p0'"
      ]
     },
     "execution_count": 7,
     "metadata": {},
     "output_type": "execute_result"
    }
   ],
   "source": [
    "mmt1.probe.name = \"wrong\"\n",
    "mmt.probe.name"
   ]
  },
  {
   "cell_type": "code",
   "execution_count": 8,
   "metadata": {},
   "outputs": [
    {
     "data": {
      "text/plain": [
       "False"
      ]
     },
     "execution_count": 8,
     "metadata": {},
     "output_type": "execute_result"
    }
   ],
   "source": [
    "mmt1 == mmt"
   ]
  }
 ],
 "metadata": {
  "kernelspec": {
   "display_name": ".venv",
   "language": "python",
   "name": "python3"
  },
  "language_info": {
   "codemirror_mode": {
    "name": "ipython",
    "version": 3
   },
   "file_extension": ".py",
   "mimetype": "text/x-python",
   "name": "python",
   "nbconvert_exporter": "python",
   "pygments_lexer": "ipython3",
   "version": "3.11.9"
  }
 },
 "nbformat": 4,
 "nbformat_minor": 2
}
