{
 "cells": [
  {
   "cell_type": "markdown",
   "metadata": {},
   "source": [
    "Developing `Measurement.to_csv`"
   ]
  },
  {
   "cell_type": "code",
   "execution_count": 85,
   "metadata": {},
   "outputs": [],
   "source": [
    "from pathlib import Path\n",
    "import numpy as np\n",
    "from cmm_error_map import data_cmpts as dc\n",
    "import cmm_error_map.config.config as cf\n",
    "from cmm_error_map import gui_cmpts as gc\n",
    "import datetime as dt"
   ]
  },
  {
   "cell_type": "code",
   "execution_count": 9,
   "metadata": {},
   "outputs": [],
   "source": [
    "cmm = dc.pmm_866\n",
    "p0 = dc.Probe(title=\"P0\", name=\"p0\", length=np.array([0,0,0]))\n",
    "mmt = dc.Measurement(\n",
    "    title=\"m1\",\n",
    "    name=\"mmt_00\",\n",
    "    artefact=cf.artefact_models['KOBA 0620'],\n",
    "    transform_mat=np.identity(4),\n",
    "    probe=p0,\n",
    "    cmm_nominal=None,\n",
    "    cmm_dev=None,\n",
    "    mmt_nominal=None,\n",
    "    mmt_dev=None,\n",
    ")\n",
    "model_params = dc.model_parameters_test.copy()\n",
    "mmt.recalculate(model_params, cmm.cmm_model)"
   ]
  },
  {
   "cell_type": "code",
   "execution_count": 77,
   "metadata": {},
   "outputs": [],
   "source": [
    "header = \"\"\n",
    "now = dt.datetime.now().isoformat(sep=\" \")\n",
    "header += f\"save time,{now}\\n\"\n",
    "header += f\"title,{mmt.title}\\n\"\n",
    "header += f\"name,{mmt.name}\\n\"\n",
    "header += f\"artefact.title,{mmt.artefact.title}\\n\"\n",
    "header += f\"artefact.nballs,{mmt.artefact.nballs[0]},{mmt.artefact.nballs[0]} \\n\"\n",
    "header += f\"artefact.ball_spacing,{mmt.artefact.ball_spacing}\\n\""
   ]
  },
  {
   "cell_type": "code",
   "execution_count": 78,
   "metadata": {},
   "outputs": [],
   "source": [
    "vloc, vrot = gc.matrix_to_vectors(mmt.transform_mat)\n",
    "header += f\"location,{vloc[0]}, {vloc[1]}, {vloc[2]}\\n\"\n",
    "header += f\"rotation/deg,{vrot[0]}, {vrot[1]}, {vrot[2]}\\n\"\n"
   ]
  },
  {
   "cell_type": "code",
   "execution_count": 79,
   "metadata": {},
   "outputs": [],
   "source": [
    "header += f\"probe.title,{mmt.probe.title}\\n\"\n",
    "header += f\"probe.name,{mmt.probe.name}\\n\"\n",
    "header += f\"probe.length,{mmt.probe.length[0]},{mmt.probe.length[1]},{mmt.probe.length[2]}\\n\"\n",
    "header += \"id,\"\n",
    "header += \"mmt_x,mmt_y,mmt_z,\"\n",
    "header += \"cmm_nom_x,cmm_nom_y,cmm_nom_z,\"\n",
    "header += \"cmm_dev_x,cmm_dev_y,cmm_dev_z,\"\n",
    "header += \"mmt_nom_x,mmt_nom_y,mmt_nom_z,\"\n",
    "header += \"mmt_dev_x,mmt_dev_y,mmt_dev_z,\"\n",
    "header += \"\\n\"\n"
   ]
  },
  {
   "cell_type": "code",
   "execution_count": 80,
   "metadata": {},
   "outputs": [
    {
     "name": "stdout",
     "output_type": "stream",
     "text": [
      "save time,2024-11-13 14:27:25.767613\n",
      "title,m1\n",
      "name,mmt_00\n",
      "artefact.title,KOBA 0620\n",
      "artefact.nballs,5,5 \n",
      "artefact.ball_spacing,133.0\n",
      "location,0.0, 0.0, 0.0\n",
      "rotation/deg,0.0, 0.0, 0.0\n",
      "probe.title,P0\n",
      "probe.name,p0\n",
      "probe.length,0,0,0\n",
      "id,mmt_x,mmt_y,mmt_z,cmm_nom_x,cmm_nom_y,cmm_nom_z,cmm_dev_x,cmm_dev_y,cmm_dev_z,mmt_nom_x,mmt_nom_y,mmt_nom_z,mmt_dev_x,mmt_dev_y,mmt_dev_z,\n",
      "\n"
     ]
    }
   ],
   "source": [
    "print(header)"
   ]
  },
  {
   "cell_type": "code",
   "execution_count": 16,
   "metadata": {},
   "outputs": [
    {
     "data": {
      "text/plain": [
       "(3,)"
      ]
     },
     "execution_count": 16,
     "metadata": {},
     "output_type": "execute_result"
    }
   ],
   "source": [
    "vloc.shape"
   ]
  },
  {
   "cell_type": "code",
   "execution_count": 74,
   "metadata": {},
   "outputs": [],
   "source": [
    "from io import StringIO\n",
    "buffer = StringIO()\n"
   ]
  },
  {
   "cell_type": "code",
   "execution_count": 73,
   "metadata": {},
   "outputs": [],
   "source": [
    "np_out = mmt.mmt_nominal + mmt.mmt_dev\n",
    "np_out = np.vstack((np_out, mmt.cmm_nominal, mmt.cmm_dev, mmt.mmt_nominal, mmt.mmt_dev))\n",
    "np_out = np.vstack((np.arange(25), np_out))"
   ]
  },
  {
   "cell_type": "code",
   "execution_count": 75,
   "metadata": {},
   "outputs": [],
   "source": [
    "np.savetxt(buffer, np_out.T, delimiter=',', fmt=[\"%d\"]+ [\"%.5f\"]*15)"
   ]
  },
  {
   "cell_type": "code",
   "execution_count": 76,
   "metadata": {},
   "outputs": [
    {
     "name": "stdout",
     "output_type": "stream",
     "text": [
      "0,0.00000,0.00000,0.00000,0.00000,0.00000,0.00000,0.00000,0.00000,0.00000,0.00000,0.00000,0.00000,0.00000,0.00000,0.00000\n",
      "1,133.00177,-0.00027,0.00082,133.00000,0.00000,0.00000,0.00177,0.00009,-0.00027,133.00000,0.00000,0.00000,0.00177,-0.00027,0.00082\n",
      "2,266.00354,-0.00035,0.00109,266.00000,0.00000,0.00000,0.00354,0.00035,-0.00109,266.00000,0.00000,0.00000,0.00354,-0.00035,0.00109\n",
      "3,399.00531,-0.00027,0.00082,399.00000,0.00000,0.00000,0.00531,0.00080,-0.00245,399.00000,0.00000,0.00000,0.00531,-0.00027,0.00082\n",
      "4,532.00708,0.00000,-0.00000,532.00000,0.00000,0.00000,0.00708,0.00142,-0.00436,532.00000,0.00000,0.00000,0.00708,0.00000,-0.00000\n",
      "5,0.00000,132.99932,0.00000,0.00000,133.00000,0.00000,-0.00149,-0.00068,0.00000,0.00000,133.00000,0.00000,0.00000,-0.00068,0.00000\n",
      "6,133.00168,132.99906,0.00095,133.00000,133.00000,0.00000,0.00019,-0.00059,-0.00014,133.00000,133.00000,0.00000,0.00168,-0.00094,0.00095\n",
      "7,266.00336,132.99897,0.00135,266.00000,133.00000,0.00000,0.00187,-0.00032,-0.00082,266.00000,133.00000,0.00000,0.00336,-0.00103,0.00135\n",
      "8,399.00504,132.99906,0.00121,399.00000,133.00000,0.00000,0.00355,0.00012,-0.00205,399.00000,133.00000,0.00000,0.00504,-0.00094,0.00121\n",
      "9,532.00672,132.99932,0.00053,532.00000,133.00000,0.00000,0.00523,0.00074,-0.00383,532.00000,133.00000,0.00000,0.00672,-0.00068,0.00053\n",
      "10,0.00000,265.99865,0.00000,0.00000,266.00000,0.00000,-0.00298,-0.00135,0.00000,0.00000,266.00000,0.00000,0.00000,-0.00135,0.00000\n",
      "11,133.00159,265.99838,0.00108,133.00000,266.00000,0.00000,-0.00139,-0.00127,-0.00001,133.00000,266.00000,0.00000,0.00159,-0.00162,0.00108\n",
      "12,266.00318,265.99829,0.00162,266.00000,266.00000,0.00000,0.00020,-0.00100,-0.00056,266.00000,266.00000,0.00000,0.00318,-0.00171,0.00162\n",
      "13,399.00478,265.99838,0.00161,399.00000,266.00000,0.00000,0.00180,-0.00056,-0.00166,399.00000,266.00000,0.00000,0.00478,-0.00162,0.00161\n",
      "14,532.00637,265.99865,0.00106,532.00000,266.00000,0.00000,0.00339,0.00006,-0.00330,532.00000,266.00000,0.00000,0.00637,-0.00135,0.00106\n",
      "15,0.00000,398.99797,0.00000,0.00000,399.00000,0.00000,-0.00447,-0.00203,0.00000,0.00000,399.00000,0.00000,0.00000,-0.00203,0.00000\n",
      "16,133.00150,398.99770,0.00121,133.00000,399.00000,0.00000,-0.00297,-0.00194,0.00013,133.00000,399.00000,0.00000,0.00150,-0.00230,0.00121\n",
      "17,266.00301,398.99762,0.00188,266.00000,399.00000,0.00000,-0.00146,-0.00168,-0.00029,266.00000,399.00000,0.00000,0.00301,-0.00238,0.00188\n",
      "18,399.00451,398.99770,0.00201,399.00000,399.00000,0.00000,0.00004,-0.00123,-0.00126,399.00000,399.00000,0.00000,0.00451,-0.00230,0.00201\n",
      "19,532.00601,398.99797,0.00159,532.00000,399.00000,0.00000,0.00155,-0.00062,-0.00277,532.00000,399.00000,0.00000,0.00601,-0.00203,0.00159\n",
      "20,0.00000,531.99729,0.00000,0.00000,532.00000,0.00000,-0.00596,-0.00271,0.00000,0.00000,532.00000,0.00000,0.00000,-0.00271,0.00000\n",
      "21,133.00142,531.99703,0.00135,133.00000,532.00000,0.00000,-0.00454,-0.00262,0.00026,133.00000,532.00000,0.00000,0.00142,-0.00297,0.00135\n",
      "22,266.00283,531.99694,0.00215,266.00000,532.00000,0.00000,-0.00313,-0.00235,-0.00003,266.00000,532.00000,0.00000,0.00283,-0.00306,0.00215\n",
      "23,399.00425,531.99703,0.00241,399.00000,532.00000,0.00000,-0.00171,-0.00191,-0.00086,399.00000,532.00000,0.00000,0.00425,-0.00297,0.00241\n",
      "24,532.00566,531.99729,0.00212,532.00000,532.00000,0.00000,-0.00030,-0.00129,-0.00224,532.00000,532.00000,0.00000,0.00566,-0.00271,0.00212\n",
      "\n"
     ]
    }
   ],
   "source": [
    "print(buffer.getvalue())"
   ]
  },
  {
   "cell_type": "code",
   "execution_count": 82,
   "metadata": {},
   "outputs": [],
   "source": [
    "with open(\"/home/elfnor/Desktop/test.csv\", \"w\") as fp:\n",
    "    fp.write(header)\n",
    "    np.savetxt(fp, np_out.T, delimiter=',', fmt=[\"%d\"]+ [\"%.5f\"]*15)"
   ]
  },
  {
   "cell_type": "code",
   "execution_count": 98,
   "metadata": {},
   "outputs": [],
   "source": [
    "fn = Path(\"/home/elfnor/Desktop/test.csv\")\n",
    "\n"
   ]
  },
  {
   "cell_type": "code",
   "execution_count": 89,
   "metadata": {},
   "outputs": [],
   "source": [
    "dc.mmt_to_full_data_csv(fn, mmt)"
   ]
  },
  {
   "cell_type": "code",
   "execution_count": 93,
   "metadata": {},
   "outputs": [
    {
     "name": "stdout",
     "output_type": "stream",
     "text": [
      "Txx,1.33e-05\n",
      "Txy,0.0\n",
      "Txz,0.0\n",
      "Tyx,-1.12e-05\n",
      "Tyy,-5.09e-06\n",
      "Tyz,0.0\n",
      "Tzx,2.6e-05\n",
      "Tzy,4.6e-06\n",
      "Tzz,3.34e-08\n",
      "Rxx,7.49e-09\n",
      "Rxy,1.54e-08\n",
      "Rxz,5e-09\n",
      "Ryx,-4.58e-09\n",
      "Ryy,-1.43e-08\n",
      "Ryz,2.19e-08\n",
      "Rzx,2.49e-09\n",
      "Rzy,-7.94e-10\n",
      "Rzz,4.78e-08\n",
      "Wxy,0.0\n",
      "Wxz,0.0\n",
      "Wyz,0.0\n",
      "\n"
     ]
    }
   ],
   "source": [
    "header = \"\"\n",
    "for key, value in model_params.items():\n",
    "    header += f\"{key},{value}\\n\"\n",
    "print(header)\n"
   ]
  },
  {
   "cell_type": "code",
   "execution_count": 99,
   "metadata": {},
   "outputs": [],
   "source": [
    "dc.mmt_snapshot_to_csv(fn, mmt)"
   ]
  },
  {
   "cell_type": "code",
   "execution_count": 101,
   "metadata": {},
   "outputs": [
    {
     "data": {
      "text/plain": [
       "['save time,2024-11-13 16:06:40.254480',\n",
       " 'title,m1',\n",
       " 'artefact.title,KOBA 0620',\n",
       " 'artefact.nballs,5,5 ',\n",
       " 'artefact.ball_spacing,133.0',\n",
       " 'location,0.0, 0.0, 0.0',\n",
       " 'rotation/deg,0.0, 0.0, 0.0',\n",
       " 'id,mmt_x,mmt_y,mmt_z',\n",
       " '0,0.00000,0.00000,0.00000',\n",
       " '1,133.00177,-0.00027,0.00082',\n",
       " '2,266.00354,-0.00035,0.00109',\n",
       " '3,399.00531,-0.00027,0.00082',\n",
       " '4,532.00708,0.00000,-0.00000',\n",
       " '5,0.00000,132.99932,0.00000',\n",
       " '6,133.00168,132.99906,0.00095',\n",
       " '7,266.00336,132.99897,0.00135',\n",
       " '8,399.00504,132.99906,0.00121',\n",
       " '9,532.00672,132.99932,0.00053',\n",
       " '10,0.00000,265.99865,0.00000',\n",
       " '11,133.00159,265.99838,0.00108',\n",
       " '12,266.00318,265.99829,0.00162',\n",
       " '13,399.00478,265.99838,0.00161',\n",
       " '14,532.00637,265.99865,0.00106',\n",
       " '15,0.00000,398.99797,0.00000',\n",
       " '16,133.00150,398.99770,0.00121',\n",
       " '17,266.00301,398.99762,0.00188',\n",
       " '18,399.00451,398.99770,0.00201',\n",
       " '19,532.00601,398.99797,0.00159',\n",
       " '20,0.00000,531.99729,0.00000',\n",
       " '21,133.00142,531.99703,0.00135',\n",
       " '22,266.00283,531.99694,0.00215',\n",
       " '23,399.00425,531.99703,0.00241',\n",
       " '24,532.00566,531.99729,0.00212']"
      ]
     },
     "execution_count": 101,
     "metadata": {},
     "output_type": "execute_result"
    }
   ],
   "source": [
    "snapshot_txt = fn.read_text()\n",
    "snapshot_txt.splitlines()"
   ]
  },
  {
   "cell_type": "code",
   "execution_count": 102,
   "metadata": {},
   "outputs": [],
   "source": [
    "import csv"
   ]
  },
  {
   "cell_type": "code",
   "execution_count": 124,
   "metadata": {},
   "outputs": [],
   "source": [
    "ss_dict ={}\n",
    "mmtxyz=[]\n",
    "with open(fn) as fp:\n",
    "    snapshot = csv.reader(fp,delimiter=',')\n",
    "\n",
    "    for row in snapshot:\n",
    "        if row[0] == \"id\":\n",
    "            break\n",
    "        ss_dict[row[0]] = row[1:]\n",
    "    for row in snapshot:\n",
    "        mmtxyz.append([float(row[0]),float(row[1]), float(row[2])])\n",
    "mmtxyz = np.array(mmtxyz)"
   ]
  },
  {
   "cell_type": "code",
   "execution_count": 125,
   "metadata": {},
   "outputs": [
    {
     "data": {
      "text/plain": [
       "{'save time': ['2024-11-13 16:06:40.254480'],\n",
       " 'title': ['m1'],\n",
       " 'artefact.title': ['KOBA 0620'],\n",
       " 'artefact.nballs': ['5', '5 '],\n",
       " 'artefact.ball_spacing': ['133.0'],\n",
       " 'location': ['0.0', ' 0.0', ' 0.0'],\n",
       " 'rotation/deg': ['0.0', ' 0.0', ' 0.0']}"
      ]
     },
     "execution_count": 125,
     "metadata": {},
     "output_type": "execute_result"
    }
   ],
   "source": [
    "ss_dict"
   ]
  },
  {
   "cell_type": "code",
   "execution_count": 126,
   "metadata": {},
   "outputs": [
    {
     "data": {
      "text/plain": [
       "array([[ 0.0000000e+00,  0.0000000e+00,  0.0000000e+00],\n",
       "       [ 1.0000000e+00,  1.3300177e+02, -2.7000000e-04],\n",
       "       [ 2.0000000e+00,  2.6600354e+02, -3.5000000e-04],\n",
       "       [ 3.0000000e+00,  3.9900531e+02, -2.7000000e-04],\n",
       "       [ 4.0000000e+00,  5.3200708e+02,  0.0000000e+00],\n",
       "       [ 5.0000000e+00,  0.0000000e+00,  1.3299932e+02],\n",
       "       [ 6.0000000e+00,  1.3300168e+02,  1.3299906e+02],\n",
       "       [ 7.0000000e+00,  2.6600336e+02,  1.3299897e+02],\n",
       "       [ 8.0000000e+00,  3.9900504e+02,  1.3299906e+02],\n",
       "       [ 9.0000000e+00,  5.3200672e+02,  1.3299932e+02],\n",
       "       [ 1.0000000e+01,  0.0000000e+00,  2.6599865e+02],\n",
       "       [ 1.1000000e+01,  1.3300159e+02,  2.6599838e+02],\n",
       "       [ 1.2000000e+01,  2.6600318e+02,  2.6599829e+02],\n",
       "       [ 1.3000000e+01,  3.9900478e+02,  2.6599838e+02],\n",
       "       [ 1.4000000e+01,  5.3200637e+02,  2.6599865e+02],\n",
       "       [ 1.5000000e+01,  0.0000000e+00,  3.9899797e+02],\n",
       "       [ 1.6000000e+01,  1.3300150e+02,  3.9899770e+02],\n",
       "       [ 1.7000000e+01,  2.6600301e+02,  3.9899762e+02],\n",
       "       [ 1.8000000e+01,  3.9900451e+02,  3.9899770e+02],\n",
       "       [ 1.9000000e+01,  5.3200601e+02,  3.9899797e+02],\n",
       "       [ 2.0000000e+01,  0.0000000e+00,  5.3199729e+02],\n",
       "       [ 2.1000000e+01,  1.3300142e+02,  5.3199703e+02],\n",
       "       [ 2.2000000e+01,  2.6600283e+02,  5.3199694e+02],\n",
       "       [ 2.3000000e+01,  3.9900425e+02,  5.3199703e+02],\n",
       "       [ 2.4000000e+01,  5.3200566e+02,  5.3199729e+02]])"
      ]
     },
     "execution_count": 126,
     "metadata": {},
     "output_type": "execute_result"
    }
   ],
   "source": [
    "mmtxyz"
   ]
  },
  {
   "cell_type": "code",
   "execution_count": 114,
   "metadata": {},
   "outputs": [],
   "source": [
    "import cmm_error_map.config.config as cf"
   ]
  },
  {
   "cell_type": "code",
   "execution_count": 115,
   "metadata": {},
   "outputs": [
    {
     "data": {
      "text/plain": [
       "ArtefactType(title='KOBA 0620', nballs=(5, 5), ball_spacing=133.0)"
      ]
     },
     "execution_count": 115,
     "metadata": {},
     "output_type": "execute_result"
    }
   ],
   "source": [
    "artefact = dc.ArtefactType(title=ss_dict['artefact.title'][0],\n",
    "                    nballs=(int(ss_dict['artefact.nballs'][0]),int(ss_dict['artefact.nballs'][1]) ),\n",
    "                    ball_spacing = float(ss_dict['artefact.ball_spacing'][0])\n",
    ")\n",
    "artefact"
   ]
  },
  {
   "cell_type": "code",
   "execution_count": 117,
   "metadata": {},
   "outputs": [
    {
     "data": {
      "text/plain": [
       "[0.0, 0.0, 0.0]"
      ]
     },
     "execution_count": 117,
     "metadata": {},
     "output_type": "execute_result"
    }
   ],
   "source": [
    "vloc = [float(s) for s in ss_dict['location']]\n",
    "vrot = [float(s) for s in ss_dict['rotation/deg']]\n"
   ]
  },
  {
   "cell_type": "code",
   "execution_count": 129,
   "metadata": {},
   "outputs": [],
   "source": [
    "mmt2 = dc.mmt_from_snapshot_csv(fn)"
   ]
  },
  {
   "cell_type": "code",
   "execution_count": 130,
   "metadata": {},
   "outputs": [
    {
     "data": {
      "text/plain": [
       "ArtefactType(title='KOBA 0620', nballs=(5, 5), ball_spacing=133.0)"
      ]
     },
     "execution_count": 130,
     "metadata": {},
     "output_type": "execute_result"
    }
   ],
   "source": [
    "mmt2.artefact"
   ]
  },
  {
   "cell_type": "code",
   "execution_count": 132,
   "metadata": {},
   "outputs": [
    {
     "data": {
      "text/plain": [
       "(3, 25)"
      ]
     },
     "execution_count": 132,
     "metadata": {},
     "output_type": "execute_result"
    }
   ],
   "source": [
    "mmt2.mmt_dev.shape"
   ]
  },
  {
   "cell_type": "code",
   "execution_count": 96,
   "metadata": {},
   "outputs": [],
   "source": [
    "machine= dc.pmm_866\n",
    "dc.mmt_metadata_to_csv(fn, mmt,machine)"
   ]
  }
 ],
 "metadata": {
  "kernelspec": {
   "display_name": ".venv",
   "language": "python",
   "name": "python3"
  },
  "language_info": {
   "codemirror_mode": {
    "name": "ipython",
    "version": 3
   },
   "file_extension": ".py",
   "mimetype": "text/x-python",
   "name": "python",
   "nbconvert_exporter": "python",
   "pygments_lexer": "ipython3",
   "version": "3.11.9"
  }
 },
 "nbformat": 4,
 "nbformat_minor": 2
}
