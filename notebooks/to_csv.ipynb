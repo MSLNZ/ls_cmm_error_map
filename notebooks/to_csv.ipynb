{
 "cells": [
  {
   "cell_type": "markdown",
   "metadata": {},
   "source": [
    "Developing `Measurement.to_csv`"
   ]
  },
  {
   "cell_type": "code",
   "execution_count": 9,
   "metadata": {},
   "outputs": [],
   "source": [
    "import numpy as np\n",
    "from cmm_error_map import data_cmpts as dc\n",
    "import cmm_error_map.config.config as cf\n",
    "import datetime as dt"
   ]
  },
  {
   "cell_type": "code",
   "execution_count": 5,
   "metadata": {},
   "outputs": [],
   "source": [
    "cmm = dc.pmm_866\n",
    "p0 = dc.Probe(title=\"P0\", name=\"p0\", length=np.array([0,0,0]))\n",
    "mmt = dc.Measurement(\n",
    "    title=\"m1\",\n",
    "    name=\"mmt_00\",\n",
    "    artefact=cf.artefact_models['KOBA 0620'],\n",
    "    transform_mat=np.identity(4),\n",
    "    probe=p0,\n",
    "    cmm_nominal=None,\n",
    "    cmm_dev=None,\n",
    "    mmt_nominal=None,\n",
    "    mmt_dev=None,\n",
    ")\n",
    "model_params = dc.model_parameters_test.copy()\n",
    "mmt.recalculate(model_params, cmm.cmm_model)"
   ]
  },
  {
   "cell_type": "code",
   "execution_count": 16,
   "metadata": {},
   "outputs": [],
   "source": [
    "header = \"\"\n",
    "now = dt.datetime.now().isoformat(sep=\" \")\n",
    "header += f\"save time,{now}\\n\"\n",
    "header += f\"title,{mmt.title}\\n\"\n",
    "header += f\"name,{mmt.name}\\n\"\n",
    "header += f\"artefact,{mmt.artefact.title}\\n\"\n",
    "header += f\"artefact.nballs,{mmt.artefact.nballs[0]},{mmt.artefact.nballs[0]} \\n\"\n",
    "header += f\"artefact.ball_spacing,{mmt.artefact.ball_spacing}\\n\"\n",
    "\n",
    "\n",
    "\n"
   ]
  },
  {
   "cell_type": "code",
   "execution_count": 17,
   "metadata": {},
   "outputs": [
    {
     "name": "stdout",
     "output_type": "stream",
     "text": [
      "save time,2024-11-13 10:07:27.821390\n",
      "title,m1\n",
      "name,mmt_00\n",
      "artefact,KOBA 0620\n",
      "artefact.nballs,5,5 \n",
      "\n"
     ]
    }
   ],
   "source": [
    "print(header)"
   ]
  },
  {
   "cell_type": "code",
   "execution_count": null,
   "metadata": {},
   "outputs": [],
   "source": []
  }
 ],
 "metadata": {
  "kernelspec": {
   "display_name": ".venv",
   "language": "python",
   "name": "python3"
  },
  "language_info": {
   "codemirror_mode": {
    "name": "ipython",
    "version": 3
   },
   "file_extension": ".py",
   "mimetype": "text/x-python",
   "name": "python",
   "nbconvert_exporter": "python",
   "pygments_lexer": "ipython3",
   "version": "3.11.9"
  }
 },
 "nbformat": 4,
 "nbformat_minor": 2
}
