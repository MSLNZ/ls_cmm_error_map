{
 "cells": [
  {
   "cell_type": "markdown",
   "metadata": {},
   "source": [
    "# Poly model\n",
    "Working on a version of `design_linear.py` that takes a numpy  Polynomial class (or a list of coefficients) instead of a single value to apply linaerly as m * x + 0.0"
   ]
  },
  {
   "cell_type": "code",
   "execution_count": 11,
   "metadata": {},
   "outputs": [],
   "source": [
    "import numpy as np\n",
    "from numpy.polynomial import Polynomial\n",
    "\n",
    "import cmm_error_map.design_poly as designp\n",
    "import cmm_error_map.design_linear as designl\n",
    "import cmm_error_map.data_cmpts as dc\n",
    "import cmm_error_map.config.config as cf"
   ]
  },
  {
   "cell_type": "code",
   "execution_count": 12,
   "metadata": {},
   "outputs": [],
   "source": [
    "model_params = dc.model_parameters_test.copy()\n"
   ]
  },
  {
   "cell_type": "code",
   "execution_count": 13,
   "metadata": {},
   "outputs": [],
   "source": [
    "coeffs = {\n",
    "    key: value if isinstance(value, list) else [0.0, value]\n",
    "    for key, value in model_params.items()\n",
    "}\n",
    "polys = {key: Polynomial(coeffs[key]) for key in model_params}"
   ]
  },
  {
   "cell_type": "code",
   "execution_count": 14,
   "metadata": {},
   "outputs": [],
   "source": [
    "xyz_in = np.array([10.0, 20.0, 30.0])\n",
    "xyzt = np.array([0.0, 0.0, -250.0])"
   ]
  },
  {
   "cell_type": "code",
   "execution_count": 15,
   "metadata": {},
   "outputs": [
    {
     "data": {
      "text/plain": [
       "{'Txx': 0.000133,\n",
       " 'Txy': 0.0,\n",
       " 'Txz': 0.0,\n",
       " 'Tyx': -0.000224,\n",
       " 'Tyy': -0.00010180000000000001,\n",
       " 'Tyz': 0.0,\n",
       " 'Tzx': 0.00078,\n",
       " 'Tzy': 0.000138,\n",
       " 'Tzz': 1.002e-06,\n",
       " 'Rxx': 7.489999999999999e-08,\n",
       " 'Rxy': 1.5399999999999998e-07,\n",
       " 'Rxz': 5e-08,\n",
       " 'Ryx': -9.16e-08,\n",
       " 'Ryy': -2.86e-07,\n",
       " 'Ryz': 4.3800000000000003e-07,\n",
       " 'Rzx': 7.47e-08,\n",
       " 'Rzy': -2.382e-08,\n",
       " 'Rzz': 1.434e-06,\n",
       " 'Wxy': 0.0,\n",
       " 'Wxz': 0.0,\n",
       " 'Wyz': 0.0}"
      ]
     },
     "execution_count": 15,
     "metadata": {},
     "output_type": "execute_result"
    }
   ],
   "source": [
    "designp.poly_dependency(xyz_in, polys)"
   ]
  },
  {
   "cell_type": "code",
   "execution_count": 16,
   "metadata": {},
   "outputs": [
    {
     "data": {
      "text/plain": [
       "array([7.22994912e-04, 5.17014183e-05, 9.60117688e-07])"
      ]
     },
     "execution_count": 16,
     "metadata": {},
     "output_type": "execute_result"
    }
   ],
   "source": [
    "designp.model_point(xyz_in, xyzt, polys)"
   ]
  },
  {
   "cell_type": "code",
   "execution_count": 18,
   "metadata": {},
   "outputs": [
    {
     "data": {
      "text/plain": [
       "array([7.22994912e-04, 5.17014183e-05, 9.60117688e-07])"
      ]
     },
     "execution_count": 18,
     "metadata": {},
     "output_type": "execute_result"
    }
   ],
   "source": [
    "designl.linear_model_point(xyz_in, xyzt, model_params)"
   ]
  },
  {
   "cell_type": "markdown",
   "metadata": {},
   "source": [
    "## profiling\n",
    "`design_poly.poly_dependency`"
   ]
  },
  {
   "cell_type": "code",
   "execution_count": 23,
   "metadata": {},
   "outputs": [],
   "source": [
    "%load_ext line_profiler"
   ]
  },
  {
   "cell_type": "code",
   "execution_count": 20,
   "metadata": {},
   "outputs": [],
   "source": [
    "ballspacing = 133.0\n",
    "x0, y0, z0 = 250.0, 50.0, 50.0\n",
    "# XY plane\n",
    "transform_mat_xy = dc.matrix_from_vectors([x0, y0, z0], [0.0, 0.0, 0.0])\n",
    "xt, yt, zt = 0.0, 0.0, -243.4852\n",
    "prb_xy = dc.Probe(title=\"P0\", name=\"p0\", length=np.array([xt, yt, zt]))\n",
    "mmt_xy = dc.Measurement(\n",
    "    title=\"Plate XY\",\n",
    "    name=\"mmt_00\",\n",
    "    artefact=cf.artefact_models[\"KOBA 0620\"],\n",
    "    transform_mat=transform_mat_xy,\n",
    "    probe=prb_xy,\n",
    "    cmm_nominal=None,\n",
    "    cmm_dev=None,\n",
    "    mmt_nominal=None,\n",
    "    mmt_dev=None,\n",
    ")\n",
    "mmt_xy.recalculate(model_params, dc.pmm_866.cmm_model)"
   ]
  },
  {
   "cell_type": "code",
   "execution_count": 21,
   "metadata": {},
   "outputs": [
    {
     "name": "stdout",
     "output_type": "stream",
     "text": [
      "4.36 ms ± 154 μs per loop (mean ± std. dev. of 7 runs, 100 loops each)\n"
     ]
    }
   ],
   "source": [
    "%timeit designp.model_matrix(mmt_xy.cmm_nominal.T, mmt_xy.probe.length, model)"
   ]
  },
  {
   "cell_type": "code",
   "execution_count": 24,
   "metadata": {},
   "outputs": [
    {
     "name": "stdout",
     "output_type": "stream",
     "text": [
      "Timer unit: 1e-09 s\n",
      "\n",
      "Total time: 0.0389952 s\n",
      "File: /home/elfnor/gits/ls_cmm_error_map/src/cmm_error_map/design_poly.py\n",
      "Function: model_point at line 81\n",
      "\n",
      "Line #      Hits         Time  Per Hit   % Time  Line Contents\n",
      "==============================================================\n",
      "    81                                           def model_point(\n",
      "    82                                               xyz_in: np.ndarray,  # (3,)\n",
      "    83                                               xyzt: np.ndarray,  # (3,)\n",
      "    84                                               model_polys: dict[str, Polynomial],\n",
      "    85                                               fixed_table=False,\n",
      "    86                                               bridge_axis=1,\n",
      "    87                                           ):\n",
      "    88                                               \"\"\" \"\"\"\n",
      "    89        25      57381.0   2295.2      0.1      if not fixed_table:\n",
      "    90                                                   # table movement is in opposite direction to probe position for a moving table\n",
      "    91        25      56662.0   2266.5      0.1          dirn = [1, 1, 1]\n",
      "    92        25     130437.0   5217.5      0.3          table_axis = int(not bridge_axis)\n",
      "    93        25      52828.0   2113.1      0.1          dirn[table_axis] = -1\n",
      "    94        25    1493557.0  59742.3      3.8          xyz = xyz_in * dirn\n",
      "    95                                               else:\n",
      "    96                                                   xyz = xyz_in\n",
      "    97                                           \n",
      "    98        25   22293801.0 891752.0     57.2      pl = poly_dependency(xyz, model_polys)\n",
      "    99                                               # rotation\n",
      "   100                                               # small angle approximations used\n",
      "   101        50     774043.0  15480.9      2.0      rxl = np.array(\n",
      "   102        25      23687.0    947.5      0.1          [\n",
      "   103        25      98549.0   3942.0      0.3              [1.0, pl[\"Rxz\"], -pl[\"Rxy\"]],\n",
      "   104        25      58616.0   2344.6      0.2              [-pl[\"Rxz\"], 1.0, pl[\"Rxx\"]],\n",
      "   105        25      47896.0   1915.8      0.1              [pl[\"Rxy\"], -pl[\"Rxx\"], 1.0],\n",
      "   106                                                   ]\n",
      "   107                                               )\n",
      "   108        50     275171.0   5503.4      0.7      ryl = np.array(\n",
      "   109        25      18779.0    751.2      0.0          [\n",
      "   110        25      60010.0   2400.4      0.2              [1.0, pl[\"Ryz\"], -pl[\"Ryy\"]],\n",
      "   111        25      51415.0   2056.6      0.1              [-pl[\"Ryz\"], 1.0, pl[\"Ryx\"]],\n",
      "   112        25      45966.0   1838.6      0.1              [pl[\"Ryy\"], -pl[\"Ryx\"], 1.0],\n",
      "   113                                                   ]\n",
      "   114                                               )\n",
      "   115        50     257287.0   5145.7      0.7      rzl = np.array(\n",
      "   116        25      19603.0    784.1      0.1          [\n",
      "   117        25      54142.0   2165.7      0.1              [1.0, pl[\"Rzz\"], -pl[\"Rzy\"]],\n",
      "   118        25      47550.0   1902.0      0.1              [-pl[\"Rzz\"], 1.0, pl[\"Rzx\"]],\n",
      "   119        25      45329.0   1813.2      0.1              [pl[\"Rzy\"], -pl[\"Rzx\"], 1.0],\n",
      "   120                                                   ]\n",
      "   121                                               )\n",
      "   122                                               # inverse rotation\n",
      "   123        25    4438583.0 177543.3     11.4      inv_rxl = np.linalg.inv(rxl)\n",
      "   124        25    2272389.0  90895.6      5.8      inv_ryl = np.linalg.inv(ryl)\n",
      "   125        25    1936016.0  77440.6      5.0      inv_rzl = np.linalg.inv(rzl)\n",
      "   126                                               # translation\n",
      "   127        25     531990.0  21279.6      1.4      x, y, z = xyz\n",
      "   128        25     398946.0  15957.8      1.0      xl = np.array([x + pl[\"Txx\"], pl[\"Txy\"], pl[\"Txz\"]])\n",
      "   129        25     184093.0   7363.7      0.5      yl = np.array([pl[\"Tyx\"], y + pl[\"Tyy\"], pl[\"Tyz\"]])\n",
      "   130        25     160811.0   6432.4      0.4      zl = np.array([pl[\"Tzx\"], pl[\"Tzy\"], z + pl[\"Tzz\"]])\n",
      "   131                                               # @ is matrix multiplication, fmt:skip keeps formatting when using ruff\n",
      "   132        25      58745.0   2349.8      0.2      if fixed_table and bridge_axis == 0:\n",
      "   133                                                   # moving bridge, x axis across bridge - eg Hexagon ... (Bruce)\n",
      "   134                                                   w = (\n",
      "   135                                                       + yl\n",
      "   136                                                       + inv_ryl @ xl\n",
      "   137                                                       + inv_ryl @ inv_rxl @ zl\n",
      "   138                                                       + inv_ryl @ inv_rxl @ inv_rzl @ xyzt\n",
      "   139                                                   )  # fmt: skip\n",
      "   140                                           \n",
      "   141        25      30368.0   1214.7      0.1      elif fixed_table and bridge_axis == 1:\n",
      "   142                                                   # moving bridge y-axis across bridge - eg ? - for completeness\n",
      "   143                                                   w = (\n",
      "   144                                                       + xl\n",
      "   145                                                       + inv_rxl @ yl\n",
      "   146                                                       + inv_rxl @ inv_ryl @ zl\n",
      "   147                                                       + inv_rxl @ inv_ryl @ inv_rzl @ xyzt\n",
      "   148                                                   )  # fmt: skip\n",
      "   149        25      46650.0   1866.0      0.1      elif not fixed_table and bridge_axis == 0:\n",
      "   150                                                   # fixed brige, moving table, x-axis across bridge eg. Mitutoyo  (Shishimi)\n",
      "   151                                                   w =  (\n",
      "   152                                                       - ryl @ yl \n",
      "   153                                                       + ryl @ xl \n",
      "   154                                                       + ryl @ inv_rxl @ zl \n",
      "   155                                                       + ryl @ inv_rxl @ inv_rzl @ xyzt\n",
      "   156                                                   )  # fmt: skip\n",
      "   157        25      33741.0   1349.6      0.1      elif not fixed_table and bridge_axis == 1:\n",
      "   158                                                   # fixed brige, moving table, y-axis across bridge eg. old PMM866\n",
      "   159        25      34503.0   1380.1      0.1          w = (\n",
      "   160       100    1266111.0  12661.1      3.2              - rxl @ xl \n",
      "   161        25     189751.0   7590.0      0.5              + rxl @ yl \n",
      "   162        25     541540.0  21661.6      1.4              + rxl @ inv_ryl @ zl \n",
      "   163        25     583109.0  23324.4      1.5              + rxl @ inv_ryl @ inv_rzl @ xyzt\n",
      "   164                                                   )  # fmt: skip\n",
      "   165                                               else:\n",
      "   166                                                   raise ValueError(\"Unknown cmm type\")\n",
      "   167                                           \n",
      "   168        25     272065.0  10882.6      0.7      dev3d = w - xyz_in - xyzt\n",
      "   169                                           \n",
      "   170        25      53078.0   2123.1      0.1      return dev3d"
     ]
    }
   ],
   "source": [
    "%lprun -f  designp.model_point designp.model_matrix(mmt_xy.cmm_nominal.T, mmt_xy.probe.length, model)"
   ]
  }
 ],
 "metadata": {
  "kernelspec": {
   "display_name": ".venv",
   "language": "python",
   "name": "python3"
  },
  "language_info": {
   "codemirror_mode": {
    "name": "ipython",
    "version": 3
   },
   "file_extension": ".py",
   "mimetype": "text/x-python",
   "name": "python",
   "nbconvert_exporter": "python",
   "pygments_lexer": "ipython3",
   "version": "3.11.9"
  }
 },
 "nbformat": 4,
 "nbformat_minor": 2
}
