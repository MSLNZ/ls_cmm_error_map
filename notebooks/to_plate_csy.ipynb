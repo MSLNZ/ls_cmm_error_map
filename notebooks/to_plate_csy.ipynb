{
 "cells": [
  {
   "cell_type": "markdown",
   "metadata": {},
   "source": [
    "# to plate CSY\n",
    "\n",
    "looking at functiosn to transform from CMM CSY to plate CSY as they differ between new and old code."
   ]
  },
  {
   "cell_type": "code",
   "execution_count": 1,
   "metadata": {},
   "outputs": [],
   "source": [
    "import numpy as np\n",
    "\n",
    "import cmm_error_map.config.config as cf\n",
    "import cmm_error_map.data_cmpts as dc\n",
    "import cmm_error_map.mpl_2014.design_matrix_linear as design_old"
   ]
  },
  {
   "cell_type": "code",
   "execution_count": 27,
   "metadata": {},
   "outputs": [
    {
     "name": "stdout",
     "output_type": "stream",
     "text": [
      "{'Txx': -0.0, 'Txy': -1e-06, 'Txz': -0.0, 'Tyx': -0.0, 'Tyy': -0.0, 'Tyz': -0.0, 'Tzx': -0.0, 'Tzy': -0.0, 'Tzz': -0.0, 'Rxx': -0.0, 'Rxy': -0.0, 'Rxz': -0.0, 'Ryx': -0.0, 'Ryy': -0.0, 'Ryz': -0.0, 'Rzx': -0.0, 'Rzy': -0.0, 'Rzz': -0.0, 'Wxy': -0.0, 'Wxz': -0.0, 'Wyz': -0.0}\n",
      "[0.0, 1e-06, 0.0, 0.0, 0.0, 0.0, 0.0, 0.0, 0.0, 0.0, 0.0, 0.0, 0.0, 0.0, 0.0, 0.0, 0.0, 0.0, 0.0, 0.0, 0.0]\n",
      "cmm dev difference\n",
      " max 5.6199511190568874e-14, min -5.2219513435591836e-14\n",
      "eXYZ[1, :]=array([-0.00025 , -0.000383, -0.000516, -0.000649, -0.000782, -0.00025 ,\n",
      "       -0.000383, -0.000516, -0.000649, -0.000782, -0.00025 , -0.000383,\n",
      "       -0.000516, -0.000649, -0.000782, -0.00025 , -0.000383, -0.000516,\n",
      "       -0.000649, -0.000782, -0.00025 , -0.000383, -0.000516, -0.000649,\n",
      "       -0.000782])\n",
      "mmt.cmm_dev[1,:]=array([-0.00025 , -0.000383, -0.000516, -0.000649, -0.000782, -0.00025 ,\n",
      "       -0.000383, -0.000516, -0.000649, -0.000782, -0.00025 , -0.000383,\n",
      "       -0.000516, -0.000649, -0.000782, -0.00025 , -0.000383, -0.000516,\n",
      "       -0.000649, -0.000782, -0.00025 , -0.000383, -0.000516, -0.000649,\n",
      "       -0.000782])\n"
     ]
    }
   ],
   "source": [
    "# get a set of cmm values that agree between old and new code\n",
    "model_params = dc.model_parameters_dict.copy()\n",
    "model_params[\"Txy\"] = 1e-6\n",
    "signs = {\"old\": 1, \"new\": -1}\n",
    "\n",
    "# XY plane\n",
    "x0, y0, z0 = 250.0, 50.0, 50.0\n",
    "x0xy, y0xy, z0xy = x0, y0, z0\n",
    "transform_mat_xy = np.array(\n",
    "    [\n",
    "        [1.0, 0.0, 0.0, x0xy],\n",
    "        [0.0, 1.0, 0.0, y0xy],\n",
    "        [0.0, 0.0, 1.0, z0xy],\n",
    "        [0.0, 0.0, 0.0, 1.0],\n",
    "    ]\n",
    ")\n",
    "\n",
    "xt, yt, zt = 0.0, 0.0, -243.4852\n",
    "\n",
    "# new code\n",
    "cmm = dc.pmm_866\n",
    "prb_xy = dc.Probe(title=\"P0\", name=\"p0\", length=np.array([xt, yt, zt]))\n",
    "\n",
    "mmt = dc.Measurement(\n",
    "    title=\"Plate XY\",\n",
    "    name=\"mmt_00\",\n",
    "    artefact=cf.artefact_models[\"KOBA 0620\"],\n",
    "    transform_mat=transform_mat_xy,\n",
    "    probe=prb_xy,\n",
    "    cmm_nominal=None,\n",
    "    cmm_dev=None,\n",
    "    mmt_nominal=None,\n",
    "    mmt_dev=None,\n",
    ")\n",
    "signed_mp = {key: signs[\"new\"] * value for key, value in model_params.items()}\n",
    "mmt.recalculate(signed_mp, cmm.cmm_model)\n",
    "\n",
    "# matplotlib code\n",
    "params = list(model_params.values())\n",
    "signed_params = [value * signs[\"old\"] for value in params]\n",
    "dxy, eXYZ, XYZp, XM, plate_nom = design_old.modelled_mmts_XYZ(\n",
    "    transform_mat_xy, xt, yt, zt, signed_params, verbose=True\n",
    ")\n",
    "\n",
    "print(signed_mp)\n",
    "print(signed_params)\n",
    "print(\n",
    "    f\"cmm dev difference\\n max {(eXYZ[:-1, :] - mmt.cmm_dev).max()}, min {(eXYZ[:-1, :] - mmt.cmm_dev).min()}\"\n",
    ")\n",
    "\n",
    "print(f\"{eXYZ[1, :]=}\")\n",
    "print(f\"{mmt.cmm_dev[1,:]=}\")\n"
   ]
  },
  {
   "cell_type": "code",
   "execution_count": 28,
   "metadata": {},
   "outputs": [],
   "source": [
    "np.testing.assert_allclose(eXYZ[:-1, :], mmt.cmm_dev, atol=1e-6)"
   ]
  },
  {
   "cell_type": "code",
   "execution_count": 26,
   "metadata": {},
   "outputs": [],
   "source": [
    "# convert to plate CSY via equivalent to old code\n",
    "# from design_matrix_linear.modelled_mmts_XYZ\n",
    "XYZp1 = np.dot(np.linalg.inv(transform_mat_xy), XM + eXYZ)\n",
    "XYZp1[:3, :] = XYZp1[:3, :] - XYZp1[:3, 0:1]\n",
    "ang = -1.0 * np.arctan2(XYZp1[1, 4], XYZp1[0, 4])\n",
    "cang = np.cos(ang)\n",
    "sang = np.sin(ang)\n",
    "RZ = np.array(\n",
    "    [\n",
    "        [cang, -sang, 0.0, 0.0],\n",
    "        [sang, cang, 0.0, 0.0],\n",
    "        [0.0, 0.0, 1.0, 0.0],\n",
    "        [0.0, 0.0, 0.0, 1.0],\n",
    "    ]\n",
    ")\n",
    "XYZp1 = np.dot(RZ, XYZp1)\n",
    "\n",
    "# check it is the same as above\n",
    "np.testing.assert_allclose(XYZp, XYZp1, atol=1e-6)\n",
    "\n",
    "# check ball 1 is at (0, 0, 0)\n",
    "np.testing.assert_allclose(XYZp1[:-1, 0], np.array([0.0, 0.0, 0.0]), atol=1e-6)\n",
    "\n",
    "# check ball 5 is at (x, 0, 0)\n",
    "np.testing.assert_allclose(XYZp1[1:3, 4], np.array([0.0, 0.0]), atol=1e-6)\n",
    "\n",
    "# check ball 21 is at (x, y, 0)\n",
    "np.testing.assert_allclose(XYZp1[2, 20], 0.0, atol=1e-6)"
   ]
  },
  {
   "cell_type": "code",
   "execution_count": 52,
   "metadata": {},
   "outputs": [
    {
     "data": {
      "text/plain": [
       "array([[ 0.00000000e+00,  1.33000000e+02,  2.66000000e+02,\n",
       "         3.99000000e+02,  5.32000000e+02, -1.33000000e-04,\n",
       "         1.32999867e+02,  2.65999867e+02,  3.98999867e+02,\n",
       "         5.31999867e+02, -2.66000000e-04,  1.32999734e+02,\n",
       "         2.65999734e+02,  3.98999734e+02,  5.31999734e+02,\n",
       "        -3.99000000e-04,  1.32999601e+02,  2.65999601e+02,\n",
       "         3.98999601e+02,  5.31999601e+02, -5.32000000e-04,\n",
       "         1.32999468e+02,  2.65999468e+02,  3.98999468e+02,\n",
       "         5.31999468e+02],\n",
       "       [ 0.00000000e+00,  1.77634695e-15,  3.55269390e-15,\n",
       "        -1.77638651e-15, -3.95655732e-20,  1.33000000e+02,\n",
       "         1.33000000e+02,  1.33000000e+02,  1.33000000e+02,\n",
       "         1.33000000e+02,  2.66000000e+02,  2.66000000e+02,\n",
       "         2.66000000e+02,  2.66000000e+02,  2.66000000e+02,\n",
       "         3.99000000e+02,  3.99000000e+02,  3.99000000e+02,\n",
       "         3.99000000e+02,  3.99000000e+02,  5.32000000e+02,\n",
       "         5.32000000e+02,  5.32000000e+02,  5.32000000e+02,\n",
       "         5.32000000e+02],\n",
       "       [ 0.00000000e+00,  0.00000000e+00,  0.00000000e+00,\n",
       "         0.00000000e+00,  0.00000000e+00,  0.00000000e+00,\n",
       "         0.00000000e+00,  0.00000000e+00,  0.00000000e+00,\n",
       "         0.00000000e+00,  0.00000000e+00,  0.00000000e+00,\n",
       "         0.00000000e+00,  0.00000000e+00,  0.00000000e+00,\n",
       "         0.00000000e+00,  0.00000000e+00,  0.00000000e+00,\n",
       "         0.00000000e+00,  0.00000000e+00,  0.00000000e+00,\n",
       "         0.00000000e+00,  0.00000000e+00,  0.00000000e+00,\n",
       "         0.00000000e+00]])"
      ]
     },
     "execution_count": 52,
     "metadata": {},
     "output_type": "execute_result"
    }
   ],
   "source": [
    "# convert to plate CSY via new code\n",
    "mmt_deform = dc.cmm_to_plate_csy(mmt)\n",
    "mmt_deform"
   ]
  },
  {
   "cell_type": "code",
   "execution_count": 53,
   "metadata": {},
   "outputs": [],
   "source": [
    "mmt_dev2 = mmt_deform - mmt.mmt_nominal"
   ]
  },
  {
   "cell_type": "code",
   "execution_count": 54,
   "metadata": {},
   "outputs": [
    {
     "data": {
      "text/plain": [
       "(25, 2)"
      ]
     },
     "execution_count": 54,
     "metadata": {},
     "output_type": "execute_result"
    }
   ],
   "source": [
    "dxy.shape\n"
   ]
  },
  {
   "cell_type": "code",
   "execution_count": 55,
   "metadata": {},
   "outputs": [
    {
     "data": {
      "text/plain": [
       "(25, 2)"
      ]
     },
     "execution_count": 55,
     "metadata": {},
     "output_type": "execute_result"
    }
   ],
   "source": [
    "mmt_dev2[:-1, :].T.shape"
   ]
  },
  {
   "cell_type": "code",
   "execution_count": 56,
   "metadata": {},
   "outputs": [],
   "source": [
    "np.testing.assert_allclose(dxy, mmt_dev2[:-1, :].T, atol=1e-6)"
   ]
  },
  {
   "cell_type": "code",
   "execution_count": 23,
   "metadata": {},
   "outputs": [
    {
     "name": "stdout",
     "output_type": "stream",
     "text": [
      "[0. 0. 0.]\n",
      "[1.33000000e+02 1.77634695e-15 0.00000000e+00]\n",
      "[2.6600000e+02 3.5526939e-15 0.0000000e+00]\n",
      "[ 3.99000000e+02 -1.77638651e-15  0.00000000e+00]\n",
      "[ 5.32000000e+02 -3.95655732e-20  0.00000000e+00]\n",
      "[-1.33e-04  1.33e+02  0.00e+00]\n",
      "[132.999867 133.         0.      ]\n",
      "[265.999867 133.         0.      ]\n",
      "[398.999867 133.         0.      ]\n",
      "[531.999867 133.         0.      ]\n",
      "[-2.66e-04  2.66e+02  0.00e+00]\n",
      "[132.999734 266.         0.      ]\n",
      "[265.999734 266.         0.      ]\n",
      "[398.999734 266.         0.      ]\n",
      "[531.999734 266.         0.      ]\n",
      "[-3.99e-04  3.99e+02  0.00e+00]\n",
      "[132.999601 399.         0.      ]\n",
      "[265.999601 399.         0.      ]\n",
      "[398.999601 399.         0.      ]\n",
      "[531.999601 399.         0.      ]\n",
      "[-5.32e-04  5.32e+02  0.00e+00]\n",
      "[132.999468 532.         0.      ]\n",
      "[265.999468 532.         0.      ]\n",
      "[398.999468 532.         0.      ]\n",
      "[531.999468 532.         0.      ]\n"
     ]
    }
   ],
   "source": [
    "for point in XYZp.T:\n",
    "    print(point[:-1])"
   ]
  },
  {
   "cell_type": "code",
   "execution_count": 32,
   "metadata": {},
   "outputs": [],
   "source": [
    "cmm_deform = mmt.cmm_nominal + mmt.cmm_dev"
   ]
  },
  {
   "cell_type": "code",
   "execution_count": 34,
   "metadata": {},
   "outputs": [
    {
     "data": {
      "text/plain": [
       "(1, 25)"
      ]
     },
     "execution_count": 34,
     "metadata": {},
     "output_type": "execute_result"
    }
   ],
   "source": [
    "cmm_deform[0:1, :].shape"
   ]
  },
  {
   "cell_type": "code",
   "execution_count": 37,
   "metadata": {},
   "outputs": [
    {
     "data": {
      "text/plain": [
       "(4, 25)"
      ]
     },
     "execution_count": 37,
     "metadata": {},
     "output_type": "execute_result"
    }
   ],
   "source": [
    "t = np.vstack((cmm_deform, np.ones((1, cmm_deform.shape[1]))))\n",
    "t.shape"
   ]
  },
  {
   "cell_type": "code",
   "execution_count": 38,
   "metadata": {},
   "outputs": [
    {
     "data": {
      "text/plain": [
       "(4, 25)"
      ]
     },
     "execution_count": 38,
     "metadata": {},
     "output_type": "execute_result"
    }
   ],
   "source": [
    "t = np.vstack((cmm_deform, np.ones_like(cmm_deform[0, :])))\n",
    "t.shape"
   ]
  }
 ],
 "metadata": {
  "kernelspec": {
   "display_name": ".venv",
   "language": "python",
   "name": "python3"
  },
  "language_info": {
   "codemirror_mode": {
    "name": "ipython",
    "version": 3
   },
   "file_extension": ".py",
   "mimetype": "text/x-python",
   "name": "python",
   "nbconvert_exporter": "python",
   "pygments_lexer": "ipython3",
   "version": "3.11.9"
  }
 },
 "nbformat": 4,
 "nbformat_minor": 2
}
