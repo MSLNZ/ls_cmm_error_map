{
 "cells": [
  {
   "cell_type": "code",
   "execution_count": 1,
   "metadata": {},
   "outputs": [],
   "source": [
    "import numpy as np\n",
    "import pickle"
   ]
  },
  {
   "cell_type": "code",
   "execution_count": 6,
   "metadata": {},
   "outputs": [],
   "source": [
    "# recode pickle line endings\n",
    "pfname = \"../src/cmm_error_map/mpl_2014/data/ballplate_tmp_data_02.pickle\"\n",
    "data = open(pfname).read().replace(\"\\r\\n\", \"\\n\")\n",
    "dst = pfname + \".tmp\"\n",
    "open(dst, \"w\").write(data)\n",
    "(d, dtstime, info, dT, c, dE, dM, bm_linear, mmtinfo) = pickle.load(\n",
    "    open(dst, \"rb\"), encoding=\"latin1\"\n",
    ")\n"
   ]
  },
  {
   "cell_type": "code",
   "execution_count": 7,
   "metadata": {},
   "outputs": [
    {
     "data": {
      "text/plain": [
       "array([[ 1.000e+00,  1.000e+00,  1.000e+00, ...,  0.000e+00,  0.000e+00,\n",
       "         3.500e-04],\n",
       "       [ 1.000e+00,  1.000e+00,  2.000e+00, ..., -2.600e-04,  2.229e-02,\n",
       "         7.300e-04],\n",
       "       [ 1.000e+00,  1.000e+00,  3.000e+00, ..., -5.000e-04,  3.027e-02,\n",
       "         3.400e-04],\n",
       "       ...,\n",
       "       [ 6.000e+00,  6.000e+00,  3.800e+01, ...,  7.000e-04,  1.914e-02,\n",
       "         4.300e-04],\n",
       "       [ 6.000e+00,  6.000e+00,  3.900e+01, ...,  5.200e-04,  1.443e-02,\n",
       "         1.060e-03],\n",
       "       [ 6.000e+00,  6.000e+00,  4.000e+01, ...,  0.000e+00,  0.000e+00,\n",
       "         6.600e-04]])"
      ]
     },
     "execution_count": 7,
     "metadata": {},
     "output_type": "execute_result"
    }
   ],
   "source": [
    "d"
   ]
  },
  {
   "cell_type": "code",
   "execution_count": 1,
   "metadata": {},
   "outputs": [],
   "source": [
    "from cmm_error_map import design_matrix_linear_fixed as design"
   ]
  },
  {
   "cell_type": "code",
   "execution_count": 2,
   "metadata": {},
   "outputs": [
    {
     "data": {
      "text/plain": [
       "[('Txx', 0, 5, (0,), (16,), (1,)),\n",
       " ('Txy', 0, 5, (1,), (16,), (-1,)),\n",
       " ('Txz', 0, 5, (2,), (16,), (-1,)),\n",
       " ('Tyx', 1, 5, (0,), (16,), (-1,)),\n",
       " ('Tyy', 1, 5, (1,), (16,), (1,)),\n",
       " ('Tyz', 1, 5, (2,), (16,), (-1,)),\n",
       " ('Tzx', 2, 4, (0,), (16,), (-1,)),\n",
       " ('Tzy', 2, 4, (1,), (16,), (-1,)),\n",
       " ('Tzz', 2, 4, (2,), (16,), (1,)),\n",
       " ('Rxx', 0, 5, (1, 2), (15, 14), (1, -1)),\n",
       " ('Rxy', 0, 5, (0, 2), (15, 13), (-1, 1)),\n",
       " ('Rxz', 0, 5, (0, 1), (14, 13), (1, -1)),\n",
       " ('Ryx', 1, 5, (1, 2), (15, 11), (1, -1)),\n",
       " ('Ryy', 1, 5, (0, 2), (15, 10), (-1, 1)),\n",
       " ('Ryz', 1, 5, (0, 1), (11, 10), (1, -1)),\n",
       " ('Rzx', 2, 4, (1, 2), (12, 11), (1, -1)),\n",
       " ('Rzy', 2, 4, (0, 2), (12, 10), (-1, 1)),\n",
       " ('Rzz', 2, 4, (0, 1), (11, 10), (1, -1)),\n",
       " ('Wxy', -1, 1, (0, 1), (14, 13), (-1, -1)),\n",
       " ('Wxz', -1, 1, (0, 2), (15, 13), (-1, -1)),\n",
       " ('Wyz', -1, 1, (1, 2), (15, 14), (-1, -1))]"
      ]
     },
     "execution_count": 2,
     "metadata": {},
     "output_type": "execute_result"
    }
   ],
   "source": [
    "design.modelparameters"
   ]
  },
  {
   "cell_type": "code",
   "execution_count": 3,
   "metadata": {},
   "outputs": [
    {
     "data": {
      "text/plain": [
       "{'Txx': ('Txx', 0, 5, (0,), (16,), (1,)),\n",
       " 'Txy': ('Txy', 0, 5, (1,), (16,), (-1,)),\n",
       " 'Txz': ('Txz', 0, 5, (2,), (16,), (-1,)),\n",
       " 'Tyx': ('Tyx', 1, 5, (0,), (16,), (-1,)),\n",
       " 'Tyy': ('Tyy', 1, 5, (1,), (16,), (1,)),\n",
       " 'Tyz': ('Tyz', 1, 5, (2,), (16,), (-1,)),\n",
       " 'Tzx': ('Tzx', 2, 4, (0,), (16,), (-1,)),\n",
       " 'Tzy': ('Tzy', 2, 4, (1,), (16,), (-1,)),\n",
       " 'Tzz': ('Tzz', 2, 4, (2,), (16,), (1,)),\n",
       " 'Rxx': ('Rxx', 0, 5, (1, 2), (15, 14), (1, -1)),\n",
       " 'Rxy': ('Rxy', 0, 5, (0, 2), (15, 13), (-1, 1)),\n",
       " 'Rxz': ('Rxz', 0, 5, (0, 1), (14, 13), (1, -1)),\n",
       " 'Ryx': ('Ryx', 1, 5, (1, 2), (15, 11), (1, -1)),\n",
       " 'Ryy': ('Ryy', 1, 5, (0, 2), (15, 10), (-1, 1)),\n",
       " 'Ryz': ('Ryz', 1, 5, (0, 1), (11, 10), (1, -1)),\n",
       " 'Rzx': ('Rzx', 2, 4, (1, 2), (12, 11), (1, -1)),\n",
       " 'Rzy': ('Rzy', 2, 4, (0, 2), (12, 10), (-1, 1)),\n",
       " 'Rzz': ('Rzz', 2, 4, (0, 1), (11, 10), (1, -1)),\n",
       " 'Wxy': ('Wxy', -1, 1, (0, 1), (14, 13), (-1, -1)),\n",
       " 'Wxz': ('Wxz', -1, 1, (0, 2), (15, 13), (-1, -1)),\n",
       " 'Wyz': ('Wyz', -1, 1, (1, 2), (15, 14), (-1, -1))}"
      ]
     },
     "execution_count": 3,
     "metadata": {},
     "output_type": "execute_result"
    }
   ],
   "source": [
    "modeldict = {p[0]: p for p in design.modelparameters}\n",
    "modeldict"
   ]
  },
  {
   "cell_type": "code",
   "execution_count": 19,
   "metadata": {},
   "outputs": [],
   "source": [
    "from dataclasses import dataclass, asdict\n",
    "\n",
    "\n",
    "@dataclass\n",
    "class ModelParameters:\n",
    "    TxxL: float = 0.0\n",
    "    TxyL: float = 0.0\n",
    "    TxzL: float = 0.0\n",
    "    TyxL: float = 0.0\n",
    "    TyyL: float = 0.0\n",
    "    TyzL: float = 0.0\n",
    "    TzxL: float = 0.0\n",
    "    TzyL: float = 0.0\n",
    "    TzzL: float = 0.0\n",
    "    RxxL: float = 0.0\n",
    "    RxyL: float = 0.0\n",
    "    RxzL: float = 0.0\n",
    "    RyxL: float = 0.0\n",
    "    RyyL: float = 0.0\n",
    "    RyzL: float = 0.0\n",
    "    RzxL: float = 0.0\n",
    "    RzyL: float = 0.0\n",
    "    RzzL: float = 0.0\n",
    "    Wxy: float = 0.0\n",
    "    Wxz: float = 0.0\n",
    "    Wyz: float = 0.0"
   ]
  },
  {
   "cell_type": "code",
   "execution_count": 21,
   "metadata": {},
   "outputs": [
    {
     "data": {
      "text/plain": [
       "ModelParameters(TxxL=0.0, TxyL=0.0, TxzL=0.0, TyxL=0.0, TyyL=0.0, TyzL=0.0, TzxL=0.0, TzyL=0.0, TzzL=0.0, RxxL=0.0, RxyL=0.0, RxzL=0.0, RyxL=0.0, RyyL=0.0, RyzL=0.0, RzxL=0.0, RzyL=0.0, RzzL=0.0, Wxy=0.0, Wxz=0.0, Wyz=0.0)"
      ]
     },
     "execution_count": 21,
     "metadata": {},
     "output_type": "execute_result"
    }
   ],
   "source": [
    "params = ModelParameters()\n",
    "params"
   ]
  },
  {
   "cell_type": "code",
   "execution_count": 22,
   "metadata": {},
   "outputs": [
    {
     "data": {
      "text/plain": [
       "(list,\n",
       " [0.0,\n",
       "  0.0,\n",
       "  0.0,\n",
       "  0.0,\n",
       "  0.0,\n",
       "  0.0,\n",
       "  0.0,\n",
       "  0.0,\n",
       "  0.0,\n",
       "  0.0,\n",
       "  0.0,\n",
       "  0.0,\n",
       "  0.0,\n",
       "  0.0,\n",
       "  0.0,\n",
       "  0.0,\n",
       "  0.0,\n",
       "  0.0,\n",
       "  0.0,\n",
       "  0.0,\n",
       "  0.0])"
      ]
     },
     "execution_count": 22,
     "metadata": {},
     "output_type": "execute_result"
    }
   ],
   "source": [
    "p = list(asdict(params).values())\n",
    "type(p), p"
   ]
  },
  {
   "cell_type": "code",
   "execution_count": 24,
   "metadata": {},
   "outputs": [
    {
     "data": {
      "text/plain": [
       "0.0"
      ]
     },
     "execution_count": 24,
     "metadata": {},
     "output_type": "execute_result"
    }
   ],
   "source": [
    "params.TxxL"
   ]
  },
  {
   "cell_type": "code",
   "execution_count": 25,
   "metadata": {},
   "outputs": [
    {
     "ename": "TypeError",
     "evalue": "'ModelParameters' object is not subscriptable",
     "output_type": "error",
     "traceback": [
      "\u001b[0;31m---------------------------------------------------------------------------\u001b[0m",
      "\u001b[0;31mTypeError\u001b[0m                                 Traceback (most recent call last)",
      "Cell \u001b[0;32mIn[25], line 1\u001b[0m\n\u001b[0;32m----> 1\u001b[0m \u001b[43mparams\u001b[49m\u001b[43m[\u001b[49m\u001b[38;5;124;43m'\u001b[39;49m\u001b[38;5;124;43mTxxL\u001b[39;49m\u001b[38;5;124;43m'\u001b[39;49m\u001b[43m]\u001b[49m\n",
      "\u001b[0;31mTypeError\u001b[0m: 'ModelParameters' object is not subscriptable"
     ]
    }
   ],
   "source": [
    "params[\"TxxL\"]"
   ]
  },
  {
   "cell_type": "code",
   "execution_count": 26,
   "metadata": {},
   "outputs": [
    {
     "data": {
      "text/plain": [
       "0.0"
      ]
     },
     "execution_count": 26,
     "metadata": {},
     "output_type": "execute_result"
    }
   ],
   "source": [
    "asdict(params)[\"TxxL\"]"
   ]
  },
  {
   "cell_type": "code",
   "execution_count": 27,
   "metadata": {},
   "outputs": [
    {
     "data": {
      "text/plain": [
       "{'TxxL': 0.0,\n",
       " 'TxyL': 0.0,\n",
       " 'TxzL': 0.0,\n",
       " 'TyxL': 0.0,\n",
       " 'TyyL': 0.0,\n",
       " 'TyzL': 0.0,\n",
       " 'TzxL': 0.0,\n",
       " 'TzyL': 0.0,\n",
       " 'TzzL': 0.0,\n",
       " 'RxxL': 0.0,\n",
       " 'RxyL': 0.0,\n",
       " 'RxzL': 0.0,\n",
       " 'RyxL': 0.0,\n",
       " 'RyyL': 0.0,\n",
       " 'RyzL': 0.0,\n",
       " 'RzxL': 0.0,\n",
       " 'RzyL': 0.0,\n",
       " 'RzzL': 0.0,\n",
       " 'Wxy': 0.0,\n",
       " 'Wxz': 0.0,\n",
       " 'Wyz': 0.0}"
      ]
     },
     "execution_count": 27,
     "metadata": {},
     "output_type": "execute_result"
    }
   ],
   "source": [
    "d = asdict(params)\n",
    "d"
   ]
  },
  {
   "cell_type": "code",
   "execution_count": 28,
   "metadata": {},
   "outputs": [
    {
     "ename": "AttributeError",
     "evalue": "'dict' object has no attribute 'TxxL'",
     "output_type": "error",
     "traceback": [
      "\u001b[0;31m---------------------------------------------------------------------------\u001b[0m",
      "\u001b[0;31mAttributeError\u001b[0m                            Traceback (most recent call last)",
      "Cell \u001b[0;32mIn[28], line 1\u001b[0m\n\u001b[0;32m----> 1\u001b[0m \u001b[43md\u001b[49m\u001b[38;5;241;43m.\u001b[39;49m\u001b[43mTxxL\u001b[49m\n",
      "\u001b[0;31mAttributeError\u001b[0m: 'dict' object has no attribute 'TxxL'"
     ]
    }
   ],
   "source": [
    "d.TxxL"
   ]
  },
  {
   "cell_type": "code",
   "execution_count": 1,
   "metadata": {},
   "outputs": [],
   "source": [
    "import cmm_error_map.design_matrix_linear_fixed as design"
   ]
  },
  {
   "cell_type": "code",
   "execution_count": 2,
   "metadata": {},
   "outputs": [
    {
     "data": {
      "text/plain": [
       "{'TxxL': 0.0,\n",
       " 'TxyL': 0.0,\n",
       " 'TxzL': 0.0,\n",
       " 'TyxL': 0.0,\n",
       " 'TyyL': 0.0,\n",
       " 'TyzL': 0.0,\n",
       " 'TzxL': 0.0,\n",
       " 'TzyL': 0.0,\n",
       " 'TzzL': 0.0,\n",
       " 'RxxL': 0.0,\n",
       " 'RxyL': 0.0,\n",
       " 'RxzL': 0.0,\n",
       " 'RyxL': 0.0,\n",
       " 'RyyL': 0.0,\n",
       " 'RyzL': 0.0,\n",
       " 'RzxL': 0.0,\n",
       " 'RzyL': 0.0,\n",
       " 'RzzL': 0.0,\n",
       " 'Wxy': 0.0,\n",
       " 'Wxz': 0.0,\n",
       " 'Wyz': 0.0}"
      ]
     },
     "execution_count": 2,
     "metadata": {},
     "output_type": "execute_result"
    }
   ],
   "source": [
    "design.model_parameters_dict"
   ]
  },
  {
   "cell_type": "code",
   "execution_count": 3,
   "metadata": {},
   "outputs": [
    {
     "data": {
      "text/plain": [
       "[0.0,\n",
       " 0.0,\n",
       " 0.0,\n",
       " 0.0,\n",
       " 0.0,\n",
       " 0.0,\n",
       " 0.0,\n",
       " 0.0,\n",
       " 0.0,\n",
       " 0.0,\n",
       " 0.0,\n",
       " 0.0,\n",
       " 0.0,\n",
       " 0.0,\n",
       " 0.0,\n",
       " 0.0,\n",
       " 0.0,\n",
       " 0.0,\n",
       " 0.0,\n",
       " 0.0,\n",
       " 0.0]"
      ]
     },
     "execution_count": 3,
     "metadata": {},
     "output_type": "execute_result"
    }
   ],
   "source": [
    "list(design.model_parameters_dict.values())"
   ]
  },
  {
   "cell_type": "code",
   "execution_count": 7,
   "metadata": {},
   "outputs": [
    {
     "data": {
      "text/plain": [
       "'abc 05'"
      ]
     },
     "execution_count": 7,
     "metadata": {},
     "output_type": "execute_result"
    }
   ],
   "source": [
    "i = 5\n",
    "f\"abc {i:02d}\""
   ]
  },
  {
   "cell_type": "code",
   "execution_count": 11,
   "metadata": {},
   "outputs": [],
   "source": [
    "start = -5.0\n",
    "stop = 5.0\n",
    "step = 0.1\n",
    "span = np.arange(start, stop + step, step)"
   ]
  },
  {
   "cell_type": "code",
   "execution_count": 13,
   "metadata": {},
   "outputs": [
    {
     "data": {
      "text/plain": [
       "70"
      ]
     },
     "execution_count": 13,
     "metadata": {},
     "output_type": "execute_result"
    }
   ],
   "source": [
    "v = 2\n",
    "int(np.argmin(np.abs(span - v)))"
   ]
  },
  {
   "cell_type": "code",
   "execution_count": 16,
   "metadata": {},
   "outputs": [
    {
     "data": {
      "text/plain": [
       "70"
      ]
     },
     "execution_count": 16,
     "metadata": {},
     "output_type": "execute_result"
    }
   ],
   "source": [
    "np.argmin(np.abs(span - v))\n"
   ]
  },
  {
   "cell_type": "code",
   "execution_count": 18,
   "metadata": {},
   "outputs": [],
   "source": [
    "dn = {\n",
    "    \"a\": {\"value\": 0.0, \"slide_factor\": 1e-8},\n",
    "    \"b\": {\"value\": 0.0, \"slide_factor\": 1e-8},\n",
    "    \"c\": {\"value\": 0.0, \"slide_factor\": 1e-8},\n",
    "    \"d\": {\"value\": 0.0, \"slide_factor\": 1e-5},\n",
    "}"
   ]
  },
  {
   "cell_type": "code",
   "execution_count": 20,
   "metadata": {},
   "outputs": [
    {
     "data": {
      "text/plain": [
       "[1e-08, 1e-08, 1e-08, 1e-05]"
      ]
     },
     "execution_count": 20,
     "metadata": {},
     "output_type": "execute_result"
    }
   ],
   "source": [
    "[d[\"slide_factor\"] for d in dn.values()]"
   ]
  },
  {
   "cell_type": "code",
   "execution_count": 10,
   "metadata": {},
   "outputs": [
    {
     "data": {
      "text/plain": [
       "array([1.  , 1.25, 1.5 , 1.75, 2.  , 2.25, 2.5 , 2.75, 3.  , 3.25, 3.5 ,\n",
       "       3.75, 4.  ])"
      ]
     },
     "execution_count": 10,
     "metadata": {},
     "output_type": "execute_result"
    }
   ],
   "source": [
    "span = np.arange(1, 4.1, 0.25)\n",
    "span"
   ]
  },
  {
   "cell_type": "code",
   "execution_count": 11,
   "metadata": {},
   "outputs": [
    {
     "data": {
      "text/plain": [
       "array([   10.        ,    17.7827941 ,    31.6227766 ,    56.23413252,\n",
       "         100.        ,   177.827941  ,   316.22776602,   562.34132519,\n",
       "        1000.        ,  1778.27941004,  3162.27766017,  5623.4132519 ,\n",
       "       10000.        ])"
      ]
     },
     "execution_count": 11,
     "metadata": {},
     "output_type": "execute_result"
    }
   ],
   "source": [
    "10**span"
   ]
  },
  {
   "cell_type": "code",
   "execution_count": 17,
   "metadata": {},
   "outputs": [
    {
     "data": {
      "text/plain": [
       "array([1.0e+00, 2.0e+00, 5.0e+00, 7.5e+00, 1.0e+01, 2.0e+01, 5.0e+01,\n",
       "       7.5e+01, 1.0e+02, 2.0e+02, 5.0e+02, 7.5e+02, 1.0e+03, 2.0e+03,\n",
       "       5.0e+03, 7.5e+03, 1.0e+04])"
      ]
     },
     "execution_count": 17,
     "metadata": {},
     "output_type": "execute_result"
    }
   ],
   "source": [
    "x = np.array([1, 2, 5, 7.5])\n",
    "np.hstack((x, x * 10, x * 100, x * 1000, [10000]))"
   ]
  },
  {
   "cell_type": "code",
   "execution_count": 18,
   "metadata": {},
   "outputs": [
    {
     "data": {
      "text/plain": [
       "'sld'"
      ]
     },
     "execution_count": 18,
     "metadata": {},
     "output_type": "execute_result"
    }
   ],
   "source": [
    "x = \"Txx\"\n",
    "y = \"sld_\" + x\n",
    "y[:3]"
   ]
  },
  {
   "cell_type": "code",
   "execution_count": 1,
   "metadata": {},
   "outputs": [],
   "source": [
    "model_parameters_dict = {\n",
    "    \"Txx\": 0.0,\n",
    "    \"Txy\": 0.0,\n",
    "    \"Txz\": 0.0,\n",
    "    \"Tyx\": 0.0,\n",
    "    \"Tyy\": 0.0,\n",
    "    \"Tyz\": 0.0,\n",
    "    \"Tzx\": 0.0,\n",
    "    \"Tzy\": 0.0,\n",
    "    \"Tzz\": 0.0,\n",
    "    \"Rxx\": 0.0,\n",
    "    \"Rxy\": 0.0,\n",
    "    \"Rxz\": 0.0,\n",
    "    \"Ryx\": 0.0,\n",
    "    \"Ryy\": 0.0,\n",
    "    \"Ryz\": 0.0,\n",
    "    \"Rzx\": 0.0,\n",
    "    \"Rzy\": 0.0,\n",
    "    \"Rzz\": 0.0,\n",
    "    \"Wxy\": 0.0,\n",
    "    \"Wxz\": 0.0,\n",
    "    \"Wyz\": 0.0,\n",
    "}"
   ]
  },
  {
   "cell_type": "code",
   "execution_count": 4,
   "metadata": {},
   "outputs": [],
   "source": [
    "params = np.zeros(21)\n",
    "params[0] = 1.33e-05\n",
    "params[3] = -1.12e-05\n",
    "params[4] = -5.09e-06\n",
    "params[6] = 2.6e-05\n",
    "params[7] = 4.6e-06\n",
    "params[8] = 3.34e-08\n",
    "params[9] = 7.49e-09\n",
    "params[10] = 1.54e-08\n",
    "params[11] = 5e-09\n",
    "params[12] = -4.58e-09\n",
    "params[13] = -1.43e-08\n",
    "params[14] = 2.19e-08\n",
    "params[15] = 2.49e-09\n",
    "params[16] = -7.94e-10\n",
    "params[17] = 4.78e-08\n"
   ]
  },
  {
   "cell_type": "code",
   "execution_count": 6,
   "metadata": {},
   "outputs": [
    {
     "data": {
      "text/plain": [
       "{'Txx': 1.33e-05,\n",
       " 'Txy': 0.0,\n",
       " 'Txz': 0.0,\n",
       " 'Tyx': -1.12e-05,\n",
       " 'Tyy': -5.09e-06,\n",
       " 'Tyz': 0.0,\n",
       " 'Tzx': 2.6e-05,\n",
       " 'Tzy': 4.6e-06,\n",
       " 'Tzz': 3.34e-08,\n",
       " 'Rxx': 7.49e-09,\n",
       " 'Rxy': 1.54e-08,\n",
       " 'Rxz': 5e-09,\n",
       " 'Ryx': -4.58e-09,\n",
       " 'Ryy': -1.43e-08,\n",
       " 'Ryz': 2.19e-08,\n",
       " 'Rzx': 2.49e-09,\n",
       " 'Rzy': -7.94e-10,\n",
       " 'Rzz': 4.78e-08,\n",
       " 'Wxy': 0.0,\n",
       " 'Wxz': 0.0,\n",
       " 'Wyz': 0.0}"
      ]
     },
     "execution_count": 6,
     "metadata": {},
     "output_type": "execute_result"
    }
   ],
   "source": [
    "d = {key: value for key, value in zip(model_parameters_dict.keys(), params)}\n",
    "d"
   ]
  },
  {
   "cell_type": "code",
   "execution_count": 2,
   "metadata": {},
   "outputs": [
    {
     "data": {
      "text/plain": [
       "numpy.ndarray"
      ]
     },
     "execution_count": 2,
     "metadata": {},
     "output_type": "execute_result"
    }
   ],
   "source": [
    "x = np.array([1.,2.,3.])\n",
    "type(x)"
   ]
  },
  {
   "cell_type": "code",
   "execution_count": 3,
   "metadata": {},
   "outputs": [
    {
     "data": {
      "text/plain": [
       "3.7416573867739413"
      ]
     },
     "execution_count": 3,
     "metadata": {},
     "output_type": "execute_result"
    }
   ],
   "source": [
    "np.linalg.norm(x)"
   ]
  },
  {
   "cell_type": "code",
   "execution_count": 4,
   "metadata": {},
   "outputs": [
    {
     "data": {
      "text/plain": [
       "array([0.26726124, 0.53452248, 0.80178373])"
      ]
     },
     "execution_count": 4,
     "metadata": {},
     "output_type": "execute_result"
    }
   ],
   "source": [
    "xn = x/np.linalg.norm(x)\n",
    "xn"
   ]
  },
  {
   "cell_type": "code",
   "execution_count": 6,
   "metadata": {},
   "outputs": [
    {
     "data": {
      "text/plain": [
       "1.0"
      ]
     },
     "execution_count": 6,
     "metadata": {},
     "output_type": "execute_result"
    }
   ],
   "source": [
    "np.linalg.norm(xn)"
   ]
  },
  {
   "cell_type": "code",
   "execution_count": 13,
   "metadata": {},
   "outputs": [],
   "source": [
    "y = np.array([4,5,6])\n",
    "z = np.array([7,8,9])\n",
    "t = np.array([0,1,2])"
   ]
  },
  {
   "cell_type": "code",
   "execution_count": 15,
   "metadata": {},
   "outputs": [
    {
     "data": {
      "text/plain": [
       "array([[1., 4., 7., 0.],\n",
       "       [2., 5., 8., 1.],\n",
       "       [3., 6., 9., 2.]])"
      ]
     },
     "execution_count": 15,
     "metadata": {},
     "output_type": "execute_result"
    }
   ],
   "source": [
    "m1 = np.vstack((x,y,z,t)).T\n",
    "m1"
   ]
  },
  {
   "cell_type": "code",
   "execution_count": 16,
   "metadata": {},
   "outputs": [
    {
     "data": {
      "text/plain": [
       "array([[1., 4., 7., 0.],\n",
       "       [2., 5., 8., 1.],\n",
       "       [3., 6., 9., 2.],\n",
       "       [0., 0., 0., 1.]])"
      ]
     },
     "execution_count": 16,
     "metadata": {},
     "output_type": "execute_result"
    }
   ],
   "source": [
    "np.vstack((m1, [0,0,0,1]))"
   ]
  },
  {
   "cell_type": "code",
   "execution_count": 28,
   "metadata": {},
   "outputs": [],
   "source": [
    "import mathutils as mu"
   ]
  },
  {
   "cell_type": "code",
   "execution_count": 2,
   "metadata": {},
   "outputs": [
    {
     "data": {
      "text/plain": [
       "Vector((0.0, 0.0, 0.0))"
      ]
     },
     "execution_count": 2,
     "metadata": {},
     "output_type": "execute_result"
    }
   ],
   "source": [
    "mu.Vector()"
   ]
  },
  {
   "cell_type": "code",
   "execution_count": 3,
   "metadata": {},
   "outputs": [
    {
     "data": {
      "text/plain": [
       "Matrix(((1.0, 0.0, 0.0, 0.0),\n",
       "        (0.0, 1.0, 0.0, 0.0),\n",
       "        (0.0, 0.0, 1.0, 0.0),\n",
       "        (0.0, 0.0, 0.0, 1.0)))"
      ]
     },
     "execution_count": 3,
     "metadata": {},
     "output_type": "execute_result"
    }
   ],
   "source": [
    "mu.Matrix()"
   ]
  },
  {
   "cell_type": "code",
   "execution_count": 8,
   "metadata": {},
   "outputs": [],
   "source": [
    "# data classes with mutable list\n",
    "from dataclasses import dataclass, field\n",
    "@dataclass\n",
    "class SomeClass:\n",
    "    some_list: list = field(default_factory=list[str])"
   ]
  },
  {
   "cell_type": "code",
   "execution_count": 14,
   "metadata": {},
   "outputs": [],
   "source": [
    "d1 = SomeClass(some_list=['a','b','c'])\n",
    "d2 = SomeClass(some_list=['1','2','3'])"
   ]
  },
  {
   "cell_type": "code",
   "execution_count": 15,
   "metadata": {},
   "outputs": [
    {
     "data": {
      "text/plain": [
       "['a', 'b', 'c']"
      ]
     },
     "execution_count": 15,
     "metadata": {},
     "output_type": "execute_result"
    }
   ],
   "source": [
    "d1.some_list"
   ]
  },
  {
   "cell_type": "code",
   "execution_count": 16,
   "metadata": {},
   "outputs": [
    {
     "data": {
      "text/plain": [
       "['1', '2', '3']"
      ]
     },
     "execution_count": 16,
     "metadata": {},
     "output_type": "execute_result"
    }
   ],
   "source": [
    "d2.some_list"
   ]
  },
  {
   "cell_type": "code",
   "execution_count": 17,
   "metadata": {},
   "outputs": [
    {
     "data": {
      "text/plain": [
       "SomeClass(some_list=['a', 'b', 'c', 'd'])"
      ]
     },
     "execution_count": 17,
     "metadata": {},
     "output_type": "execute_result"
    }
   ],
   "source": [
    "d1.some_list.append('d')\n",
    "d1"
   ]
  },
  {
   "cell_type": "code",
   "execution_count": 18,
   "metadata": {},
   "outputs": [
    {
     "data": {
      "text/plain": [
       "SomeClass(some_list=['1', '2', '3'])"
      ]
     },
     "execution_count": 18,
     "metadata": {},
     "output_type": "execute_result"
    }
   ],
   "source": [
    "d2"
   ]
  },
  {
   "cell_type": "code",
   "execution_count": 19,
   "metadata": {},
   "outputs": [
    {
     "data": {
      "text/plain": [
       "SomeClass(some_list=[])"
      ]
     },
     "execution_count": 19,
     "metadata": {},
     "output_type": "execute_result"
    }
   ],
   "source": [
    "d3=SomeClass()\n",
    "d3"
   ]
  },
  {
   "cell_type": "code",
   "execution_count": 24,
   "metadata": {},
   "outputs": [],
   "source": [
    "my_dict = {}\n",
    "my_dict[\"a1\"] = my_dict.get(\"a1\", SomeClass())"
   ]
  },
  {
   "cell_type": "code",
   "execution_count": 25,
   "metadata": {},
   "outputs": [
    {
     "data": {
      "text/plain": [
       "{'a1': SomeClass(some_list=[])}"
      ]
     },
     "execution_count": 25,
     "metadata": {},
     "output_type": "execute_result"
    }
   ],
   "source": [
    "my_dict"
   ]
  },
  {
   "cell_type": "code",
   "execution_count": 26,
   "metadata": {},
   "outputs": [
    {
     "data": {
      "text/plain": [
       "{'a1': SomeClass(some_list=['a', 'b', 'c', 'd'])}"
      ]
     },
     "execution_count": 26,
     "metadata": {},
     "output_type": "execute_result"
    }
   ],
   "source": [
    "my_dict[\"a1\"] = d1\n",
    "my_dict[\"a1\"] = my_dict.get(\"a1\", SomeClass())\n",
    "my_dict\n"
   ]
  },
  {
   "cell_type": "code",
   "execution_count": 27,
   "metadata": {},
   "outputs": [
    {
     "data": {
      "text/plain": [
       "{'a1': SomeClass(some_list=['a', 'b', 'c', 'd']),\n",
       " 'b2': SomeClass(some_list=[])}"
      ]
     },
     "execution_count": 27,
     "metadata": {},
     "output_type": "execute_result"
    }
   ],
   "source": [
    "my_dict[\"b2\"] = my_dict.get(\"b2\", SomeClass())\n",
    "my_dict"
   ]
  },
  {
   "cell_type": "code",
   "execution_count": 69,
   "metadata": {},
   "outputs": [],
   "source": [
    "x0 , x1, x2  = 1, 2, 0\n",
    "z0 , z1, z2  = 0, 0, 1\n",
    "p0,p1,p2 = 10, 20, 30"
   ]
  },
  {
   "cell_type": "code",
   "execution_count": 61,
   "metadata": {},
   "outputs": [
    {
     "data": {
      "text/plain": [
       "Vector((0.4472135901451111, 0.8944271802902222, 0.0))"
      ]
     },
     "execution_count": 61,
     "metadata": {},
     "output_type": "execute_result"
    }
   ],
   "source": [
    "\n",
    "x = mu.Vector((x0,x1,x2)).normalized()\n",
    "x"
   ]
  },
  {
   "cell_type": "code",
   "execution_count": 62,
   "metadata": {},
   "outputs": [
    {
     "data": {
      "text/plain": [
       "Vector((0.0, 0.0, 1.0))"
      ]
     },
     "execution_count": 62,
     "metadata": {},
     "output_type": "execute_result"
    }
   ],
   "source": [
    "z = mu.Vector((z0,z1,z2)).normalized()\n",
    "z"
   ]
  },
  {
   "cell_type": "code",
   "execution_count": 63,
   "metadata": {},
   "outputs": [
    {
     "data": {
      "text/plain": [
       "Vector((0.8944271802902222, -0.4472135901451111, 0.0))"
      ]
     },
     "execution_count": 63,
     "metadata": {},
     "output_type": "execute_result"
    }
   ],
   "source": [
    "y = x.cross(z)\n",
    "y"
   ]
  },
  {
   "cell_type": "code",
   "execution_count": 70,
   "metadata": {},
   "outputs": [
    {
     "data": {
      "text/plain": [
       "Vector((10.0, 20.0, 30.0))"
      ]
     },
     "execution_count": 70,
     "metadata": {},
     "output_type": "execute_result"
    }
   ],
   "source": [
    "p = mu.Vector((p0,p1,p2))\n",
    "p"
   ]
  },
  {
   "cell_type": "code",
   "execution_count": 66,
   "metadata": {},
   "outputs": [
    {
     "data": {
      "text/plain": [
       "(Matrix(((0.4472135901451111, 0.8944271802902222, 0.0),\n",
       "         (0.8944271802902222, -0.4472135901451111, 0.0),\n",
       "         (0.0, 0.0, 1.0))),\n",
       " Matrix(((0.4472135901451111, 0.8944271802902222, 0.0),\n",
       "         (0.8944271802902222, -0.4472135901451111, 0.0),\n",
       "         (0.0, 0.0, 1.0))))"
      ]
     },
     "execution_count": 66,
     "metadata": {},
     "output_type": "execute_result"
    }
   ],
   "source": [
    "mat = mu.Matrix([x,y,z])\n",
    "mat, mat.transposed()"
   ]
  },
  {
   "cell_type": "code",
   "execution_count": 68,
   "metadata": {},
   "outputs": [
    {
     "data": {
      "text/plain": [
       "True"
      ]
     },
     "execution_count": 68,
     "metadata": {},
     "output_type": "execute_result"
    }
   ],
   "source": [
    "mat.is_orthogonal_axis_vectors"
   ]
  },
  {
   "cell_type": "code",
   "execution_count": null,
   "metadata": {},
   "outputs": [],
   "source": []
  },
  {
   "cell_type": "code",
   "execution_count": 71,
   "metadata": {},
   "outputs": [
    {
     "data": {
      "text/plain": [
       "Matrix(((0.4472135901451111, 0.8944271802902222, 0.0, 10.0),\n",
       "        (0.8944271802902222, -0.4472135901451111, 0.0, 20.0),\n",
       "        (0.0, 0.0, 1.0, 30.0),\n",
       "        (0.0, 0.0, 0.0, 1.0)))"
      ]
     },
     "execution_count": 71,
     "metadata": {},
     "output_type": "execute_result"
    }
   ],
   "source": [
    "mat4 = mu.Matrix.LocRotScale(p,mat, None)\n",
    "mat4"
   ]
  },
  {
   "cell_type": "code",
   "execution_count": 47,
   "metadata": {},
   "outputs": [
    {
     "ename": "TypeError",
     "evalue": "'tuple' object does not support item assignment",
     "output_type": "error",
     "traceback": [
      "\u001b[0;31m---------------------------------------------------------------------------\u001b[0m",
      "\u001b[0;31mTypeError\u001b[0m                                 Traceback (most recent call last)",
      "Cell \u001b[0;32mIn[47], line 1\u001b[0m\n\u001b[0;32m----> 1\u001b[0m \u001b[43mmat\u001b[49m\u001b[43m[\u001b[49m\u001b[38;5;241;43m0\u001b[39;49m\u001b[43m:\u001b[49m\u001b[38;5;241;43m3\u001b[39;49m\u001b[43m]\u001b[49m\u001b[43m[\u001b[49m\u001b[38;5;241;43m0\u001b[39;49m\u001b[43m]\u001b[49m \u001b[38;5;241m=\u001b[39m x0,x1,x2,\u001b[38;5;241m0\u001b[39m\n\u001b[1;32m      2\u001b[0m mat\n",
      "\u001b[0;31mTypeError\u001b[0m: 'tuple' object does not support item assignment"
     ]
    }
   ],
   "source": [
    "mat[0:3][0] = x0,x1,x2,0\n",
    "mat"
   ]
  },
  {
   "cell_type": "code",
   "execution_count": 43,
   "metadata": {},
   "outputs": [],
   "source": [
    "mat_loc = mu.Matrix.Translation((2.0, 3.0, 4.0))"
   ]
  },
  {
   "cell_type": "code",
   "execution_count": 44,
   "metadata": {},
   "outputs": [
    {
     "data": {
      "text/plain": [
       "Matrix(((1.0, 0.0, 0.0, 2.0),\n",
       "        (0.0, 1.0, 0.0, 3.0),\n",
       "        (0.0, 0.0, 1.0, 4.0),\n",
       "        (0.0, 0.0, 0.0, 1.0)))"
      ]
     },
     "execution_count": 44,
     "metadata": {},
     "output_type": "execute_result"
    }
   ],
   "source": [
    "mat_loc"
   ]
  },
  {
   "cell_type": "code",
   "execution_count": 50,
   "metadata": {},
   "outputs": [
    {
     "ename": "TypeError",
     "evalue": "'tuple' object does not support item assignment",
     "output_type": "error",
     "traceback": [
      "\u001b[0;31m---------------------------------------------------------------------------\u001b[0m",
      "\u001b[0;31mTypeError\u001b[0m                                 Traceback (most recent call last)",
      "Cell \u001b[0;32mIn[50], line 1\u001b[0m\n\u001b[0;32m----> 1\u001b[0m \u001b[43mmat\u001b[49m\u001b[43m[\u001b[49m\u001b[38;5;241;43m0\u001b[39;49m\u001b[43m:\u001b[49m\u001b[38;5;241;43m3\u001b[39;49m\u001b[43m]\u001b[49m\u001b[43m[\u001b[49m\u001b[38;5;241;43m0\u001b[39;49m\u001b[43m]\u001b[49m \u001b[38;5;241m=\u001b[39m \u001b[38;5;241m0.0\u001b[39m, \u001b[38;5;241m1.0\u001b[39m, \u001b[38;5;241m2.0\u001b[39m\n\u001b[1;32m      2\u001b[0m mat\n",
      "\u001b[0;31mTypeError\u001b[0m: 'tuple' object does not support item assignment"
     ]
    }
   ],
   "source": [
    "mat[0:3][0] = 0.0, 1.0, 2.0\n",
    "mat"
   ]
  },
  {
   "cell_type": "code",
   "execution_count": 52,
   "metadata": {},
   "outputs": [
    {
     "ename": "AttributeError",
     "evalue": "'Matrix' object has no attribute 'x_axis'",
     "output_type": "error",
     "traceback": [
      "\u001b[0;31m---------------------------------------------------------------------------\u001b[0m",
      "\u001b[0;31mAttributeError\u001b[0m                            Traceback (most recent call last)",
      "Cell \u001b[0;32mIn[52], line 1\u001b[0m\n\u001b[0;32m----> 1\u001b[0m \u001b[43mmat\u001b[49m\u001b[38;5;241;43m.\u001b[39;49m\u001b[43mx_axis\u001b[49m\n",
      "\u001b[0;31mAttributeError\u001b[0m: 'Matrix' object has no attribute 'x_axis'"
     ]
    }
   ],
   "source": [
    "mat."
   ]
  },
  {
   "cell_type": "code",
   "execution_count": null,
   "metadata": {},
   "outputs": [],
   "source": []
  }
 ],
 "metadata": {
  "kernelspec": {
   "display_name": ".venv",
   "language": "python",
   "name": "python3"
  },
  "language_info": {
   "codemirror_mode": {
    "name": "ipython",
    "version": 3
   },
   "file_extension": ".py",
   "mimetype": "text/x-python",
   "name": "python",
   "nbconvert_exporter": "python",
   "pygments_lexer": "ipython3",
   "version": "3.11.9"
  }
 },
 "nbformat": 4,
 "nbformat_minor": 2
}
