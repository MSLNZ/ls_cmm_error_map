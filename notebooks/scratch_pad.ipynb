{
 "cells": [
  {
   "cell_type": "code",
   "execution_count": 1,
   "metadata": {},
   "outputs": [],
   "source": [
    "import numpy as np\n",
    "import pickle"
   ]
  },
  {
   "cell_type": "code",
   "execution_count": 2,
   "metadata": {},
   "outputs": [],
   "source": [
    "import cmm_error_map.config as cf"
   ]
  },
  {
   "cell_type": "code",
   "execution_count": 4,
   "metadata": {},
   "outputs": [
    {
     "data": {
      "text/plain": [
       "PosixPath('/home/elfnor/gits/ls_cmm_error_map/config')"
      ]
     },
     "execution_count": 4,
     "metadata": {},
     "output_type": "execute_result"
    }
   ],
   "source": [
    "cf.config_folder"
   ]
  },
  {
   "cell_type": "code",
   "execution_count": 5,
   "metadata": {},
   "outputs": [
    {
     "data": {
      "text/plain": [
       "PosixPath('/home/elfnor/gits/ls_cmm_error_map/config/machines.toml')"
      ]
     },
     "execution_count": 5,
     "metadata": {},
     "output_type": "execute_result"
    }
   ],
   "source": [
    "cf.machines_toml"
   ]
  },
  {
   "cell_type": "code",
   "execution_count": 6,
   "metadata": {},
   "outputs": [
    {
     "data": {
      "text/plain": [
       "0.03252696990966797"
      ]
     },
     "execution_count": 6,
     "metadata": {},
     "output_type": "execute_result"
    }
   ],
   "source": [
    "1738635857.715278 - 1738635857.682751"
   ]
  },
  {
   "cell_type": "code",
   "execution_count": 7,
   "metadata": {},
   "outputs": [
    {
     "data": {
      "text/plain": [
       "0.06684303283691406"
      ]
     },
     "execution_count": 7,
     "metadata": {},
     "output_type": "execute_result"
    }
   ],
   "source": [
    "1738636148.704041 - 1738636148.637198"
   ]
  },
  {
   "cell_type": "code",
   "execution_count": null,
   "metadata": {},
   "outputs": [],
   "source": [
    "180 * np.deg2rad(1)"
   ]
  },
  {
   "cell_type": "code",
   "execution_count": null,
   "metadata": {},
   "outputs": [],
   "source": [
    "pd = {}\n",
    "pd.values()"
   ]
  },
  {
   "cell_type": "code",
   "execution_count": null,
   "metadata": {},
   "outputs": [],
   "source": [
    "for p in pd.values():\n",
    "    print(\"hello\")"
   ]
  },
  {
   "cell_type": "code",
   "execution_count": null,
   "metadata": {},
   "outputs": [],
   "source": [
    "d = {\"a\": 1}\n",
    "if \"b\" in d:\n",
    "    print(\"here I am\")"
   ]
  },
  {
   "cell_type": "code",
   "execution_count": null,
   "metadata": {},
   "outputs": [],
   "source": [
    "532 / 4"
   ]
  },
  {
   "cell_type": "code",
   "execution_count": null,
   "metadata": {},
   "outputs": [],
   "source": [
    "332 / 4"
   ]
  },
  {
   "cell_type": "code",
   "execution_count": null,
   "metadata": {},
   "outputs": [],
   "source": [
    "nballs = (3, 3)\n",
    "ballspacing = 1.0\n",
    "\n",
    "ball_count = nballs[0] * nballs[1]\n",
    "ballnumber = np.arange(ball_count)\n",
    "\n",
    "xp = (ballnumber % nballs[0]) * ballspacing\n",
    "yp = (ballnumber // nballs[1]) * ballspacing\n"
   ]
  },
  {
   "cell_type": "code",
   "execution_count": null,
   "metadata": {},
   "outputs": [],
   "source": [
    "xp, yp"
   ]
  },
  {
   "cell_type": "code",
   "execution_count": null,
   "metadata": {},
   "outputs": [],
   "source": [
    "yp"
   ]
  },
  {
   "cell_type": "code",
   "execution_count": null,
   "metadata": {},
   "outputs": [],
   "source": [
    "xyz1 = np.stack((xp, yp, np.zeros_like(xp), np.ones_like(xp)))\n",
    "xyz1.shape"
   ]
  },
  {
   "cell_type": "code",
   "execution_count": null,
   "metadata": {},
   "outputs": [],
   "source": [
    "import mathutils as mu\n",
    "import math"
   ]
  },
  {
   "cell_type": "code",
   "execution_count": null,
   "metadata": {},
   "outputs": [],
   "source": [
    "mat_rot = mu.Matrix.Rotation(math.radians(90.0), 4, \"Z\")\n",
    "mat_rot"
   ]
  },
  {
   "cell_type": "code",
   "execution_count": null,
   "metadata": {},
   "outputs": [],
   "source": [
    "pts = np.array(mat_rot) @ xyz1\n",
    "pts.shape\n"
   ]
  },
  {
   "cell_type": "code",
   "execution_count": null,
   "metadata": {},
   "outputs": [],
   "source": [
    "pts"
   ]
  },
  {
   "cell_type": "code",
   "execution_count": null,
   "metadata": {},
   "outputs": [],
   "source": [
    "xyz1"
   ]
  },
  {
   "cell_type": "code",
   "execution_count": null,
   "metadata": {},
   "outputs": [],
   "source": [
    "pts[:, 2]"
   ]
  },
  {
   "cell_type": "code",
   "execution_count": null,
   "metadata": {},
   "outputs": [],
   "source": [
    "# check pyqt QTransform against Blender mathutils"
   ]
  },
  {
   "cell_type": "code",
   "execution_count": null,
   "metadata": {},
   "outputs": [],
   "source": [
    "bl_eul = mu.Euler(mu.Vector((1, 1, 1))).to_matrix()\n",
    "bl_eul"
   ]
  },
  {
   "cell_type": "code",
   "execution_count": null,
   "metadata": {},
   "outputs": [],
   "source": [
    "from PySide6.QtGui import QMatrix4x4, QQuaternion, QVector3D, QTransform\n"
   ]
  },
  {
   "cell_type": "code",
   "execution_count": null,
   "metadata": {},
   "outputs": [],
   "source": [
    "mat = QMatrix4x4()\n",
    "mat"
   ]
  },
  {
   "cell_type": "code",
   "execution_count": null,
   "metadata": {},
   "outputs": [],
   "source": [
    "q1 = QQuaternion().fromEulerAngles(0, 0, 1.5)\n",
    "q1"
   ]
  },
  {
   "cell_type": "code",
   "execution_count": null,
   "metadata": {},
   "outputs": [],
   "source": [
    "q1.toRotationMatrix()"
   ]
  },
  {
   "cell_type": "code",
   "execution_count": null,
   "metadata": {},
   "outputs": [],
   "source": [
    "import mathutils as mu\n",
    "import math"
   ]
  },
  {
   "cell_type": "code",
   "execution_count": null,
   "metadata": {},
   "outputs": [],
   "source": [
    "e1_rad = [0.0, 0.0, np.pi / 2]\n",
    "e1_deg = np.rad2deg(e1_rad)\n"
   ]
  },
  {
   "cell_type": "markdown",
   "metadata": {},
   "source": []
  },
  {
   "cell_type": "code",
   "execution_count": null,
   "metadata": {},
   "outputs": [],
   "source": [
    "mu.Euler(e1_rad).to_matrix()"
   ]
  },
  {
   "cell_type": "code",
   "execution_count": null,
   "metadata": {},
   "outputs": [],
   "source": [
    "QQuaternion.fromEulerAngles(e1_deg[2], e1_deg[0], e1_deg[1]).toRotationMatrix()"
   ]
  },
  {
   "cell_type": "code",
   "execution_count": null,
   "metadata": {},
   "outputs": [],
   "source": [
    "mu.Euler([0, 0, np.deg2rad(90)]).to_matrix()"
   ]
  },
  {
   "cell_type": "code",
   "execution_count": null,
   "metadata": {},
   "outputs": [],
   "source": [
    "mu.Euler([np.deg2rad(10), np.deg2rad(20), np.deg2rad(30)]).to_matrix()"
   ]
  },
  {
   "cell_type": "code",
   "execution_count": null,
   "metadata": {},
   "outputs": [],
   "source": [
    "from pyqtgraph import Transform3D"
   ]
  },
  {
   "cell_type": "code",
   "execution_count": null,
   "metadata": {},
   "outputs": [],
   "source": [
    "tr = Transform3D()\n",
    "tr.setToIdentity()\n",
    "tr.rotate(10, 1, 0, 0)\n",
    "tr.rotate(20, 0, 1, 0)\n",
    "tr.rotate(30, 0, 0, 1)\n",
    "tr.translate(0, 0, 0)\n",
    "tr.matrix()"
   ]
  },
  {
   "cell_type": "code",
   "execution_count": null,
   "metadata": {},
   "outputs": [],
   "source": [
    "v1 = QVector3D()"
   ]
  },
  {
   "cell_type": "code",
   "execution_count": null,
   "metadata": {},
   "outputs": [],
   "source": [
    "x, y, z = v1.x(), v1.y(), v1.z()"
   ]
  },
  {
   "cell_type": "code",
   "execution_count": null,
   "metadata": {},
   "outputs": [],
   "source": [
    "y"
   ]
  },
  {
   "cell_type": "code",
   "execution_count": null,
   "metadata": {},
   "outputs": [],
   "source": [
    "QVector3D(1, 2, 3)"
   ]
  },
  {
   "cell_type": "code",
   "execution_count": null,
   "metadata": {},
   "outputs": [],
   "source": [
    "for i in range(11):\n",
    "    print(f\"{i:02d}\")"
   ]
  },
  {
   "cell_type": "code",
   "execution_count": null,
   "metadata": {},
   "outputs": [],
   "source": [
    "d1 = {\"A\": \"a1\", \"B\": \"b1\", \"C\": \"c1\"}\n",
    "c1 = [\"A\", \"C\"]\n",
    "n1 = [d1[c] for c in c1]\n",
    "n1"
   ]
  },
  {
   "cell_type": "code",
   "execution_count": null,
   "metadata": {},
   "outputs": [],
   "source": [
    "from cmm_error_map import data_cmpts as dc"
   ]
  },
  {
   "cell_type": "code",
   "execution_count": null,
   "metadata": {},
   "outputs": [],
   "source": [
    "artefact = dc.default_artefacts[\"KOBA 0620\"]"
   ]
  },
  {
   "cell_type": "code",
   "execution_count": null,
   "metadata": {},
   "outputs": [],
   "source": [
    "ballnumber = np.arange(artefact.nballs[0] * artefact.nballs[1])\n",
    "x = (ballnumber) % artefact.nballs[0] * artefact.ball_spacing\n",
    "y = (ballnumber) // artefact.nballs[1] * artefact.ball_spacing\n",
    "z = (ballnumber) * 0.0\n",
    "x, y, z"
   ]
  },
  {
   "cell_type": "code",
   "execution_count": null,
   "metadata": {},
   "outputs": [],
   "source": [
    "xyz = np.stack((x, y, z))\n",
    "xyz.shape, xyz\n"
   ]
  },
  {
   "cell_type": "code",
   "execution_count": null,
   "metadata": {},
   "outputs": [],
   "source": [
    "xyz[0, :]"
   ]
  },
  {
   "cell_type": "code",
   "execution_count": null,
   "metadata": {},
   "outputs": [],
   "source": [
    "import cmm_error_map.design_matrix_linear_fixed as design"
   ]
  },
  {
   "cell_type": "code",
   "execution_count": null,
   "metadata": {},
   "outputs": [],
   "source": [
    "model_params = design.model_parameters_dict.copy()\n",
    "pars = list(model_params.values())\n",
    "E = design.model_linear(x, y, z, pars, 0.0, 0.0, 0.0)"
   ]
  },
  {
   "cell_type": "code",
   "execution_count": null,
   "metadata": {},
   "outputs": [],
   "source": [
    "E"
   ]
  },
  {
   "cell_type": "code",
   "execution_count": null,
   "metadata": {},
   "outputs": [],
   "source": [
    "np.stack(E) + xyz"
   ]
  },
  {
   "cell_type": "code",
   "execution_count": null,
   "metadata": {},
   "outputs": [],
   "source": [
    "size = (1, 2, 3)\n",
    "x, y, z = size\n",
    "z"
   ]
  },
  {
   "cell_type": "code",
   "execution_count": null,
   "metadata": {},
   "outputs": [],
   "source": [
    "from cmm_error_map import data_cmpts as dc\n",
    "from cmm_error_map import gui_cmpts as gc\n",
    "from cmm_error_map import design_matrix_linear_fixed as design\n",
    "\n",
    "import pyqtgraph as pg\n",
    "import pyqtgraph.Qt.QtGui as qtg"
   ]
  },
  {
   "cell_type": "code",
   "execution_count": null,
   "metadata": {},
   "outputs": [],
   "source": [
    "p0 = dc.Probe(title=\"P0\", name=\"p0\", length=qtg.QVector3D(0, 0, 0))\n",
    "mmt = dc.Measurement(\n",
    "    title=\"m1\",\n",
    "    name=\"mmt_00\",\n",
    "    artefact=dc.default_artefacts[\"KOBA 0620\"],\n",
    "    transform3d=pg.Transform3D(),\n",
    "    probe=p0,\n",
    "    xy2d=None,\n",
    "    dev2d=None,\n",
    "    xyz3d=None,\n",
    "    dev3d=None,\n",
    ")\n",
    "mmt.artefact.nballs = (5, 4)\n",
    "model_params = design.model_parameters_dict.copy()\n",
    "mmt.recalculate(model_params)"
   ]
  },
  {
   "cell_type": "code",
   "execution_count": null,
   "metadata": {},
   "outputs": [],
   "source": [
    "pars = list(model_params.values())\n",
    "vprobe = mmt.probe.length\n",
    "xt, yt, zt = vprobe.x(), vprobe.y(), vprobe.z()\n",
    "XYZ, eXYZ = design.machine_deformation(pars, xt, yt, zt)\n",
    "pXYZ_3D = XYZ + 1.0 * eXYZ"
   ]
  },
  {
   "cell_type": "code",
   "execution_count": null,
   "metadata": {},
   "outputs": [],
   "source": [
    "pXYZ_3D.shape"
   ]
  },
  {
   "cell_type": "markdown",
   "metadata": {},
   "source": [
    "line pairs for GLLinePlotItem need to be (n*2,3), where n is the number of lines\n",
    "need index triples such that pXYZ_3D[0,0,0, :], pXYZ[1,0,0, :]  is the first line segment \n",
    "```\n",
    "0 0 0 \n",
    "1 0 0\n",
    "1 0 0 \n",
    "2 0 0 \n",
    "2 0 0\n",
    "3 0 0\n",
    "3 0 0\n",
    "4 0 0\n",
    "\n",
    "0 1 0\n",
    "\n",
    "to create this in 2d see update_plot2d_plate\n"
   ]
  },
  {
   "cell_type": "code",
   "execution_count": null,
   "metadata": {},
   "outputs": [],
   "source": [
    "# as loops\n",
    "nx, ny, nz = pXYZ_3D.shape[:3]\n",
    "inds = []\n",
    "# lines parallel to x-axis\n",
    "for k in range(nz):\n",
    "    for j in range(ny):\n",
    "        indx = np.arange(nx)\n",
    "        indx = np.repeat(indx, 2)[1:-1]\n",
    "        for i in indx:\n",
    "            inds.append([i, j, k])\n",
    "\n",
    "# lines parallel to y-axis\n",
    "for k in range(nz):\n",
    "    for i in range(nx):\n",
    "        indy = np.arange(ny)\n",
    "        indy = np.repeat(indy, 2)[1:-1]\n",
    "        for j in indy:\n",
    "            inds.append([i, j, k])\n",
    "\n",
    "# lines parallel to z-axis\n",
    "for j in range(ny):\n",
    "    for i in range(nx):\n",
    "        indz = np.arange(nz)\n",
    "        indz = np.repeat(indz, 2)[1:-1]\n",
    "        for k in indz:\n",
    "            inds.append([i, j, k])"
   ]
  },
  {
   "cell_type": "code",
   "execution_count": null,
   "metadata": {},
   "outputs": [],
   "source": [
    "inds2 = []\n",
    "# lines parallel to x-axis\n",
    "for k in range(nz):\n",
    "    for j in range(ny):\n",
    "        ind = np.arange(nx)\n",
    "        ind = np.repeat(ind, 2)[1:-1]\n",
    "        indx = [[i, j, k] for i in ind]\n",
    "        inds2.extend(indx)\n",
    "\n",
    "# lines parallel to y-axis\n",
    "for k in range(nz):\n",
    "    for i in range(nx):\n",
    "        ind = np.arange(ny)\n",
    "        ind = np.repeat(ind, 2)[1:-1]\n",
    "        indy = [[i, j, k] for i in ind]\n",
    "        inds2.extend(indy)\n",
    "\n",
    "# lines parallel to z-axis\n",
    "for j in range(ny):\n",
    "    for i in range(nx):\n",
    "        ind = np.arange(nz)\n",
    "        ind = np.repeat(ind, 2)[1:-1]\n",
    "        indz = [[i, j, k] for i in ind]\n",
    "        inds2.extend(indz)\n",
    "\n",
    "len(inds2), len(inds)"
   ]
  },
  {
   "cell_type": "code",
   "execution_count": null,
   "metadata": {},
   "outputs": [],
   "source": [
    "nx, ny, nz = 3, 3, 3\n",
    "inds3 = []\n",
    "indx = np.repeat(np.arange(nx), 2)[1:-1]\n",
    "indy = np.repeat(np.arange(ny), 2)[1:-1]\n",
    "indz = np.repeat(np.arange(nz), 2)[1:-1]\n",
    "\n",
    "# lines parallel to x-axis\n",
    "for k in range(nz):\n",
    "    for j in range(ny):\n",
    "        ind = [[i, j, k] for i in indx]\n",
    "        inds3.extend(ind)\n",
    "print(len(inds3))\n",
    "\n",
    "# lines parallel to y-axis\n",
    "for k in range(nz):\n",
    "    for i in range(nx):\n",
    "        ind = [[i, j, k] for j in indy]\n",
    "        inds3.extend(ind)\n",
    "print(len(inds3))\n",
    "\n",
    "# lines parallel to z-axis\n",
    "for j in range(ny):\n",
    "    for i in range(nx):\n",
    "        ind = [[i, j, k] for k in indz]\n",
    "        inds3.extend(ind)\n",
    "\n",
    "print(len(inds3))"
   ]
  },
  {
   "cell_type": "code",
   "execution_count": null,
   "metadata": {},
   "outputs": [],
   "source": [
    "# this is two points per edge which is correct length"
   ]
  },
  {
   "cell_type": "code",
   "execution_count": null,
   "metadata": {},
   "outputs": [],
   "source": [
    "nx, ny, nz = 5, 4, 4\n",
    "inds3 = []\n",
    "indx = np.repeat(np.arange(nx), 2)[1:-1]\n",
    "indy = np.repeat(np.arange(ny), 2)[1:-1]\n",
    "indz = np.repeat(np.arange(nz), 2)[1:-1]\n",
    "\n",
    "# lines parallel to x-axis\n",
    "for k in range(nz):\n",
    "    for j in range(ny):\n",
    "        ind = [[i, j, k] for i in indx]\n",
    "        inds3.extend(ind)\n",
    "print(len(inds3))\n",
    "\n",
    "# lines parallel to y-axis\n",
    "for k in range(nz):\n",
    "    for i in range(nx):\n",
    "        ind = [[i, j, k] for j in indy]\n",
    "        inds3.extend(ind)\n",
    "print(len(inds3))\n",
    "\n",
    "# lines parallel to z-axis\n",
    "for j in range(ny):\n",
    "    for i in range(nx):\n",
    "        ind = [[i, j, k] for k in indz]\n",
    "        inds3.extend(ind)\n",
    "\n",
    "print(len(inds3))"
   ]
  },
  {
   "cell_type": "code",
   "execution_count": null,
   "metadata": {},
   "outputs": [],
   "source": [
    "i1 = np.array(gc.grid_line_indicies((5, 4, 4)))\n",
    "i1.shape"
   ]
  },
  {
   "cell_type": "code",
   "execution_count": null,
   "metadata": {},
   "outputs": [],
   "source": [
    "pXYZ_3D.shape"
   ]
  },
  {
   "cell_type": "code",
   "execution_count": null,
   "metadata": {},
   "outputs": [],
   "source": [
    "m = np.arange(5 * 4 * 4).reshape((5, 4, 4))\n",
    "m"
   ]
  },
  {
   "cell_type": "code",
   "execution_count": null,
   "metadata": {},
   "outputs": [],
   "source": [
    "m[1, 2, 3]"
   ]
  },
  {
   "cell_type": "code",
   "execution_count": null,
   "metadata": {},
   "outputs": [],
   "source": [
    "i1[319]"
   ]
  },
  {
   "cell_type": "code",
   "execution_count": null,
   "metadata": {},
   "outputs": [],
   "source": [
    "m[i1[319]]"
   ]
  },
  {
   "cell_type": "code",
   "execution_count": null,
   "metadata": {},
   "outputs": [],
   "source": [
    "m[*i1[319]]"
   ]
  },
  {
   "cell_type": "code",
   "execution_count": null,
   "metadata": {},
   "outputs": [],
   "source": [
    "pXYZ_3D[1, 2, 3, :]"
   ]
  },
  {
   "cell_type": "code",
   "execution_count": null,
   "metadata": {},
   "outputs": [],
   "source": [
    "pXYZ_3D[*i1[319], :]"
   ]
  },
  {
   "cell_type": "code",
   "execution_count": null,
   "metadata": {},
   "outputs": [],
   "source": [
    "a = np.array([[1, 2], [3, 4], [5, 6]])\n",
    "b = np.array([0, 1, 2, 2, 1, 0])\n"
   ]
  },
  {
   "cell_type": "code",
   "execution_count": null,
   "metadata": {},
   "outputs": [],
   "source": [
    "a"
   ]
  },
  {
   "cell_type": "code",
   "execution_count": null,
   "metadata": {},
   "outputs": [],
   "source": [
    "a[b, :]"
   ]
  },
  {
   "cell_type": "code",
   "execution_count": null,
   "metadata": {},
   "outputs": [],
   "source": [
    "mxyz = np.stack((m, m, m), axis=3)\n",
    "mxyz.shape"
   ]
  },
  {
   "cell_type": "code",
   "execution_count": null,
   "metadata": {},
   "outputs": [],
   "source": [
    "mxyz[i1[:, 0], i1[:, 1], i1[:, 2], :]"
   ]
  },
  {
   "cell_type": "code",
   "execution_count": null,
   "metadata": {},
   "outputs": [],
   "source": [
    "mxyz[1, 2, 3, :]"
   ]
  },
  {
   "cell_type": "code",
   "execution_count": null,
   "metadata": {},
   "outputs": [],
   "source": [
    "mxyz[b, 2, 3, :]"
   ]
  },
  {
   "cell_type": "code",
   "execution_count": null,
   "metadata": {},
   "outputs": [],
   "source": [
    "i1[1, :]"
   ]
  },
  {
   "cell_type": "code",
   "execution_count": null,
   "metadata": {},
   "outputs": [],
   "source": [
    "i1[319, :]"
   ]
  },
  {
   "cell_type": "code",
   "execution_count": null,
   "metadata": {},
   "outputs": [],
   "source": [
    "mxyz[i1[319, 0], i1[319, 1], i1[319, 2], :]"
   ]
  },
  {
   "cell_type": "code",
   "execution_count": null,
   "metadata": {},
   "outputs": [],
   "source": [
    "mind = mxyz[i1[:, 0], i1[:, 1], i1[:, 2], :]\n",
    "mind.shape"
   ]
  },
  {
   "cell_type": "code",
   "execution_count": null,
   "metadata": {},
   "outputs": [],
   "source": [
    "npts = (5, 4, 4)\n",
    "pnts_total = np.arange(npts[0] * npts[1] * npts[2])\n",
    "pnts_total\n"
   ]
  },
  {
   "cell_type": "code",
   "execution_count": null,
   "metadata": {},
   "outputs": [],
   "source": [
    "x = pnts_total % npts[0]\n",
    "x"
   ]
  },
  {
   "cell_type": "code",
   "execution_count": null,
   "metadata": {},
   "outputs": [],
   "source": [
    "y = pnts_total // npts[0]\n",
    "y"
   ]
  },
  {
   "cell_type": "code",
   "execution_count": null,
   "metadata": {},
   "outputs": [],
   "source": [
    "z = pnts_total // (npts[0] * npts[1])\n",
    "z"
   ]
  },
  {
   "cell_type": "code",
   "execution_count": null,
   "metadata": {},
   "outputs": [],
   "source": [
    "xyz, dev = dc.data_plot3d_box(\n",
    "    mmt.probe.length, model_params, npts=(3, 3, 2), spacing=(1.0, 1.0, 1.0)\n",
    ")"
   ]
  },
  {
   "cell_type": "code",
   "execution_count": null,
   "metadata": {},
   "outputs": [],
   "source": [
    "xyz"
   ]
  },
  {
   "cell_type": "code",
   "execution_count": null,
   "metadata": {},
   "outputs": [],
   "source": [
    "xyz.shape"
   ]
  },
  {
   "cell_type": "markdown",
   "metadata": {},
   "source": [
    "0112011201120112"
   ]
  },
  {
   "cell_type": "code",
   "execution_count": null,
   "metadata": {},
   "outputs": [],
   "source": [
    "nx, ny, nz = (4, 3, 3)\n",
    "indicies = []\n",
    "indx = np.repeat(np.arange(nx), 2)[1:-1]\n",
    "indy = np.repeat(np.arange(ny), 2)[1:-1]\n",
    "indz = np.repeat(np.arange(nz), 2)[1:-1]\n",
    "\n",
    "# lines parallel to x-axis\n",
    "for k in range(nz):\n",
    "    for j in range(ny):\n",
    "        ind = [i + j * nx + k * nx * ny for i in indx]\n",
    "        indicies.extend(ind)\n",
    "\n",
    "# lines parallel to y-axis\n",
    "for k in range(nz):\n",
    "    for i in range(nx):\n",
    "        ind = [i + j * nx + k * nx * ny for j in indy]\n",
    "        indicies.extend(ind)\n",
    "\n",
    "# lines parallel to z-axis\n",
    "for j in range(ny):\n",
    "    for i in range(nx):\n",
    "        ind = [i + j * nx + k * nx * ny for k in indz]\n",
    "        indicies.extend(ind)"
   ]
  },
  {
   "cell_type": "code",
   "execution_count": null,
   "metadata": {},
   "outputs": [],
   "source": [
    "len(indicies)"
   ]
  },
  {
   "cell_type": "code",
   "execution_count": null,
   "metadata": {},
   "outputs": [],
   "source": [
    "indx"
   ]
  },
  {
   "cell_type": "code",
   "execution_count": null,
   "metadata": {},
   "outputs": [],
   "source": [
    "indicies"
   ]
  },
  {
   "cell_type": "code",
   "execution_count": null,
   "metadata": {},
   "outputs": [],
   "source": [
    "int(800.0 // 200.0)"
   ]
  },
  {
   "cell_type": "code",
   "execution_count": null,
   "metadata": {},
   "outputs": [],
   "source": [
    "cols = [1, 1, 1, 0.5] * 25\n",
    "cols = np.array(cols).reshape(-1, 4)\n",
    "cols"
   ]
  },
  {
   "cell_type": "code",
   "execution_count": null,
   "metadata": {},
   "outputs": [],
   "source": [
    "cols[4, :] = [0.5, 1, 1, 0.5]\n",
    "cols"
   ]
  },
  {
   "cell_type": "code",
   "execution_count": null,
   "metadata": {},
   "outputs": [],
   "source": [
    "x = 0\n",
    "int(not x)"
   ]
  },
  {
   "cell_type": "code",
   "execution_count": null,
   "metadata": {},
   "outputs": [],
   "source": [
    "import tomllib as toml\n",
    "from pathlib import Path\n",
    "import cmm_error_map.data_cmpts as dc"
   ]
  },
  {
   "cell_type": "code",
   "execution_count": null,
   "metadata": {},
   "outputs": [],
   "source": [
    "def read_toml(fn, input_type):\n",
    "    with open(fn, \"rb\") as f:\n",
    "        toml_in = toml.load(f)\n",
    "    toml_in = {key: input_type(**value) for key, value in toml_in.items()}\n",
    "    return toml_in"
   ]
  },
  {
   "cell_type": "code",
   "execution_count": null,
   "metadata": {},
   "outputs": [],
   "source": [
    "fn = Path(\"/home/elfnor/gits/ls_cmm_error_map/src/cmm_error_map/config/machines.toml\")\n",
    "read_toml(fn, dc.MachineType)"
   ]
  },
  {
   "cell_type": "code",
   "execution_count": 19,
   "metadata": {},
   "outputs": [
    {
     "data": {
      "text/plain": [
       "{'KOBA 0620': ArtefactType(title='KOBA 0620', nballs=[5, 5], ball_spacing=133.0),\n",
       " 'KOBA 0420': ArtefactType(title='KOBA 0420', nballs=[5, 5], ball_spacing=83.0),\n",
       " 'KOBA 0320': ArtefactType(title='KOBA 0320', nballs=[5, 5], ball_spacing=60.0),\n",
       " 'Step Gauge 0600': ArtefactType(title='Step Gauge 0600', nballs=[61, 1], ball_spacing=10.0)}"
      ]
     },
     "execution_count": 19,
     "metadata": {},
     "output_type": "execute_result"
    }
   ],
   "source": [
    "import numpy as np\n",
    "import cmm_error_map.config.config as cf\n",
    "\n",
    "cf.artefact_models"
   ]
  },
  {
   "cell_type": "code",
   "execution_count": 20,
   "metadata": {},
   "outputs": [],
   "source": [
    "artefact = cf.artefact_models[\"Step Gauge 0600\"]"
   ]
  },
  {
   "cell_type": "code",
   "execution_count": 31,
   "metadata": {},
   "outputs": [
    {
     "data": {
      "text/plain": [
       "0.8660254037844387"
      ]
     },
     "execution_count": 31,
     "metadata": {},
     "output_type": "execute_result"
    }
   ],
   "source": [
    "np.cos(np.radians(30))"
   ]
  },
  {
   "cell_type": "code",
   "execution_count": 48,
   "metadata": {},
   "outputs": [],
   "source": [
    "rot45z = np.array(\n",
    "    [[0.5, -0.866, 0, 100], [0.866, 0.5, 0, 0], [0, 0, 1, 0], [0, 0, 0, 1]]\n",
    ")"
   ]
  },
  {
   "cell_type": "code",
   "execution_count": 56,
   "metadata": {},
   "outputs": [],
   "source": [
    "rot90z = np.array([[0, -1, 0, 100], [1, 0.0, 0, 0], [0, 0, 1, 0], [0, 0, 0, 1]])"
   ]
  },
  {
   "cell_type": "code",
   "execution_count": 63,
   "metadata": {},
   "outputs": [],
   "source": [
    "cmm = dc.pmm_866\n",
    "p0 = dc.Probe(title=\"P0\", name=\"p0\", length=np.array([0, 0, 0]))\n",
    "mmt = dc.Measurement(\n",
    "    title=\"m1\",\n",
    "    name=\"mmt_00\",\n",
    "    artefact=artefact,\n",
    "    transform_mat=rot45z,\n",
    "    probe=p0,\n",
    "    cmm_nominal=None,\n",
    "    cmm_dev=None,\n",
    "    mmt_nominal=None,\n",
    "    mmt_dev=None,\n",
    ")\n",
    "model_params = dc.model_parameters_test.copy()\n",
    "mmt.recalculate(model_params, cmm.cmm_model)"
   ]
  },
  {
   "cell_type": "code",
   "execution_count": 64,
   "metadata": {},
   "outputs": [
    {
     "data": {
      "text/plain": [
       "array([[100.  , 105.  , 110.  , 115.  , 120.  , 125.  , 130.  , 135.  ,\n",
       "        140.  , 145.  , 150.  , 155.  , 160.  , 165.  , 170.  , 175.  ,\n",
       "        180.  , 185.  , 190.  , 195.  , 200.  , 205.  , 210.  , 215.  ,\n",
       "        220.  , 225.  , 230.  , 235.  , 240.  , 245.  , 250.  , 255.  ,\n",
       "        260.  , 265.  , 270.  , 275.  , 280.  , 285.  , 290.  , 295.  ,\n",
       "        300.  , 305.  , 310.  , 315.  , 320.  , 325.  , 330.  , 335.  ,\n",
       "        340.  , 345.  , 350.  , 355.  , 360.  , 365.  , 370.  , 375.  ,\n",
       "        380.  , 385.  , 390.  , 395.  , 400.  ],\n",
       "       [  0.  ,   8.66,  17.32,  25.98,  34.64,  43.3 ,  51.96,  60.62,\n",
       "         69.28,  77.94,  86.6 ,  95.26, 103.92, 112.58, 121.24, 129.9 ,\n",
       "        138.56, 147.22, 155.88, 164.54, 173.2 , 181.86, 190.52, 199.18,\n",
       "        207.84, 216.5 , 225.16, 233.82, 242.48, 251.14, 259.8 , 268.46,\n",
       "        277.12, 285.78, 294.44, 303.1 , 311.76, 320.42, 329.08, 337.74,\n",
       "        346.4 , 355.06, 363.72, 372.38, 381.04, 389.7 , 398.36, 407.02,\n",
       "        415.68, 424.34, 433.  , 441.66, 450.32, 458.98, 467.64, 476.3 ,\n",
       "        484.96, 493.62, 502.28, 510.94, 519.6 ],\n",
       "       [  0.  ,   0.  ,   0.  ,   0.  ,   0.  ,   0.  ,   0.  ,   0.  ,\n",
       "          0.  ,   0.  ,   0.  ,   0.  ,   0.  ,   0.  ,   0.  ,   0.  ,\n",
       "          0.  ,   0.  ,   0.  ,   0.  ,   0.  ,   0.  ,   0.  ,   0.  ,\n",
       "          0.  ,   0.  ,   0.  ,   0.  ,   0.  ,   0.  ,   0.  ,   0.  ,\n",
       "          0.  ,   0.  ,   0.  ,   0.  ,   0.  ,   0.  ,   0.  ,   0.  ,\n",
       "          0.  ,   0.  ,   0.  ,   0.  ,   0.  ,   0.  ,   0.  ,   0.  ,\n",
       "          0.  ,   0.  ,   0.  ,   0.  ,   0.  ,   0.  ,   0.  ,   0.  ,\n",
       "          0.  ,   0.  ,   0.  ,   0.  ,   0.  ]])"
      ]
     },
     "execution_count": 64,
     "metadata": {},
     "output_type": "execute_result"
    }
   ],
   "source": [
    "mmt.cmm_nominal"
   ]
  },
  {
   "cell_type": "code",
   "execution_count": 65,
   "metadata": {},
   "outputs": [
    {
     "data": {
      "text/plain": [
       "array([100.,   0.,   0.])"
      ]
     },
     "execution_count": 65,
     "metadata": {},
     "output_type": "execute_result"
    }
   ],
   "source": [
    "xyz0 = mmt.cmm_nominal[:, 0]\n",
    "xyz0"
   ]
  },
  {
   "cell_type": "code",
   "execution_count": 66,
   "metadata": {},
   "outputs": [
    {
     "data": {
      "text/plain": [
       "array([0.500011  , 0.86601905, 0.        ])"
      ]
     },
     "execution_count": 66,
     "metadata": {},
     "output_type": "execute_result"
    }
   ],
   "source": [
    "vx = mmt.cmm_nominal[:, -1] - xyz0\n",
    "vx = vx / np.linalg.norm(vx)\n",
    "vx"
   ]
  },
  {
   "cell_type": "code",
   "execution_count": 67,
   "metadata": {},
   "outputs": [],
   "source": [
    "vy = np.array([0, 1, 0])"
   ]
  },
  {
   "cell_type": "code",
   "execution_count": 70,
   "metadata": {},
   "outputs": [
    {
     "data": {
      "text/plain": [
       "0.13398094737126087"
      ]
     },
     "execution_count": 70,
     "metadata": {},
     "output_type": "execute_result"
    }
   ],
   "source": [
    " 1 - np.dot(vx,vy) "
   ]
  },
  {
   "cell_type": "code",
   "execution_count": 8,
   "metadata": {},
   "outputs": [],
   "source": [
    "import pyqtgraph.Qt.QtGui as qtg\n",
    "import pyqtgraph as pg\n",
    "import numpy as np"
   ]
  },
  {
   "cell_type": "code",
   "execution_count": 4,
   "metadata": {},
   "outputs": [
    {
     "data": {
      "text/plain": [
       "PySide6.QtGui.QColor.fromRgbF(0.678431, 0.847059, 0.901961, 1.000000)"
      ]
     },
     "execution_count": 4,
     "metadata": {},
     "output_type": "execute_result"
    }
   ],
   "source": [
    "col = pg.mkColor(\"lightblue\")\n",
    "col"
   ]
  },
  {
   "cell_type": "code",
   "execution_count": 11,
   "metadata": {},
   "outputs": [
    {
     "data": {
      "text/plain": [
       "array([173, 216, 230, 255])"
      ]
     },
     "execution_count": 11,
     "metadata": {},
     "output_type": "execute_result"
    }
   ],
   "source": [
    "np.array(col.toTuple())"
   ]
  },
  {
   "cell_type": "code",
   "execution_count": 13,
   "metadata": {},
   "outputs": [
    {
     "data": {
      "text/plain": [
       "array([0.67843139, 0.84705883, 0.90196079, 1.        ])"
      ]
     },
     "execution_count": 13,
     "metadata": {},
     "output_type": "execute_result"
    }
   ],
   "source": [
    "np.array(col.getRgbF())"
   ]
  },
  {
   "cell_type": "code",
   "execution_count": 2,
   "metadata": {},
   "outputs": [],
   "source": [
    "from numpy.polynomial import Polynomial as Poly"
   ]
  },
  {
   "cell_type": "code",
   "execution_count": 4,
   "metadata": {},
   "outputs": [
    {
     "data": {
      "text/latex": [
       "$x \\mapsto \\text{1.0} + \\text{2.0}\\,x + \\text{3.0}\\,x^{2}$"
      ],
      "text/plain": [
       "Polynomial([1., 2., 3.], domain=[-1,  1], window=[-1,  1], symbol='x')"
      ]
     },
     "execution_count": 4,
     "metadata": {},
     "output_type": "execute_result"
    }
   ],
   "source": [
    "p123 = Poly([1, 2, 3])\n",
    "p123"
   ]
  },
  {
   "cell_type": "code",
   "execution_count": 5,
   "metadata": {},
   "outputs": [
    {
     "data": {
      "text/plain": [
       "321.0"
      ]
     },
     "execution_count": 5,
     "metadata": {},
     "output_type": "execute_result"
    }
   ],
   "source": [
    "p123(10)"
   ]
  },
  {
   "cell_type": "code",
   "execution_count": null,
   "metadata": {},
   "outputs": [],
   "source": []
  }
 ],
 "metadata": {
  "kernelspec": {
   "display_name": ".venv",
   "language": "python",
   "name": "python3"
  },
  "language_info": {
   "codemirror_mode": {
    "name": "ipython",
    "version": 3
   },
   "file_extension": ".py",
   "mimetype": "text/x-python",
   "name": "python",
   "nbconvert_exporter": "python",
   "pygments_lexer": "ipython3",
   "version": "3.11.9"
  }
 },
 "nbformat": 4,
 "nbformat_minor": 2
}
