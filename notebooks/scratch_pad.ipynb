{
 "cells": [
  {
   "cell_type": "code",
   "execution_count": 1,
   "metadata": {},
   "outputs": [],
   "source": [
    "import numpy as np\n",
    "import pickle"
   ]
  },
  {
   "cell_type": "code",
   "execution_count": null,
   "metadata": {},
   "outputs": [],
   "source": [
    "# recode pickle line endings\n",
    "pfname = \"../src/cmm_error_map/mpl_2014/data/ballplate_tmp_data_02.pickle\"\n",
    "data = open(pfname).read().replace(\"\\r\\n\", \"\\n\")\n",
    "dst = pfname + \".tmp\"\n",
    "open(dst, \"w\").write(data)\n",
    "(d, dtstime, info, dT, c, dE, dM, bm_linear, mmtinfo) = pickle.load(\n",
    "    open(dst, \"rb\"), encoding=\"latin1\"\n",
    ")\n"
   ]
  },
  {
   "cell_type": "code",
   "execution_count": null,
   "metadata": {},
   "outputs": [],
   "source": [
    "d"
   ]
  },
  {
   "cell_type": "code",
   "execution_count": null,
   "metadata": {},
   "outputs": [],
   "source": [
    "from cmm_error_map import design_matrix_linear_fixed as design"
   ]
  },
  {
   "cell_type": "code",
   "execution_count": null,
   "metadata": {},
   "outputs": [],
   "source": [
    "design.modelparameters"
   ]
  },
  {
   "cell_type": "code",
   "execution_count": null,
   "metadata": {},
   "outputs": [],
   "source": [
    "modeldict = {p[0]: p for p in design.modelparameters}\n",
    "modeldict"
   ]
  },
  {
   "cell_type": "code",
   "execution_count": null,
   "metadata": {},
   "outputs": [],
   "source": [
    "from dataclasses import dataclass, asdict\n",
    "\n",
    "\n",
    "@dataclass\n",
    "class ModelParameters:\n",
    "    TxxL: float = 0.0\n",
    "    TxyL: float = 0.0\n",
    "    TxzL: float = 0.0\n",
    "    TyxL: float = 0.0\n",
    "    TyyL: float = 0.0\n",
    "    TyzL: float = 0.0\n",
    "    TzxL: float = 0.0\n",
    "    TzyL: float = 0.0\n",
    "    TzzL: float = 0.0\n",
    "    RxxL: float = 0.0\n",
    "    RxyL: float = 0.0\n",
    "    RxzL: float = 0.0\n",
    "    RyxL: float = 0.0\n",
    "    RyyL: float = 0.0\n",
    "    RyzL: float = 0.0\n",
    "    RzxL: float = 0.0\n",
    "    RzyL: float = 0.0\n",
    "    RzzL: float = 0.0\n",
    "    Wxy: float = 0.0\n",
    "    Wxz: float = 0.0\n",
    "    Wyz: float = 0.0"
   ]
  },
  {
   "cell_type": "code",
   "execution_count": null,
   "metadata": {},
   "outputs": [],
   "source": [
    "params = ModelParameters()\n",
    "params"
   ]
  },
  {
   "cell_type": "code",
   "execution_count": null,
   "metadata": {},
   "outputs": [],
   "source": [
    "p = list(asdict(params).values())\n",
    "type(p), p"
   ]
  },
  {
   "cell_type": "code",
   "execution_count": null,
   "metadata": {},
   "outputs": [],
   "source": [
    "params.TxxL"
   ]
  },
  {
   "cell_type": "code",
   "execution_count": null,
   "metadata": {},
   "outputs": [],
   "source": [
    "params[\"TxxL\"]"
   ]
  },
  {
   "cell_type": "code",
   "execution_count": null,
   "metadata": {},
   "outputs": [],
   "source": [
    "asdict(params)[\"TxxL\"]"
   ]
  },
  {
   "cell_type": "code",
   "execution_count": null,
   "metadata": {},
   "outputs": [],
   "source": [
    "d = asdict(params)\n",
    "d"
   ]
  },
  {
   "cell_type": "code",
   "execution_count": null,
   "metadata": {},
   "outputs": [],
   "source": [
    "d.TxxL"
   ]
  },
  {
   "cell_type": "code",
   "execution_count": null,
   "metadata": {},
   "outputs": [],
   "source": [
    "import cmm_error_map.design_matrix_linear_fixed as design"
   ]
  },
  {
   "cell_type": "code",
   "execution_count": null,
   "metadata": {},
   "outputs": [],
   "source": [
    "design.model_parameters_dict"
   ]
  },
  {
   "cell_type": "code",
   "execution_count": null,
   "metadata": {},
   "outputs": [],
   "source": [
    "list(design.model_parameters_dict.values())"
   ]
  },
  {
   "cell_type": "code",
   "execution_count": null,
   "metadata": {},
   "outputs": [],
   "source": [
    "i = 5\n",
    "f\"abc {i:02d}\""
   ]
  },
  {
   "cell_type": "code",
   "execution_count": null,
   "metadata": {},
   "outputs": [],
   "source": [
    "start = -5.0\n",
    "stop = 5.0\n",
    "step = 0.1\n",
    "span = np.arange(start, stop + step, step)"
   ]
  },
  {
   "cell_type": "code",
   "execution_count": null,
   "metadata": {},
   "outputs": [],
   "source": [
    "v = 2\n",
    "int(np.argmin(np.abs(span - v)))"
   ]
  },
  {
   "cell_type": "code",
   "execution_count": null,
   "metadata": {},
   "outputs": [],
   "source": [
    "np.argmin(np.abs(span - v))\n"
   ]
  },
  {
   "cell_type": "code",
   "execution_count": null,
   "metadata": {},
   "outputs": [],
   "source": [
    "dn = {\n",
    "    \"a\": {\"value\": 0.0, \"slide_factor\": 1e-8},\n",
    "    \"b\": {\"value\": 0.0, \"slide_factor\": 1e-8},\n",
    "    \"c\": {\"value\": 0.0, \"slide_factor\": 1e-8},\n",
    "    \"d\": {\"value\": 0.0, \"slide_factor\": 1e-5},\n",
    "}"
   ]
  },
  {
   "cell_type": "code",
   "execution_count": null,
   "metadata": {},
   "outputs": [],
   "source": [
    "[d[\"slide_factor\"] for d in dn.values()]"
   ]
  },
  {
   "cell_type": "code",
   "execution_count": null,
   "metadata": {},
   "outputs": [],
   "source": [
    "span = np.arange(1, 4.1, 0.25)\n",
    "span"
   ]
  },
  {
   "cell_type": "code",
   "execution_count": null,
   "metadata": {},
   "outputs": [],
   "source": [
    "10**span"
   ]
  },
  {
   "cell_type": "code",
   "execution_count": null,
   "metadata": {},
   "outputs": [],
   "source": [
    "x = np.array([1, 2, 5, 7.5])\n",
    "np.hstack((x, x * 10, x * 100, x * 1000, [10000]))"
   ]
  },
  {
   "cell_type": "code",
   "execution_count": null,
   "metadata": {},
   "outputs": [],
   "source": [
    "x = \"Txx\"\n",
    "y = \"sld_\" + x\n",
    "y[:3]"
   ]
  },
  {
   "cell_type": "code",
   "execution_count": null,
   "metadata": {},
   "outputs": [],
   "source": [
    "model_parameters_dict = {\n",
    "    \"Txx\": 0.0,\n",
    "    \"Txy\": 0.0,\n",
    "    \"Txz\": 0.0,\n",
    "    \"Tyx\": 0.0,\n",
    "    \"Tyy\": 0.0,\n",
    "    \"Tyz\": 0.0,\n",
    "    \"Tzx\": 0.0,\n",
    "    \"Tzy\": 0.0,\n",
    "    \"Tzz\": 0.0,\n",
    "    \"Rxx\": 0.0,\n",
    "    \"Rxy\": 0.0,\n",
    "    \"Rxz\": 0.0,\n",
    "    \"Ryx\": 0.0,\n",
    "    \"Ryy\": 0.0,\n",
    "    \"Ryz\": 0.0,\n",
    "    \"Rzx\": 0.0,\n",
    "    \"Rzy\": 0.0,\n",
    "    \"Rzz\": 0.0,\n",
    "    \"Wxy\": 0.0,\n",
    "    \"Wxz\": 0.0,\n",
    "    \"Wyz\": 0.0,\n",
    "}"
   ]
  },
  {
   "cell_type": "code",
   "execution_count": null,
   "metadata": {},
   "outputs": [],
   "source": [
    "params = np.zeros(21)\n",
    "params[0] = 1.33e-05\n",
    "params[3] = -1.12e-05\n",
    "params[4] = -5.09e-06\n",
    "params[6] = 2.6e-05\n",
    "params[7] = 4.6e-06\n",
    "params[8] = 3.34e-08\n",
    "params[9] = 7.49e-09\n",
    "params[10] = 1.54e-08\n",
    "params[11] = 5e-09\n",
    "params[12] = -4.58e-09\n",
    "params[13] = -1.43e-08\n",
    "params[14] = 2.19e-08\n",
    "params[15] = 2.49e-09\n",
    "params[16] = -7.94e-10\n",
    "params[17] = 4.78e-08\n"
   ]
  },
  {
   "cell_type": "code",
   "execution_count": null,
   "metadata": {},
   "outputs": [],
   "source": [
    "d = {key: value for key, value in zip(model_parameters_dict.keys(), params)}\n",
    "d"
   ]
  },
  {
   "cell_type": "code",
   "execution_count": null,
   "metadata": {},
   "outputs": [],
   "source": [
    "x = np.array([1.,2.,3.])\n",
    "type(x)"
   ]
  },
  {
   "cell_type": "code",
   "execution_count": null,
   "metadata": {},
   "outputs": [],
   "source": [
    "np.linalg.norm(x)"
   ]
  },
  {
   "cell_type": "code",
   "execution_count": null,
   "metadata": {},
   "outputs": [],
   "source": [
    "xn = x/np.linalg.norm(x)\n",
    "xn"
   ]
  },
  {
   "cell_type": "code",
   "execution_count": null,
   "metadata": {},
   "outputs": [],
   "source": [
    "np.linalg.norm(xn)"
   ]
  },
  {
   "cell_type": "code",
   "execution_count": null,
   "metadata": {},
   "outputs": [],
   "source": [
    "y = np.array([4,5,6])\n",
    "z = np.array([7,8,9])\n",
    "t = np.array([0,1,2])"
   ]
  },
  {
   "cell_type": "code",
   "execution_count": null,
   "metadata": {},
   "outputs": [],
   "source": [
    "m1 = np.vstack((x,y,z,t)).T\n",
    "m1"
   ]
  },
  {
   "cell_type": "code",
   "execution_count": null,
   "metadata": {},
   "outputs": [],
   "source": [
    "np.vstack((m1, [0,0,0,1]))"
   ]
  },
  {
   "cell_type": "code",
   "execution_count": null,
   "metadata": {},
   "outputs": [],
   "source": [
    "import mathutils as mu"
   ]
  },
  {
   "cell_type": "code",
   "execution_count": null,
   "metadata": {},
   "outputs": [],
   "source": [
    "mu.Vector()"
   ]
  },
  {
   "cell_type": "code",
   "execution_count": null,
   "metadata": {},
   "outputs": [],
   "source": [
    "mu.Matrix()"
   ]
  },
  {
   "cell_type": "code",
   "execution_count": null,
   "metadata": {},
   "outputs": [],
   "source": [
    "# data classes with mutable list\n",
    "from dataclasses import dataclass, field\n",
    "@dataclass\n",
    "class SomeClass:\n",
    "    some_list: list = field(default_factory=list[str])"
   ]
  },
  {
   "cell_type": "code",
   "execution_count": null,
   "metadata": {},
   "outputs": [],
   "source": [
    "d1 = SomeClass(some_list=['a','b','c'])\n",
    "d2 = SomeClass(some_list=['1','2','3'])"
   ]
  },
  {
   "cell_type": "code",
   "execution_count": null,
   "metadata": {},
   "outputs": [],
   "source": [
    "d1.some_list"
   ]
  },
  {
   "cell_type": "code",
   "execution_count": null,
   "metadata": {},
   "outputs": [],
   "source": [
    "d2.some_list"
   ]
  },
  {
   "cell_type": "code",
   "execution_count": null,
   "metadata": {},
   "outputs": [],
   "source": [
    "d1.some_list.append('d')\n",
    "d1"
   ]
  },
  {
   "cell_type": "code",
   "execution_count": null,
   "metadata": {},
   "outputs": [],
   "source": [
    "d2"
   ]
  },
  {
   "cell_type": "code",
   "execution_count": null,
   "metadata": {},
   "outputs": [],
   "source": [
    "d3=SomeClass()\n",
    "d3"
   ]
  },
  {
   "cell_type": "code",
   "execution_count": null,
   "metadata": {},
   "outputs": [],
   "source": [
    "d3.some_list"
   ]
  },
  {
   "cell_type": "code",
   "execution_count": null,
   "metadata": {},
   "outputs": [],
   "source": [
    "my_dict = {}\n",
    "my_dict[\"a1\"] = my_dict.get(\"a1\", SomeClass())"
   ]
  },
  {
   "cell_type": "code",
   "execution_count": null,
   "metadata": {},
   "outputs": [],
   "source": [
    "my_dict"
   ]
  },
  {
   "cell_type": "code",
   "execution_count": null,
   "metadata": {},
   "outputs": [],
   "source": [
    "my_dict[\"a1\"] = d1\n",
    "my_dict[\"a1\"] = my_dict.get(\"a1\", SomeClass())\n",
    "my_dict\n"
   ]
  },
  {
   "cell_type": "code",
   "execution_count": null,
   "metadata": {},
   "outputs": [],
   "source": [
    "my_dict[\"b2\"] = my_dict.get(\"b2\", SomeClass())\n",
    "my_dict"
   ]
  },
  {
   "cell_type": "code",
   "execution_count": null,
   "metadata": {},
   "outputs": [],
   "source": [
    "x0 , x1, x2  = 1, 2, 0\n",
    "z0 , z1, z2  = 0, 0, 1\n",
    "p0,p1,p2 = 10, 20, 30"
   ]
  },
  {
   "cell_type": "code",
   "execution_count": null,
   "metadata": {},
   "outputs": [],
   "source": [
    "\n",
    "x = mu.Vector((x0,x1,x2)).normalized()\n",
    "x"
   ]
  },
  {
   "cell_type": "code",
   "execution_count": null,
   "metadata": {},
   "outputs": [],
   "source": [
    "z = mu.Vector((z0,z1,z2)).normalized()\n",
    "z"
   ]
  },
  {
   "cell_type": "code",
   "execution_count": null,
   "metadata": {},
   "outputs": [],
   "source": [
    "y = x.cross(z)\n",
    "y"
   ]
  },
  {
   "cell_type": "code",
   "execution_count": null,
   "metadata": {},
   "outputs": [],
   "source": [
    "p = mu.Vector((p0,p1,p2))\n",
    "p"
   ]
  },
  {
   "cell_type": "code",
   "execution_count": null,
   "metadata": {},
   "outputs": [],
   "source": [
    "mat = mu.Matrix([x,y,z])\n",
    "mat, mat.transposed()"
   ]
  },
  {
   "cell_type": "code",
   "execution_count": null,
   "metadata": {},
   "outputs": [],
   "source": [
    "mat.is_orthogonal_axis_vectors"
   ]
  },
  {
   "cell_type": "code",
   "execution_count": null,
   "metadata": {},
   "outputs": [],
   "source": []
  },
  {
   "cell_type": "code",
   "execution_count": null,
   "metadata": {},
   "outputs": [],
   "source": [
    "mat4 = mu.Matrix.LocRotScale(p,mat, None)\n",
    "mat4"
   ]
  },
  {
   "cell_type": "code",
   "execution_count": null,
   "metadata": {},
   "outputs": [],
   "source": [
    "np.array(mat4)"
   ]
  },
  {
   "cell_type": "code",
   "execution_count": null,
   "metadata": {},
   "outputs": [],
   "source": [
    "xt, yt, zt = p\n",
    "xt"
   ]
  },
  {
   "cell_type": "code",
   "execution_count": null,
   "metadata": {},
   "outputs": [],
   "source": [
    "np.deg2rad(1)"
   ]
  },
  {
   "cell_type": "code",
   "execution_count": null,
   "metadata": {},
   "outputs": [],
   "source": [
    "180 * np.deg2rad(1)"
   ]
  },
  {
   "cell_type": "code",
   "execution_count": null,
   "metadata": {},
   "outputs": [],
   "source": [
    "pd = {}\n",
    "pd.values()"
   ]
  },
  {
   "cell_type": "code",
   "execution_count": null,
   "metadata": {},
   "outputs": [],
   "source": [
    "for p in pd.values():\n",
    "    print('hello')"
   ]
  },
  {
   "cell_type": "code",
   "execution_count": null,
   "metadata": {},
   "outputs": [],
   "source": [
    "d = {'a':1}\n",
    "if 'b' in d:\n",
    "    print(\"here I am\")"
   ]
  },
  {
   "cell_type": "code",
   "execution_count": null,
   "metadata": {},
   "outputs": [],
   "source": [
    "532/4"
   ]
  },
  {
   "cell_type": "code",
   "execution_count": null,
   "metadata": {},
   "outputs": [],
   "source": [
    "332/4"
   ]
  },
  {
   "cell_type": "code",
   "execution_count": null,
   "metadata": {},
   "outputs": [],
   "source": [
    "nballs = (3,3)\n",
    "ballspacing = 1.0\n",
    "\n",
    "ball_count = nballs[0] * nballs[1]\n",
    "ballnumber = np.arange(ball_count)\n",
    "\n",
    "xp = (ballnumber % nballs[0]) * ballspacing\n",
    "yp = (ballnumber // nballs[1]) * ballspacing\n"
   ]
  },
  {
   "cell_type": "code",
   "execution_count": null,
   "metadata": {},
   "outputs": [],
   "source": [
    "xp, yp"
   ]
  },
  {
   "cell_type": "code",
   "execution_count": null,
   "metadata": {},
   "outputs": [],
   "source": [
    "yp"
   ]
  },
  {
   "cell_type": "code",
   "execution_count": null,
   "metadata": {},
   "outputs": [],
   "source": [
    "xyz1 = np.stack((xp,yp,np.zeros_like(xp), np.ones_like(xp)))\n",
    "xyz1.shape"
   ]
  },
  {
   "cell_type": "code",
   "execution_count": null,
   "metadata": {},
   "outputs": [],
   "source": [
    "import mathutils as mu\n",
    "import math"
   ]
  },
  {
   "cell_type": "code",
   "execution_count": null,
   "metadata": {},
   "outputs": [],
   "source": [
    "mat_rot = mu.Matrix.Rotation(math.radians(90.0), 4, 'Z')\n",
    "mat_rot"
   ]
  },
  {
   "cell_type": "code",
   "execution_count": null,
   "metadata": {},
   "outputs": [],
   "source": [
    "pts = np.array(mat_rot) @ xyz1\n",
    "pts.shape\n"
   ]
  },
  {
   "cell_type": "code",
   "execution_count": null,
   "metadata": {},
   "outputs": [],
   "source": [
    "pts"
   ]
  },
  {
   "cell_type": "code",
   "execution_count": null,
   "metadata": {},
   "outputs": [],
   "source": [
    "xyz1"
   ]
  },
  {
   "cell_type": "code",
   "execution_count": null,
   "metadata": {},
   "outputs": [],
   "source": [
    "pts[:,2]"
   ]
  },
  {
   "cell_type": "code",
   "execution_count": null,
   "metadata": {},
   "outputs": [],
   "source": [
    "# check pyqt QTransform against Blender mathutils"
   ]
  },
  {
   "cell_type": "code",
   "execution_count": null,
   "metadata": {},
   "outputs": [],
   "source": [
    "bl_eul =mu.Euler(mu.Vector((1,1,1))).to_matrix()\n",
    "bl_eul"
   ]
  },
  {
   "cell_type": "code",
   "execution_count": null,
   "metadata": {},
   "outputs": [],
   "source": [
    "from PySide6.QtGui import QMatrix4x4, QQuaternion, QVector3D, QTransform\n"
   ]
  },
  {
   "cell_type": "code",
   "execution_count": null,
   "metadata": {},
   "outputs": [],
   "source": [
    "mat = QMatrix4x4()\n",
    "mat"
   ]
  },
  {
   "cell_type": "code",
   "execution_count": null,
   "metadata": {},
   "outputs": [],
   "source": [
    "q1 = QQuaternion().fromEulerAngles(0,0,1.5)\n",
    "q1"
   ]
  },
  {
   "cell_type": "code",
   "execution_count": null,
   "metadata": {},
   "outputs": [],
   "source": [
    "q1.toRotationMatrix()"
   ]
  },
  {
   "cell_type": "code",
   "execution_count": null,
   "metadata": {},
   "outputs": [],
   "source": [
    "import mathutils as mu\n",
    "import math"
   ]
  },
  {
   "cell_type": "code",
   "execution_count": null,
   "metadata": {},
   "outputs": [],
   "source": [
    "e1_rad = [0.0,0.0,np.pi/2]\n",
    "e1_deg = np.rad2deg(e1_rad)\n"
   ]
  },
  {
   "cell_type": "markdown",
   "metadata": {},
   "source": []
  },
  {
   "cell_type": "code",
   "execution_count": null,
   "metadata": {},
   "outputs": [],
   "source": [
    "mu.Euler(e1_rad).to_matrix()"
   ]
  },
  {
   "cell_type": "code",
   "execution_count": null,
   "metadata": {},
   "outputs": [],
   "source": [
    "QQuaternion.fromEulerAngles(e1_deg[2], e1_deg[0], e1_deg[1]).toRotationMatrix()"
   ]
  },
  {
   "cell_type": "code",
   "execution_count": null,
   "metadata": {},
   "outputs": [],
   "source": [
    "mu.Euler( [0, 0, np.deg2rad(90)]).to_matrix()"
   ]
  },
  {
   "cell_type": "code",
   "execution_count": null,
   "metadata": {},
   "outputs": [],
   "source": [
    "mu.Euler( [np.deg2rad(10), np.deg2rad(20), np.deg2rad(30)]).to_matrix()"
   ]
  },
  {
   "cell_type": "code",
   "execution_count": null,
   "metadata": {},
   "outputs": [],
   "source": [
    "from pyqtgraph import Transform3D"
   ]
  },
  {
   "cell_type": "code",
   "execution_count": null,
   "metadata": {},
   "outputs": [],
   "source": [
    "tr = Transform3D()\n",
    "tr.setToIdentity()\n",
    "tr.rotate(10, 1, 0, 0)\n",
    "tr.rotate(20, 0, 1, 0)\n",
    "tr.rotate(30, 0, 0, 1)\n",
    "tr.translate(0,0,0)\n",
    "tr.matrix()"
   ]
  },
  {
   "cell_type": "code",
   "execution_count": null,
   "metadata": {},
   "outputs": [],
   "source": [
    "v1 = QVector3D()"
   ]
  },
  {
   "cell_type": "code",
   "execution_count": null,
   "metadata": {},
   "outputs": [],
   "source": [
    "x,y,z = v1.x(), v1.y(), v1.z() "
   ]
  },
  {
   "cell_type": "code",
   "execution_count": null,
   "metadata": {},
   "outputs": [],
   "source": [
    "y"
   ]
  },
  {
   "cell_type": "code",
   "execution_count": null,
   "metadata": {},
   "outputs": [],
   "source": [
    "QVector3D(1,2,3)"
   ]
  },
  {
   "cell_type": "code",
   "execution_count": null,
   "metadata": {},
   "outputs": [],
   "source": [
    "for i in range(11):\n",
    "    print(f\"{i:02d}\")"
   ]
  },
  {
   "cell_type": "code",
   "execution_count": null,
   "metadata": {},
   "outputs": [],
   "source": [
    "\n",
    "d1 = {\"A\": \"a1\", \"B\": \"b1\", \"C\": \"c1\"}\n",
    "c1 = [\"A\", \"C\"]\n",
    "n1 = [d1[c] for c in c1]\n",
    "n1"
   ]
  },
  {
   "cell_type": "code",
   "execution_count": null,
   "metadata": {},
   "outputs": [],
   "source": [
    "from cmm_error_map import data_cmpts as dc"
   ]
  },
  {
   "cell_type": "code",
   "execution_count": null,
   "metadata": {},
   "outputs": [],
   "source": [
    "artefact = dc.default_artefacts[\"KOBA 0620\"]"
   ]
  },
  {
   "cell_type": "code",
   "execution_count": null,
   "metadata": {},
   "outputs": [],
   "source": [
    "ballnumber = np.arange(artefact.nballs[0]* artefact.nballs[1])\n",
    "x = (ballnumber) % artefact.nballs[0] * artefact.ball_spacing\n",
    "y = (ballnumber) // artefact.nballs[1] * artefact.ball_spacing\n",
    "z = (ballnumber) * 0.0\n",
    "x,y,z"
   ]
  },
  {
   "cell_type": "code",
   "execution_count": null,
   "metadata": {},
   "outputs": [],
   "source": [
    "xyz = np.stack((x,y,z))\n",
    "xyz.shape, xyz\n"
   ]
  },
  {
   "cell_type": "code",
   "execution_count": null,
   "metadata": {},
   "outputs": [],
   "source": [
    "xyz[0,:]"
   ]
  },
  {
   "cell_type": "code",
   "execution_count": null,
   "metadata": {},
   "outputs": [],
   "source": [
    "import cmm_error_map.design_matrix_linear_fixed as design"
   ]
  },
  {
   "cell_type": "code",
   "execution_count": null,
   "metadata": {},
   "outputs": [],
   "source": [
    "model_params = design.model_parameters_dict.copy()\n",
    "pars  = list(model_params.values())\n",
    "E = design.model_linear(x, y, z, pars, 0., 0., 0.)"
   ]
  },
  {
   "cell_type": "code",
   "execution_count": null,
   "metadata": {},
   "outputs": [],
   "source": [
    "E"
   ]
  },
  {
   "cell_type": "code",
   "execution_count": null,
   "metadata": {},
   "outputs": [],
   "source": [
    "np.stack(E) + xyz"
   ]
  },
  {
   "cell_type": "code",
   "execution_count": null,
   "metadata": {},
   "outputs": [],
   "source": [
    "size = (1, 2, 3)\n",
    "x,y,z = size\n",
    "z"
   ]
  },
  {
   "cell_type": "code",
   "execution_count": 2,
   "metadata": {},
   "outputs": [],
   "source": [
    "from cmm_error_map import data_cmpts as dc\n",
    "from cmm_error_map import gui_cmpts as gc\n",
    "from cmm_error_map import design_matrix_linear_fixed as design\n",
    "\n",
    "import pyqtgraph as pg\n",
    "import pyqtgraph.Qt.QtGui as qtg"
   ]
  },
  {
   "cell_type": "code",
   "execution_count": 3,
   "metadata": {},
   "outputs": [],
   "source": [
    "p0 = dc.Probe(title=\"P0\", name=\"p0\", length=qtg.QVector3D(0, 0, 0))\n",
    "mmt = dc.Measurement(\n",
    "    title=\"m1\",\n",
    "    name=\"mmt_00\",\n",
    "    artefact=dc.default_artefacts[\"KOBA 0620\"],\n",
    "    transform3d=pg.Transform3D(),\n",
    "    probe=p0,\n",
    "    xy2d=None,\n",
    "    dev2d=None,\n",
    "    xyz3d=None,\n",
    "    dev3d=None,\n",
    ")\n",
    "mmt.artefact.nballs = (5, 4)\n",
    "model_params = design.model_parameters_dict.copy()\n",
    "mmt.recalculate(model_params)"
   ]
  },
  {
   "cell_type": "code",
   "execution_count": 4,
   "metadata": {},
   "outputs": [],
   "source": [
    "pars = list(model_params.values())\n",
    "vprobe = mmt.probe.length\n",
    "xt, yt, zt = vprobe.x(), vprobe.y(), vprobe.z()\n",
    "XYZ, eXYZ = design.machine_deformation(pars, xt, yt, zt)\n",
    "pXYZ_3D = XYZ + 1.0 * eXYZ"
   ]
  },
  {
   "cell_type": "code",
   "execution_count": null,
   "metadata": {},
   "outputs": [],
   "source": [
    "pXYZ_3D.shape"
   ]
  },
  {
   "cell_type": "markdown",
   "metadata": {},
   "source": [
    "line pairs for GLLinePlotItem need to be (n*2,3), where n is the number of lines\n",
    "need index triples such that pXYZ_3D[0,0,0, :], pXYZ[1,0,0, :]  is the first line segment \n",
    "```\n",
    "0 0 0 \n",
    "1 0 0\n",
    "1 0 0 \n",
    "2 0 0 \n",
    "2 0 0\n",
    "3 0 0\n",
    "3 0 0\n",
    "4 0 0\n",
    "\n",
    "0 1 0\n",
    "\n",
    "to create this in 2d see update_plot2d_plate\n"
   ]
  },
  {
   "cell_type": "code",
   "execution_count": null,
   "metadata": {},
   "outputs": [],
   "source": [
    "# as loops\n",
    "nx, ny, nz = pXYZ_3D.shape[:3]\n",
    "inds = []\n",
    "# lines parallel to x-axis\n",
    "for k in range(nz):\n",
    "    for j in range(ny):\n",
    "        indx = np.arange(nx)\n",
    "        indx = np.repeat(indx, 2)[1:-1]\n",
    "        for i in indx:\n",
    "            inds.append([i, j, k])\n",
    "\n",
    "# lines parallel to y-axis          \n",
    "for k in range(nz):\n",
    "    for i in range(nx):\n",
    "        indy = np.arange(ny)\n",
    "        indy = np.repeat(indy, 2)[1:-1]\n",
    "        for j in indy:\n",
    "            inds.append([i, j, k])\n",
    "\n",
    "# lines parallel to z-axis          \n",
    "for j in range(ny):\n",
    "    for i in range(nx):\n",
    "        indz = np.arange(nz)\n",
    "        indz = np.repeat(indz, 2)[1:-1]\n",
    "        for k in indz:\n",
    "            inds.append([i, j, k])"
   ]
  },
  {
   "cell_type": "code",
   "execution_count": null,
   "metadata": {},
   "outputs": [],
   "source": [
    "inds2 = []\n",
    "# lines parallel to x-axis\n",
    "for k in range(nz):\n",
    "    for j in range(ny):\n",
    "        ind = np.arange(nx)\n",
    "        ind = np.repeat(ind, 2)[1:-1]\n",
    "        indx = [[i,j,k] for i in ind]\n",
    "        inds2.extend(indx)\n",
    "\n",
    "# lines parallel to y-axis          \n",
    "for k in range(nz):\n",
    "    for i in range(nx):\n",
    "        ind = np.arange(ny)\n",
    "        ind = np.repeat(ind, 2)[1:-1]\n",
    "        indy = [[i,j,k] for i in ind]\n",
    "        inds2.extend(indy)\n",
    "\n",
    "# lines parallel to z-axis          \n",
    "for j in range(ny):\n",
    "    for i in range(nx):\n",
    "        ind = np.arange(nz)\n",
    "        ind = np.repeat(ind, 2)[1:-1]\n",
    "        indz = [[i,j,k] for i in ind]\n",
    "        inds2.extend(indz)\n",
    "        \n",
    "len(inds2), len(inds)"
   ]
  },
  {
   "cell_type": "code",
   "execution_count": null,
   "metadata": {},
   "outputs": [],
   "source": [
    "nx, ny, nz = 3, 3, 3\n",
    "inds3 = []\n",
    "indx = np.repeat(np.arange(nx), 2)[1:-1]\n",
    "indy = np.repeat(np.arange(ny), 2)[1:-1]\n",
    "indz = np.repeat(np.arange(nz), 2)[1:-1]\n",
    "\n",
    "# lines parallel to x-axis\n",
    "for k in range(nz):\n",
    "    for j in range(ny):\n",
    "        ind = [[i,j,k] for i in indx]\n",
    "        inds3.extend(ind)\n",
    "print(len(inds3))\n",
    "\n",
    "# lines parallel to y-axis          \n",
    "for k in range(nz):\n",
    "    for i in range(nx):\n",
    "        ind = [[i,j,k] for j in indy]\n",
    "        inds3.extend(ind)\n",
    "print(len(inds3))\n",
    "\n",
    "# lines parallel to z-axis          \n",
    "for j in range(ny):\n",
    "    for i in range(nx):\n",
    "        ind = [[i,j,k] for k in indz]\n",
    "        inds3.extend(ind)\n",
    "\n",
    "print(len(inds3))"
   ]
  },
  {
   "cell_type": "code",
   "execution_count": null,
   "metadata": {},
   "outputs": [],
   "source": [
    "# this is two points per edge which is correct length"
   ]
  },
  {
   "cell_type": "code",
   "execution_count": 77,
   "metadata": {},
   "outputs": [
    {
     "name": "stdout",
     "output_type": "stream",
     "text": [
      "128\n",
      "248\n",
      "368\n"
     ]
    }
   ],
   "source": [
    "nx, ny, nz = 5, 4, 4\n",
    "inds3 = []\n",
    "indx = np.repeat(np.arange(nx), 2)[1:-1]\n",
    "indy = np.repeat(np.arange(ny), 2)[1:-1]\n",
    "indz = np.repeat(np.arange(nz), 2)[1:-1]\n",
    "\n",
    "# lines parallel to x-axis\n",
    "for k in range(nz):\n",
    "    for j in range(ny):\n",
    "        ind = [[i,j,k] for i in indx]\n",
    "        inds3.extend(ind)\n",
    "print(len(inds3))\n",
    "\n",
    "# lines parallel to y-axis          \n",
    "for k in range(nz):\n",
    "    for i in range(nx):\n",
    "        ind = [[i,j,k] for j in indy]\n",
    "        inds3.extend(ind)\n",
    "print(len(inds3))\n",
    "\n",
    "# lines parallel to z-axis          \n",
    "for j in range(ny):\n",
    "    for i in range(nx):\n",
    "        ind = [[i,j,k] for k in indz]\n",
    "        inds3.extend(ind)\n",
    "\n",
    "print(len(inds3))"
   ]
  },
  {
   "cell_type": "code",
   "execution_count": 58,
   "metadata": {},
   "outputs": [
    {
     "data": {
      "text/plain": [
       "(368, 3)"
      ]
     },
     "execution_count": 58,
     "metadata": {},
     "output_type": "execute_result"
    }
   ],
   "source": [
    "i1 = np.array(gc.grid_line_indicies((5,4,4)))\n",
    "i1.shape"
   ]
  },
  {
   "cell_type": "code",
   "execution_count": 59,
   "metadata": {},
   "outputs": [
    {
     "data": {
      "text/plain": [
       "(5, 4, 4, 3)"
      ]
     },
     "execution_count": 59,
     "metadata": {},
     "output_type": "execute_result"
    }
   ],
   "source": [
    "pXYZ_3D.shape"
   ]
  },
  {
   "cell_type": "code",
   "execution_count": 12,
   "metadata": {},
   "outputs": [
    {
     "data": {
      "text/plain": [
       "array([[[ 0,  1,  2,  3],\n",
       "        [ 4,  5,  6,  7],\n",
       "        [ 8,  9, 10, 11],\n",
       "        [12, 13, 14, 15]],\n",
       "\n",
       "       [[16, 17, 18, 19],\n",
       "        [20, 21, 22, 23],\n",
       "        [24, 25, 26, 27],\n",
       "        [28, 29, 30, 31]],\n",
       "\n",
       "       [[32, 33, 34, 35],\n",
       "        [36, 37, 38, 39],\n",
       "        [40, 41, 42, 43],\n",
       "        [44, 45, 46, 47]],\n",
       "\n",
       "       [[48, 49, 50, 51],\n",
       "        [52, 53, 54, 55],\n",
       "        [56, 57, 58, 59],\n",
       "        [60, 61, 62, 63]],\n",
       "\n",
       "       [[64, 65, 66, 67],\n",
       "        [68, 69, 70, 71],\n",
       "        [72, 73, 74, 75],\n",
       "        [76, 77, 78, 79]]])"
      ]
     },
     "execution_count": 12,
     "metadata": {},
     "output_type": "execute_result"
    }
   ],
   "source": [
    "m = np.arange(5*4*4).reshape((5,4,4))\n",
    "m"
   ]
  },
  {
   "cell_type": "code",
   "execution_count": 25,
   "metadata": {},
   "outputs": [
    {
     "data": {
      "text/plain": [
       "27"
      ]
     },
     "execution_count": 25,
     "metadata": {},
     "output_type": "execute_result"
    }
   ],
   "source": [
    "m[1,2,3]"
   ]
  },
  {
   "cell_type": "code",
   "execution_count": 60,
   "metadata": {},
   "outputs": [
    {
     "data": {
      "text/plain": [
       "array([1, 2, 3])"
      ]
     },
     "execution_count": 60,
     "metadata": {},
     "output_type": "execute_result"
    }
   ],
   "source": [
    "i1[319]"
   ]
  },
  {
   "cell_type": "code",
   "execution_count": 61,
   "metadata": {},
   "outputs": [
    {
     "data": {
      "text/plain": [
       "array([[[16, 17, 18, 19],\n",
       "        [20, 21, 22, 23],\n",
       "        [24, 25, 26, 27],\n",
       "        [28, 29, 30, 31]],\n",
       "\n",
       "       [[32, 33, 34, 35],\n",
       "        [36, 37, 38, 39],\n",
       "        [40, 41, 42, 43],\n",
       "        [44, 45, 46, 47]],\n",
       "\n",
       "       [[48, 49, 50, 51],\n",
       "        [52, 53, 54, 55],\n",
       "        [56, 57, 58, 59],\n",
       "        [60, 61, 62, 63]]])"
      ]
     },
     "execution_count": 61,
     "metadata": {},
     "output_type": "execute_result"
    }
   ],
   "source": [
    "m[i1[319]]"
   ]
  },
  {
   "cell_type": "code",
   "execution_count": 62,
   "metadata": {},
   "outputs": [
    {
     "data": {
      "text/plain": [
       "27"
      ]
     },
     "execution_count": 62,
     "metadata": {},
     "output_type": "execute_result"
    }
   ],
   "source": [
    "m[*i1[319]]"
   ]
  },
  {
   "cell_type": "code",
   "execution_count": 63,
   "metadata": {},
   "outputs": [
    {
     "data": {
      "text/plain": [
       "array([200., 400., 600.])"
      ]
     },
     "execution_count": 63,
     "metadata": {},
     "output_type": "execute_result"
    }
   ],
   "source": [
    "pXYZ_3D[1,2,3, :]"
   ]
  },
  {
   "cell_type": "code",
   "execution_count": 64,
   "metadata": {},
   "outputs": [
    {
     "data": {
      "text/plain": [
       "array([200., 400., 600.])"
      ]
     },
     "execution_count": 64,
     "metadata": {},
     "output_type": "execute_result"
    }
   ],
   "source": [
    "pXYZ_3D[*i1[319], :]"
   ]
  },
  {
   "cell_type": "code",
   "execution_count": 41,
   "metadata": {},
   "outputs": [],
   "source": [
    "a = np.array([[1, 2], [3, 4], [5, 6]])\n",
    "b = np.array([0, 1, 2, 2, 1, 0])\n"
   ]
  },
  {
   "cell_type": "code",
   "execution_count": 42,
   "metadata": {},
   "outputs": [
    {
     "data": {
      "text/plain": [
       "array([[1, 2],\n",
       "       [3, 4],\n",
       "       [5, 6]])"
      ]
     },
     "execution_count": 42,
     "metadata": {},
     "output_type": "execute_result"
    }
   ],
   "source": [
    "a"
   ]
  },
  {
   "cell_type": "code",
   "execution_count": 44,
   "metadata": {},
   "outputs": [
    {
     "data": {
      "text/plain": [
       "array([[1, 2],\n",
       "       [3, 4],\n",
       "       [5, 6],\n",
       "       [5, 6],\n",
       "       [3, 4],\n",
       "       [1, 2]])"
      ]
     },
     "execution_count": 44,
     "metadata": {},
     "output_type": "execute_result"
    }
   ],
   "source": [
    "a[b, :]"
   ]
  },
  {
   "cell_type": "code",
   "execution_count": 49,
   "metadata": {},
   "outputs": [
    {
     "data": {
      "text/plain": [
       "(5, 4, 4, 3)"
      ]
     },
     "execution_count": 49,
     "metadata": {},
     "output_type": "execute_result"
    }
   ],
   "source": [
    "mxyz = np.stack((m,m,m), axis=3 )\n",
    "mxyz.shape"
   ]
  },
  {
   "cell_type": "code",
   "execution_count": 65,
   "metadata": {},
   "outputs": [
    {
     "data": {
      "text/plain": [
       "array([[ 0,  0,  0],\n",
       "       [16, 16, 16],\n",
       "       [16, 16, 16],\n",
       "       ...,\n",
       "       [78, 78, 78],\n",
       "       [78, 78, 78],\n",
       "       [79, 79, 79]])"
      ]
     },
     "execution_count": 65,
     "metadata": {},
     "output_type": "execute_result"
    }
   ],
   "source": [
    "mxyz[i1[:, 0], i1[:, 1], i1[:, 2],  :]"
   ]
  },
  {
   "cell_type": "code",
   "execution_count": 66,
   "metadata": {},
   "outputs": [
    {
     "data": {
      "text/plain": [
       "array([27, 27, 27])"
      ]
     },
     "execution_count": 66,
     "metadata": {},
     "output_type": "execute_result"
    }
   ],
   "source": [
    "mxyz[1,2, 3, :]"
   ]
  },
  {
   "cell_type": "code",
   "execution_count": 67,
   "metadata": {},
   "outputs": [
    {
     "data": {
      "text/plain": [
       "array([[11, 11, 11],\n",
       "       [27, 27, 27],\n",
       "       [43, 43, 43],\n",
       "       [43, 43, 43],\n",
       "       [27, 27, 27],\n",
       "       [11, 11, 11]])"
      ]
     },
     "execution_count": 67,
     "metadata": {},
     "output_type": "execute_result"
    }
   ],
   "source": [
    "mxyz[b, 2, 3, :]"
   ]
  },
  {
   "cell_type": "code",
   "execution_count": 69,
   "metadata": {},
   "outputs": [
    {
     "data": {
      "text/plain": [
       "array([1, 0, 0])"
      ]
     },
     "execution_count": 69,
     "metadata": {},
     "output_type": "execute_result"
    }
   ],
   "source": [
    "i1[1, :]"
   ]
  },
  {
   "cell_type": "code",
   "execution_count": 70,
   "metadata": {},
   "outputs": [
    {
     "data": {
      "text/plain": [
       "array([1, 2, 3])"
      ]
     },
     "execution_count": 70,
     "metadata": {},
     "output_type": "execute_result"
    }
   ],
   "source": [
    "i1[319, :]"
   ]
  },
  {
   "cell_type": "code",
   "execution_count": 73,
   "metadata": {},
   "outputs": [
    {
     "data": {
      "text/plain": [
       "array([27, 27, 27])"
      ]
     },
     "execution_count": 73,
     "metadata": {},
     "output_type": "execute_result"
    }
   ],
   "source": [
    "mxyz[i1[319, 0], i1[319, 1] , i1[319, 2], :]"
   ]
  },
  {
   "cell_type": "code",
   "execution_count": 75,
   "metadata": {},
   "outputs": [
    {
     "data": {
      "text/plain": [
       "(368, 3)"
      ]
     },
     "execution_count": 75,
     "metadata": {},
     "output_type": "execute_result"
    }
   ],
   "source": [
    "mind = mxyz[i1[:, 0], i1[:, 1] , i1[:, 2], :]\n",
    "mind.shape"
   ]
  },
  {
   "cell_type": "code",
   "execution_count": 78,
   "metadata": {},
   "outputs": [
    {
     "data": {
      "text/plain": [
       "array([ 0,  1,  2,  3,  4,  5,  6,  7,  8,  9, 10, 11, 12, 13, 14, 15, 16,\n",
       "       17, 18, 19, 20, 21, 22, 23, 24, 25, 26, 27, 28, 29, 30, 31, 32, 33,\n",
       "       34, 35, 36, 37, 38, 39, 40, 41, 42, 43, 44, 45, 46, 47, 48, 49, 50,\n",
       "       51, 52, 53, 54, 55, 56, 57, 58, 59, 60, 61, 62, 63, 64, 65, 66, 67,\n",
       "       68, 69, 70, 71, 72, 73, 74, 75, 76, 77, 78, 79])"
      ]
     },
     "execution_count": 78,
     "metadata": {},
     "output_type": "execute_result"
    }
   ],
   "source": [
    "npts = (5, 4, 4)\n",
    "pnts_total = np.arange(npts[0] *npts[1] * npts[2])\n",
    "pnts_total\n"
   ]
  },
  {
   "cell_type": "code",
   "execution_count": 79,
   "metadata": {},
   "outputs": [
    {
     "data": {
      "text/plain": [
       "array([0, 1, 2, 3, 4, 0, 1, 2, 3, 4, 0, 1, 2, 3, 4, 0, 1, 2, 3, 4, 0, 1,\n",
       "       2, 3, 4, 0, 1, 2, 3, 4, 0, 1, 2, 3, 4, 0, 1, 2, 3, 4, 0, 1, 2, 3,\n",
       "       4, 0, 1, 2, 3, 4, 0, 1, 2, 3, 4, 0, 1, 2, 3, 4, 0, 1, 2, 3, 4, 0,\n",
       "       1, 2, 3, 4, 0, 1, 2, 3, 4, 0, 1, 2, 3, 4])"
      ]
     },
     "execution_count": 79,
     "metadata": {},
     "output_type": "execute_result"
    }
   ],
   "source": [
    "x = pnts_total % npts[0]\n",
    "x"
   ]
  },
  {
   "cell_type": "code",
   "execution_count": 81,
   "metadata": {},
   "outputs": [
    {
     "data": {
      "text/plain": [
       "array([ 0,  0,  0,  0,  0,  1,  1,  1,  1,  1,  2,  2,  2,  2,  2,  3,  3,\n",
       "        3,  3,  3,  4,  4,  4,  4,  4,  5,  5,  5,  5,  5,  6,  6,  6,  6,\n",
       "        6,  7,  7,  7,  7,  7,  8,  8,  8,  8,  8,  9,  9,  9,  9,  9, 10,\n",
       "       10, 10, 10, 10, 11, 11, 11, 11, 11, 12, 12, 12, 12, 12, 13, 13, 13,\n",
       "       13, 13, 14, 14, 14, 14, 14, 15, 15, 15, 15, 15])"
      ]
     },
     "execution_count": 81,
     "metadata": {},
     "output_type": "execute_result"
    }
   ],
   "source": [
    "y = pnts_total // npts[0]\n",
    "y"
   ]
  },
  {
   "cell_type": "code",
   "execution_count": 82,
   "metadata": {},
   "outputs": [
    {
     "data": {
      "text/plain": [
       "array([0, 0, 0, 0, 0, 0, 0, 0, 0, 0, 0, 0, 0, 0, 0, 0, 0, 0, 0, 0, 1, 1,\n",
       "       1, 1, 1, 1, 1, 1, 1, 1, 1, 1, 1, 1, 1, 1, 1, 1, 1, 1, 2, 2, 2, 2,\n",
       "       2, 2, 2, 2, 2, 2, 2, 2, 2, 2, 2, 2, 2, 2, 2, 2, 3, 3, 3, 3, 3, 3,\n",
       "       3, 3, 3, 3, 3, 3, 3, 3, 3, 3, 3, 3, 3, 3])"
      ]
     },
     "execution_count": 82,
     "metadata": {},
     "output_type": "execute_result"
    }
   ],
   "source": [
    "z = pnts_total // (npts[0] * npts[1])\n",
    "z"
   ]
  },
  {
   "cell_type": "code",
   "execution_count": 27,
   "metadata": {},
   "outputs": [],
   "source": [
    "xyz, dev  = dc.data_plot3d_box(mmt.probe.length, model_params, npts=(3,3,2), spacing=(1.,1.,1.) )"
   ]
  },
  {
   "cell_type": "code",
   "execution_count": 28,
   "metadata": {},
   "outputs": [
    {
     "data": {
      "text/plain": [
       "array([[0., 0., 0.],\n",
       "       [1., 0., 0.],\n",
       "       [2., 0., 0.],\n",
       "       [0., 1., 0.],\n",
       "       [1., 1., 0.],\n",
       "       [2., 1., 0.],\n",
       "       [0., 2., 0.],\n",
       "       [1., 2., 0.],\n",
       "       [2., 2., 0.],\n",
       "       [0., 0., 1.],\n",
       "       [1., 0., 1.],\n",
       "       [2., 0., 1.],\n",
       "       [0., 1., 1.],\n",
       "       [1., 1., 1.],\n",
       "       [2., 1., 1.],\n",
       "       [0., 2., 1.],\n",
       "       [1., 2., 1.],\n",
       "       [2., 2., 1.]])"
      ]
     },
     "execution_count": 28,
     "metadata": {},
     "output_type": "execute_result"
    }
   ],
   "source": [
    "xyz"
   ]
  },
  {
   "cell_type": "code",
   "execution_count": 48,
   "metadata": {},
   "outputs": [
    {
     "data": {
      "text/plain": [
       "(18, 3)"
      ]
     },
     "execution_count": 48,
     "metadata": {},
     "output_type": "execute_result"
    }
   ],
   "source": [
    "xyz.shape"
   ]
  },
  {
   "cell_type": "markdown",
   "metadata": {},
   "source": [
    "0112011201120112"
   ]
  },
  {
   "cell_type": "code",
   "execution_count": 45,
   "metadata": {},
   "outputs": [],
   "source": [
    "nx, ny, nz = (4,3,3)\n",
    "indicies = []\n",
    "indx = np.repeat(np.arange(nx), 2)[1:-1]\n",
    "indy = np.repeat(np.arange(ny), 2)[1:-1]\n",
    "indz = np.repeat(np.arange(nz), 2)[1:-1]\n",
    "\n",
    "# lines parallel to x-axis\n",
    "for k in range(nz):\n",
    "    for j in range(ny):\n",
    "        ind = [i + j*nx + k*nx*ny for i in indx]\n",
    "        indicies.extend(ind)\n",
    "\n",
    "# lines parallel to y-axis\n",
    "for k in range(nz):\n",
    "    for i in range(nx):\n",
    "        ind = [i + j*nx + k*nx*ny for j in indy]\n",
    "        indicies.extend(ind)\n",
    "\n",
    "# lines parallel to z-axis\n",
    "for j in range(ny):\n",
    "    for i in range(nx):\n",
    "        ind = [i + j*nx + k*nx*ny  for k in indz]\n",
    "        indicies.extend(ind)\n",
    "  "
   ]
  },
  {
   "cell_type": "code",
   "execution_count": 46,
   "metadata": {},
   "outputs": [
    {
     "data": {
      "text/plain": [
       "48"
      ]
     },
     "execution_count": 46,
     "metadata": {},
     "output_type": "execute_result"
    }
   ],
   "source": [
    "len(indicies)"
   ]
  },
  {
   "cell_type": "code",
   "execution_count": 39,
   "metadata": {},
   "outputs": [
    {
     "data": {
      "text/plain": [
       "array([0, 1, 1, 2, 2, 3])"
      ]
     },
     "execution_count": 39,
     "metadata": {},
     "output_type": "execute_result"
    }
   ],
   "source": [
    "indx"
   ]
  },
  {
   "cell_type": "code",
   "execution_count": 47,
   "metadata": {},
   "outputs": [
    {
     "data": {
      "text/plain": [
       "[0,\n",
       " 12,\n",
       " 12,\n",
       " 24,\n",
       " 1,\n",
       " 13,\n",
       " 13,\n",
       " 25,\n",
       " 2,\n",
       " 14,\n",
       " 14,\n",
       " 26,\n",
       " 3,\n",
       " 15,\n",
       " 15,\n",
       " 27,\n",
       " 4,\n",
       " 16,\n",
       " 16,\n",
       " 28,\n",
       " 5,\n",
       " 17,\n",
       " 17,\n",
       " 29,\n",
       " 6,\n",
       " 18,\n",
       " 18,\n",
       " 30,\n",
       " 7,\n",
       " 19,\n",
       " 19,\n",
       " 31,\n",
       " 8,\n",
       " 20,\n",
       " 20,\n",
       " 32,\n",
       " 9,\n",
       " 21,\n",
       " 21,\n",
       " 33,\n",
       " 10,\n",
       " 22,\n",
       " 22,\n",
       " 34,\n",
       " 11,\n",
       " 23,\n",
       " 23,\n",
       " 35]"
      ]
     },
     "execution_count": 47,
     "metadata": {},
     "output_type": "execute_result"
    }
   ],
   "source": [
    "indicies"
   ]
  },
  {
   "cell_type": "code",
   "execution_count": 3,
   "metadata": {},
   "outputs": [
    {
     "data": {
      "text/plain": [
       "4"
      ]
     },
     "execution_count": 3,
     "metadata": {},
     "output_type": "execute_result"
    }
   ],
   "source": [
    "int(800.0 // 200.0)"
   ]
  },
  {
   "cell_type": "code",
   "execution_count": null,
   "metadata": {},
   "outputs": [],
   "source": []
  }
 ],
 "metadata": {
  "kernelspec": {
   "display_name": ".venv",
   "language": "python",
   "name": "python3"
  },
  "language_info": {
   "codemirror_mode": {
    "name": "ipython",
    "version": 3
   },
   "file_extension": ".py",
   "mimetype": "text/x-python",
   "name": "python",
   "nbconvert_exporter": "python",
   "pygments_lexer": "ipython3",
   "version": "3.11.9"
  }
 },
 "nbformat": 4,
 "nbformat_minor": 2
}
