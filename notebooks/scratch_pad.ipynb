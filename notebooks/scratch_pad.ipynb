{
 "cells": [
  {
   "cell_type": "code",
   "execution_count": 4,
   "metadata": {},
   "outputs": [],
   "source": [
    "import numpy as np\n",
    "import pickle"
   ]
  },
  {
   "cell_type": "code",
   "execution_count": 6,
   "metadata": {},
   "outputs": [],
   "source": [
    "# recode pickle line endings\n",
    "pfname = \"../src/cmm_error_map/mpl_2014/data/ballplate_tmp_data_02.pickle\"\n",
    "data = open(pfname).read().replace('\\r\\n', '\\n')\n",
    "dst = pfname + \".tmp\"\n",
    "open(dst, \"w\").write(data) \n",
    "(d, dtstime, info, dT, c, dE, dM, bm_linear, mmtinfo)  = pickle.load(open(dst, \"rb\"), encoding='latin1')\n",
    "\n"
   ]
  },
  {
   "cell_type": "code",
   "execution_count": 7,
   "metadata": {},
   "outputs": [
    {
     "data": {
      "text/plain": [
       "array([[ 1.000e+00,  1.000e+00,  1.000e+00, ...,  0.000e+00,  0.000e+00,\n",
       "         3.500e-04],\n",
       "       [ 1.000e+00,  1.000e+00,  2.000e+00, ..., -2.600e-04,  2.229e-02,\n",
       "         7.300e-04],\n",
       "       [ 1.000e+00,  1.000e+00,  3.000e+00, ..., -5.000e-04,  3.027e-02,\n",
       "         3.400e-04],\n",
       "       ...,\n",
       "       [ 6.000e+00,  6.000e+00,  3.800e+01, ...,  7.000e-04,  1.914e-02,\n",
       "         4.300e-04],\n",
       "       [ 6.000e+00,  6.000e+00,  3.900e+01, ...,  5.200e-04,  1.443e-02,\n",
       "         1.060e-03],\n",
       "       [ 6.000e+00,  6.000e+00,  4.000e+01, ...,  0.000e+00,  0.000e+00,\n",
       "         6.600e-04]])"
      ]
     },
     "execution_count": 7,
     "metadata": {},
     "output_type": "execute_result"
    }
   ],
   "source": [
    "d"
   ]
  },
  {
   "cell_type": "code",
   "execution_count": null,
   "metadata": {},
   "outputs": [],
   "source": []
  }
 ],
 "metadata": {
  "kernelspec": {
   "display_name": ".venv",
   "language": "python",
   "name": "python3"
  },
  "language_info": {
   "codemirror_mode": {
    "name": "ipython",
    "version": 3
   },
   "file_extension": ".py",
   "mimetype": "text/x-python",
   "name": "python",
   "nbconvert_exporter": "python",
   "pygments_lexer": "ipython3",
   "version": "3.11.9"
  }
 },
 "nbformat": 4,
 "nbformat_minor": 2
}
