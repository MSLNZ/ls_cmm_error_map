{
 "cells": [
  {
   "cell_type": "code",
   "execution_count": 10,
   "metadata": {},
   "outputs": [],
   "source": [
    "import numpy as np\n",
    "import pickle"
   ]
  },
  {
   "cell_type": "code",
   "execution_count": 6,
   "metadata": {},
   "outputs": [],
   "source": [
    "# recode pickle line endings\n",
    "pfname = \"../src/cmm_error_map/mpl_2014/data/ballplate_tmp_data_02.pickle\"\n",
    "data = open(pfname).read().replace('\\r\\n', '\\n')\n",
    "dst = pfname + \".tmp\"\n",
    "open(dst, \"w\").write(data) \n",
    "(d, dtstime, info, dT, c, dE, dM, bm_linear, mmtinfo)  = pickle.load(open(dst, \"rb\"), encoding='latin1')\n",
    "\n"
   ]
  },
  {
   "cell_type": "code",
   "execution_count": 7,
   "metadata": {},
   "outputs": [
    {
     "data": {
      "text/plain": [
       "array([[ 1.000e+00,  1.000e+00,  1.000e+00, ...,  0.000e+00,  0.000e+00,\n",
       "         3.500e-04],\n",
       "       [ 1.000e+00,  1.000e+00,  2.000e+00, ..., -2.600e-04,  2.229e-02,\n",
       "         7.300e-04],\n",
       "       [ 1.000e+00,  1.000e+00,  3.000e+00, ..., -5.000e-04,  3.027e-02,\n",
       "         3.400e-04],\n",
       "       ...,\n",
       "       [ 6.000e+00,  6.000e+00,  3.800e+01, ...,  7.000e-04,  1.914e-02,\n",
       "         4.300e-04],\n",
       "       [ 6.000e+00,  6.000e+00,  3.900e+01, ...,  5.200e-04,  1.443e-02,\n",
       "         1.060e-03],\n",
       "       [ 6.000e+00,  6.000e+00,  4.000e+01, ...,  0.000e+00,  0.000e+00,\n",
       "         6.600e-04]])"
      ]
     },
     "execution_count": 7,
     "metadata": {},
     "output_type": "execute_result"
    }
   ],
   "source": [
    "d"
   ]
  },
  {
   "cell_type": "code",
   "execution_count": 1,
   "metadata": {},
   "outputs": [],
   "source": [
    "from cmm_error_map import design_matrix_linear_fixed as design"
   ]
  },
  {
   "cell_type": "code",
   "execution_count": 2,
   "metadata": {},
   "outputs": [
    {
     "data": {
      "text/plain": [
       "[('Txx', 0, 5, (0,), (16,), (1,)),\n",
       " ('Txy', 0, 5, (1,), (16,), (-1,)),\n",
       " ('Txz', 0, 5, (2,), (16,), (-1,)),\n",
       " ('Tyx', 1, 5, (0,), (16,), (-1,)),\n",
       " ('Tyy', 1, 5, (1,), (16,), (1,)),\n",
       " ('Tyz', 1, 5, (2,), (16,), (-1,)),\n",
       " ('Tzx', 2, 4, (0,), (16,), (-1,)),\n",
       " ('Tzy', 2, 4, (1,), (16,), (-1,)),\n",
       " ('Tzz', 2, 4, (2,), (16,), (1,)),\n",
       " ('Rxx', 0, 5, (1, 2), (15, 14), (1, -1)),\n",
       " ('Rxy', 0, 5, (0, 2), (15, 13), (-1, 1)),\n",
       " ('Rxz', 0, 5, (0, 1), (14, 13), (1, -1)),\n",
       " ('Ryx', 1, 5, (1, 2), (15, 11), (1, -1)),\n",
       " ('Ryy', 1, 5, (0, 2), (15, 10), (-1, 1)),\n",
       " ('Ryz', 1, 5, (0, 1), (11, 10), (1, -1)),\n",
       " ('Rzx', 2, 4, (1, 2), (12, 11), (1, -1)),\n",
       " ('Rzy', 2, 4, (0, 2), (12, 10), (-1, 1)),\n",
       " ('Rzz', 2, 4, (0, 1), (11, 10), (1, -1)),\n",
       " ('Wxy', -1, 1, (0, 1), (14, 13), (-1, -1)),\n",
       " ('Wxz', -1, 1, (0, 2), (15, 13), (-1, -1)),\n",
       " ('Wyz', -1, 1, (1, 2), (15, 14), (-1, -1))]"
      ]
     },
     "execution_count": 2,
     "metadata": {},
     "output_type": "execute_result"
    }
   ],
   "source": [
    "design.modelparameters"
   ]
  },
  {
   "cell_type": "code",
   "execution_count": 3,
   "metadata": {},
   "outputs": [
    {
     "data": {
      "text/plain": [
       "{'Txx': ('Txx', 0, 5, (0,), (16,), (1,)),\n",
       " 'Txy': ('Txy', 0, 5, (1,), (16,), (-1,)),\n",
       " 'Txz': ('Txz', 0, 5, (2,), (16,), (-1,)),\n",
       " 'Tyx': ('Tyx', 1, 5, (0,), (16,), (-1,)),\n",
       " 'Tyy': ('Tyy', 1, 5, (1,), (16,), (1,)),\n",
       " 'Tyz': ('Tyz', 1, 5, (2,), (16,), (-1,)),\n",
       " 'Tzx': ('Tzx', 2, 4, (0,), (16,), (-1,)),\n",
       " 'Tzy': ('Tzy', 2, 4, (1,), (16,), (-1,)),\n",
       " 'Tzz': ('Tzz', 2, 4, (2,), (16,), (1,)),\n",
       " 'Rxx': ('Rxx', 0, 5, (1, 2), (15, 14), (1, -1)),\n",
       " 'Rxy': ('Rxy', 0, 5, (0, 2), (15, 13), (-1, 1)),\n",
       " 'Rxz': ('Rxz', 0, 5, (0, 1), (14, 13), (1, -1)),\n",
       " 'Ryx': ('Ryx', 1, 5, (1, 2), (15, 11), (1, -1)),\n",
       " 'Ryy': ('Ryy', 1, 5, (0, 2), (15, 10), (-1, 1)),\n",
       " 'Ryz': ('Ryz', 1, 5, (0, 1), (11, 10), (1, -1)),\n",
       " 'Rzx': ('Rzx', 2, 4, (1, 2), (12, 11), (1, -1)),\n",
       " 'Rzy': ('Rzy', 2, 4, (0, 2), (12, 10), (-1, 1)),\n",
       " 'Rzz': ('Rzz', 2, 4, (0, 1), (11, 10), (1, -1)),\n",
       " 'Wxy': ('Wxy', -1, 1, (0, 1), (14, 13), (-1, -1)),\n",
       " 'Wxz': ('Wxz', -1, 1, (0, 2), (15, 13), (-1, -1)),\n",
       " 'Wyz': ('Wyz', -1, 1, (1, 2), (15, 14), (-1, -1))}"
      ]
     },
     "execution_count": 3,
     "metadata": {},
     "output_type": "execute_result"
    }
   ],
   "source": [
    "modeldict = {p[0]: p for p in design.modelparameters}\n",
    "modeldict"
   ]
  },
  {
   "cell_type": "code",
   "execution_count": 19,
   "metadata": {},
   "outputs": [],
   "source": [
    "from dataclasses import dataclass, asdict\n",
    "\n",
    "\n",
    "@dataclass\n",
    "class ModelParameters:\n",
    "    TxxL: float = 0.0\n",
    "    TxyL: float = 0.0\n",
    "    TxzL: float = 0.0\n",
    "    TyxL: float = 0.0\n",
    "    TyyL: float = 0.0\n",
    "    TyzL: float = 0.0\n",
    "    TzxL: float = 0.0\n",
    "    TzyL: float = 0.0\n",
    "    TzzL: float = 0.0\n",
    "    RxxL: float = 0.0\n",
    "    RxyL: float = 0.0\n",
    "    RxzL: float = 0.0\n",
    "    RyxL: float = 0.0\n",
    "    RyyL: float = 0.0\n",
    "    RyzL: float = 0.0\n",
    "    RzxL: float = 0.0\n",
    "    RzyL: float = 0.0\n",
    "    RzzL: float = 0.0\n",
    "    Wxy: float = 0.0\n",
    "    Wxz: float = 0.0\n",
    "    Wyz: float = 0.0"
   ]
  },
  {
   "cell_type": "code",
   "execution_count": 21,
   "metadata": {},
   "outputs": [
    {
     "data": {
      "text/plain": [
       "ModelParameters(TxxL=0.0, TxyL=0.0, TxzL=0.0, TyxL=0.0, TyyL=0.0, TyzL=0.0, TzxL=0.0, TzyL=0.0, TzzL=0.0, RxxL=0.0, RxyL=0.0, RxzL=0.0, RyxL=0.0, RyyL=0.0, RyzL=0.0, RzxL=0.0, RzyL=0.0, RzzL=0.0, Wxy=0.0, Wxz=0.0, Wyz=0.0)"
      ]
     },
     "execution_count": 21,
     "metadata": {},
     "output_type": "execute_result"
    }
   ],
   "source": [
    "params = ModelParameters()\n",
    "params"
   ]
  },
  {
   "cell_type": "code",
   "execution_count": 22,
   "metadata": {},
   "outputs": [
    {
     "data": {
      "text/plain": [
       "(list,\n",
       " [0.0,\n",
       "  0.0,\n",
       "  0.0,\n",
       "  0.0,\n",
       "  0.0,\n",
       "  0.0,\n",
       "  0.0,\n",
       "  0.0,\n",
       "  0.0,\n",
       "  0.0,\n",
       "  0.0,\n",
       "  0.0,\n",
       "  0.0,\n",
       "  0.0,\n",
       "  0.0,\n",
       "  0.0,\n",
       "  0.0,\n",
       "  0.0,\n",
       "  0.0,\n",
       "  0.0,\n",
       "  0.0])"
      ]
     },
     "execution_count": 22,
     "metadata": {},
     "output_type": "execute_result"
    }
   ],
   "source": [
    "p = list(asdict(params).values())\n",
    "type(p), p"
   ]
  },
  {
   "cell_type": "code",
   "execution_count": 24,
   "metadata": {},
   "outputs": [
    {
     "data": {
      "text/plain": [
       "0.0"
      ]
     },
     "execution_count": 24,
     "metadata": {},
     "output_type": "execute_result"
    }
   ],
   "source": [
    "params.TxxL"
   ]
  },
  {
   "cell_type": "code",
   "execution_count": 25,
   "metadata": {},
   "outputs": [
    {
     "ename": "TypeError",
     "evalue": "'ModelParameters' object is not subscriptable",
     "output_type": "error",
     "traceback": [
      "\u001b[0;31m---------------------------------------------------------------------------\u001b[0m",
      "\u001b[0;31mTypeError\u001b[0m                                 Traceback (most recent call last)",
      "Cell \u001b[0;32mIn[25], line 1\u001b[0m\n\u001b[0;32m----> 1\u001b[0m \u001b[43mparams\u001b[49m\u001b[43m[\u001b[49m\u001b[38;5;124;43m'\u001b[39;49m\u001b[38;5;124;43mTxxL\u001b[39;49m\u001b[38;5;124;43m'\u001b[39;49m\u001b[43m]\u001b[49m\n",
      "\u001b[0;31mTypeError\u001b[0m: 'ModelParameters' object is not subscriptable"
     ]
    }
   ],
   "source": [
    "params['TxxL']"
   ]
  },
  {
   "cell_type": "code",
   "execution_count": 26,
   "metadata": {},
   "outputs": [
    {
     "data": {
      "text/plain": [
       "0.0"
      ]
     },
     "execution_count": 26,
     "metadata": {},
     "output_type": "execute_result"
    }
   ],
   "source": [
    "asdict(params)['TxxL']"
   ]
  },
  {
   "cell_type": "code",
   "execution_count": 27,
   "metadata": {},
   "outputs": [
    {
     "data": {
      "text/plain": [
       "{'TxxL': 0.0,\n",
       " 'TxyL': 0.0,\n",
       " 'TxzL': 0.0,\n",
       " 'TyxL': 0.0,\n",
       " 'TyyL': 0.0,\n",
       " 'TyzL': 0.0,\n",
       " 'TzxL': 0.0,\n",
       " 'TzyL': 0.0,\n",
       " 'TzzL': 0.0,\n",
       " 'RxxL': 0.0,\n",
       " 'RxyL': 0.0,\n",
       " 'RxzL': 0.0,\n",
       " 'RyxL': 0.0,\n",
       " 'RyyL': 0.0,\n",
       " 'RyzL': 0.0,\n",
       " 'RzxL': 0.0,\n",
       " 'RzyL': 0.0,\n",
       " 'RzzL': 0.0,\n",
       " 'Wxy': 0.0,\n",
       " 'Wxz': 0.0,\n",
       " 'Wyz': 0.0}"
      ]
     },
     "execution_count": 27,
     "metadata": {},
     "output_type": "execute_result"
    }
   ],
   "source": [
    "d = asdict(params)\n",
    "d"
   ]
  },
  {
   "cell_type": "code",
   "execution_count": 28,
   "metadata": {},
   "outputs": [
    {
     "ename": "AttributeError",
     "evalue": "'dict' object has no attribute 'TxxL'",
     "output_type": "error",
     "traceback": [
      "\u001b[0;31m---------------------------------------------------------------------------\u001b[0m",
      "\u001b[0;31mAttributeError\u001b[0m                            Traceback (most recent call last)",
      "Cell \u001b[0;32mIn[28], line 1\u001b[0m\n\u001b[0;32m----> 1\u001b[0m \u001b[43md\u001b[49m\u001b[38;5;241;43m.\u001b[39;49m\u001b[43mTxxL\u001b[49m\n",
      "\u001b[0;31mAttributeError\u001b[0m: 'dict' object has no attribute 'TxxL'"
     ]
    }
   ],
   "source": [
    "d.TxxL"
   ]
  },
  {
   "cell_type": "code",
   "execution_count": 1,
   "metadata": {},
   "outputs": [],
   "source": [
    "import cmm_error_map.design_matrix_linear_fixed as design"
   ]
  },
  {
   "cell_type": "code",
   "execution_count": 2,
   "metadata": {},
   "outputs": [
    {
     "data": {
      "text/plain": [
       "{'TxxL': 0.0,\n",
       " 'TxyL': 0.0,\n",
       " 'TxzL': 0.0,\n",
       " 'TyxL': 0.0,\n",
       " 'TyyL': 0.0,\n",
       " 'TyzL': 0.0,\n",
       " 'TzxL': 0.0,\n",
       " 'TzyL': 0.0,\n",
       " 'TzzL': 0.0,\n",
       " 'RxxL': 0.0,\n",
       " 'RxyL': 0.0,\n",
       " 'RxzL': 0.0,\n",
       " 'RyxL': 0.0,\n",
       " 'RyyL': 0.0,\n",
       " 'RyzL': 0.0,\n",
       " 'RzxL': 0.0,\n",
       " 'RzyL': 0.0,\n",
       " 'RzzL': 0.0,\n",
       " 'Wxy': 0.0,\n",
       " 'Wxz': 0.0,\n",
       " 'Wyz': 0.0}"
      ]
     },
     "execution_count": 2,
     "metadata": {},
     "output_type": "execute_result"
    }
   ],
   "source": [
    "design.model_parameters_dict"
   ]
  },
  {
   "cell_type": "code",
   "execution_count": 3,
   "metadata": {},
   "outputs": [
    {
     "data": {
      "text/plain": [
       "[0.0,\n",
       " 0.0,\n",
       " 0.0,\n",
       " 0.0,\n",
       " 0.0,\n",
       " 0.0,\n",
       " 0.0,\n",
       " 0.0,\n",
       " 0.0,\n",
       " 0.0,\n",
       " 0.0,\n",
       " 0.0,\n",
       " 0.0,\n",
       " 0.0,\n",
       " 0.0,\n",
       " 0.0,\n",
       " 0.0,\n",
       " 0.0,\n",
       " 0.0,\n",
       " 0.0,\n",
       " 0.0]"
      ]
     },
     "execution_count": 3,
     "metadata": {},
     "output_type": "execute_result"
    }
   ],
   "source": [
    "list(design.model_parameters_dict.values())"
   ]
  },
  {
   "cell_type": "code",
   "execution_count": 7,
   "metadata": {},
   "outputs": [
    {
     "data": {
      "text/plain": [
       "'abc 05'"
      ]
     },
     "execution_count": 7,
     "metadata": {},
     "output_type": "execute_result"
    }
   ],
   "source": [
    "i = 5\n",
    "f\"abc {i:02d}\""
   ]
  },
  {
   "cell_type": "code",
   "execution_count": 11,
   "metadata": {},
   "outputs": [],
   "source": [
    "start = -5.0\n",
    "stop = 5.0\n",
    "step = 0.1\n",
    "span = np.arange(start, stop + step, step)"
   ]
  },
  {
   "cell_type": "code",
   "execution_count": 13,
   "metadata": {},
   "outputs": [
    {
     "data": {
      "text/plain": [
       "70"
      ]
     },
     "execution_count": 13,
     "metadata": {},
     "output_type": "execute_result"
    }
   ],
   "source": [
    "v=2\n",
    "int(np.argmin(np.abs(span - v)))"
   ]
  },
  {
   "cell_type": "code",
   "execution_count": 16,
   "metadata": {},
   "outputs": [
    {
     "data": {
      "text/plain": [
       "70"
      ]
     },
     "execution_count": 16,
     "metadata": {},
     "output_type": "execute_result"
    }
   ],
   "source": [
    "np.argmin(np.abs(span-v))\n"
   ]
  },
  {
   "cell_type": "code",
   "execution_count": 18,
   "metadata": {},
   "outputs": [],
   "source": [
    "dn = {'a': {'value':0.0, 'slide_factor': 1e-8},\n",
    "'b': {'value':0.0, 'slide_factor': 1e-8},\n",
    "'c': {'value':0.0, 'slide_factor': 1e-8},\n",
    "'d': {'value':0.0, 'slide_factor': 1e-5},\n",
    "}"
   ]
  },
  {
   "cell_type": "code",
   "execution_count": 20,
   "metadata": {},
   "outputs": [
    {
     "data": {
      "text/plain": [
       "[1e-08, 1e-08, 1e-08, 1e-05]"
      ]
     },
     "execution_count": 20,
     "metadata": {},
     "output_type": "execute_result"
    }
   ],
   "source": [
    "[d['slide_factor'] for d in dn.values()]"
   ]
  },
  {
   "cell_type": "code",
   "execution_count": null,
   "metadata": {},
   "outputs": [],
   "source": []
  }
 ],
 "metadata": {
  "kernelspec": {
   "display_name": ".venv",
   "language": "python",
   "name": "python3"
  },
  "language_info": {
   "codemirror_mode": {
    "name": "ipython",
    "version": 3
   },
   "file_extension": ".py",
   "mimetype": "text/x-python",
   "name": "python",
   "nbconvert_exporter": "python",
   "pygments_lexer": "ipython3",
   "version": "3.11.9"
  }
 },
 "nbformat": 4,
 "nbformat_minor": 2
}
