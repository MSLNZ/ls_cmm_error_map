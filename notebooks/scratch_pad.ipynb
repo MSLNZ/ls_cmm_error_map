{
 "cells": [
  {
   "cell_type": "code",
   "execution_count": 1,
   "metadata": {},
   "outputs": [],
   "source": [
    "import numpy as np\n",
    "import pickle"
   ]
  },
  {
   "cell_type": "code",
   "execution_count": 9,
   "metadata": {},
   "outputs": [],
   "source": [
    "import cmm_error_map.config as cf\n",
    "import cmm_error_map.data_cmpts as dc"
   ]
  },
  {
   "cell_type": "code",
   "execution_count": 7,
   "metadata": {},
   "outputs": [
    {
     "ename": "ValueError",
     "evalue": "could not convert string to float: ''",
     "output_type": "error",
     "traceback": [
      "\u001b[0;31m---------------------------------------------------------------------------\u001b[0m",
      "\u001b[0;31mValueError\u001b[0m                                Traceback (most recent call last)",
      "Cell \u001b[0;32mIn[7], line 3\u001b[0m\n\u001b[1;32m      1\u001b[0m text \u001b[38;5;241m=\u001b[39m \u001b[38;5;124m\"\u001b[39m\u001b[38;5;124m0.0, 1.,\u001b[39m\u001b[38;5;124m\"\u001b[39m\n\u001b[1;32m      2\u001b[0m coeffs \u001b[38;5;241m=\u001b[39m text\u001b[38;5;241m.\u001b[39msplit(\u001b[38;5;124m'\u001b[39m\u001b[38;5;124m,\u001b[39m\u001b[38;5;124m'\u001b[39m)\n\u001b[0;32m----> 3\u001b[0m coeffs \u001b[38;5;241m=\u001b[39m \u001b[43m[\u001b[49m\u001b[38;5;28;43mfloat\u001b[39;49m\u001b[43m(\u001b[49m\u001b[43mc\u001b[49m\u001b[43m)\u001b[49m\u001b[43m \u001b[49m\u001b[38;5;28;43;01mfor\u001b[39;49;00m\u001b[43m \u001b[49m\u001b[43mc\u001b[49m\u001b[43m \u001b[49m\u001b[38;5;129;43;01min\u001b[39;49;00m\u001b[43m \u001b[49m\u001b[43mcoeffs\u001b[49m\u001b[43m]\u001b[49m\n\u001b[1;32m      4\u001b[0m coeffs\n",
      "Cell \u001b[0;32mIn[7], line 3\u001b[0m, in \u001b[0;36m<listcomp>\u001b[0;34m(.0)\u001b[0m\n\u001b[1;32m      1\u001b[0m text \u001b[38;5;241m=\u001b[39m \u001b[38;5;124m\"\u001b[39m\u001b[38;5;124m0.0, 1.,\u001b[39m\u001b[38;5;124m\"\u001b[39m\n\u001b[1;32m      2\u001b[0m coeffs \u001b[38;5;241m=\u001b[39m text\u001b[38;5;241m.\u001b[39msplit(\u001b[38;5;124m'\u001b[39m\u001b[38;5;124m,\u001b[39m\u001b[38;5;124m'\u001b[39m)\n\u001b[0;32m----> 3\u001b[0m coeffs \u001b[38;5;241m=\u001b[39m [\u001b[38;5;28;43mfloat\u001b[39;49m\u001b[43m(\u001b[49m\u001b[43mc\u001b[49m\u001b[43m)\u001b[49m \u001b[38;5;28;01mfor\u001b[39;00m c \u001b[38;5;129;01min\u001b[39;00m coeffs]\n\u001b[1;32m      4\u001b[0m coeffs\n",
      "\u001b[0;31mValueError\u001b[0m: could not convert string to float: ''"
     ]
    }
   ],
   "source": [
    "text = \"0.0, 1.0\"\n",
    "coeffs = text.split(\",\")\n",
    "coeffs = [float(c) for c in coeffs]\n",
    "coeffs"
   ]
  },
  {
   "cell_type": "code",
   "execution_count": 4,
   "metadata": {},
   "outputs": [
    {
     "data": {
      "text/plain": [
       "PosixPath('/home/elfnor/gits/ls_cmm_error_map/config')"
      ]
     },
     "execution_count": 4,
     "metadata": {},
     "output_type": "execute_result"
    }
   ],
   "source": [
    "cf.config_folder"
   ]
  },
  {
   "cell_type": "code",
   "execution_count": 5,
   "metadata": {},
   "outputs": [
    {
     "data": {
      "text/plain": [
       "PosixPath('/home/elfnor/gits/ls_cmm_error_map/config/machines.toml')"
      ]
     },
     "execution_count": 5,
     "metadata": {},
     "output_type": "execute_result"
    }
   ],
   "source": [
    "cf.machines_toml"
   ]
  },
  {
   "cell_type": "code",
   "execution_count": 6,
   "metadata": {},
   "outputs": [
    {
     "data": {
      "text/plain": [
       "0.03252696990966797"
      ]
     },
     "execution_count": 6,
     "metadata": {},
     "output_type": "execute_result"
    }
   ],
   "source": [
    "1738635857.715278 - 1738635857.682751"
   ]
  },
  {
   "cell_type": "code",
   "execution_count": 7,
   "metadata": {},
   "outputs": [
    {
     "data": {
      "text/plain": [
       "0.06684303283691406"
      ]
     },
     "execution_count": 7,
     "metadata": {},
     "output_type": "execute_result"
    }
   ],
   "source": [
    "1738636148.704041 - 1738636148.637198"
   ]
  },
  {
   "cell_type": "code",
   "execution_count": null,
   "metadata": {},
   "outputs": [],
   "source": [
    "180 * np.deg2rad(1)"
   ]
  },
  {
   "cell_type": "code",
   "execution_count": null,
   "metadata": {},
   "outputs": [],
   "source": [
    "pd = {}\n",
    "pd.values()"
   ]
  },
  {
   "cell_type": "code",
   "execution_count": null,
   "metadata": {},
   "outputs": [],
   "source": [
    "for p in pd.values():\n",
    "    print(\"hello\")"
   ]
  },
  {
   "cell_type": "code",
   "execution_count": null,
   "metadata": {},
   "outputs": [],
   "source": [
    "d = {\"a\": 1}\n",
    "if \"b\" in d:\n",
    "    print(\"here I am\")"
   ]
  },
  {
   "cell_type": "code",
   "execution_count": null,
   "metadata": {},
   "outputs": [],
   "source": [
    "532 / 4"
   ]
  },
  {
   "cell_type": "code",
   "execution_count": null,
   "metadata": {},
   "outputs": [],
   "source": [
    "332 / 4"
   ]
  },
  {
   "cell_type": "code",
   "execution_count": null,
   "metadata": {},
   "outputs": [],
   "source": [
    "nballs = (3, 3)\n",
    "ballspacing = 1.0\n",
    "\n",
    "ball_count = nballs[0] * nballs[1]\n",
    "ballnumber = np.arange(ball_count)\n",
    "\n",
    "xp = (ballnumber % nballs[0]) * ballspacing\n",
    "yp = (ballnumber // nballs[1]) * ballspacing\n"
   ]
  },
  {
   "cell_type": "code",
   "execution_count": null,
   "metadata": {},
   "outputs": [],
   "source": [
    "xp, yp"
   ]
  },
  {
   "cell_type": "code",
   "execution_count": null,
   "metadata": {},
   "outputs": [],
   "source": [
    "yp"
   ]
  },
  {
   "cell_type": "code",
   "execution_count": null,
   "metadata": {},
   "outputs": [],
   "source": [
    "xyz1 = np.stack((xp, yp, np.zeros_like(xp), np.ones_like(xp)))\n",
    "xyz1.shape"
   ]
  },
  {
   "cell_type": "code",
   "execution_count": null,
   "metadata": {},
   "outputs": [],
   "source": [
    "import mathutils as mu\n",
    "import math"
   ]
  },
  {
   "cell_type": "code",
   "execution_count": null,
   "metadata": {},
   "outputs": [],
   "source": [
    "mat_rot = mu.Matrix.Rotation(math.radians(90.0), 4, \"Z\")\n",
    "mat_rot"
   ]
  },
  {
   "cell_type": "code",
   "execution_count": null,
   "metadata": {},
   "outputs": [],
   "source": [
    "pts = np.array(mat_rot) @ xyz1\n",
    "pts.shape\n"
   ]
  },
  {
   "cell_type": "code",
   "execution_count": null,
   "metadata": {},
   "outputs": [],
   "source": [
    "pts"
   ]
  },
  {
   "cell_type": "code",
   "execution_count": null,
   "metadata": {},
   "outputs": [],
   "source": [
    "xyz1"
   ]
  },
  {
   "cell_type": "code",
   "execution_count": null,
   "metadata": {},
   "outputs": [],
   "source": [
    "pts[:, 2]"
   ]
  },
  {
   "cell_type": "code",
   "execution_count": null,
   "metadata": {},
   "outputs": [],
   "source": [
    "# check pyqt QTransform against Blender mathutils"
   ]
  },
  {
   "cell_type": "code",
   "execution_count": null,
   "metadata": {},
   "outputs": [],
   "source": [
    "bl_eul = mu.Euler(mu.Vector((1, 1, 1))).to_matrix()\n",
    "bl_eul"
   ]
  },
  {
   "cell_type": "code",
   "execution_count": null,
   "metadata": {},
   "outputs": [],
   "source": [
    "from PySide6.QtGui import QMatrix4x4, QQuaternion, QVector3D, QTransform\n"
   ]
  },
  {
   "cell_type": "code",
   "execution_count": null,
   "metadata": {},
   "outputs": [],
   "source": [
    "mat = QMatrix4x4()\n",
    "mat"
   ]
  },
  {
   "cell_type": "code",
   "execution_count": null,
   "metadata": {},
   "outputs": [],
   "source": [
    "q1 = QQuaternion().fromEulerAngles(0, 0, 1.5)\n",
    "q1"
   ]
  },
  {
   "cell_type": "code",
   "execution_count": null,
   "metadata": {},
   "outputs": [],
   "source": [
    "q1.toRotationMatrix()"
   ]
  },
  {
   "cell_type": "code",
   "execution_count": null,
   "metadata": {},
   "outputs": [],
   "source": [
    "import mathutils as mu\n",
    "import math"
   ]
  },
  {
   "cell_type": "code",
   "execution_count": null,
   "metadata": {},
   "outputs": [],
   "source": [
    "e1_rad = [0.0, 0.0, np.pi / 2]\n",
    "e1_deg = np.rad2deg(e1_rad)\n"
   ]
  },
  {
   "cell_type": "markdown",
   "metadata": {},
   "source": []
  },
  {
   "cell_type": "code",
   "execution_count": null,
   "metadata": {},
   "outputs": [],
   "source": [
    "mu.Euler(e1_rad).to_matrix()"
   ]
  },
  {
   "cell_type": "code",
   "execution_count": null,
   "metadata": {},
   "outputs": [],
   "source": [
    "QQuaternion.fromEulerAngles(e1_deg[2], e1_deg[0], e1_deg[1]).toRotationMatrix()"
   ]
  },
  {
   "cell_type": "code",
   "execution_count": null,
   "metadata": {},
   "outputs": [],
   "source": [
    "mu.Euler([0, 0, np.deg2rad(90)]).to_matrix()"
   ]
  },
  {
   "cell_type": "code",
   "execution_count": null,
   "metadata": {},
   "outputs": [],
   "source": [
    "mu.Euler([np.deg2rad(10), np.deg2rad(20), np.deg2rad(30)]).to_matrix()"
   ]
  },
  {
   "cell_type": "code",
   "execution_count": null,
   "metadata": {},
   "outputs": [],
   "source": [
    "from pyqtgraph import Transform3D"
   ]
  },
  {
   "cell_type": "code",
   "execution_count": null,
   "metadata": {},
   "outputs": [],
   "source": [
    "tr = Transform3D()\n",
    "tr.setToIdentity()\n",
    "tr.rotate(10, 1, 0, 0)\n",
    "tr.rotate(20, 0, 1, 0)\n",
    "tr.rotate(30, 0, 0, 1)\n",
    "tr.translate(0, 0, 0)\n",
    "tr.matrix()"
   ]
  },
  {
   "cell_type": "code",
   "execution_count": null,
   "metadata": {},
   "outputs": [],
   "source": [
    "v1 = QVector3D()"
   ]
  },
  {
   "cell_type": "code",
   "execution_count": null,
   "metadata": {},
   "outputs": [],
   "source": [
    "x, y, z = v1.x(), v1.y(), v1.z()"
   ]
  },
  {
   "cell_type": "code",
   "execution_count": null,
   "metadata": {},
   "outputs": [],
   "source": [
    "y"
   ]
  },
  {
   "cell_type": "code",
   "execution_count": null,
   "metadata": {},
   "outputs": [],
   "source": [
    "QVector3D(1, 2, 3)"
   ]
  },
  {
   "cell_type": "code",
   "execution_count": null,
   "metadata": {},
   "outputs": [],
   "source": [
    "for i in range(11):\n",
    "    print(f\"{i:02d}\")"
   ]
  },
  {
   "cell_type": "code",
   "execution_count": null,
   "metadata": {},
   "outputs": [],
   "source": [
    "d1 = {\"A\": \"a1\", \"B\": \"b1\", \"C\": \"c1\"}\n",
    "c1 = [\"A\", \"C\"]\n",
    "n1 = [d1[c] for c in c1]\n",
    "n1"
   ]
  },
  {
   "cell_type": "code",
   "execution_count": null,
   "metadata": {},
   "outputs": [],
   "source": [
    "from cmm_error_map import data_cmpts as dc"
   ]
  },
  {
   "cell_type": "code",
   "execution_count": null,
   "metadata": {},
   "outputs": [],
   "source": [
    "artefact = dc.default_artefacts[\"KOBA 0620\"]"
   ]
  },
  {
   "cell_type": "code",
   "execution_count": null,
   "metadata": {},
   "outputs": [],
   "source": [
    "ballnumber = np.arange(artefact.nballs[0] * artefact.nballs[1])\n",
    "x = (ballnumber) % artefact.nballs[0] * artefact.ball_spacing\n",
    "y = (ballnumber) // artefact.nballs[1] * artefact.ball_spacing\n",
    "z = (ballnumber) * 0.0\n",
    "x, y, z"
   ]
  },
  {
   "cell_type": "code",
   "execution_count": null,
   "metadata": {},
   "outputs": [],
   "source": [
    "xyz = np.stack((x, y, z))\n",
    "xyz.shape, xyz\n"
   ]
  },
  {
   "cell_type": "code",
   "execution_count": null,
   "metadata": {},
   "outputs": [],
   "source": [
    "xyz[0, :]"
   ]
  },
  {
   "cell_type": "code",
   "execution_count": null,
   "metadata": {},
   "outputs": [],
   "source": [
    "import cmm_error_map.design_matrix_linear_fixed as design"
   ]
  },
  {
   "cell_type": "code",
   "execution_count": null,
   "metadata": {},
   "outputs": [],
   "source": [
    "model_params = design.model_parameters_dict.copy()\n",
    "pars = list(model_params.values())\n",
    "E = design.model_linear(x, y, z, pars, 0.0, 0.0, 0.0)"
   ]
  },
  {
   "cell_type": "code",
   "execution_count": null,
   "metadata": {},
   "outputs": [],
   "source": [
    "E"
   ]
  },
  {
   "cell_type": "code",
   "execution_count": null,
   "metadata": {},
   "outputs": [],
   "source": [
    "np.stack(E) + xyz"
   ]
  },
  {
   "cell_type": "code",
   "execution_count": null,
   "metadata": {},
   "outputs": [],
   "source": [
    "size = (1, 2, 3)\n",
    "x, y, z = size\n",
    "z"
   ]
  },
  {
   "cell_type": "code",
   "execution_count": null,
   "metadata": {},
   "outputs": [],
   "source": [
    "from cmm_error_map import data_cmpts as dc\n",
    "from cmm_error_map import gui_cmpts as gc\n",
    "from cmm_error_map import design_matrix_linear_fixed as design\n",
    "\n",
    "import pyqtgraph as pg\n",
    "import pyqtgraph.Qt.QtGui as qtg"
   ]
  },
  {
   "cell_type": "code",
   "execution_count": null,
   "metadata": {},
   "outputs": [],
   "source": [
    "p0 = dc.Probe(title=\"P0\", name=\"p0\", length=qtg.QVector3D(0, 0, 0))\n",
    "mmt = dc.Measurement(\n",
    "    title=\"m1\",\n",
    "    name=\"mmt_00\",\n",
    "    artefact=dc.default_artefacts[\"KOBA 0620\"],\n",
    "    transform3d=pg.Transform3D(),\n",
    "    probe=p0,\n",
    "    xy2d=None,\n",
    "    dev2d=None,\n",
    "    xyz3d=None,\n",
    "    dev3d=None,\n",
    ")\n",
    "mmt.artefact.nballs = (5, 4)\n",
    "model_params = design.model_parameters_dict.copy()\n",
    "mmt.recalculate(model_params)"
   ]
  },
  {
   "cell_type": "code",
   "execution_count": null,
   "metadata": {},
   "outputs": [],
   "source": [
    "pars = list(model_params.values())\n",
    "vprobe = mmt.probe.length\n",
    "xt, yt, zt = vprobe.x(), vprobe.y(), vprobe.z()\n",
    "XYZ, eXYZ = design.machine_deformation(pars, xt, yt, zt)\n",
    "pXYZ_3D = XYZ + 1.0 * eXYZ"
   ]
  },
  {
   "cell_type": "code",
   "execution_count": null,
   "metadata": {},
   "outputs": [],
   "source": [
    "pXYZ_3D.shape"
   ]
  },
  {
   "cell_type": "markdown",
   "metadata": {},
   "source": [
    "line pairs for GLLinePlotItem need to be (n*2,3), where n is the number of lines\n",
    "need index triples such that pXYZ_3D[0,0,0, :], pXYZ[1,0,0, :]  is the first line segment \n",
    "```\n",
    "0 0 0 \n",
    "1 0 0\n",
    "1 0 0 \n",
    "2 0 0 \n",
    "2 0 0\n",
    "3 0 0\n",
    "3 0 0\n",
    "4 0 0\n",
    "\n",
    "0 1 0\n",
    "\n",
    "to create this in 2d see update_plot2d_plate\n"
   ]
  },
  {
   "cell_type": "code",
   "execution_count": null,
   "metadata": {},
   "outputs": [],
   "source": [
    "# as loops\n",
    "nx, ny, nz = pXYZ_3D.shape[:3]\n",
    "inds = []\n",
    "# lines parallel to x-axis\n",
    "for k in range(nz):\n",
    "    for j in range(ny):\n",
    "        indx = np.arange(nx)\n",
    "        indx = np.repeat(indx, 2)[1:-1]\n",
    "        for i in indx:\n",
    "            inds.append([i, j, k])\n",
    "\n",
    "# lines parallel to y-axis\n",
    "for k in range(nz):\n",
    "    for i in range(nx):\n",
    "        indy = np.arange(ny)\n",
    "        indy = np.repeat(indy, 2)[1:-1]\n",
    "        for j in indy:\n",
    "            inds.append([i, j, k])\n",
    "\n",
    "# lines parallel to z-axis\n",
    "for j in range(ny):\n",
    "    for i in range(nx):\n",
    "        indz = np.arange(nz)\n",
    "        indz = np.repeat(indz, 2)[1:-1]\n",
    "        for k in indz:\n",
    "            inds.append([i, j, k])"
   ]
  },
  {
   "cell_type": "code",
   "execution_count": null,
   "metadata": {},
   "outputs": [],
   "source": [
    "inds2 = []\n",
    "# lines parallel to x-axis\n",
    "for k in range(nz):\n",
    "    for j in range(ny):\n",
    "        ind = np.arange(nx)\n",
    "        ind = np.repeat(ind, 2)[1:-1]\n",
    "        indx = [[i, j, k] for i in ind]\n",
    "        inds2.extend(indx)\n",
    "\n",
    "# lines parallel to y-axis\n",
    "for k in range(nz):\n",
    "    for i in range(nx):\n",
    "        ind = np.arange(ny)\n",
    "        ind = np.repeat(ind, 2)[1:-1]\n",
    "        indy = [[i, j, k] for i in ind]\n",
    "        inds2.extend(indy)\n",
    "\n",
    "# lines parallel to z-axis\n",
    "for j in range(ny):\n",
    "    for i in range(nx):\n",
    "        ind = np.arange(nz)\n",
    "        ind = np.repeat(ind, 2)[1:-1]\n",
    "        indz = [[i, j, k] for i in ind]\n",
    "        inds2.extend(indz)\n",
    "\n",
    "len(inds2), len(inds)"
   ]
  },
  {
   "cell_type": "code",
   "execution_count": null,
   "metadata": {},
   "outputs": [],
   "source": [
    "nx, ny, nz = 3, 3, 3\n",
    "inds3 = []\n",
    "indx = np.repeat(np.arange(nx), 2)[1:-1]\n",
    "indy = np.repeat(np.arange(ny), 2)[1:-1]\n",
    "indz = np.repeat(np.arange(nz), 2)[1:-1]\n",
    "\n",
    "# lines parallel to x-axis\n",
    "for k in range(nz):\n",
    "    for j in range(ny):\n",
    "        ind = [[i, j, k] for i in indx]\n",
    "        inds3.extend(ind)\n",
    "print(len(inds3))\n",
    "\n",
    "# lines parallel to y-axis\n",
    "for k in range(nz):\n",
    "    for i in range(nx):\n",
    "        ind = [[i, j, k] for j in indy]\n",
    "        inds3.extend(ind)\n",
    "print(len(inds3))\n",
    "\n",
    "# lines parallel to z-axis\n",
    "for j in range(ny):\n",
    "    for i in range(nx):\n",
    "        ind = [[i, j, k] for k in indz]\n",
    "        inds3.extend(ind)\n",
    "\n",
    "print(len(inds3))"
   ]
  },
  {
   "cell_type": "code",
   "execution_count": null,
   "metadata": {},
   "outputs": [],
   "source": [
    "# this is two points per edge which is correct length"
   ]
  },
  {
   "cell_type": "code",
   "execution_count": null,
   "metadata": {},
   "outputs": [],
   "source": [
    "nx, ny, nz = 5, 4, 4\n",
    "inds3 = []\n",
    "indx = np.repeat(np.arange(nx), 2)[1:-1]\n",
    "indy = np.repeat(np.arange(ny), 2)[1:-1]\n",
    "indz = np.repeat(np.arange(nz), 2)[1:-1]\n",
    "\n",
    "# lines parallel to x-axis\n",
    "for k in range(nz):\n",
    "    for j in range(ny):\n",
    "        ind = [[i, j, k] for i in indx]\n",
    "        inds3.extend(ind)\n",
    "print(len(inds3))\n",
    "\n",
    "# lines parallel to y-axis\n",
    "for k in range(nz):\n",
    "    for i in range(nx):\n",
    "        ind = [[i, j, k] for j in indy]\n",
    "        inds3.extend(ind)\n",
    "print(len(inds3))\n",
    "\n",
    "# lines parallel to z-axis\n",
    "for j in range(ny):\n",
    "    for i in range(nx):\n",
    "        ind = [[i, j, k] for k in indz]\n",
    "        inds3.extend(ind)\n",
    "\n",
    "print(len(inds3))"
   ]
  },
  {
   "cell_type": "code",
   "execution_count": null,
   "metadata": {},
   "outputs": [],
   "source": [
    "i1 = np.array(gc.grid_line_indicies((5, 4, 4)))\n",
    "i1.shape"
   ]
  },
  {
   "cell_type": "code",
   "execution_count": null,
   "metadata": {},
   "outputs": [],
   "source": [
    "pXYZ_3D.shape"
   ]
  },
  {
   "cell_type": "code",
   "execution_count": null,
   "metadata": {},
   "outputs": [],
   "source": [
    "m = np.arange(5 * 4 * 4).reshape((5, 4, 4))\n",
    "m"
   ]
  },
  {
   "cell_type": "code",
   "execution_count": null,
   "metadata": {},
   "outputs": [],
   "source": [
    "m[1, 2, 3]"
   ]
  },
  {
   "cell_type": "code",
   "execution_count": null,
   "metadata": {},
   "outputs": [],
   "source": [
    "i1[319]"
   ]
  },
  {
   "cell_type": "code",
   "execution_count": null,
   "metadata": {},
   "outputs": [],
   "source": [
    "m[i1[319]]"
   ]
  },
  {
   "cell_type": "code",
   "execution_count": null,
   "metadata": {},
   "outputs": [],
   "source": [
    "m[*i1[319]]"
   ]
  },
  {
   "cell_type": "code",
   "execution_count": null,
   "metadata": {},
   "outputs": [],
   "source": [
    "pXYZ_3D[1, 2, 3, :]"
   ]
  },
  {
   "cell_type": "code",
   "execution_count": null,
   "metadata": {},
   "outputs": [],
   "source": [
    "pXYZ_3D[*i1[319], :]"
   ]
  },
  {
   "cell_type": "code",
   "execution_count": null,
   "metadata": {},
   "outputs": [],
   "source": [
    "a = np.array([[1, 2], [3, 4], [5, 6]])\n",
    "b = np.array([0, 1, 2, 2, 1, 0])\n"
   ]
  },
  {
   "cell_type": "code",
   "execution_count": null,
   "metadata": {},
   "outputs": [],
   "source": [
    "a"
   ]
  },
  {
   "cell_type": "code",
   "execution_count": null,
   "metadata": {},
   "outputs": [],
   "source": [
    "a[b, :]"
   ]
  },
  {
   "cell_type": "code",
   "execution_count": null,
   "metadata": {},
   "outputs": [],
   "source": [
    "mxyz = np.stack((m, m, m), axis=3)\n",
    "mxyz.shape"
   ]
  },
  {
   "cell_type": "code",
   "execution_count": null,
   "metadata": {},
   "outputs": [],
   "source": [
    "mxyz[i1[:, 0], i1[:, 1], i1[:, 2], :]"
   ]
  },
  {
   "cell_type": "code",
   "execution_count": null,
   "metadata": {},
   "outputs": [],
   "source": [
    "mxyz[1, 2, 3, :]"
   ]
  },
  {
   "cell_type": "code",
   "execution_count": null,
   "metadata": {},
   "outputs": [],
   "source": [
    "mxyz[b, 2, 3, :]"
   ]
  },
  {
   "cell_type": "code",
   "execution_count": null,
   "metadata": {},
   "outputs": [],
   "source": [
    "i1[1, :]"
   ]
  },
  {
   "cell_type": "code",
   "execution_count": null,
   "metadata": {},
   "outputs": [],
   "source": [
    "i1[319, :]"
   ]
  },
  {
   "cell_type": "code",
   "execution_count": null,
   "metadata": {},
   "outputs": [],
   "source": [
    "mxyz[i1[319, 0], i1[319, 1], i1[319, 2], :]"
   ]
  },
  {
   "cell_type": "code",
   "execution_count": null,
   "metadata": {},
   "outputs": [],
   "source": [
    "mind = mxyz[i1[:, 0], i1[:, 1], i1[:, 2], :]\n",
    "mind.shape"
   ]
  },
  {
   "cell_type": "code",
   "execution_count": null,
   "metadata": {},
   "outputs": [],
   "source": [
    "npts = (5, 4, 4)\n",
    "pnts_total = np.arange(npts[0] * npts[1] * npts[2])\n",
    "pnts_total\n"
   ]
  },
  {
   "cell_type": "code",
   "execution_count": null,
   "metadata": {},
   "outputs": [],
   "source": [
    "x = pnts_total % npts[0]\n",
    "x"
   ]
  },
  {
   "cell_type": "code",
   "execution_count": null,
   "metadata": {},
   "outputs": [],
   "source": [
    "y = pnts_total // npts[0]\n",
    "y"
   ]
  },
  {
   "cell_type": "code",
   "execution_count": null,
   "metadata": {},
   "outputs": [],
   "source": [
    "z = pnts_total // (npts[0] * npts[1])\n",
    "z"
   ]
  },
  {
   "cell_type": "code",
   "execution_count": null,
   "metadata": {},
   "outputs": [],
   "source": [
    "xyz, dev = dc.data_plot3d_box(\n",
    "    mmt.probe.length, model_params, npts=(3, 3, 2), spacing=(1.0, 1.0, 1.0)\n",
    ")"
   ]
  },
  {
   "cell_type": "code",
   "execution_count": null,
   "metadata": {},
   "outputs": [],
   "source": [
    "xyz"
   ]
  },
  {
   "cell_type": "code",
   "execution_count": null,
   "metadata": {},
   "outputs": [],
   "source": [
    "xyz.shape"
   ]
  },
  {
   "cell_type": "markdown",
   "metadata": {},
   "source": [
    "0112011201120112"
   ]
  },
  {
   "cell_type": "code",
   "execution_count": null,
   "metadata": {},
   "outputs": [],
   "source": [
    "nx, ny, nz = (4, 3, 3)\n",
    "indicies = []\n",
    "indx = np.repeat(np.arange(nx), 2)[1:-1]\n",
    "indy = np.repeat(np.arange(ny), 2)[1:-1]\n",
    "indz = np.repeat(np.arange(nz), 2)[1:-1]\n",
    "\n",
    "# lines parallel to x-axis\n",
    "for k in range(nz):\n",
    "    for j in range(ny):\n",
    "        ind = [i + j * nx + k * nx * ny for i in indx]\n",
    "        indicies.extend(ind)\n",
    "\n",
    "# lines parallel to y-axis\n",
    "for k in range(nz):\n",
    "    for i in range(nx):\n",
    "        ind = [i + j * nx + k * nx * ny for j in indy]\n",
    "        indicies.extend(ind)\n",
    "\n",
    "# lines parallel to z-axis\n",
    "for j in range(ny):\n",
    "    for i in range(nx):\n",
    "        ind = [i + j * nx + k * nx * ny for k in indz]\n",
    "        indicies.extend(ind)"
   ]
  },
  {
   "cell_type": "code",
   "execution_count": null,
   "metadata": {},
   "outputs": [],
   "source": [
    "len(indicies)"
   ]
  },
  {
   "cell_type": "code",
   "execution_count": null,
   "metadata": {},
   "outputs": [],
   "source": [
    "indx"
   ]
  },
  {
   "cell_type": "code",
   "execution_count": null,
   "metadata": {},
   "outputs": [],
   "source": [
    "indicies"
   ]
  },
  {
   "cell_type": "code",
   "execution_count": null,
   "metadata": {},
   "outputs": [],
   "source": [
    "int(800.0 // 200.0)"
   ]
  },
  {
   "cell_type": "code",
   "execution_count": null,
   "metadata": {},
   "outputs": [],
   "source": [
    "cols = [1, 1, 1, 0.5] * 25\n",
    "cols = np.array(cols).reshape(-1, 4)\n",
    "cols"
   ]
  },
  {
   "cell_type": "code",
   "execution_count": null,
   "metadata": {},
   "outputs": [],
   "source": [
    "cols[4, :] = [0.5, 1, 1, 0.5]\n",
    "cols"
   ]
  },
  {
   "cell_type": "code",
   "execution_count": null,
   "metadata": {},
   "outputs": [],
   "source": [
    "x = 0\n",
    "int(not x)"
   ]
  },
  {
   "cell_type": "code",
   "execution_count": null,
   "metadata": {},
   "outputs": [],
   "source": [
    "import tomllib as toml\n",
    "from pathlib import Path\n",
    "import cmm_error_map.data_cmpts as dc"
   ]
  },
  {
   "cell_type": "code",
   "execution_count": null,
   "metadata": {},
   "outputs": [],
   "source": [
    "def read_toml(fn, input_type):\n",
    "    with open(fn, \"rb\") as f:\n",
    "        toml_in = toml.load(f)\n",
    "    toml_in = {key: input_type(**value) for key, value in toml_in.items()}\n",
    "    return toml_in"
   ]
  },
  {
   "cell_type": "code",
   "execution_count": null,
   "metadata": {},
   "outputs": [],
   "source": [
    "fn = Path(\"/home/elfnor/gits/ls_cmm_error_map/src/cmm_error_map/config/machines.toml\")\n",
    "read_toml(fn, dc.MachineType)"
   ]
  },
  {
   "cell_type": "code",
   "execution_count": 19,
   "metadata": {},
   "outputs": [
    {
     "data": {
      "text/plain": [
       "{'KOBA 0620': ArtefactType(title='KOBA 0620', nballs=[5, 5], ball_spacing=133.0),\n",
       " 'KOBA 0420': ArtefactType(title='KOBA 0420', nballs=[5, 5], ball_spacing=83.0),\n",
       " 'KOBA 0320': ArtefactType(title='KOBA 0320', nballs=[5, 5], ball_spacing=60.0),\n",
       " 'Step Gauge 0600': ArtefactType(title='Step Gauge 0600', nballs=[61, 1], ball_spacing=10.0)}"
      ]
     },
     "execution_count": 19,
     "metadata": {},
     "output_type": "execute_result"
    }
   ],
   "source": [
    "import numpy as np\n",
    "import cmm_error_map.config.config as cf\n",
    "\n",
    "cf.artefact_models"
   ]
  },
  {
   "cell_type": "code",
   "execution_count": 114,
   "metadata": {},
   "outputs": [],
   "source": [
    "artefact = cf.artefact_models[\"Step Gauge 0600\"]"
   ]
  },
  {
   "cell_type": "code",
   "execution_count": 31,
   "metadata": {},
   "outputs": [
    {
     "data": {
      "text/plain": [
       "0.8660254037844387"
      ]
     },
     "execution_count": 31,
     "metadata": {},
     "output_type": "execute_result"
    }
   ],
   "source": [
    "np.cos(np.radians(30))"
   ]
  },
  {
   "cell_type": "code",
   "execution_count": 48,
   "metadata": {},
   "outputs": [],
   "source": [
    "rot45z = np.array(\n",
    "    [[0.5, -0.866, 0, 100], [0.866, 0.5, 0, 0], [0, 0, 1, 0], [0, 0, 0, 1]]\n",
    ")"
   ]
  },
  {
   "cell_type": "code",
   "execution_count": 56,
   "metadata": {},
   "outputs": [],
   "source": [
    "rot90z = np.array([[0, -1, 0, 100], [1, 0.0, 0, 0], [0, 0, 1, 0], [0, 0, 0, 1]])"
   ]
  },
  {
   "cell_type": "code",
   "execution_count": 117,
   "metadata": {},
   "outputs": [
    {
     "ename": "NameError",
     "evalue": "name 'rot45z' is not defined",
     "output_type": "error",
     "traceback": [
      "\u001b[1;31m---------------------------------------------------------------------------\u001b[0m",
      "\u001b[1;31mNameError\u001b[0m                                 Traceback (most recent call last)",
      "Cell \u001b[1;32mIn[117], line 7\u001b[0m\n\u001b[0;32m      1\u001b[0m cmm \u001b[38;5;241m=\u001b[39m dc\u001b[38;5;241m.\u001b[39mpmm_866\n\u001b[0;32m      2\u001b[0m p0 \u001b[38;5;241m=\u001b[39m dc\u001b[38;5;241m.\u001b[39mProbe(title\u001b[38;5;241m=\u001b[39m\u001b[38;5;124m\"\u001b[39m\u001b[38;5;124mP0\u001b[39m\u001b[38;5;124m\"\u001b[39m, name\u001b[38;5;241m=\u001b[39m\u001b[38;5;124m\"\u001b[39m\u001b[38;5;124mp0\u001b[39m\u001b[38;5;124m\"\u001b[39m, length\u001b[38;5;241m=\u001b[39mnp\u001b[38;5;241m.\u001b[39marray([\u001b[38;5;241m0\u001b[39m, \u001b[38;5;241m0\u001b[39m, \u001b[38;5;241m0\u001b[39m]))\n\u001b[0;32m      3\u001b[0m mmt \u001b[38;5;241m=\u001b[39m dc\u001b[38;5;241m.\u001b[39mMeasurement(\n\u001b[0;32m      4\u001b[0m     title\u001b[38;5;241m=\u001b[39m\u001b[38;5;124m\"\u001b[39m\u001b[38;5;124mm1\u001b[39m\u001b[38;5;124m\"\u001b[39m,\n\u001b[0;32m      5\u001b[0m     name\u001b[38;5;241m=\u001b[39m\u001b[38;5;124m\"\u001b[39m\u001b[38;5;124mmmt_00\u001b[39m\u001b[38;5;124m\"\u001b[39m,\n\u001b[0;32m      6\u001b[0m     artefact\u001b[38;5;241m=\u001b[39martefact,\n\u001b[1;32m----> 7\u001b[0m     transform_mat\u001b[38;5;241m=\u001b[39m\u001b[43mrot45z\u001b[49m,\n\u001b[0;32m      8\u001b[0m     probe\u001b[38;5;241m=\u001b[39mp0,\n\u001b[0;32m      9\u001b[0m     cmm_nominal\u001b[38;5;241m=\u001b[39m\u001b[38;5;28;01mNone\u001b[39;00m,\n\u001b[0;32m     10\u001b[0m     cmm_dev\u001b[38;5;241m=\u001b[39m\u001b[38;5;28;01mNone\u001b[39;00m,\n\u001b[0;32m     11\u001b[0m     mmt_nominal\u001b[38;5;241m=\u001b[39m\u001b[38;5;28;01mNone\u001b[39;00m,\n\u001b[0;32m     12\u001b[0m     mmt_dev\u001b[38;5;241m=\u001b[39m\u001b[38;5;28;01mNone\u001b[39;00m,\n\u001b[0;32m     13\u001b[0m )\n\u001b[0;32m     14\u001b[0m model_params \u001b[38;5;241m=\u001b[39m dc\u001b[38;5;241m.\u001b[39mmodel_parameters_test\u001b[38;5;241m.\u001b[39mcopy()\n\u001b[0;32m     15\u001b[0m mmt\u001b[38;5;241m.\u001b[39mrecalculate(model_params, cmm\u001b[38;5;241m.\u001b[39mcmm_model)\n",
      "\u001b[1;31mNameError\u001b[0m: name 'rot45z' is not defined"
     ]
    }
   ],
   "source": [
    "cmm = dc.pmm_866\n",
    "p0 = dc.Probe(title=\"P0\", name=\"p0\", length=np.array([0, 0, 0]))\n",
    "mmt = dc.Measurement(\n",
    "    title=\"m1\",\n",
    "    name=\"mmt_00\",\n",
    "    artefact=artefact,\n",
    "    transform_mat=rot45z,\n",
    "    probe=p0,\n",
    "    cmm_nominal=None,\n",
    "    cmm_dev=None,\n",
    "    mmt_nominal=None,\n",
    "    mmt_dev=None,\n",
    ")\n",
    "model_params = dc.model_parameters_test.copy()\n",
    "mmt.recalculate(model_params, cmm.cmm_model)"
   ]
  },
  {
   "cell_type": "code",
   "execution_count": 64,
   "metadata": {},
   "outputs": [
    {
     "data": {
      "text/plain": [
       "array([[100.  , 105.  , 110.  , 115.  , 120.  , 125.  , 130.  , 135.  ,\n",
       "        140.  , 145.  , 150.  , 155.  , 160.  , 165.  , 170.  , 175.  ,\n",
       "        180.  , 185.  , 190.  , 195.  , 200.  , 205.  , 210.  , 215.  ,\n",
       "        220.  , 225.  , 230.  , 235.  , 240.  , 245.  , 250.  , 255.  ,\n",
       "        260.  , 265.  , 270.  , 275.  , 280.  , 285.  , 290.  , 295.  ,\n",
       "        300.  , 305.  , 310.  , 315.  , 320.  , 325.  , 330.  , 335.  ,\n",
       "        340.  , 345.  , 350.  , 355.  , 360.  , 365.  , 370.  , 375.  ,\n",
       "        380.  , 385.  , 390.  , 395.  , 400.  ],\n",
       "       [  0.  ,   8.66,  17.32,  25.98,  34.64,  43.3 ,  51.96,  60.62,\n",
       "         69.28,  77.94,  86.6 ,  95.26, 103.92, 112.58, 121.24, 129.9 ,\n",
       "        138.56, 147.22, 155.88, 164.54, 173.2 , 181.86, 190.52, 199.18,\n",
       "        207.84, 216.5 , 225.16, 233.82, 242.48, 251.14, 259.8 , 268.46,\n",
       "        277.12, 285.78, 294.44, 303.1 , 311.76, 320.42, 329.08, 337.74,\n",
       "        346.4 , 355.06, 363.72, 372.38, 381.04, 389.7 , 398.36, 407.02,\n",
       "        415.68, 424.34, 433.  , 441.66, 450.32, 458.98, 467.64, 476.3 ,\n",
       "        484.96, 493.62, 502.28, 510.94, 519.6 ],\n",
       "       [  0.  ,   0.  ,   0.  ,   0.  ,   0.  ,   0.  ,   0.  ,   0.  ,\n",
       "          0.  ,   0.  ,   0.  ,   0.  ,   0.  ,   0.  ,   0.  ,   0.  ,\n",
       "          0.  ,   0.  ,   0.  ,   0.  ,   0.  ,   0.  ,   0.  ,   0.  ,\n",
       "          0.  ,   0.  ,   0.  ,   0.  ,   0.  ,   0.  ,   0.  ,   0.  ,\n",
       "          0.  ,   0.  ,   0.  ,   0.  ,   0.  ,   0.  ,   0.  ,   0.  ,\n",
       "          0.  ,   0.  ,   0.  ,   0.  ,   0.  ,   0.  ,   0.  ,   0.  ,\n",
       "          0.  ,   0.  ,   0.  ,   0.  ,   0.  ,   0.  ,   0.  ,   0.  ,\n",
       "          0.  ,   0.  ,   0.  ,   0.  ,   0.  ]])"
      ]
     },
     "execution_count": 64,
     "metadata": {},
     "output_type": "execute_result"
    }
   ],
   "source": [
    "mmt.cmm_nominal"
   ]
  },
  {
   "cell_type": "code",
   "execution_count": 65,
   "metadata": {},
   "outputs": [
    {
     "data": {
      "text/plain": [
       "array([100.,   0.,   0.])"
      ]
     },
     "execution_count": 65,
     "metadata": {},
     "output_type": "execute_result"
    }
   ],
   "source": [
    "xyz0 = mmt.cmm_nominal[:, 0]\n",
    "xyz0"
   ]
  },
  {
   "cell_type": "code",
   "execution_count": 66,
   "metadata": {},
   "outputs": [
    {
     "data": {
      "text/plain": [
       "array([0.500011  , 0.86601905, 0.        ])"
      ]
     },
     "execution_count": 66,
     "metadata": {},
     "output_type": "execute_result"
    }
   ],
   "source": [
    "vx = mmt.cmm_nominal[:, -1] - xyz0\n",
    "vx = vx / np.linalg.norm(vx)\n",
    "vx"
   ]
  },
  {
   "cell_type": "code",
   "execution_count": 67,
   "metadata": {},
   "outputs": [],
   "source": [
    "vy = np.array([0, 1, 0])"
   ]
  },
  {
   "cell_type": "code",
   "execution_count": 70,
   "metadata": {},
   "outputs": [
    {
     "data": {
      "text/plain": [
       "0.13398094737126087"
      ]
     },
     "execution_count": 70,
     "metadata": {},
     "output_type": "execute_result"
    }
   ],
   "source": [
    " 1 - np.dot(vx,vy) "
   ]
  },
  {
   "cell_type": "code",
   "execution_count": 8,
   "metadata": {},
   "outputs": [],
   "source": [
    "import pyqtgraph.Qt.QtGui as qtg\n",
    "import pyqtgraph as pg\n",
    "import numpy as np"
   ]
  },
  {
   "cell_type": "code",
   "execution_count": 4,
   "metadata": {},
   "outputs": [
    {
     "data": {
      "text/plain": [
       "PySide6.QtGui.QColor.fromRgbF(0.678431, 0.847059, 0.901961, 1.000000)"
      ]
     },
     "execution_count": 4,
     "metadata": {},
     "output_type": "execute_result"
    }
   ],
   "source": [
    "col = pg.mkColor(\"lightblue\")\n",
    "col"
   ]
  },
  {
   "cell_type": "code",
   "execution_count": 11,
   "metadata": {},
   "outputs": [
    {
     "data": {
      "text/plain": [
       "array([173, 216, 230, 255])"
      ]
     },
     "execution_count": 11,
     "metadata": {},
     "output_type": "execute_result"
    }
   ],
   "source": [
    "np.array(col.toTuple())"
   ]
  },
  {
   "cell_type": "code",
   "execution_count": 13,
   "metadata": {},
   "outputs": [
    {
     "data": {
      "text/plain": [
       "array([0.67843139, 0.84705883, 0.90196079, 1.        ])"
      ]
     },
     "execution_count": 13,
     "metadata": {},
     "output_type": "execute_result"
    }
   ],
   "source": [
    "np.array(col.getRgbF())"
   ]
  },
  {
   "cell_type": "code",
   "execution_count": 2,
   "metadata": {},
   "outputs": [],
   "source": [
    "from numpy.polynomial import Polynomial as Poly"
   ]
  },
  {
   "cell_type": "code",
   "execution_count": 4,
   "metadata": {},
   "outputs": [
    {
     "data": {
      "text/latex": [
       "$x \\mapsto \\text{1.0} + \\text{2.0}\\,x + \\text{3.0}\\,x^{2}$"
      ],
      "text/plain": [
       "Polynomial([1., 2., 3.], domain=[-1,  1], window=[-1,  1], symbol='x')"
      ]
     },
     "execution_count": 4,
     "metadata": {},
     "output_type": "execute_result"
    }
   ],
   "source": [
    "p123 = Poly([1, 2, 3])\n",
    "p123"
   ]
  },
  {
   "cell_type": "code",
   "execution_count": 5,
   "metadata": {},
   "outputs": [
    {
     "data": {
      "text/plain": [
       "321.0"
      ]
     },
     "execution_count": 5,
     "metadata": {},
     "output_type": "execute_result"
    }
   ],
   "source": [
    "p123(10)"
   ]
  },
  {
   "cell_type": "code",
   "execution_count": 2,
   "metadata": {},
   "outputs": [],
   "source": [
    "import datetime as dt"
   ]
  },
  {
   "cell_type": "code",
   "execution_count": 7,
   "metadata": {},
   "outputs": [
    {
     "data": {
      "text/plain": [
       "'2025-02-19 14:23:58.890420'"
      ]
     },
     "execution_count": 7,
     "metadata": {},
     "output_type": "execute_result"
    }
   ],
   "source": [
    "dt.datetime.now().isoformat(sep=\" \")"
   ]
  },
  {
   "cell_type": "code",
   "execution_count": 118,
   "metadata": {},
   "outputs": [],
   "source": [
    "ballspacing = 133.0\n",
    "x0, y0, z0 = 250.0, 50.0, 50.0\n",
    "transform_mat_xz = dc.matrix_from_vectors(\n",
    "    [x0, y0 + 2.0 * ballspacing, z0],\n",
    "    [90.0, 0.0, 0.0],\n",
    ")\n",
    "xt_xz, yt_xz, zt_xz = 0.0, 130.0, -243.4852\n",
    "prb_xz = dc.Probe(title=\"P0\", name=\"p0\", length=np.array([xt_xz, yt_xz, zt_xz]))\n",
    "mmt = dc.Measurement(\n",
    "    title=\"Plate XZ\",\n",
    "    name=\"mmt_01\",\n",
    "    artefact=cf.artefact_models[\"KOBA 0620\"],\n",
    "    transform_mat=transform_mat_xz,\n",
    "    probe=prb_xz,\n",
    "    cmm_nominal=None,\n",
    "    cmm_dev=None,\n",
    "    mmt_nominal=None,\n",
    "    mmt_dev=None,\n",
    ")"
   ]
  },
  {
   "cell_type": "code",
   "execution_count": 95,
   "metadata": {},
   "outputs": [],
   "source": [
    "mmt1 = mmt"
   ]
  },
  {
   "cell_type": "code",
   "execution_count": 96,
   "metadata": {},
   "outputs": [
    {
     "data": {
      "text/plain": [
       "True"
      ]
     },
     "execution_count": 96,
     "metadata": {},
     "output_type": "execute_result"
    }
   ],
   "source": [
    "mmt1 == mmt"
   ]
  },
  {
   "cell_type": "code",
   "execution_count": 97,
   "metadata": {},
   "outputs": [],
   "source": [
    "mmt.recalculate(dc.model_parameters_test, dc.pmm_866.cmm_model)"
   ]
  },
  {
   "cell_type": "code",
   "execution_count": 98,
   "metadata": {},
   "outputs": [
    {
     "data": {
      "text/plain": [
       "True"
      ]
     },
     "execution_count": 98,
     "metadata": {},
     "output_type": "execute_result"
    }
   ],
   "source": [
    "mmt1 == mmt"
   ]
  },
  {
   "cell_type": "code",
   "execution_count": 99,
   "metadata": {},
   "outputs": [],
   "source": [
    "mmt2 = dc.Measurement(\n",
    "    title=\"Plate XZ\",\n",
    "    name=\"mmt_01\",\n",
    "    artefact=cf.artefact_models[\"KOBA 0620\"],\n",
    "    transform_mat=transform_mat_xz,\n",
    "    probe=prb_xz,\n",
    "    cmm_nominal=None,\n",
    "    cmm_dev=None,\n",
    "    mmt_nominal=None,\n",
    "    mmt_dev=None,\n",
    ")"
   ]
  },
  {
   "cell_type": "code",
   "execution_count": 100,
   "metadata": {},
   "outputs": [
    {
     "data": {
      "text/plain": [
       "False"
      ]
     },
     "execution_count": 100,
     "metadata": {},
     "output_type": "execute_result"
    }
   ],
   "source": [
    "mmt2 == mmt"
   ]
  },
  {
   "cell_type": "code",
   "execution_count": 101,
   "metadata": {},
   "outputs": [
    {
     "data": {
      "text/plain": [
       "True"
      ]
     },
     "execution_count": 101,
     "metadata": {},
     "output_type": "execute_result"
    }
   ],
   "source": [
    "mmt2.recalculate(dc.model_parameters_test, dc.pmm_866.cmm_model)\n",
    "mmt2 == mmt"
   ]
  },
  {
   "cell_type": "code",
   "execution_count": 102,
   "metadata": {},
   "outputs": [
    {
     "data": {
      "text/plain": [
       "False"
      ]
     },
     "execution_count": 102,
     "metadata": {},
     "output_type": "execute_result"
    }
   ],
   "source": [
    "mmt2.mmt_dev[1, 1] = 999\n",
    "mmt2 == mmt"
   ]
  },
  {
   "cell_type": "code",
   "execution_count": 72,
   "metadata": {},
   "outputs": [
    {
     "data": {
      "text/plain": [
       "False"
      ]
     },
     "execution_count": 72,
     "metadata": {},
     "output_type": "execute_result"
    }
   ],
   "source": [
    "mmt2.name = \"I'm wrong\"\n",
    "mmt2 == mmt"
   ]
  },
  {
   "cell_type": "code",
   "execution_count": 103,
   "metadata": {},
   "outputs": [
    {
     "name": "stdout",
     "output_type": "stream",
     "text": [
      "The system cannot find the file specified.\n"
     ]
    }
   ],
   "source": [
    "copy(mmt2)"
   ]
  },
  {
   "cell_type": "code",
   "execution_count": 31,
   "metadata": {},
   "outputs": [],
   "source": [
    "prb1 = dc.Probe(title=\"P0\", name=\"p0\", length=np.array([xt_xz, yt_xz, zt_xz]))"
   ]
  },
  {
   "cell_type": "code",
   "execution_count": 32,
   "metadata": {},
   "outputs": [],
   "source": [
    "prb2 = dc.Probe(title=\"P0\", name=\"p0\", length=np.array([xt_xz, yt_xz, zt_xz]))"
   ]
  },
  {
   "cell_type": "code",
   "execution_count": 33,
   "metadata": {},
   "outputs": [
    {
     "data": {
      "text/plain": [
       "True"
      ]
     },
     "execution_count": 33,
     "metadata": {},
     "output_type": "execute_result"
    }
   ],
   "source": [
    "prb1 == prb2"
   ]
  },
  {
   "cell_type": "code",
   "execution_count": null,
   "metadata": {},
   "outputs": [],
   "source": [
    "prb3 = dc.Probe(title=\"P0\", name=\"p0\", length=np.array([xt_xz + 1.0, yt_xz, zt_xz]))"
   ]
  },
  {
   "cell_type": "code",
   "execution_count": 37,
   "metadata": {},
   "outputs": [
    {
     "data": {
      "text/plain": [
       "False"
      ]
     },
     "execution_count": 37,
     "metadata": {},
     "output_type": "execute_result"
    }
   ],
   "source": [
    "prb1 == prb3"
   ]
  },
  {
   "cell_type": "code",
   "execution_count": null,
   "metadata": {},
   "outputs": [
    {
     "data": {
      "text/plain": [
       "[False, True, True, True]"
      ]
     },
     "execution_count": 58,
     "metadata": {},
     "output_type": "execute_result"
    }
   ],
   "source": [
    "a = [False] + [True] * 3\n",
    "a"
   ]
  },
  {
   "cell_type": "code",
   "execution_count": 61,
   "metadata": {},
   "outputs": [
    {
     "data": {
      "text/plain": [
       "True"
      ]
     },
     "execution_count": 61,
     "metadata": {},
     "output_type": "execute_result"
    }
   ],
   "source": [
    "any(a)"
   ]
  },
  {
   "cell_type": "code",
   "execution_count": null,
   "metadata": {},
   "outputs": [],
   "source": [
    "from dataclasses import astuple, asdict\n",
    "\n",
    "t1 = asdict(mmt)"
   ]
  },
  {
   "cell_type": "code",
   "execution_count": 45,
   "metadata": {},
   "outputs": [
    {
     "data": {
      "text/plain": [
       "{'title': 'Plate XZ',\n",
       " 'name': 'mmt_01',\n",
       " 'artefact': {'title': 'KOBA 0620', 'nballs': [5, 5], 'ball_spacing': 133.0},\n",
       " 'transform_mat': array([[ 1.00000000e+00,  0.00000000e+00,  0.00000000e+00,\n",
       "          2.50000000e+02],\n",
       "        [ 0.00000000e+00,  2.22044605e-16, -1.00000000e+00,\n",
       "          3.16000000e+02],\n",
       "        [ 0.00000000e+00,  1.00000000e+00,  2.22044605e-16,\n",
       "          5.00000000e+01],\n",
       "        [ 0.00000000e+00,  0.00000000e+00,  0.00000000e+00,\n",
       "          1.00000000e+00]]),\n",
       " 'probe': {'title': 'P0',\n",
       "  'name': 'p0',\n",
       "  'length': array([   0.    ,  130.    , -243.4852])},\n",
       " 'cmm_nominal': array([[250., 383., 516., 649., 782., 250., 383., 516., 649., 782., 250.,\n",
       "         383., 516., 649., 782., 250., 383., 516., 649., 782., 250., 383.,\n",
       "         516., 649., 782.],\n",
       "        [316., 316., 316., 316., 316., 316., 316., 316., 316., 316., 316.,\n",
       "         316., 316., 316., 316., 316., 316., 316., 316., 316., 316., 316.,\n",
       "         316., 316., 316.],\n",
       "        [ 50.,  50.,  50.,  50.,  50., 183., 183., 183., 183., 183., 316.,\n",
       "         316., 316., 316., 316., 449., 449., 449., 449., 449., 582., 582.,\n",
       "         582., 582., 582.]]),\n",
       " 'cmm_dev': array([[-0.00054298,  0.00053303,  0.00160905,  0.00268506,  0.00376107,\n",
       "          0.00202531,  0.00337374,  0.00472216,  0.00607058,  0.00741901,\n",
       "          0.00459361,  0.00621444,  0.00783527,  0.00945611,  0.01107694,\n",
       "          0.0071619 ,  0.00905514,  0.01094839,  0.01284163,  0.01473488,\n",
       "          0.00973019,  0.01189585,  0.0140615 ,  0.01622716,  0.01839281],\n",
       "        [-0.00095334, -0.00033965,  0.00045093,  0.00141841,  0.00256278,\n",
       "         -0.00031744,  0.00016376,  0.00082186,  0.00165685,  0.00266873,\n",
       "          0.00031846,  0.00066717,  0.00119278,  0.00189528,  0.00277467,\n",
       "          0.00095436,  0.00117059,  0.0015637 ,  0.00213371,  0.00288062,\n",
       "          0.00159026,  0.001674  ,  0.00193463,  0.00237215,  0.00298656],\n",
       "        [-0.00029766, -0.00114989, -0.00254695, -0.00448884, -0.00697556,\n",
       "         -0.00025016, -0.00110239, -0.00249946, -0.00444135, -0.00692807,\n",
       "         -0.00020266, -0.0010549 , -0.00245197, -0.00439386, -0.00688059,\n",
       "         -0.00015516, -0.0010074 , -0.00240447, -0.00434637, -0.0068331 ,\n",
       "         -0.00010766, -0.00095991, -0.00235698, -0.00429888, -0.00678562]]),\n",
       " 'mmt_nominal': array([[  0., 133., 266., 399., 532.,   0., 133., 266., 399., 532.,   0.,\n",
       "         133., 266., 399., 532.,   0., 133., 266., 399., 532.,   0., 133.,\n",
       "         266., 399., 532.],\n",
       "        [  0.,   0.,   0.,   0.,   0., 133., 133., 133., 133., 133., 266.,\n",
       "         266., 266., 266., 266., 399., 399., 399., 399., 399., 532., 532.,\n",
       "         532., 532., 532.],\n",
       "        [  0.,   0.,   0.,   0.,   0.,   0.,   0.,   0.,   0.,   0.,   0.,\n",
       "           0.,   0.,   0.,   0.,   0.,   0.,   0.,   0.,   0.,   0.,   0.,\n",
       "           0.,   0.,   0.]]),\n",
       " 'mmt_dev': array([[0.00000000e+00, 1.07601572e-03, 2.15203944e-03, 3.22807118e-03,\n",
       "         4.30411092e-03, 8.98836247e-04, 2.24726120e-03, 3.59569416e-03,\n",
       "         4.94413513e-03, 6.29258410e-03, 1.79767249e-03, 3.41850668e-03,\n",
       "         5.03934887e-03, 6.66019907e-03, 8.28105728e-03, 2.69650874e-03,\n",
       "         4.58975216e-03, 6.48300359e-03, 8.37626302e-03, 1.02695305e-02,\n",
       "         3.59534499e-03, 5.76099764e-03, 7.92665830e-03, 1.00923270e-02,\n",
       "         1.22580036e-02],\n",
       "        [0.00000000e+00, 8.17241401e-04, 1.08965520e-03, 8.17241400e-04,\n",
       "         0.00000000e+00, 4.75223264e-05, 8.64763183e-04, 1.13717644e-03,\n",
       "         8.64762094e-04, 4.75201498e-05, 9.50446528e-05, 9.12284965e-04,\n",
       "         1.18469768e-03, 9.12282789e-04, 9.50402998e-05, 1.42566979e-04,\n",
       "         9.59806747e-04, 1.23221892e-03, 9.59803483e-04, 1.42560450e-04,\n",
       "         1.90089306e-04, 1.00732853e-03, 1.27974015e-03, 1.00732418e-03,\n",
       "         1.90080599e-04],\n",
       "        [0.00000000e+00, 2.65342436e-04, 3.53789915e-04, 2.65342436e-04,\n",
       "         5.68434189e-14, 0.00000000e+00, 3.97833527e-04, 6.18772096e-04,\n",
       "         6.62815707e-04, 5.29964361e-04, 0.00000000e+00, 5.30324617e-04,\n",
       "         8.83754276e-04, 1.06028898e-03, 1.05992872e-03, 0.00000000e+00,\n",
       "         6.62815707e-04, 1.14873646e-03, 1.45776225e-03, 1.58989308e-03,\n",
       "         0.00000000e+00, 7.95306798e-04, 1.41371864e-03, 1.85523552e-03,\n",
       "         2.11985745e-03]]),\n",
       " 'fixed': False}"
      ]
     },
     "execution_count": 45,
     "metadata": {},
     "output_type": "execute_result"
    }
   ],
   "source": [
    "t1"
   ]
  },
  {
   "cell_type": "code",
   "execution_count": null,
   "metadata": {},
   "outputs": [
    {
     "data": {
      "text/plain": [
       "({'title': 'P0',\n",
       "  'name': 'p0',\n",
       "  'length': array([   0.    ,  130.    , -243.4852])},\n",
       " dict)"
      ]
     },
     "execution_count": 46,
     "metadata": {},
     "output_type": "execute_result"
    }
   ],
   "source": [
    "t1[\"probe\"], type(t1[\"probe\"])"
   ]
  },
  {
   "cell_type": "code",
   "execution_count": null,
   "metadata": {},
   "outputs": [
    {
     "data": {
      "text/plain": [
       "('P0', 'p0', array([   1.    ,  130.    , -243.4852]))"
      ]
     },
     "execution_count": 48,
     "metadata": {},
     "output_type": "execute_result"
    }
   ],
   "source": [
    "import dataclasses\n",
    "\n",
    "tuple(getattr(prb3, field.name) for field in dataclasses.fields(prb3))"
   ]
  },
  {
   "cell_type": "code",
   "execution_count": 49,
   "metadata": {},
   "outputs": [
    {
     "data": {
      "text/plain": [
       "('Plate XZ',\n",
       " 'mmt_01',\n",
       " ArtefactType(title='KOBA 0620', nballs=[5, 5], ball_spacing=133.0),\n",
       " array([[ 1.00000000e+00,  0.00000000e+00,  0.00000000e+00,\n",
       "          2.50000000e+02],\n",
       "        [ 0.00000000e+00,  2.22044605e-16, -1.00000000e+00,\n",
       "          3.16000000e+02],\n",
       "        [ 0.00000000e+00,  1.00000000e+00,  2.22044605e-16,\n",
       "          5.00000000e+01],\n",
       "        [ 0.00000000e+00,  0.00000000e+00,  0.00000000e+00,\n",
       "          1.00000000e+00]]),\n",
       " Probe(title='P0', name='p0', length=array([   0.    ,  130.    , -243.4852])),\n",
       " array([[250., 383., 516., 649., 782., 250., 383., 516., 649., 782., 250.,\n",
       "         383., 516., 649., 782., 250., 383., 516., 649., 782., 250., 383.,\n",
       "         516., 649., 782.],\n",
       "        [316., 316., 316., 316., 316., 316., 316., 316., 316., 316., 316.,\n",
       "         316., 316., 316., 316., 316., 316., 316., 316., 316., 316., 316.,\n",
       "         316., 316., 316.],\n",
       "        [ 50.,  50.,  50.,  50.,  50., 183., 183., 183., 183., 183., 316.,\n",
       "         316., 316., 316., 316., 449., 449., 449., 449., 449., 582., 582.,\n",
       "         582., 582., 582.]]),\n",
       " array([[-0.00054298,  0.00053303,  0.00160905,  0.00268506,  0.00376107,\n",
       "          0.00202531,  0.00337374,  0.00472216,  0.00607058,  0.00741901,\n",
       "          0.00459361,  0.00621444,  0.00783527,  0.00945611,  0.01107694,\n",
       "          0.0071619 ,  0.00905514,  0.01094839,  0.01284163,  0.01473488,\n",
       "          0.00973019,  0.01189585,  0.0140615 ,  0.01622716,  0.01839281],\n",
       "        [-0.00095334, -0.00033965,  0.00045093,  0.00141841,  0.00256278,\n",
       "         -0.00031744,  0.00016376,  0.00082186,  0.00165685,  0.00266873,\n",
       "          0.00031846,  0.00066717,  0.00119278,  0.00189528,  0.00277467,\n",
       "          0.00095436,  0.00117059,  0.0015637 ,  0.00213371,  0.00288062,\n",
       "          0.00159026,  0.001674  ,  0.00193463,  0.00237215,  0.00298656],\n",
       "        [-0.00029766, -0.00114989, -0.00254695, -0.00448884, -0.00697556,\n",
       "         -0.00025016, -0.00110239, -0.00249946, -0.00444135, -0.00692807,\n",
       "         -0.00020266, -0.0010549 , -0.00245197, -0.00439386, -0.00688059,\n",
       "         -0.00015516, -0.0010074 , -0.00240447, -0.00434637, -0.0068331 ,\n",
       "         -0.00010766, -0.00095991, -0.00235698, -0.00429888, -0.00678562]]),\n",
       " array([[  0., 133., 266., 399., 532.,   0., 133., 266., 399., 532.,   0.,\n",
       "         133., 266., 399., 532.,   0., 133., 266., 399., 532.,   0., 133.,\n",
       "         266., 399., 532.],\n",
       "        [  0.,   0.,   0.,   0.,   0., 133., 133., 133., 133., 133., 266.,\n",
       "         266., 266., 266., 266., 399., 399., 399., 399., 399., 532., 532.,\n",
       "         532., 532., 532.],\n",
       "        [  0.,   0.,   0.,   0.,   0.,   0.,   0.,   0.,   0.,   0.,   0.,\n",
       "           0.,   0.,   0.,   0.,   0.,   0.,   0.,   0.,   0.,   0.,   0.,\n",
       "           0.,   0.,   0.]]),\n",
       " array([[0.00000000e+00, 1.07601572e-03, 2.15203944e-03, 3.22807118e-03,\n",
       "         4.30411092e-03, 8.98836247e-04, 2.24726120e-03, 3.59569416e-03,\n",
       "         4.94413513e-03, 6.29258410e-03, 1.79767249e-03, 3.41850668e-03,\n",
       "         5.03934887e-03, 6.66019907e-03, 8.28105728e-03, 2.69650874e-03,\n",
       "         4.58975216e-03, 6.48300359e-03, 8.37626302e-03, 1.02695305e-02,\n",
       "         3.59534499e-03, 5.76099764e-03, 7.92665830e-03, 1.00923270e-02,\n",
       "         1.22580036e-02],\n",
       "        [0.00000000e+00, 8.17241401e-04, 1.08965520e-03, 8.17241400e-04,\n",
       "         0.00000000e+00, 4.75223264e-05, 8.64763183e-04, 1.13717644e-03,\n",
       "         8.64762094e-04, 4.75201498e-05, 9.50446528e-05, 9.12284965e-04,\n",
       "         1.18469768e-03, 9.12282789e-04, 9.50402998e-05, 1.42566979e-04,\n",
       "         9.59806747e-04, 1.23221892e-03, 9.59803483e-04, 1.42560450e-04,\n",
       "         1.90089306e-04, 1.00732853e-03, 1.27974015e-03, 1.00732418e-03,\n",
       "         1.90080599e-04],\n",
       "        [0.00000000e+00, 2.65342436e-04, 3.53789915e-04, 2.65342436e-04,\n",
       "         5.68434189e-14, 0.00000000e+00, 3.97833527e-04, 6.18772096e-04,\n",
       "         6.62815707e-04, 5.29964361e-04, 0.00000000e+00, 5.30324617e-04,\n",
       "         8.83754276e-04, 1.06028898e-03, 1.05992872e-03, 0.00000000e+00,\n",
       "         6.62815707e-04, 1.14873646e-03, 1.45776225e-03, 1.58989308e-03,\n",
       "         0.00000000e+00, 7.95306798e-04, 1.41371864e-03, 1.85523552e-03,\n",
       "         2.11985745e-03]]),\n",
       " False)"
      ]
     },
     "execution_count": 49,
     "metadata": {},
     "output_type": "execute_result"
    }
   ],
   "source": [
    "tuple(getattr(mmt, field.name) for field in dataclasses.fields(mmt))"
   ]
  },
  {
   "cell_type": "code",
   "execution_count": null,
   "metadata": {},
   "outputs": [],
   "source": [
    "now = \"2025-02-19 14:23:58.890420\""
   ]
  },
  {
   "cell_type": "code",
   "execution_count": 12,
   "metadata": {},
   "outputs": [],
   "source": [
    "header = dc.short_header(mmt, now)"
   ]
  },
  {
   "cell_type": "code",
   "execution_count": 13,
   "metadata": {},
   "outputs": [
    {
     "data": {
      "text/plain": [
       "'save time,2025-02-19 14:23:58.890420\\ntitle,Plate XZ\\nartefact.title,KOBA 0620\\nartefact.nballs,5,5 \\nartefact.ball_spacing,133.0\\nlocation,250.0, 316.0, 50.0\\nrotation/deg,89.99999999999999, 0.0, 0.0\\n'"
      ]
     },
     "execution_count": 13,
     "metadata": {},
     "output_type": "execute_result"
    }
   ],
   "source": [
    "header"
   ]
  },
  {
   "cell_type": "code",
   "execution_count": null,
   "metadata": {},
   "outputs": [],
   "source": [
    "header2 = (\n",
    "    \"save time,2025-02-19 14:23:58.890420\\n\"\n",
    "    \"title,Plate XZ\\n\"\n",
    "    \"artefact.title,KOBA 0620\\n\"\n",
    "    \"artefact.nballs,5,5 \\n\"\n",
    "    \"artefact.ball_spacing,133.0\\n\"\n",
    "    \"location,250.0, 316.0, 50.0\\n\"\n",
    "    \"rotation/deg,89.99999999999999, 0.0, 0.0\\n\"\n",
    ")"
   ]
  },
  {
   "cell_type": "code",
   "execution_count": 18,
   "metadata": {},
   "outputs": [
    {
     "data": {
      "text/plain": [
       "True"
      ]
     },
     "execution_count": 18,
     "metadata": {},
     "output_type": "execute_result"
    }
   ],
   "source": [
    "header == header2"
   ]
  },
  {
   "cell_type": "code",
   "execution_count": 16,
   "metadata": {},
   "outputs": [
    {
     "data": {
      "text/plain": [
       "('save time,2025-02-19 14:23:58.890420\\n',\n",
       " 'title,Plate XZ\\n',\n",
       " 'artefact.title,KOBA 0620\\n',\n",
       " 'artefact.nballs,5,5 \\n',\n",
       " 'artefact.ball_spacing,133.0\\n',\n",
       " 'location,250.0, 316.0, 50.0\\n',\n",
       " 'rotation/deg,89.99999999999999, 0.0, 0.0\\n')"
      ]
     },
     "execution_count": 16,
     "metadata": {},
     "output_type": "execute_result"
    }
   ],
   "source": [
    "header2"
   ]
  },
  {
   "cell_type": "code",
   "execution_count": 104,
   "metadata": {},
   "outputs": [],
   "source": [
    "import dataclasses"
   ]
  },
  {
   "cell_type": "code",
   "execution_count": null,
   "metadata": {},
   "outputs": [],
   "source": [
    "mmt2 = dataclasses.replace(mmt)"
   ]
  },
  {
   "cell_type": "code",
   "execution_count": 107,
   "metadata": {},
   "outputs": [
    {
     "data": {
      "text/plain": [
       "True"
      ]
     },
     "execution_count": 107,
     "metadata": {},
     "output_type": "execute_result"
    }
   ],
   "source": [
    "mmt2 == mmt"
   ]
  },
  {
   "cell_type": "code",
   "execution_count": 108,
   "metadata": {},
   "outputs": [
    {
     "data": {
      "text/plain": [
       "True"
      ]
     },
     "execution_count": 108,
     "metadata": {},
     "output_type": "execute_result"
    }
   ],
   "source": [
    "mmt2.probe == mmt.probe"
   ]
  },
  {
   "cell_type": "code",
   "execution_count": null,
   "metadata": {},
   "outputs": [
    {
     "data": {
      "text/plain": [
       "False"
      ]
     },
     "execution_count": 109,
     "metadata": {},
     "output_type": "execute_result"
    }
   ],
   "source": [
    "mmt2.name = \"I'm wrong\"\n",
    "mmt2 == mmt"
   ]
  },
  {
   "cell_type": "code",
   "execution_count": 110,
   "metadata": {},
   "outputs": [
    {
     "data": {
      "text/plain": [
       "True"
      ]
     },
     "execution_count": 110,
     "metadata": {},
     "output_type": "execute_result"
    }
   ],
   "source": [
    "mmt2 = dataclasses.replace(mmt)\n",
    "mmt2 == mmt"
   ]
  },
  {
   "cell_type": "code",
   "execution_count": 111,
   "metadata": {},
   "outputs": [
    {
     "data": {
      "text/plain": [
       "True"
      ]
     },
     "execution_count": 111,
     "metadata": {},
     "output_type": "execute_result"
    }
   ],
   "source": [
    "mmt2.probe.name = \"wrong\"\n",
    "mmt2 == mmt"
   ]
  },
  {
   "cell_type": "code",
   "execution_count": 112,
   "metadata": {},
   "outputs": [
    {
     "data": {
      "text/plain": [
       "'wrong'"
      ]
     },
     "execution_count": 112,
     "metadata": {},
     "output_type": "execute_result"
    }
   ],
   "source": [
    "mmt.probe.name"
   ]
  },
  {
   "cell_type": "code",
   "execution_count": null,
   "metadata": {},
   "outputs": [],
   "source": []
  }
 ],
 "metadata": {
  "kernelspec": {
   "display_name": ".venv",
   "language": "python",
   "name": "python3"
  },
  "language_info": {
   "codemirror_mode": {
    "name": "ipython",
    "version": 3
   },
   "file_extension": ".py",
   "mimetype": "text/x-python",
   "name": "python",
   "nbconvert_exporter": "python",
   "pygments_lexer": "ipython3",
   "version": "3.11.9"
  }
 },
 "nbformat": 4,
 "nbformat_minor": 2
}
