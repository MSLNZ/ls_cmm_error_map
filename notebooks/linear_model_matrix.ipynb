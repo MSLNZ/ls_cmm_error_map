{
 "cells": [
  {
   "cell_type": "markdown",
   "metadata": {},
   "source": [
    "Work straight from matrix equations"
   ]
  },
  {
   "cell_type": "code",
   "execution_count": 9,
   "metadata": {},
   "outputs": [],
   "source": [
    "import numpy as np\n",
    "from cmm_error_map import data_cmpts as dc"
   ]
  },
  {
   "cell_type": "code",
   "execution_count": 10,
   "metadata": {},
   "outputs": [],
   "source": [
    "p = dc.model_parameters_test.copy()"
   ]
  },
  {
   "cell_type": "code",
   "execution_count": 11,
   "metadata": {},
   "outputs": [],
   "source": [
    "xyz  = np.array([100.,50.,20.])\n",
    "x,y,z = xyz\n",
    "xyzt = np.array([-100.,0.,0.])\n",
    "xt, yt, zt =xyzt"
   ]
  },
  {
   "cell_type": "code",
   "execution_count": 12,
   "metadata": {},
   "outputs": [],
   "source": [
    "# linear dependence\n",
    "ld_dict = {\n",
    "    \"Txx\": x,\n",
    "    \"Txy\": x,\n",
    "    \"Txz\": x,\n",
    "    \"Tyx\": y,\n",
    "    \"Tyy\": y,\n",
    "    \"Tyz\": y,\n",
    "    \"Tzx\": z,\n",
    "    \"Tzy\": z,\n",
    "    \"Tzz\": z,\n",
    "    \"Rxx\": x,\n",
    "    \"Rxy\": x,\n",
    "    \"Rxz\": x,\n",
    "    \"Ryx\": y,\n",
    "    \"Ryy\": y,\n",
    "    \"Ryz\": y,\n",
    "    \"Rzx\": z,\n",
    "    \"Rzy\": z,\n",
    "    \"Rzz\": z,\n",
    "    \"Wxy\": x,\n",
    "    \"Wxz\": y,\n",
    "    \"Wyz\": z,\n",
    "}"
   ]
  },
  {
   "cell_type": "code",
   "execution_count": null,
   "metadata": {},
   "outputs": [],
   "source": [
    "\n",
    "\n",
    "    "
   ]
  },
  {
   "cell_type": "code",
   "execution_count": 13,
   "metadata": {},
   "outputs": [
    {
     "data": {
      "text/plain": [
       "{'Txx': 0.00133,\n",
       " 'Txy': 0.0,\n",
       " 'Txz': 0.0,\n",
       " 'Tyx': -0.00056,\n",
       " 'Tyy': -0.0002545,\n",
       " 'Tyz': 0.0,\n",
       " 'Tzx': 0.00052,\n",
       " 'Tzy': 9.2e-05,\n",
       " 'Tzz': 6.68e-07,\n",
       " 'Rxx': 7.489999999999999e-07,\n",
       " 'Rxy': 1.5399999999999999e-06,\n",
       " 'Rxz': 5e-07,\n",
       " 'Ryx': -2.2900000000000003e-07,\n",
       " 'Ryy': -7.15e-07,\n",
       " 'Ryz': 1.095e-06,\n",
       " 'Rzx': 4.9799999999999996e-08,\n",
       " 'Rzy': -1.588e-08,\n",
       " 'Rzz': 9.56e-07,\n",
       " 'Wxy': 0.0,\n",
       " 'Wxz': 0.0,\n",
       " 'Wyz': 0.0}"
      ]
     },
     "execution_count": 13,
     "metadata": {},
     "output_type": "execute_result"
    }
   ],
   "source": [
    "pl = {key: p[key]* ld_dict[key] for key in p}\n",
    "pl"
   ]
  },
  {
   "cell_type": "code",
   "execution_count": 14,
   "metadata": {},
   "outputs": [],
   "source": [
    "# rotation\n",
    "rxl = np.array([[1.,       pl['Rxz'], -pl['Rxy']], \n",
    "               [-pl['Rxz'],   1.,      pl['Rxx']],\n",
    "               [ p['Rxy'],-p['Rxx'],     1.   ]])\n",
    "ryl = np.array([[1.,       pl['Ryz'], -pl['Ryy']], \n",
    "               [-pl['Ryz'],   1.,      pl['Ryx']],\n",
    "               [ pl['Ryy'],-pl['Ryx'],     1.   ]])\n",
    "rzl = np.array([[1.,       pl['Rzz'], -pl['Rzy']], \n",
    "               [-pl['Rzz'],   1.,      pl['Rzx']],\n",
    "               [ pl['Rzy'],-pl['Rzx'],     1.   ]])"
   ]
  },
  {
   "cell_type": "code",
   "execution_count": 15,
   "metadata": {},
   "outputs": [],
   "source": [
    "# translation\n",
    "xl = np.array([x + pl['Txx'], pl['Txy'], pl['Txz'] ])\n",
    "yl = np.array([pl['Tyx'], y + pl['Tyy'], pl['Tyz'] ])\n",
    "zl = np.array([pl['Tzx'], pl['Tzy'], z + pl['Tzz'] ])"
   ]
  },
  {
   "cell_type": "code",
   "execution_count": 16,
   "metadata": {},
   "outputs": [],
   "source": [
    "# inverse rotation\n",
    "inv_ryl = np.linalg.inv(ryl)\n",
    "inv_rzl = np.linalg.inv(rzl)"
   ]
  },
  {
   "cell_type": "code",
   "execution_count": 17,
   "metadata": {},
   "outputs": [
    {
     "data": {
      "text/plain": [
       "array([[ 1.00000000e+00, -1.09499984e-06, -7.15000251e-07],\n",
       "       [ 1.09500016e-06,  1.00000000e+00,  2.28999217e-07],\n",
       "       [ 7.14999749e-07, -2.29000783e-07,  1.00000000e+00]])"
      ]
     },
     "execution_count": 17,
     "metadata": {},
     "output_type": "execute_result"
    }
   ],
   "source": [
    "inv_ryl"
   ]
  },
  {
   "cell_type": "code",
   "execution_count": 25,
   "metadata": {},
   "outputs": [
    {
     "data": {
      "text/plain": [
       "array([-200.0013901 ,   49.99975196,   19.99992413])"
      ]
     },
     "execution_count": 25,
     "metadata": {},
     "output_type": "execute_result"
    }
   ],
   "source": [
    "w = rxl @ yl - rxl @ xl + rxl @ inv_ryl @ zl + rxl @ inv_ryl @ inv_rzl @ xyzt\n",
    "w"
   ]
  },
  {
   "cell_type": "code",
   "execution_count": 19,
   "metadata": {},
   "outputs": [],
   "source": [
    "from cmm_error_map import design_matrix_linear_fixed as design"
   ]
  },
  {
   "cell_type": "code",
   "execution_count": 20,
   "metadata": {},
   "outputs": [
    {
     "data": {
      "text/plain": [
       "(0.0013785000000000002, -0.00013100000000000004, 3.630600000000001e-05)"
      ]
     },
     "execution_count": 20,
     "metadata": {},
     "output_type": "execute_result"
    }
   ],
   "source": [
    "design.model_linear(x, y, z, list(p.values()), xt, yt, zt)"
   ]
  },
  {
   "cell_type": "code",
   "execution_count": 24,
   "metadata": {},
   "outputs": [
    {
     "data": {
      "text/plain": [
       "array([100.,  50.,  20.])"
      ]
     },
     "execution_count": 24,
     "metadata": {},
     "output_type": "execute_result"
    }
   ],
   "source": [
    "xyz"
   ]
  },
  {
   "cell_type": "code",
   "execution_count": 21,
   "metadata": {},
   "outputs": [
    {
     "data": {
      "text/plain": [
       "array([-3.00001390e+02, -2.48038825e-04, -7.58741369e-05])"
      ]
     },
     "execution_count": 21,
     "metadata": {},
     "output_type": "execute_result"
    }
   ],
   "source": [
    "w - xyz"
   ]
  },
  {
   "cell_type": "code",
   "execution_count": 22,
   "metadata": {},
   "outputs": [
    {
     "data": {
      "text/plain": [
       "array([6, 6, 6])"
      ]
     },
     "execution_count": 22,
     "metadata": {},
     "output_type": "execute_result"
    }
   ],
   "source": [
    "m = np.array([[1, 2, 3], [1, 2, 3], [1, 2, 3]])\n",
    "v = np.array([1, 1, 1])\n",
    "m @ v"
   ]
  },
  {
   "cell_type": "code",
   "execution_count": 23,
   "metadata": {},
   "outputs": [
    {
     "data": {
      "text/plain": [
       "array([[1, 2, 3],\n",
       "       [1, 2, 3],\n",
       "       [1, 2, 3]])"
      ]
     },
     "execution_count": 23,
     "metadata": {},
     "output_type": "execute_result"
    }
   ],
   "source": [
    "m"
   ]
  },
  {
   "cell_type": "code",
   "execution_count": 30,
   "metadata": {},
   "outputs": [],
   "source": [
    "def linear_dependency(xyz, model_params):\n",
    "    x,y,z = xyz\n",
    "    ld_dict = {\n",
    "        \"Txx\": x,\n",
    "        \"Txy\": x,\n",
    "        \"Txz\": x,\n",
    "        \"Tyx\": y,\n",
    "        \"Tyy\": y,\n",
    "        \"Tyz\": y,\n",
    "        \"Tzx\": z,\n",
    "        \"Tzy\": z,\n",
    "        \"Tzz\": z,\n",
    "        \"Rxx\": x,\n",
    "        \"Rxy\": x,\n",
    "        \"Rxz\": x,\n",
    "        \"Ryx\": y,\n",
    "        \"Ryy\": y,\n",
    "        \"Ryz\": y,\n",
    "        \"Rzx\": z,\n",
    "        \"Rzy\": z,\n",
    "        \"Rzz\": z,\n",
    "        \"Wxy\": x,\n",
    "        \"Wxz\": y,\n",
    "        \"Wyz\": z,\n",
    "    }\n",
    "    pl = {key: p[key]* ld_dict[key] for key in model_params}\n",
    "    return pl"
   ]
  },
  {
   "cell_type": "code",
   "execution_count": 31,
   "metadata": {},
   "outputs": [],
   "source": [
    "def linear_model_matrix(xyz, xyzt, model_params):\n",
    "    pl = linear_dependency(xyz, model_params)\n",
    "    # rotation\n",
    "    rxl = np.array([[1.,       pl['Rxz'], -pl['Rxy']], \n",
    "                [-pl['Rxz'],   1.,      pl['Rxx']],\n",
    "                [ p['Rxy'],-p['Rxx'],     1.   ]])\n",
    "    ryl = np.array([[1.,       pl['Ryz'], -pl['Ryy']], \n",
    "                [-pl['Ryz'],   1.,      pl['Ryx']],\n",
    "                [ pl['Ryy'],-pl['Ryx'],     1.   ]])\n",
    "    rzl = np.array([[1.,       pl['Rzz'], -pl['Rzy']], \n",
    "                [-pl['Rzz'],   1.,      pl['Rzx']],\n",
    "                [ pl['Rzy'],-pl['Rzx'],     1.   ]])\n",
    "    # inverse rotation\n",
    "    inv_ryl = np.linalg.inv(ryl)\n",
    "    inv_rzl = np.linalg.inv(rzl)\n",
    "    # translation\n",
    "    xl = np.array([x + pl['Txx'], pl['Txy'], pl['Txz'] ])\n",
    "    yl = np.array([pl['Tyx'], y + pl['Tyy'], pl['Tyz'] ])\n",
    "    zl = np.array([pl['Tzx'], pl['Tzy'], z + pl['Tzz'] ])\n",
    "    w = rxl @ yl - rxl @ xl + rxl @ inv_ryl @ zl + rxl @ inv_ryl @ inv_rzl @ xyzt\n",
    "    return w\n",
    "    \n",
    "    \n",
    "    "
   ]
  },
  {
   "cell_type": "code",
   "execution_count": 32,
   "metadata": {},
   "outputs": [
    {
     "data": {
      "text/plain": [
       "array([-200.0013901 ,   49.99975196,   19.99992413])"
      ]
     },
     "execution_count": 32,
     "metadata": {},
     "output_type": "execute_result"
    }
   ],
   "source": [
    "w = linear_model_matrix(xyz, xyzt, dc.model_parameters_test)\n",
    "w"
   ]
  },
  {
   "cell_type": "code",
   "execution_count": 33,
   "metadata": {},
   "outputs": [
    {
     "data": {
      "text/plain": [
       "array([-200.0013901 ,   49.99975196,   19.99992413])"
      ]
     },
     "execution_count": 33,
     "metadata": {},
     "output_type": "execute_result"
    }
   ],
   "source": [
    "w = linear_model_matrix(xyz, xyzt, dc.model_parameters_dict)\n",
    "w"
   ]
  },
  {
   "cell_type": "code",
   "execution_count": 34,
   "metadata": {},
   "outputs": [
    {
     "data": {
      "text/plain": [
       "{'Txx': 0.0,\n",
       " 'Txy': 0.0,\n",
       " 'Txz': 0.0,\n",
       " 'Tyx': 0.0,\n",
       " 'Tyy': 0.0,\n",
       " 'Tyz': 0.0,\n",
       " 'Tzx': 0.0,\n",
       " 'Tzy': 0.0,\n",
       " 'Tzz': 0.0,\n",
       " 'Rxx': 0.0,\n",
       " 'Rxy': 0.0,\n",
       " 'Rxz': 0.0,\n",
       " 'Ryx': 0.0,\n",
       " 'Ryy': 0.0,\n",
       " 'Ryz': 0.0,\n",
       " 'Rzx': 0.0,\n",
       " 'Rzy': 0.0,\n",
       " 'Rzz': 0.0,\n",
       " 'Wxy': 0.0,\n",
       " 'Wxz': 0.0,\n",
       " 'Wyz': 0.0}"
      ]
     },
     "execution_count": 34,
     "metadata": {},
     "output_type": "execute_result"
    }
   ],
   "source": [
    "dc.model_parameters_dict"
   ]
  },
  {
   "cell_type": "code",
   "execution_count": null,
   "metadata": {},
   "outputs": [],
   "source": [
    "model_params = dc.model_parameters_dict\n",
    "\n",
    "pl = {key: p[key]* ld_dict[key] for key in model_params}\n",
    "# rotation\n",
    "rxl = np.array([[1.,       pl['Rxz'], -pl['Rxy']], \n",
    "            [-pl['Rxz'],   1.,      pl['Rxx']],\n",
    "            [ p['Rxy'],-p['Rxx'],     1.   ]])\n",
    "ryl = np.array([[1.,       pl['Ryz'], -pl['Ryy']], \n",
    "            [-pl['Ryz'],   1.,      pl['Ryx']],\n",
    "            [ pl['Ryy'],-pl['Ryx'],     1.   ]])\n",
    "rzl = np.array([[1.,       pl['Rzz'], -pl['Rzy']], \n",
    "            [-pl['Rzz'],   1.,      pl['Rzx']],\n",
    "            [ pl['Rzy'],-pl['Rzx'],     1.   ]])\n",
    "# inverse rotation\n",
    "inv_ryl = np.linalg.inv(ryl)\n",
    "inv_rzl = np.linalg.inv(rzl)\n",
    "# translation\n",
    "xl = np.array([x + pl['Txx'], pl['Txy'], pl['Txz'] ])\n",
    "yl = np.array([pl['Tyx'], y + pl['Tyy'], pl['Tyz'] ])\n",
    "zl = np.array([pl['Tzx'], pl['Tzy'], z + pl['Tzz'] ])\n",
    "w = rxl @ yl - rxl @ xl + rxl @ inv_ryl @ zl + rxl @ inv_ryl @ inv_rzl @ xyzt"
   ]
  }
 ],
 "metadata": {
  "kernelspec": {
   "display_name": ".venv",
   "language": "python",
   "name": "python3"
  },
  "language_info": {
   "codemirror_mode": {
    "name": "ipython",
    "version": 3
   },
   "file_extension": ".py",
   "mimetype": "text/x-python",
   "name": "python",
   "nbconvert_exporter": "python",
   "pygments_lexer": "ipython3",
   "version": "3.11.9"
  }
 },
 "nbformat": 4,
 "nbformat_minor": 2
}
