{
 "cells": [
  {
   "cell_type": "markdown",
   "metadata": {},
   "source": [
    "\n",
    " Redoing  the sympy code from\n",
    " \n",
    " [1] Coordinate Measuring Machine Error Compensation via Ball Plate Measurements - EF Howick Callaghan Innnovation Report 118\n",
    " `/home/elfnor/Documents/MSLNZ/CMM/Ballplate_MSL-_ipynb_format4/ipy_notebooks/Model_3D_CMM-unicode.ipynb  \n",
    " in 2024"
   ]
  },
  {
   "cell_type": "code",
   "execution_count": 29,
   "metadata": {},
   "outputs": [],
   "source": [
    "import sympy "
   ]
  },
  {
   "cell_type": "code",
   "execution_count": 30,
   "metadata": {},
   "outputs": [],
   "source": [
    "#symbols used in model\n",
    "xyz_terms = sympy.var('x,y,z')\n",
    "prb_terms = sympy.var('xt,yt,zt')\n",
    "Tterms = sympy.var('T(x:z)(x:z)')\n",
    "Rterms = sympy.var('R(x:z)(x:z)')\n",
    "terms = Tterms+Rterms"
   ]
  },
  {
   "cell_type": "code",
   "execution_count": 31,
   "metadata": {},
   "outputs": [],
   "source": [
    "#Matrix expression\n",
    "X = sympy.Matrix([[x + Txx],[Txy],[Txz]])\n",
    "Y = sympy.Matrix([[Tyx],[y + Tyy],[Tyz]])\n",
    "Z = sympy.Matrix([[Tzx],[Tzy],[z + Tzz]])\n",
    "T = sympy.Matrix([[xt],[yt],[zt]])\n",
    "\n",
    "RX = sympy.Matrix([[1,Rxz,-Rxy],[-Rxz,1,Rxx],[Rxy,-Rxx,1]])\n",
    "RY_inv = sympy.Matrix([[1,-Ryz,Ryy],[Ryz,1,-Ryx],[-Ryy,Ryx,1]])\n",
    "RZ_inv = sympy.Matrix([[1,-Rzz,Rzy],[Rzz,1,-Rzx],[-Rzy,Rzx,1]])"
   ]
  },
  {
   "cell_type": "markdown",
   "metadata": {},
   "source": [
    "X, Y, Z, T, RX as defined in equation (2)  of [1] (pg.5)"
   ]
  },
  {
   "cell_type": "code",
   "execution_count": 26,
   "metadata": {},
   "outputs": [
    {
     "data": {
      "text/latex": [
       "$\\displaystyle \\left[\\begin{matrix}Txx + x\\\\Txy\\\\Txz\\end{matrix}\\right]$"
      ],
      "text/plain": [
       "Matrix([\n",
       "[Txx + x],\n",
       "[    Txy],\n",
       "[    Txz]])"
      ]
     },
     "execution_count": 26,
     "metadata": {},
     "output_type": "execute_result"
    }
   ],
   "source": [
    "X"
   ]
  },
  {
   "cell_type": "code",
   "execution_count": 6,
   "metadata": {},
   "outputs": [
    {
     "data": {
      "text/latex": [
       "$\\displaystyle \\left[\\begin{matrix}Tyx\\\\Tyy + y\\\\Tyz\\end{matrix}\\right]$"
      ],
      "text/plain": [
       "Matrix([\n",
       "[    Tyx],\n",
       "[Tyy + y],\n",
       "[    Tyz]])"
      ]
     },
     "execution_count": 6,
     "metadata": {},
     "output_type": "execute_result"
    }
   ],
   "source": [
    "Y"
   ]
  },
  {
   "cell_type": "code",
   "execution_count": 7,
   "metadata": {},
   "outputs": [
    {
     "data": {
      "text/latex": [
       "$\\displaystyle \\left[\\begin{matrix}Tzx\\\\Tzy\\\\Tzz + z\\end{matrix}\\right]$"
      ],
      "text/plain": [
       "Matrix([\n",
       "[    Tzx],\n",
       "[    Tzy],\n",
       "[Tzz + z]])"
      ]
     },
     "execution_count": 7,
     "metadata": {},
     "output_type": "execute_result"
    }
   ],
   "source": [
    "Z"
   ]
  },
  {
   "cell_type": "code",
   "execution_count": 8,
   "metadata": {},
   "outputs": [
    {
     "data": {
      "text/latex": [
       "$\\displaystyle \\left[\\begin{matrix}xt\\\\yt\\\\zt\\end{matrix}\\right]$"
      ],
      "text/plain": [
       "Matrix([\n",
       "[xt],\n",
       "[yt],\n",
       "[zt]])"
      ]
     },
     "execution_count": 8,
     "metadata": {},
     "output_type": "execute_result"
    }
   ],
   "source": [
    "T"
   ]
  },
  {
   "cell_type": "code",
   "execution_count": 32,
   "metadata": {},
   "outputs": [
    {
     "data": {
      "text/latex": [
       "$\\displaystyle \\left[\\begin{matrix}Rxy Ryx Rzx zt - Rxy Ryx Rzz xt - Rxy Ryx Tzy - Rxy Ryx yt + Rxy Ryy Rzy zt - Rxy Ryy Rzz yt + Rxy Ryy Tzx + Rxy Ryy xt - Rxy Rzx yt + Rxy Rzy xt + Rxy Txz - Rxy Tyz - Rxy Tzz - Rxy z - Rxy zt - Rxz Ryx Rzx yt + Rxz Ryx Rzy xt - Rxz Ryx Tzz - Rxz Ryx z - Rxz Ryx zt + Rxz Ryz Rzy zt - Rxz Ryz Rzz yt + Rxz Ryz Tzx + Rxz Ryz xt - Rxz Rzx zt + Rxz Rzz xt - Rxz Txy + Rxz Tyy + Rxz Tzy + Rxz y + Rxz yt + Ryy Rzx yt - Ryy Rzy xt + Ryy Tzz + Ryy z + Ryy zt + Ryz Rzx zt - Ryz Rzz xt - Ryz Tzy - Ryz yt + Rzy zt - Rzz yt - Txx + Tyx + Tzx - x + xt\\\\- Rxx Ryx Rzx zt + Rxx Ryx Rzz xt + Rxx Ryx Tzy + Rxx Ryx yt - Rxx Ryy Rzy zt + Rxx Ryy Rzz yt - Rxx Ryy Tzx - Rxx Ryy xt + Rxx Rzx yt - Rxx Rzy xt - Rxx Txz + Rxx Tyz + Rxx Tzz + Rxx z + Rxx zt - Rxz Ryy Rzx yt + Rxz Ryy Rzy xt - Rxz Ryy Tzz - Rxz Ryy z - Rxz Ryy zt - Rxz Ryz Rzx zt + Rxz Ryz Rzz xt + Rxz Ryz Tzy + Rxz Ryz yt - Rxz Rzy zt + Rxz Rzz yt + Rxz Txx - Rxz Tyx - Rxz Tzx + Rxz x - Rxz xt - Ryx Rzx yt + Ryx Rzy xt - Ryx Tzz - Ryx z - Ryx zt + Ryz Rzy zt - Ryz Rzz yt + Ryz Tzx + Ryz xt - Rzx zt + Rzz xt - Txy + Tyy + Tzy + y + yt\\\\Rxx Ryx Rzx yt - Rxx Ryx Rzy xt + Rxx Ryx Tzz + Rxx Ryx z + Rxx Ryx zt - Rxx Ryz Rzy zt + Rxx Ryz Rzz yt - Rxx Ryz Tzx - Rxx Ryz xt + Rxx Rzx zt - Rxx Rzz xt + Rxx Txy - Rxx Tyy - Rxx Tzy - Rxx y - Rxx yt + Rxy Ryy Rzx yt - Rxy Ryy Rzy xt + Rxy Ryy Tzz + Rxy Ryy z + Rxy Ryy zt + Rxy Ryz Rzx zt - Rxy Ryz Rzz xt - Rxy Ryz Tzy - Rxy Ryz yt + Rxy Rzy zt - Rxy Rzz yt - Rxy Txx + Rxy Tyx + Rxy Tzx - Rxy x + Rxy xt - Ryx Rzx zt + Ryx Rzz xt + Ryx Tzy + Ryx yt - Ryy Rzy zt + Ryy Rzz yt - Ryy Tzx - Ryy xt + Rzx yt - Rzy xt - Txz + Tyz + Tzz + z + zt\\end{matrix}\\right]$"
      ],
      "text/plain": [
       "Matrix([\n",
       "[    Rxy*Ryx*Rzx*zt - Rxy*Ryx*Rzz*xt - Rxy*Ryx*Tzy - Rxy*Ryx*yt + Rxy*Ryy*Rzy*zt - Rxy*Ryy*Rzz*yt + Rxy*Ryy*Tzx + Rxy*Ryy*xt - Rxy*Rzx*yt + Rxy*Rzy*xt + Rxy*Txz - Rxy*Tyz - Rxy*Tzz - Rxy*z - Rxy*zt - Rxz*Ryx*Rzx*yt + Rxz*Ryx*Rzy*xt - Rxz*Ryx*Tzz - Rxz*Ryx*z - Rxz*Ryx*zt + Rxz*Ryz*Rzy*zt - Rxz*Ryz*Rzz*yt + Rxz*Ryz*Tzx + Rxz*Ryz*xt - Rxz*Rzx*zt + Rxz*Rzz*xt - Rxz*Txy + Rxz*Tyy + Rxz*Tzy + Rxz*y + Rxz*yt + Ryy*Rzx*yt - Ryy*Rzy*xt + Ryy*Tzz + Ryy*z + Ryy*zt + Ryz*Rzx*zt - Ryz*Rzz*xt - Ryz*Tzy - Ryz*yt + Rzy*zt - Rzz*yt - Txx + Tyx + Tzx - x + xt],\n",
       "[   -Rxx*Ryx*Rzx*zt + Rxx*Ryx*Rzz*xt + Rxx*Ryx*Tzy + Rxx*Ryx*yt - Rxx*Ryy*Rzy*zt + Rxx*Ryy*Rzz*yt - Rxx*Ryy*Tzx - Rxx*Ryy*xt + Rxx*Rzx*yt - Rxx*Rzy*xt - Rxx*Txz + Rxx*Tyz + Rxx*Tzz + Rxx*z + Rxx*zt - Rxz*Ryy*Rzx*yt + Rxz*Ryy*Rzy*xt - Rxz*Ryy*Tzz - Rxz*Ryy*z - Rxz*Ryy*zt - Rxz*Ryz*Rzx*zt + Rxz*Ryz*Rzz*xt + Rxz*Ryz*Tzy + Rxz*Ryz*yt - Rxz*Rzy*zt + Rxz*Rzz*yt + Rxz*Txx - Rxz*Tyx - Rxz*Tzx + Rxz*x - Rxz*xt - Ryx*Rzx*yt + Ryx*Rzy*xt - Ryx*Tzz - Ryx*z - Ryx*zt + Ryz*Rzy*zt - Ryz*Rzz*yt + Ryz*Tzx + Ryz*xt - Rzx*zt + Rzz*xt - Txy + Tyy + Tzy + y + yt],\n",
       "[Rxx*Ryx*Rzx*yt - Rxx*Ryx*Rzy*xt + Rxx*Ryx*Tzz + Rxx*Ryx*z + Rxx*Ryx*zt - Rxx*Ryz*Rzy*zt + Rxx*Ryz*Rzz*yt - Rxx*Ryz*Tzx - Rxx*Ryz*xt + Rxx*Rzx*zt - Rxx*Rzz*xt + Rxx*Txy - Rxx*Tyy - Rxx*Tzy - Rxx*y - Rxx*yt + Rxy*Ryy*Rzx*yt - Rxy*Ryy*Rzy*xt + Rxy*Ryy*Tzz + Rxy*Ryy*z + Rxy*Ryy*zt + Rxy*Ryz*Rzx*zt - Rxy*Ryz*Rzz*xt - Rxy*Ryz*Tzy - Rxy*Ryz*yt + Rxy*Rzy*zt - Rxy*Rzz*yt - Rxy*Txx + Rxy*Tyx + Rxy*Tzx - Rxy*x + Rxy*xt - Ryx*Rzx*zt + Ryx*Rzz*xt + Ryx*Tzy + Ryx*yt - Ryy*Rzy*zt + Ryy*Rzz*yt - Ryy*Tzx - Ryy*xt + Rzx*yt - Rzy*xt - Txz + Tyz + Tzz + z + zt]])"
      ]
     },
     "execution_count": 32,
     "metadata": {},
     "output_type": "execute_result"
    }
   ],
   "source": [
    "W_expr = (RX*Y - RX*X + RX*RY_inv*Z + RX*RY_inv*RZ_inv*T).expand()\n",
    "W_expr"
   ]
  },
  {
   "cell_type": "code",
   "execution_count": 33,
   "metadata": {},
   "outputs": [
    {
     "data": {
      "text/latex": [
       "$\\displaystyle \\left[\\begin{matrix}- Rxy z - Rxy zt + Rxz y + Rxz yt + Ryy z + Ryy zt - Ryz yt + Rzy zt - Rzz yt - Txx + Tyx + Tzx - x + xt\\\\Rxx z + Rxx zt + Rxz x - Rxz xt - Ryx z - Ryx zt + Ryz xt - Rzx zt + Rzz xt - Txy + Tyy + Tzy + y + yt\\\\- Rxx y - Rxx yt - Rxy x + Rxy xt + Ryx yt - Ryy xt + Rzx yt - Rzy xt - Txz + Tyz + Tzz + z + zt\\end{matrix}\\right]$"
      ],
      "text/plain": [
       "Matrix([\n",
       "[-Rxy*z - Rxy*zt + Rxz*y + Rxz*yt + Ryy*z + Ryy*zt - Ryz*yt + Rzy*zt - Rzz*yt - Txx + Tyx + Tzx - x + xt],\n",
       "[ Rxx*z + Rxx*zt + Rxz*x - Rxz*xt - Ryx*z - Ryx*zt + Ryz*xt - Rzx*zt + Rzz*xt - Txy + Tyy + Tzy + y + yt],\n",
       "[        -Rxx*y - Rxx*yt - Rxy*x + Rxy*xt + Ryx*yt - Ryy*xt + Rzx*yt - Rzy*xt - Txz + Tyz + Tzz + z + zt]])"
      ]
     },
     "execution_count": 33,
     "metadata": {},
     "output_type": "execute_result"
    }
   ],
   "source": [
    "#remove 2nd order terms\n",
    "import itertools\n",
    "remove_2nd_order = [(pair[0]*pair[1], 0) for pair in itertools.combinations_with_replacement(terms, 2)]\n",
    "model = W_expr.subs(remove_2nd_order)\n",
    "model"
   ]
  },
  {
   "cell_type": "code",
   "execution_count": 34,
   "metadata": {},
   "outputs": [
    {
     "name": "stdout",
     "output_type": "stream",
     "text": [
      "-Rxy*z - Rxy*zt + Rxz*y + Rxz*yt + Ryy*z + Ryy*zt - Ryz*yt + Rzy*zt - Rzz*yt - Txx + Tyx + Tzx - x + xt\n",
      "Rxx*z + Rxx*zt + Rxz*x - Rxz*xt - Ryx*z - Ryx*zt + Ryz*xt - Rzx*zt + Rzz*xt - Txy + Tyy + Tzy + y + yt\n",
      "-Rxx*y - Rxx*yt - Rxy*x + Rxy*xt + Ryx*yt - Ryy*xt + Rzx*yt - Rzy*xt - Txz + Tyz + Tzz + z + zt\n"
     ]
    }
   ],
   "source": [
    "for row in model:\n",
    "    print(row)"
   ]
  },
  {
   "cell_type": "code",
   "execution_count": 35,
   "metadata": {},
   "outputs": [
    {
     "data": {
      "text/latex": [
       "$\\displaystyle \\left[\\begin{matrix}- RxyL x z - RxyL x zt + RxzL x y + RxzL x yt + RyyL y z + RyyL y zt - RyzL y yt + RzyL z zt - RzzL yt z - TxxL x + TyxL y + TzxL z - x + xt\\\\RxxL x z + RxxL x zt + RxzL x^{2} - RxzL x xt - RyxL y z - RyxL y zt + RyzL xt y - RzxL z zt + RzzL xt z - TxyL x + TyyL y + TzyL z + y + yt\\\\- RxxL x y - RxxL x yt - RxyL x^{2} + RxyL x xt + RyxL y yt - RyyL xt y + RzxL yt z - RzyL xt z - TxzL x + TyzL y + TzzL z + z + zt\\end{matrix}\\right]$"
      ],
      "text/plain": [
       "Matrix([\n",
       "[-RxyL*x*z - RxyL*x*zt + RxzL*x*y + RxzL*x*yt + RyyL*y*z + RyyL*y*zt - RyzL*y*yt + RzyL*z*zt - RzzL*yt*z - TxxL*x + TyxL*y + TzxL*z - x + xt],\n",
       "[RxxL*x*z + RxxL*x*zt + RxzL*x**2 - RxzL*x*xt - RyxL*y*z - RyxL*y*zt + RyzL*xt*y - RzxL*z*zt + RzzL*xt*z - TxyL*x + TyyL*y + TzyL*z + y + yt],\n",
       "[          -RxxL*x*y - RxxL*x*yt - RxyL*x**2 + RxyL*x*xt + RyxL*y*yt - RyyL*xt*y + RzxL*yt*z - RzyL*xt*z - TxzL*x + TyzL*y + TzzL*z + z + zt]])"
      ]
     },
     "execution_count": 35,
     "metadata": {},
     "output_type": "execute_result"
    }
   ],
   "source": [
    "#linear model Rxx -> RxxL*x  etc.\n",
    "TtermsL = sympy.var('T(x:z)(x:z)L')\n",
    "RtermsL = sympy.var('R(x:z)(x:z)L')\n",
    "termsL = TtermsL + RtermsL \n",
    "dep_var = ([x]*3 + [y]*3 + [z]*3)*2\n",
    "\n",
    "replace_with_linear = [(t[0] ,t[2]*t[1]) for t in zip(terms,termsL,dep_var)]\n",
    "model_linear = model.subs(replace_with_linear)\n",
    "model_linear"
   ]
  },
  {
   "cell_type": "code",
   "execution_count": 36,
   "metadata": {},
   "outputs": [
    {
     "name": "stdout",
     "output_type": "stream",
     "text": [
      "-RxyL*x*z - RxyL*x*zt + RxzL*x*y + RxzL*x*yt + RyyL*y*z + RyyL*y*zt - RyzL*y*yt + RzyL*z*zt - RzzL*yt*z - TxxL*x + TyxL*y + TzxL*z - x + xt\n",
      "RxxL*x*z + RxxL*x*zt + RxzL*x**2 - RxzL*x*xt - RyxL*y*z - RyxL*y*zt + RyzL*xt*y - RzxL*z*zt + RzzL*xt*z - TxyL*x + TyyL*y + TzyL*z + y + yt\n",
      "-RxxL*x*y - RxxL*x*yt - RxyL*x**2 + RxyL*x*xt + RyxL*y*yt - RyyL*xt*y + RzxL*yt*z - RzyL*xt*z - TxzL*x + TyzL*y + TzzL*z + z + zt\n"
     ]
    }
   ],
   "source": [
    "for row in model_linear:\n",
    "    print(row)"
   ]
  },
  {
   "cell_type": "markdown",
   "metadata": {},
   "source": []
  },
  {
   "cell_type": "code",
   "execution_count": null,
   "metadata": {},
   "outputs": [],
   "source": []
  },
  {
   "cell_type": "markdown",
   "metadata": {},
   "source": [
    "For a linear model TxyL is equivalent to TyxL in the workpiece CSY see Figure 4 of [1]\n",
    "Is this true for other machine configs?\n",
    "I have implemented sliders for a 21 parameter model and use both TxyL and TyxL in `cmm_error_map.design_matrix_linear_fixed.model_linear`\n",
    "so ignore this "
   ]
  },
  {
   "cell_type": "markdown",
   "metadata": {},
   "source": [
    "What did I do with the squareness terms?\n",
    "```\n",
    "    xE = (\n",
    "        x * TxxL\n",
    "        - y * TyxL\n",
    "        - z * TzxL\n",
    "        - (z + zt) * x * RxyL\n",
    "        + (y + yt) * x * RxzL\n",
    "        - (z + zt) * y * RyyL\n",
    "        + yt * y * RyzL\n",
    "        - zt * z * RzyL\n",
    "        + yt * z * RzzL\n",
    "        - (y + yt) * Wxy\n",
    "        - (z + zt) * Wxz\n",
    "    )\n",
    "```\n"
   ]
  },
  {
   "cell_type": "code",
   "execution_count": 37,
   "metadata": {},
   "outputs": [
    {
     "name": "stdout",
     "output_type": "stream",
     "text": [
      "-RxyL*x*z - RxyL*x*zt + RxzL*x*y + RxzL*x*yt + RyyL*y*z + RyyL*y*zt - RyzL*y*yt + RzyL*z*zt - RzzL*yt*z - TxxL*x + TyxL*y + TzxL*z - x + xt\n",
      "RxxL*x*z + RxxL*x*zt + RxzL*x**2 - RxzL*x*xt - RyxL*y*z - RyxL*y*zt + RyzL*xt*y - RzxL*z*zt + RzzL*xt*z - TxyL*x + TyyL*y + TzyL*z + y + yt\n",
      "-RxxL*x*y - RxxL*x*yt - RxyL*x**2 + RxyL*x*xt + RyxL*y*yt - RyyL*xt*y + RzxL*yt*z - RzyL*xt*z - TxzL*x + TyzL*y + TzzL*z + z + zt\n"
     ]
    }
   ],
   "source": [
    "for row in model_linear:\n",
    "    print(row.collect(terms))"
   ]
  },
  {
   "cell_type": "markdown",
   "metadata": {},
   "source": [
    "There are sign differences between these two?"
   ]
  },
  {
   "cell_type": "code",
   "execution_count": null,
   "metadata": {},
   "outputs": [],
   "source": []
  },
  {
   "cell_type": "code",
   "execution_count": 31,
   "metadata": {},
   "outputs": [
    {
     "name": "stdout",
     "output_type": "stream",
     "text": [
      "x*(-RxyL*z - RxyL*zt + RxzL*y + RxzL*yt - TxxL - 1) + xt + y*(RyyL*z + RyyL*zt - RyzL*yt + TyxL) + z*(RzyL*zt - RzzL*yt + TzxL)\n",
      "RxzL*x**2 + x*(RxxL*z + RxxL*zt - RxzL*xt - TxyL) + y*(-RyxL*z - RyxL*zt + RyzL*xt + TyyL + 1) + yt + z*(-RzxL*zt + RzzL*xt + TzyL)\n",
      "-RxyL*x**2 + x*(-RxxL*y - RxxL*yt + RxyL*xt - TxzL) + y*(RyxL*yt - RyyL*xt + TyzL) + z*(RzxL*yt - RzyL*xt + TzzL + 1) + zt\n"
     ]
    }
   ],
   "source": [
    "for row in model_linear:\n",
    "    print(row.collect(terms).collect(xyz_terms))\n",
    "    "
   ]
  },
  {
   "cell_type": "code",
   "execution_count": 32,
   "metadata": {},
   "outputs": [
    {
     "name": "stdout",
     "output_type": "stream",
     "text": [
      "x*(-RxyL*z - RxyL*zt + RxzL*y + RxzL*yt - TxxL - 1) + xt + y*(RyyL*z + RyyL*zt - RyzL*yt + TyxL) + z*(RzyL*zt - RzzL*yt + TzxL)\n",
      "RxzL*x**2 + x*(RxxL*z + RxxL*zt - RxzL*xt - TxyL) + y*(-RyxL*z - RyxL*zt + RyzL*xt + TyyL + 1) + yt + z*(-RzxL*zt + RzzL*xt + TzyL)\n",
      "-RxyL*x**2 + x*(-RxxL*y - RxxL*yt + RxyL*xt - TxzL) + y*(RyxL*yt - RyyL*xt + TyzL) + z*(RzxL*yt - RzyL*xt + TzzL + 1) + zt\n"
     ]
    }
   ],
   "source": [
    "for row in model_linear:\n",
    "    print(row.collect(xyz_terms).collect(terms))"
   ]
  },
  {
   "cell_type": "code",
   "execution_count": 21,
   "metadata": {},
   "outputs": [
    {
     "ename": "AttributeError",
     "evalue": "'MutableDenseMatrix' object has no attribute 'collect'",
     "output_type": "error",
     "traceback": [
      "\u001b[0;31m---------------------------------------------------------------------------\u001b[0m",
      "\u001b[0;31mAttributeError\u001b[0m                            Traceback (most recent call last)",
      "Cell \u001b[0;32mIn[21], line 1\u001b[0m\n\u001b[0;32m----> 1\u001b[0m \u001b[43mmodel_linear\u001b[49m\u001b[38;5;241;43m.\u001b[39;49m\u001b[43mcollect\u001b[49m(termsL)\n",
      "\u001b[0;31mAttributeError\u001b[0m: 'MutableDenseMatrix' object has no attribute 'collect'"
     ]
    }
   ],
   "source": [
    "model_linear.collect(termsL)"
   ]
  },
  {
   "cell_type": "code",
   "execution_count": 23,
   "metadata": {},
   "outputs": [],
   "source": [
    "Rterms = sympy.var('R_(x:z)(x:z)')\n",
    "Tterms = sympy.var('T_(x:z)(x:z)')\n",
    "\n",
    "RX = sympy.Matrix([[1,0,-R_xy],[0,1,0],[R_xy,0,1]])\n",
    "RY_inv = sympy.Matrix([[1,0,0],[0,1,0],[0,0,1]])\n",
    "RZ_inv = sympy.Matrix([[1,0,0],[0,1,0],[0,0,1]])"
   ]
  },
  {
   "cell_type": "code",
   "execution_count": 25,
   "metadata": {},
   "outputs": [
    {
     "data": {
      "text/latex": [
       "$\\displaystyle \\left[\\begin{matrix}- R_{xy} z - x\\\\y\\\\- R_{xy} x + z\\end{matrix}\\right]$"
      ],
      "text/plain": [
       "Matrix([\n",
       "[-R_xy*z - x],\n",
       "[          y],\n",
       "[-R_xy*x + z]])"
      ]
     },
     "execution_count": 25,
     "metadata": {},
     "output_type": "execute_result"
    }
   ],
   "source": [
    "X = sympy.Matrix([[x],[0],[0]])\n",
    "Y = sympy.Matrix([[0],[y],[0]])\n",
    "Z = sympy.Matrix([[0],[0],[z]])\n",
    "T = sympy.Matrix([[0],[0],[0]])\n",
    "\n",
    "\n",
    "\n",
    "W_expr = (RX*Y - RX*X + RX*RY_inv*Z + RX*RY_inv*RZ_inv*T)\n",
    "W_expr"
   ]
  },
  {
   "cell_type": "code",
   "execution_count": 21,
   "metadata": {},
   "outputs": [
    {
     "data": {
      "text/latex": [
       "$\\displaystyle \\left[\\begin{matrix}0\\\\y\\\\0\\end{matrix}\\right]$"
      ],
      "text/plain": [
       "Matrix([\n",
       "[0],\n",
       "[y],\n",
       "[0]])"
      ]
     },
     "execution_count": 21,
     "metadata": {},
     "output_type": "execute_result"
    }
   ],
   "source": [
    "RX*Y"
   ]
  },
  {
   "cell_type": "code",
   "execution_count": 22,
   "metadata": {},
   "outputs": [
    {
     "data": {
      "text/latex": [
       "$\\displaystyle \\left[\\begin{matrix}x\\\\0\\\\R_{xy} x\\end{matrix}\\right]$"
      ],
      "text/plain": [
       "Matrix([\n",
       "[     x],\n",
       "[     0],\n",
       "[R_xy*x]])"
      ]
     },
     "execution_count": 22,
     "metadata": {},
     "output_type": "execute_result"
    }
   ],
   "source": [
    "RX*X"
   ]
  },
  {
   "cell_type": "code",
   "execution_count": 26,
   "metadata": {},
   "outputs": [
    {
     "data": {
      "text/latex": [
       "$\\displaystyle \\left[\\begin{matrix}- R_{xy} z\\\\0\\\\z\\end{matrix}\\right]$"
      ],
      "text/plain": [
       "Matrix([\n",
       "[-R_xy*z],\n",
       "[      0],\n",
       "[      z]])"
      ]
     },
     "execution_count": 26,
     "metadata": {},
     "output_type": "execute_result"
    }
   ],
   "source": [
    "RX*RY_inv*Z"
   ]
  },
  {
   "cell_type": "code",
   "execution_count": 27,
   "metadata": {},
   "outputs": [
    {
     "data": {
      "text/latex": [
       "$\\displaystyle \\left[\\begin{matrix}1 & 0 & - R_{xy}\\\\0 & 1 & 0\\\\R_{xy} & 0 & 1\\end{matrix}\\right]$"
      ],
      "text/plain": [
       "Matrix([\n",
       "[   1, 0, -R_xy],\n",
       "[   0, 1,     0],\n",
       "[R_xy, 0,     1]])"
      ]
     },
     "execution_count": 27,
     "metadata": {},
     "output_type": "execute_result"
    }
   ],
   "source": [
    "RX"
   ]
  },
  {
   "cell_type": "code",
   "execution_count": null,
   "metadata": {},
   "outputs": [],
   "source": [
    "RY"
   ]
  },
  {
   "cell_type": "code",
   "execution_count": 8,
   "metadata": {},
   "outputs": [],
   "source": [
    "sympy.var('a1 a2 a3 b1 b2 b3 c1 c2 c3')\n",
    "M = sympy.Matrix([[a1, b1, c1], [a2,b2,c2], [a3,b3,c3]])"
   ]
  },
  {
   "cell_type": "code",
   "execution_count": 12,
   "metadata": {},
   "outputs": [
    {
     "data": {
      "text/latex": [
       "$\\displaystyle \\left[\\begin{matrix}c_{1} z\\\\c_{2} z\\\\c_{3} z\\end{matrix}\\right]$"
      ],
      "text/plain": [
       "Matrix([\n",
       "[c1*z],\n",
       "[c2*z],\n",
       "[c3*z]])"
      ]
     },
     "execution_count": 12,
     "metadata": {},
     "output_type": "execute_result"
    }
   ],
   "source": [
    "M * Z"
   ]
  },
  {
   "cell_type": "code",
   "execution_count": 10,
   "metadata": {},
   "outputs": [
    {
     "ename": "TypeError",
     "evalue": "unsupported operand type(s) for @: 'MutableDenseMatrix' and 'Symbol'",
     "output_type": "error",
     "traceback": [
      "\u001b[0;31m---------------------------------------------------------------------------\u001b[0m",
      "\u001b[0;31mTypeError\u001b[0m                                 Traceback (most recent call last)",
      "Cell \u001b[0;32mIn[10], line 1\u001b[0m\n\u001b[0;32m----> 1\u001b[0m \u001b[43mM\u001b[49m\u001b[43m \u001b[49m\u001b[38;5;241;43m@\u001b[39;49m\u001b[43m \u001b[49m\u001b[43mx\u001b[49m\n",
      "\u001b[0;31mTypeError\u001b[0m: unsupported operand type(s) for @: 'MutableDenseMatrix' and 'Symbol'"
     ]
    }
   ],
   "source": []
  },
  {
   "cell_type": "code",
   "execution_count": null,
   "metadata": {},
   "outputs": [],
   "source": []
  }
 ],
 "metadata": {
  "kernelspec": {
   "display_name": ".venv",
   "language": "python",
   "name": "python3"
  },
  "language_info": {
   "codemirror_mode": {
    "name": "ipython",
    "version": 3
   },
   "file_extension": ".py",
   "mimetype": "text/x-python",
   "name": "python",
   "nbconvert_exporter": "python",
   "pygments_lexer": "ipython3",
   "version": "3.11.9"
  }
 },
 "nbformat": 4,
 "nbformat_minor": 2
}
