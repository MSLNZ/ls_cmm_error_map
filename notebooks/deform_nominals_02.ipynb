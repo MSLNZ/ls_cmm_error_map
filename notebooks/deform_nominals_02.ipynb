{
 "cells": [
  {
   "cell_type": "markdown",
   "metadata": {},
   "source": [
    "working on new code for `Measurement.recalculate`\n",
    "using numpy for transform math"
   ]
  },
  {
   "cell_type": "code",
   "execution_count": 2,
   "metadata": {},
   "outputs": [],
   "source": [
    "import numpy as np\n",
    "\n",
    "import pyqtgraph as pg\n",
    "from cmm_error_map import data_cmpts as dc\n",
    "from cmm_error_map import design_linear as design\n",
    "from cmm_error_map import  gui_cmpts as gc\n",
    "\n",
    "import matplotlib.pyplot as plt"
   ]
  },
  {
   "cell_type": "code",
   "execution_count": 74,
   "metadata": {},
   "outputs": [
    {
     "data": {
      "text/plain": [
       "Transform3D((0.925417, 0.115383, 0.360958, 10, 0.163176, 0.73836, -0.654368, 10, -0.34202, 0.664463, 0.664463, 10, 0, 0, 0, 1))"
      ]
     },
     "execution_count": 74,
     "metadata": {},
     "output_type": "execute_result"
    }
   ],
   "source": [
    "p0 = dc.Probe(title=\"P0\", name=\"p0\", length=np.array([0, 0, 0]))\n",
    "cmm = dc.pmm_866\n",
    "mmt = dc.Measurement(\n",
    "    title=\"m1\",\n",
    "    name=\"mmt_00\",\n",
    "    artefact=dc.default_artefacts[\"KOBA 0620\"],\n",
    "    transform3d=pg.Transform3D(),\n",
    "    probe=p0,\n",
    "    cmm_nominal=None,\n",
    "    cmm_dev=None,\n",
    "    mmt_nominal=None,\n",
    "    mmt_dev=None,\n",
    "\n",
    ")\n",
    "model_params = dc.model_parameters_dict.copy()\n",
    "mmt.transform3d = gc.vec_to_transform3d([10,10,10], (45, 20, 10))\n",
    "mmt.transform3d\n"
   ]
  },
  {
   "cell_type": "code",
   "execution_count": 75,
   "metadata": {},
   "outputs": [
    {
     "data": {
      "text/plain": [
       "((4, 25),\n",
       " array([[  10.        ,  133.08039838,  256.16079676,  379.24119514,\n",
       "          502.32159352,   25.34590916,  148.42630754,  271.50670592,\n",
       "          394.58710431,  517.66750269,   40.69181833,  163.77221671,\n",
       "          286.85261509,  409.93301347,  533.01341185,   56.03772749,\n",
       "          179.11812587,  302.19852425,  425.27892263,  548.35932101,\n",
       "           71.38363665,  194.46403503,  317.54443341,  440.6248318 ,\n",
       "          563.70523018],\n",
       "        [  10.        ,   31.70239612,   53.40479225,   75.10718837,\n",
       "           96.8095845 ,  108.20189422,  129.90429035,  151.60668647,\n",
       "          173.3090826 ,  195.01147872,  206.40378845,  228.10618457,\n",
       "          249.8085807 ,  271.51097682,  293.21337295,  304.60568267,\n",
       "          326.3080788 ,  348.01047492,  369.71287104,  391.41526717,\n",
       "          402.80757689,  424.50997302,  446.21236914,  467.91476527,\n",
       "          489.61716139],\n",
       "        [  10.        ,  -35.48867652,  -80.97735304, -126.46602955,\n",
       "         -171.95470607,   98.37357682,   52.8849003 ,    7.39622378,\n",
       "          -38.09245273,  -83.58112925,  186.74715364,  141.25847712,\n",
       "           95.7698006 ,   50.28112409,    4.79244757,  275.12073046,\n",
       "          229.63205394,  184.14337742,  138.65470091,   93.16602439,\n",
       "          363.49430728,  318.00563076,  272.51695424,  227.02827772,\n",
       "          181.53960121],\n",
       "        [   1.        ,    1.        ,    1.        ,    1.        ,\n",
       "            1.        ,    1.        ,    1.        ,    1.        ,\n",
       "            1.        ,    1.        ,    1.        ,    1.        ,\n",
       "            1.        ,    1.        ,    1.        ,    1.        ,\n",
       "            1.        ,    1.        ,    1.        ,    1.        ,\n",
       "            1.        ,    1.        ,    1.        ,    1.        ,\n",
       "            1.        ]]))"
      ]
     },
     "execution_count": 75,
     "metadata": {},
     "output_type": "execute_result"
    }
   ],
   "source": [
    "nx, ny = mmt.artefact.nballs\n",
    "ball_range = np.arange(nx * ny)\n",
    "x = (ball_range) % nx * mmt.artefact.ball_spacing\n",
    "y = (ball_range) // nx * mmt.artefact.ball_spacing\n",
    "z = (ball_range) * 0.0\n",
    "xyz = np.stack((x, y, z))\n",
    "\n",
    "np_mat = mmt.transform3d.matrix()\n",
    "xyz1 = np.vstack((xyz, np.ones((1, xyz.shape[1]))))\n",
    "mmt.cmm_nominal = np_mat @ xyz1\n",
    "mmt.cmm_nominal.shape, mmt.cmm_nominal"
   ]
  },
  {
   "cell_type": "code",
   "execution_count": 98,
   "metadata": {},
   "outputs": [
    {
     "data": {
      "text/plain": [
       "array([[  0., 133., 266., 399., 532.,   0., 133., 266., 399., 532.,   0.,\n",
       "        133., 266., 399., 532.,   0., 133., 266., 399., 532.,   0., 133.,\n",
       "        266., 399., 532.],\n",
       "       [  0.,   0.,   0.,   0.,   0., 133., 133., 133., 133., 133., 266.,\n",
       "        266., 266., 266., 266., 399., 399., 399., 399., 399., 532., 532.,\n",
       "        532., 532., 532.],\n",
       "       [  0.,   0.,   0.,   0.,   0.,   0.,   0.,   0.,   0.,   0.,   0.,\n",
       "          0.,   0.,   0.,   0.,   0.,   0.,   0.,   0.,   0.,   0.,   0.,\n",
       "          0.,   0.,   0.],\n",
       "       [  1.,   1.,   1.,   1.,   1.,   1.,   1.,   1.,   1.,   1.,   1.,\n",
       "          1.,   1.,   1.,   1.,   1.,   1.,   1.,   1.,   1.,   1.,   1.,\n",
       "          1.,   1.,   1.]])"
      ]
     },
     "execution_count": 98,
     "metadata": {},
     "output_type": "execute_result"
    }
   ],
   "source": [
    "np.vstack((x, y, z, np.ones((1, x.shape[0]))))"
   ]
  },
  {
   "cell_type": "code",
   "execution_count": 77,
   "metadata": {},
   "outputs": [],
   "source": [
    "\n",
    "# deformed position of plate relative to nominal - in CMM CSY\n",
    "mmt.cmm_dev = design.linear_model_matrix(\n",
    "    mmt.cmm_nominal.T[:, :3],\n",
    "    p0.length,\n",
    "    model_params,\n",
    "    cmm.cmm_model.fixed_table,\n",
    "    cmm.cmm_model.bridge_axis,\n",
    ")"
   ]
  },
  {
   "cell_type": "code",
   "execution_count": 78,
   "metadata": {},
   "outputs": [
    {
     "data": {
      "text/plain": [
       "array([[0., 0., 0.],\n",
       "       [0., 0., 0.],\n",
       "       [0., 0., 0.],\n",
       "       [0., 0., 0.],\n",
       "       [0., 0., 0.],\n",
       "       [0., 0., 0.],\n",
       "       [0., 0., 0.],\n",
       "       [0., 0., 0.],\n",
       "       [0., 0., 0.],\n",
       "       [0., 0., 0.],\n",
       "       [0., 0., 0.],\n",
       "       [0., 0., 0.],\n",
       "       [0., 0., 0.],\n",
       "       [0., 0., 0.],\n",
       "       [0., 0., 0.],\n",
       "       [0., 0., 0.],\n",
       "       [0., 0., 0.],\n",
       "       [0., 0., 0.],\n",
       "       [0., 0., 0.],\n",
       "       [0., 0., 0.],\n",
       "       [0., 0., 0.],\n",
       "       [0., 0., 0.],\n",
       "       [0., 0., 0.],\n",
       "       [0., 0., 0.],\n",
       "       [0., 0., 0.]])"
      ]
     },
     "execution_count": 78,
     "metadata": {},
     "output_type": "execute_result"
    }
   ],
   "source": [
    "mmt.cmm_dev"
   ]
  },
  {
   "cell_type": "code",
   "execution_count": 79,
   "metadata": {},
   "outputs": [
    {
     "data": {
      "text/plain": [
       "array([[  10.        ,   10.        ,   10.        ],\n",
       "       [ 133.08039838,   31.70239612,  -35.48867652],\n",
       "       [ 256.16079676,   53.40479225,  -80.97735304],\n",
       "       [ 379.24119514,   75.10718837, -126.46602955],\n",
       "       [ 502.32159352,   96.8095845 , -171.95470607],\n",
       "       [  25.34590916,  108.20189422,   98.37357682],\n",
       "       [ 148.42630754,  129.90429035,   52.8849003 ],\n",
       "       [ 271.50670592,  151.60668647,    7.39622378],\n",
       "       [ 394.58710431,  173.3090826 ,  -38.09245273],\n",
       "       [ 517.66750269,  195.01147872,  -83.58112925],\n",
       "       [  40.69181833,  206.40378845,  186.74715364],\n",
       "       [ 163.77221671,  228.10618457,  141.25847712],\n",
       "       [ 286.85261509,  249.8085807 ,   95.7698006 ],\n",
       "       [ 409.93301347,  271.51097682,   50.28112409],\n",
       "       [ 533.01341185,  293.21337295,    4.79244757],\n",
       "       [  56.03772749,  304.60568267,  275.12073046],\n",
       "       [ 179.11812587,  326.3080788 ,  229.63205394],\n",
       "       [ 302.19852425,  348.01047492,  184.14337742],\n",
       "       [ 425.27892263,  369.71287104,  138.65470091],\n",
       "       [ 548.35932101,  391.41526717,   93.16602439],\n",
       "       [  71.38363665,  402.80757689,  363.49430728],\n",
       "       [ 194.46403503,  424.50997302,  318.00563076],\n",
       "       [ 317.54443341,  446.21236914,  272.51695424],\n",
       "       [ 440.6248318 ,  467.91476527,  227.02827772],\n",
       "       [ 563.70523018,  489.61716139,  181.53960121]])"
      ]
     },
     "execution_count": 79,
     "metadata": {},
     "output_type": "execute_result"
    }
   ],
   "source": [
    "cmm_deform = mmt.cmm_nominal.T[:, :3] + mmt.cmm_dev\n",
    "cmm_deform"
   ]
  },
  {
   "cell_type": "code",
   "execution_count": 80,
   "metadata": {},
   "outputs": [
    {
     "data": {
      "image/png": "[encoded data removed]",
      "text/plain": [
       "<Figure size 640x480 with 1 Axes>"
      ]
     },
     "metadata": {},
     "output_type": "display_data"
    }
   ],
   "source": [
    "plt.scatter(cmm_deform[:, 0], cmm_deform[:,1])\n",
    "plt.title(\"XY\");"
   ]
  },
  {
   "cell_type": "code",
   "execution_count": 81,
   "metadata": {},
   "outputs": [
    {
     "data": {
      "image/png": "[encoded data removed]",
      "text/plain": [
       "<Figure size 640x480 with 1 Axes>"
      ]
     },
     "metadata": {},
     "output_type": "display_data"
    }
   ],
   "source": [
    "plt.scatter(cmm_deform[:, 0], cmm_deform[:,2])\n",
    "plt.title(\"XZ\");"
   ]
  },
  {
   "cell_type": "code",
   "execution_count": 82,
   "metadata": {},
   "outputs": [
    {
     "data": {
      "image/png": "[encoded data removed]",
      "text/plain": [
       "<Figure size 640x480 with 1 Axes>"
      ]
     },
     "metadata": {},
     "output_type": "display_data"
    }
   ],
   "source": [
    "plt.scatter(cmm_deform[:, 1], cmm_deform[:,2])\n",
    "plt.title(\"YZ\");"
   ]
  },
  {
   "cell_type": "code",
   "execution_count": 83,
   "metadata": {},
   "outputs": [
    {
     "data": {
      "text/plain": [
       "array([[  10.        ,  133.08039838,  256.16079676,  379.24119514,\n",
       "         502.32159352,   25.34590916,  148.42630754,  271.50670592,\n",
       "         394.58710431,  517.66750269,   40.69181833,  163.77221671,\n",
       "         286.85261509,  409.93301347,  533.01341185,   56.03772749,\n",
       "         179.11812587,  302.19852425,  425.27892263,  548.35932101,\n",
       "          71.38363665,  194.46403503,  317.54443341,  440.6248318 ,\n",
       "         563.70523018],\n",
       "       [  10.        ,   31.70239612,   53.40479225,   75.10718837,\n",
       "          96.8095845 ,  108.20189422,  129.90429035,  151.60668647,\n",
       "         173.3090826 ,  195.01147872,  206.40378845,  228.10618457,\n",
       "         249.8085807 ,  271.51097682,  293.21337295,  304.60568267,\n",
       "         326.3080788 ,  348.01047492,  369.71287104,  391.41526717,\n",
       "         402.80757689,  424.50997302,  446.21236914,  467.91476527,\n",
       "         489.61716139],\n",
       "       [  10.        ,  -35.48867652,  -80.97735304, -126.46602955,\n",
       "        -171.95470607,   98.37357682,   52.8849003 ,    7.39622378,\n",
       "         -38.09245273,  -83.58112925,  186.74715364,  141.25847712,\n",
       "          95.7698006 ,   50.28112409,    4.79244757,  275.12073046,\n",
       "         229.63205394,  184.14337742,  138.65470091,   93.16602439,\n",
       "         363.49430728,  318.00563076,  272.51695424,  227.02827772,\n",
       "         181.53960121],\n",
       "       [   1.        ,    1.        ,    1.        ,    1.        ,\n",
       "           1.        ,    1.        ,    1.        ,    1.        ,\n",
       "           1.        ,    1.        ,    1.        ,    1.        ,\n",
       "           1.        ,    1.        ,    1.        ,    1.        ,\n",
       "           1.        ,    1.        ,    1.        ,    1.        ,\n",
       "           1.        ,    1.        ,    1.        ,    1.        ,\n",
       "           1.        ]])"
      ]
     },
     "execution_count": 83,
     "metadata": {},
     "output_type": "execute_result"
    }
   ],
   "source": [
    "# use numpy for inverse as I don't get correct inverse transforms with pg.Transform3D\n",
    "deform1 = np.vstack((cmm_deform.T, np.ones((1, xyz.shape[1]))))\n",
    "deform1"
   ]
  },
  {
   "cell_type": "code",
   "execution_count": 88,
   "metadata": {},
   "outputs": [],
   "source": [
    "# calculate matrix to transform to CSY \n",
    "# point ball 0\n",
    "# z-plane through balls 0, 4, 20\n",
    "# x-axis through balls 0, 4\n",
    "xyz0 = deform1[:3, 0]\n",
    "vx = deform1[:3, 4] - xyz0\n",
    "vy = deform1[:3, 20] - xyz0"
   ]
  },
  {
   "cell_type": "code",
   "execution_count": 89,
   "metadata": {},
   "outputs": [],
   "source": [
    "vx = vx/np.linalg.norm(vx)\n",
    "vy = vy/np.linalg.norm(vy)\n",
    "vz = np.cross (vx, vy)\n",
    "vz = vz/np.linalg.norm(vz)\n"
   ]
  },
  {
   "cell_type": "code",
   "execution_count": 90,
   "metadata": {},
   "outputs": [],
   "source": [
    "RP = np.array([[vx[0], vy[0], vz[0], xyz0[0]],\n",
    "               [vx[1], vy[1], vz[1], xyz0[1]],\n",
    "               [vx[2], vy[2], vz[2], xyz0[2]],\n",
    "               [ 0.,0.,0., 1.]\n",
    "])"
   ]
  },
  {
   "cell_type": "code",
   "execution_count": 91,
   "metadata": {},
   "outputs": [],
   "source": [
    "inv_RP = np.linalg.inv(RP)"
   ]
  },
  {
   "cell_type": "code",
   "execution_count": 92,
   "metadata": {},
   "outputs": [],
   "source": [
    "plate = inv_RP @ deform1"
   ]
  },
  {
   "cell_type": "code",
   "execution_count": 93,
   "metadata": {},
   "outputs": [
    {
     "data": {
      "text/plain": [
       "(array([0., 0., 0.]),\n",
       " array([ 5.31999972e+02, -3.01980663e-14, -3.64153152e-14]),\n",
       " array([ 2.84217094e-14,  5.31999970e+02, -6.35047570e-14]))"
      ]
     },
     "execution_count": 93,
     "metadata": {},
     "output_type": "execute_result"
    }
   ],
   "source": [
    "plate[:3, 0], plate[:3, 4], plate[:3, 20]"
   ]
  },
  {
   "cell_type": "code",
   "execution_count": 94,
   "metadata": {},
   "outputs": [
    {
     "data": {
      "text/plain": [
       "(0.0, -9.459100169806334e-14)"
      ]
     },
     "execution_count": 94,
     "metadata": {},
     "output_type": "execute_result"
    }
   ],
   "source": [
    "plate[2, :].max(), plate[2, :].min()"
   ]
  }
 ],
 "metadata": {
  "kernelspec": {
   "display_name": ".venv",
   "language": "python",
   "name": "python3"
  },
  "language_info": {
   "codemirror_mode": {
    "name": "ipython",
    "version": 3
   },
   "file_extension": ".py",
   "mimetype": "text/x-python",
   "name": "python",
   "nbconvert_exporter": "python",
   "pygments_lexer": "ipython3",
   "version": "3.11.9"
  }
 },
 "nbformat": 4,
 "nbformat_minor": 2
}
