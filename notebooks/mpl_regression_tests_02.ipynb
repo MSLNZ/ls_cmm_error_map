{
 "cells": [
  {
   "cell_type": "markdown",
   "metadata": {},
   "source": [
    "# Developing regression tests 02\n",
    "\n",
    "Comparing output of old (2014, `src/cmm_error_map/mpl_2014`) matplotlib code with new code.\n",
    "\n",
    "Specifically looking at the tests from \n",
    "`test_mpl_regression.test_XYX_regression`\n",
    "\n",
    "with the sign corrections applied in `test_mpl_regression.sign_corrections` and the max values from `pmax` te following tests fail\n",
    "- `mmt XZ-Ryz`\n",
    "- `mmt XZ-Rzz`\n",
    "- `mmt YZ-Ryz`\n",
    "- `mmt YZ-Rzz`\n",
    "\n",
    "plot these old/new to see what's happening."
   ]
  },
  {
   "cell_type": "code",
   "execution_count": 82,
   "metadata": {},
   "outputs": [],
   "source": [
    "import numpy as np\n",
    "\n",
    "import cmm_error_map.config.config as cf\n",
    "import cmm_error_map.data_cmpts as dc\n",
    "import cmm_error_map.mpl_2014.design_matrix_linear as design_old"
   ]
  },
  {
   "cell_type": "code",
   "execution_count": 83,
   "metadata": {},
   "outputs": [],
   "source": [
    "from cmm_error_map.mpl_2014.ballplate_plots import single_grid_plot"
   ]
  },
  {
   "cell_type": "code",
   "execution_count": 84,
   "metadata": {},
   "outputs": [],
   "source": [
    "abs_tol = 1e-6\n",
    "\n",
    "sign_corrections = {\n",
    "    \"Txx\": 1,\n",
    "    \"Txy\": -1,\n",
    "    \"Txz\": -1,\n",
    "    \"Tyx\": -1,\n",
    "    \"Tyy\": 1,\n",
    "    \"Tyz\": -1,\n",
    "    \"Tzx\": -1,\n",
    "    \"Tzy\": -1,\n",
    "    \"Tzz\": 1,\n",
    "    \"Rxx\": -1,\n",
    "    \"Rxy\": -1,\n",
    "    \"Rxz\": -1,\n",
    "    \"Ryx\": -1,\n",
    "    \"Ryy\": -1,\n",
    "    \"Ryz\": 1,\n",
    "    \"Rzx\": -1,\n",
    "    \"Rzy\": -1,\n",
    "    \"Rzz\": 1,\n",
    "    \"Wxy\": -1,\n",
    "    \"Wxz\": -1,\n",
    "    \"Wyz\": -1,\n",
    "}\n",
    "ballspacing = 133.0\n",
    "x0, y0, z0 = 250.0, 50.0, 50.0"
   ]
  },
  {
   "cell_type": "code",
   "execution_count": 85,
   "metadata": {},
   "outputs": [],
   "source": [
    "def test_XYZ_regression(model_params, mmt):\n",
    "    \"\"\"\n",
    "    regression test a set of model parameters with the given mmt against the old matplotlib code,\n",
    "    the old code only calculates for a koba 620 plate on a PMM866.\n",
    "    \"\"\"\n",
    "    # new code\n",
    "    cmm = dc.pmm_866\n",
    "    mmt.recalculate(model_params, cmm.cmm_model)\n",
    "\n",
    "    # matplotlib code\n",
    "    signed_mp = {\n",
    "        key: sign_corrections[key] * value for key, value in model_params.items()\n",
    "    }\n",
    "    params = list(signed_mp.values())\n",
    "    xt, yt, zt = mmt.probe.length\n",
    "    dxy, eXYZ, XYZp, XM, plate_nom = design_old.modelled_mmts_XYZ(\n",
    "        mmt.transform_mat, xt, yt, zt, params, verbose=True\n",
    "    )\n",
    "    # testing\n",
    "    # np.testing.assert_allclose(XM[:-1, :], mmt.cmm_nominal, atol=abs_tol)\n",
    "    # np.testing.assert_allclose(eXYZ[:-1, :], mmt.cmm_dev, atol=abs_tol)\n",
    "    # np.testing.assert_allclose(plate_nom, mmt.mmt_nominal[:-1, :], atol=abs_tol)\n",
    "    # np.testing.assert_allclose(dxy.T, mmt.mmt_dev[:-1, :], atol=abs_tol)\n",
    "    return mmt, dxy"
   ]
  },
  {
   "cell_type": "code",
   "execution_count": 86,
   "metadata": {},
   "outputs": [],
   "source": [
    "def make_mmts():\n",
    "    \"\"\"\n",
    "    return a dict of dc.Measurement\n",
    "    one for each CMM plane XY, XZ, YZ\n",
    "    \"\"\"\n",
    "    ballspacing = 133.0\n",
    "    x0, y0, z0 = 250.0, 50.0, 50.0\n",
    "    # XY plane\n",
    "    x0xy, y0xy, z0xy = x0, y0, z0\n",
    "    transform_mat_xy = np.array(\n",
    "        [\n",
    "            [1.0, 0.0, 0.0, x0xy],\n",
    "            [0.0, 1.0, 0.0, y0xy],\n",
    "            [0.0, 0.0, 1.0, z0xy],\n",
    "            [0.0, 0.0, 0.0, 1.0],\n",
    "        ]\n",
    "    )\n",
    "\n",
    "    xt, yt, zt = 0.0, 0.0, -243.4852\n",
    "    prb_xy = dc.Probe(title=\"P0\", name=\"p0\", length=np.array([xt, yt, zt]))\n",
    "    mmt_xy = dc.Measurement(\n",
    "        title=\"Plate XY\",\n",
    "        name=\"mmt_00\",\n",
    "        artefact=cf.artefact_models[\"KOBA 0620\"],\n",
    "        transform_mat=transform_mat_xy,\n",
    "        probe=prb_xy,\n",
    "        cmm_nominal=None,\n",
    "        cmm_dev=None,\n",
    "        mmt_nominal=None,\n",
    "        mmt_dev=None,\n",
    "    )\n",
    "    # XZ plane\n",
    "    x0xz, y0xz, z0xz = x0, y0 + 2.0 * ballspacing, z0\n",
    "    transform_mat_xz = np.array(\n",
    "        [\n",
    "            [1.0, 0.0, 0.0, x0xz],\n",
    "            [0.0, 0.0, 1.0, y0xz],\n",
    "            [0.0, 1.0, 0.0, z0xz],\n",
    "            [0.0, 0.0, 0.0, 1.0],\n",
    "        ]\n",
    "    )\n",
    "\n",
    "    xt_xz, yt_xz, zt_xz = 0.0, 130.0, -243.4852\n",
    "    prb_xz = dc.Probe(title=\"P0\", name=\"p0\", length=np.array([xt_xz, yt_xz, zt_xz]))\n",
    "    mmt_xz = dc.Measurement(\n",
    "        title=\"Plate XZ\",\n",
    "        name=\"mmt_01\",\n",
    "        artefact=cf.artefact_models[\"KOBA 0620\"],\n",
    "        transform_mat=transform_mat_xz,\n",
    "        probe=prb_xz,\n",
    "        cmm_nominal=None,\n",
    "        cmm_dev=None,\n",
    "        mmt_nominal=None,\n",
    "        mmt_dev=None,\n",
    "    )\n",
    "    # YZ plane\n",
    "    x0yz, y0yz, z0yz = x0 + 2.0 * ballspacing, y0, z0\n",
    "    transform_mat_yz = np.array(\n",
    "        [\n",
    "            [0.0, 0.0, 1.0, x0yz],\n",
    "            [1.0, 0.0, 0.0, y0yz],\n",
    "            [0.0, 1.0, 0.0, z0yz],\n",
    "            [0.0, 0.0, 0.0, 1.0],\n",
    "        ]\n",
    "    )\n",
    "    xt_yz, yt_yz, zt_yz = 130.0, 0.0, -243.4852\n",
    "    prb_yz = dc.Probe(title=\"P0\", name=\"p0\", length=np.array([xt_yz, yt_yz, zt_yz]))\n",
    "    mmt_yz = dc.Measurement(\n",
    "        title=\"Plate YZ\",\n",
    "        name=\"mmt_02\",\n",
    "        artefact=cf.artefact_models[\"KOBA 0620\"],\n",
    "        transform_mat=transform_mat_yz,\n",
    "        probe=prb_yz,\n",
    "        cmm_nominal=None,\n",
    "        cmm_dev=None,\n",
    "        mmt_nominal=None,\n",
    "        mmt_dev=None,\n",
    "    )\n",
    "\n",
    "    mmts = {\"mmt XY\": mmt_xy, \"mmt XZ\": mmt_xz, \"mmt YZ\": mmt_yz}\n",
    "    return mmts\n",
    "\n",
    "\n",
    "mmt_tests = make_mmts()\n"
   ]
  },
  {
   "cell_type": "code",
   "execution_count": null,
   "metadata": {},
   "outputs": [],
   "source": []
  },
  {
   "cell_type": "code",
   "execution_count": 87,
   "metadata": {},
   "outputs": [],
   "source": [
    "model = dc.model_parameters_dict.copy()\n",
    "model[\"Rzz\"] = 5e-8"
   ]
  },
  {
   "cell_type": "code",
   "execution_count": 88,
   "metadata": {},
   "outputs": [],
   "source": [
    "mmt, dxy = test_XYZ_regression(model, mmt_tests[\"mmt YZ\"])"
   ]
  },
  {
   "cell_type": "code",
   "execution_count": 89,
   "metadata": {},
   "outputs": [
    {
     "data": {
      "text/plain": [
       "array([0.003458, 0.      ])"
      ]
     },
     "execution_count": 89,
     "metadata": {},
     "output_type": "execute_result"
    }
   ],
   "source": [
    "mmt.mmt_dev[:-1, -1].T"
   ]
  },
  {
   "cell_type": "code",
   "execution_count": 90,
   "metadata": {},
   "outputs": [
    {
     "data": {
      "text/plain": [
       "array([-0.003458,  0.      ])"
      ]
     },
     "execution_count": 90,
     "metadata": {},
     "output_type": "execute_result"
    }
   ],
   "source": [
    "dxy[-1, :]"
   ]
  },
  {
   "cell_type": "code",
   "execution_count": 91,
   "metadata": {},
   "outputs": [
    {
     "data": {
      "image/png": "[encoded data removed]",
      "text/plain": [
       "<Figure size 640x480 with 1 Axes>"
      ]
     },
     "metadata": {},
     "output_type": "display_data"
    }
   ],
   "source": [
    "single_grid_plot(dxy, 10000);"
   ]
  },
  {
   "cell_type": "code",
   "execution_count": 92,
   "metadata": {},
   "outputs": [
    {
     "data": {
      "image/png": "[encoded data removed]",
      "text/plain": [
       "<Figure size 640x480 with 1 Axes>"
      ]
     },
     "metadata": {},
     "output_type": "display_data"
    }
   ],
   "source": [
    "single_grid_plot(mmt.mmt_dev[:-1, :].T, 10000);"
   ]
  },
  {
   "cell_type": "code",
   "execution_count": 93,
   "metadata": {},
   "outputs": [
    {
     "data": {
      "text/plain": [
       "array([[  0.,   0.,   1., 516.],\n",
       "       [  1.,   0.,   0.,  50.],\n",
       "       [  0.,   1.,   0.,  50.],\n",
       "       [  0.,   0.,   0.,   1.]])"
      ]
     },
     "execution_count": 93,
     "metadata": {},
     "output_type": "execute_result"
    }
   ],
   "source": [
    "mmt.transform_mat"
   ]
  },
  {
   "cell_type": "code",
   "execution_count": 94,
   "metadata": {},
   "outputs": [],
   "source": [
    "# read in a dump from main app of Rzz=5e-8, for config in `/home/elfnor/Desktop/PMM866_3axis_plates.pkl`\n",
    "import pickle"
   ]
  },
  {
   "cell_type": "code",
   "execution_count": null,
   "metadata": {},
   "outputs": [
    {
     "name": "stdout",
     "output_type": "stream",
     "text": [
      "mmt_control_grp0\n",
      "Plate XY mmt_control_grp0\n",
      "mmt_control_grp1\n",
      "Plate XZ mmt_control_grp1\n",
      "mmt_control_grp2\n",
      "Plate YZ mmt_control_grp2\n"
     ]
    }
   ],
   "source": [
    "filename = \"/home/elfnor/gits/ls_cmm_error_map/notebooks/mmts.pkl\"\n",
    "with open(filename, \"rb\") as fp:\n",
    "    dump_mmts = pickle.load(fp)\n",
    "\n",
    "for key, mmt in dump_mmts.items():\n",
    "    print(key)\n",
    "    print(mmt.title, mmt.name)"
   ]
  },
  {
   "cell_type": "code",
   "execution_count": 116,
   "metadata": {},
   "outputs": [],
   "source": [
    "for mmt in mmt_tests.values():\n",
    "    mmt.recalculate(model, dc.pmm_866.cmm_model)"
   ]
  },
  {
   "cell_type": "code",
   "execution_count": 117,
   "metadata": {},
   "outputs": [
    {
     "data": {
      "text/plain": [
       "ArtefactType(title='KOBA 0620', nballs=[5, 5], ball_spacing=133.0)"
      ]
     },
     "execution_count": 117,
     "metadata": {},
     "output_type": "execute_result"
    }
   ],
   "source": [
    "dump_mmts[\"mmt_control_grp2\"].artefact"
   ]
  },
  {
   "cell_type": "code",
   "execution_count": 118,
   "metadata": {},
   "outputs": [
    {
     "data": {
      "text/plain": [
       "ArtefactType(title='KOBA 0620', nballs=[5, 5], ball_spacing=133.0)"
      ]
     },
     "execution_count": 118,
     "metadata": {},
     "output_type": "execute_result"
    }
   ],
   "source": [
    "mmt_tests[\"mmt YZ\"].artefact"
   ]
  },
  {
   "cell_type": "code",
   "execution_count": 119,
   "metadata": {},
   "outputs": [
    {
     "data": {
      "text/plain": [
       "array([[ 2.22044605e-16, -2.22044605e-16,  1.00000000e+00,\n",
       "         5.16000000e+02],\n",
       "       [ 1.00000000e+00,  0.00000000e+00, -2.22044605e-16,\n",
       "         5.00000000e+01],\n",
       "       [ 0.00000000e+00,  1.00000000e+00,  2.22044605e-16,\n",
       "         5.00000000e+01],\n",
       "       [ 0.00000000e+00,  0.00000000e+00,  0.00000000e+00,\n",
       "         1.00000000e+00]])"
      ]
     },
     "execution_count": 119,
     "metadata": {},
     "output_type": "execute_result"
    }
   ],
   "source": [
    "dump_mmts[\"mmt_control_grp2\"].transform_mat"
   ]
  },
  {
   "cell_type": "code",
   "execution_count": 120,
   "metadata": {},
   "outputs": [
    {
     "data": {
      "text/plain": [
       "array([[  0.,   0.,   1., 516.],\n",
       "       [  1.,   0.,   0.,  50.],\n",
       "       [  0.,   1.,   0.,  50.],\n",
       "       [  0.,   0.,   0.,   1.]])"
      ]
     },
     "execution_count": 120,
     "metadata": {},
     "output_type": "execute_result"
    }
   ],
   "source": [
    "mmt_tests[\"mmt YZ\"].transform_mat"
   ]
  },
  {
   "cell_type": "code",
   "execution_count": 121,
   "metadata": {},
   "outputs": [],
   "source": [
    "np.testing.assert_allclose(\n",
    "    dump_mmts[\"mmt_control_grp2\"].transform_mat,\n",
    "    mmt_tests[\"mmt YZ\"].transform_mat,\n",
    "    atol=1e-9,\n",
    ")"
   ]
  },
  {
   "cell_type": "code",
   "execution_count": 122,
   "metadata": {},
   "outputs": [
    {
     "data": {
      "text/plain": [
       "(Probe(title='Probe YZ', name='prb_control_grp2', length=array([ 130.    ,    0.    , -243.4852])),\n",
       " Probe(title='P0', name='p0', length=array([ 130.    ,    0.    , -243.4852])))"
      ]
     },
     "execution_count": 122,
     "metadata": {},
     "output_type": "execute_result"
    }
   ],
   "source": [
    "dump_mmts[\"mmt_control_grp2\"].probe, mmt_tests[\"mmt YZ\"].probe"
   ]
  }
 ],
 "metadata": {
  "kernelspec": {
   "display_name": ".venv",
   "language": "python",
   "name": "python3"
  },
  "language_info": {
   "codemirror_mode": {
    "name": "ipython",
    "version": 3
   },
   "file_extension": ".py",
   "mimetype": "text/x-python",
   "name": "python",
   "nbconvert_exporter": "python",
   "pygments_lexer": "ipython3",
   "version": "3.11.9"
  }
 },
 "nbformat": 4,
 "nbformat_minor": 2
}
