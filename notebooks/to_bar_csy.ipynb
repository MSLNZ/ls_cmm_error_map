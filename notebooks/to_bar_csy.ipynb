{
 "cells": [
  {
   "cell_type": "markdown",
   "metadata": {},
   "source": [
    "# to plate CSY\n",
    "\n",
    "looking at functiosn to transform from CMM CSY to bar CSY using `matrix_from_3_points`"
   ]
  },
  {
   "cell_type": "code",
   "execution_count": 2,
   "metadata": {},
   "outputs": [],
   "source": [
    "import numpy as np\n",
    "\n",
    "import cmm_error_map.config.config as cf\n",
    "import cmm_error_map.data_cmpts as dc\n"
   ]
  },
  {
   "cell_type": "code",
   "execution_count": 59,
   "metadata": {},
   "outputs": [],
   "source": [
    "# very short bar for testing\n",
    "bar = dc.ArtefactType(title=\"short bar\", nballs=(4, 1), ball_spacing=100.0)"
   ]
  },
  {
   "cell_type": "code",
   "execution_count": 70,
   "metadata": {},
   "outputs": [
    {
     "data": {
      "text/plain": [
       "array([[ 0.70710678, -0.70710678,  0.        , 50.        ],\n",
       "       [ 0.70710678,  0.70710678,  0.        , 50.        ],\n",
       "       [ 0.        ,  0.        ,  1.        , 50.        ],\n",
       "       [ 0.        ,  0.        ,  0.        ,  1.        ]])"
      ]
     },
     "execution_count": 70,
     "metadata": {},
     "output_type": "execute_result"
    }
   ],
   "source": [
    "transform_mat = dc.matrix_from_vectors([50.0, 50.0, 50.0], [0.0, 0.0, 45.0])\n",
    "transform_mat"
   ]
  },
  {
   "cell_type": "code",
   "execution_count": 71,
   "metadata": {},
   "outputs": [],
   "source": [
    "xt, yt, zt = 0.0, 0.0, -250\n",
    "prb = dc.Probe(title=\"test\", name=\"test\", length=np.array([xt, yt, zt]))\n",
    "mmt = dc.Measurement(\n",
    "    title=\"test\",\n",
    "    name=\"mmt_02\",\n",
    "    artefact=bar,\n",
    "    transform_mat=transform_mat,\n",
    "    probe=prb,\n",
    "    cmm_nominal=None,\n",
    "    cmm_dev=None,\n",
    "    mmt_nominal=None,\n",
    "    mmt_dev=None,\n",
    ")"
   ]
  },
  {
   "cell_type": "code",
   "execution_count": 72,
   "metadata": {},
   "outputs": [],
   "source": [
    "model = dc.model_parameters_dict.copy()\n",
    "mmt.recalculate(model, dc.pmm_866.cmm_model)"
   ]
  },
  {
   "cell_type": "code",
   "execution_count": 73,
   "metadata": {},
   "outputs": [
    {
     "data": {
      "text/plain": [
       "array([[  0., 100., 200., 300.],\n",
       "       [  0.,   0.,   0.,   0.],\n",
       "       [  0.,   0.,   0.,   0.]])"
      ]
     },
     "execution_count": 73,
     "metadata": {},
     "output_type": "execute_result"
    }
   ],
   "source": [
    "mmt.mmt_nominal"
   ]
  },
  {
   "cell_type": "code",
   "execution_count": 74,
   "metadata": {},
   "outputs": [
    {
     "data": {
      "text/plain": [
       "array([[ 0.00000000e+00,  1.00000000e+02,  2.00000000e+02,\n",
       "         3.00000000e+02],\n",
       "       [ 2.66453526e-15,  7.18521652e-15,  1.88113251e-14,\n",
       "        -1.21951304e-14],\n",
       "       [ 0.00000000e+00,  0.00000000e+00,  0.00000000e+00,\n",
       "         0.00000000e+00]])"
      ]
     },
     "execution_count": 74,
     "metadata": {},
     "output_type": "execute_result"
    }
   ],
   "source": [
    "mmt.mmt_nominal + mmt.mmt_dev"
   ]
  },
  {
   "cell_type": "code",
   "execution_count": 24,
   "metadata": {},
   "outputs": [],
   "source": [
    "cmm_deform = mmt.cmm_nominal + mmt.cmm_dev\n",
    "# assume bar got where it is by a rotation about its y axis\n",
    "# a rotation about machine Z and an xyz shift.\n",
    "# that is no rotation about bar axis.\n",
    "\n",
    "# can take point  at (0, 100, 0) in bar csy and transform it into cmm csy using mmt.transform_mat?\n",
    "\n",
    "# the rotation about y-axis is the angle between the bar axis and the x-y plane\n",
    "# if this is 90 degrees the next bit doesn't work.\n",
    "# the rotation about cmm z is the angle of the projection of the bar into the x-y plane\n",
    "# but we know these roughly from mmt.transform_mat\n",
    "\n",
    "\n",
    "xyz0 = cmm_deform[:, 0]\n",
    "xyz1 = cmm_deform[:, -1]\n",
    "bar_vx = xyz1 - xyz0\n",
    "cmm_z = np.array([0.0, 0.0, 1.0])\n"
   ]
  },
  {
   "cell_type": "code",
   "execution_count": 18,
   "metadata": {},
   "outputs": [
    {
     "data": {
      "text/plain": [
       "0.0"
      ]
     },
     "execution_count": 18,
     "metadata": {},
     "output_type": "execute_result"
    }
   ],
   "source": [
    "np.dot(bar_vx, cmm_z)"
   ]
  },
  {
   "cell_type": "code",
   "execution_count": 27,
   "metadata": {},
   "outputs": [],
   "source": [
    "cmm_deform = mmt.cmm_nominal + mmt.cmm_dev\n",
    "xyz0 = cmm_deform[:, 0]\n",
    "xyz1 = cmm_deform[:, -1]\n",
    "\n",
    "# for third point\n",
    "# take  (0, 100, 0) in bar csy and\n",
    "# transform it into cmm csy using mmt.transform_mat\n",
    "bar_c2 = np.array([0, 100, 0, 1])\n",
    "xyz2 = mmt.transform_mat @ bar_c2\n"
   ]
  },
  {
   "cell_type": "code",
   "execution_count": 28,
   "metadata": {},
   "outputs": [
    {
     "data": {
      "text/plain": [
       "(4,)"
      ]
     },
     "execution_count": 28,
     "metadata": {},
     "output_type": "execute_result"
    }
   ],
   "source": [
    "xyz2.shape"
   ]
  },
  {
   "cell_type": "code",
   "execution_count": 33,
   "metadata": {},
   "outputs": [],
   "source": [
    "xyz2 = xyz2[:3]\n",
    "corners = np.vstack((xyz0, xyz1, xyz2))\n",
    "corner_inds = [0, 1, 2]\n",
    "mat = dc.matrix_from_3_points(corners, corner_inds)\n",
    "cmm_deform1 = np.vstack((cmm_deform, np.ones((1, cmm_deform.shape[1]))))\n",
    "mmt_deform = mat @ cmm_deform1"
   ]
  },
  {
   "cell_type": "code",
   "execution_count": 34,
   "metadata": {},
   "outputs": [
    {
     "data": {
      "text/plain": [
       "array([[ 50.        ,  50.        ,  50.        ],\n",
       "       [474.26406871, 474.26406871,  50.        ],\n",
       "       [-20.71067812, 120.71067812,  50.        ]])"
      ]
     },
     "execution_count": 34,
     "metadata": {},
     "output_type": "execute_result"
    }
   ],
   "source": [
    "corners"
   ]
  },
  {
   "cell_type": "code",
   "execution_count": 35,
   "metadata": {},
   "outputs": [
    {
     "data": {
      "text/plain": [
       "array([[ 0.00000000e+00,  4.01943669e-16,  1.00000000e+00,\n",
       "         2.07106781e+01],\n",
       "       [-0.00000000e+00, -1.00000000e+00,  4.01943669e-16,\n",
       "         4.74264069e+02],\n",
       "       [ 1.00000000e+00,  0.00000000e+00,  0.00000000e+00,\n",
       "        -5.00000000e+01],\n",
       "       [ 0.00000000e+00,  0.00000000e+00,  0.00000000e+00,\n",
       "         1.00000000e+00]])"
      ]
     },
     "execution_count": 35,
     "metadata": {},
     "output_type": "execute_result"
    }
   ],
   "source": [
    "mat"
   ]
  },
  {
   "cell_type": "code",
   "execution_count": 41,
   "metadata": {},
   "outputs": [
    {
     "data": {
      "text/plain": [
       "array([[ 0,  1,  2,  3,  4,  5,  6],\n",
       "       [ 7,  8,  9, 10, 11, 12, 13],\n",
       "       [14, 15, 16, 17, 18, 19, 20]])"
      ]
     },
     "execution_count": 41,
     "metadata": {},
     "output_type": "execute_result"
    }
   ],
   "source": [
    "n1 = np.arange(21).reshape(3, -1)\n",
    "n1"
   ]
  },
  {
   "cell_type": "code",
   "execution_count": 42,
   "metadata": {},
   "outputs": [
    {
     "data": {
      "text/plain": [
       "array([ 0,  7, 14])"
      ]
     },
     "execution_count": 42,
     "metadata": {},
     "output_type": "execute_result"
    }
   ],
   "source": [
    "n1[:, 0]"
   ]
  },
  {
   "cell_type": "code",
   "execution_count": 44,
   "metadata": {},
   "outputs": [
    {
     "data": {
      "text/plain": [
       "array([[ 0,  7, 14],\n",
       "       [ 1,  8, 15]])"
      ]
     },
     "execution_count": 44,
     "metadata": {},
     "output_type": "execute_result"
    }
   ],
   "source": [
    "np.vstack((n1[:, 0], n1[:, 1]))"
   ]
  },
  {
   "cell_type": "code",
   "execution_count": 45,
   "metadata": {},
   "outputs": [
    {
     "data": {
      "text/plain": [
       "array([ 0,  7, 14,  1,  8, 15])"
      ]
     },
     "execution_count": 45,
     "metadata": {},
     "output_type": "execute_result"
    }
   ],
   "source": [
    "np.hstack((n1[:, 0], n1[:, 1]))"
   ]
  },
  {
   "cell_type": "code",
   "execution_count": 46,
   "metadata": {},
   "outputs": [
    {
     "data": {
      "text/plain": [
       "array([[ 0,  7, 14],\n",
       "       [ 1,  8, 15]])"
      ]
     },
     "execution_count": 46,
     "metadata": {},
     "output_type": "execute_result"
    }
   ],
   "source": [
    "np.stack((n1[:, 0], n1[:, 1]))"
   ]
  },
  {
   "cell_type": "code",
   "execution_count": 47,
   "metadata": {},
   "outputs": [
    {
     "data": {
      "text/plain": [
       "array([[ 0,  1],\n",
       "       [ 7,  8],\n",
       "       [14, 15]])"
      ]
     },
     "execution_count": 47,
     "metadata": {},
     "output_type": "execute_result"
    }
   ],
   "source": [
    "np.vstack((n1[:, 0], n1[:, 1])).T"
   ]
  },
  {
   "cell_type": "code",
   "execution_count": null,
   "metadata": {},
   "outputs": [
    {
     "data": {
      "text/plain": [
       "321.0"
      ]
     },
     "execution_count": 5,
     "metadata": {},
     "output_type": "execute_result"
    }
   ],
   "source": [
    "np.polynomial.Polynomial([1, 2, 3])(10)"
   ]
  },
  {
   "cell_type": "code",
   "execution_count": null,
   "metadata": {},
   "outputs": [],
   "source": []
  }
 ],
 "metadata": {
  "kernelspec": {
   "display_name": ".venv",
   "language": "python",
   "name": "python3"
  },
  "language_info": {
   "codemirror_mode": {
    "name": "ipython",
    "version": 3
   },
   "file_extension": ".py",
   "mimetype": "text/x-python",
   "name": "python",
   "nbconvert_exporter": "python",
   "pygments_lexer": "ipython3",
   "version": "3.11.9"
  }
 },
 "nbformat": 4,
 "nbformat_minor": 2
}
