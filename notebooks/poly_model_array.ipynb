{
 "cells": [
  {
   "cell_type": "markdown",
   "metadata": {},
   "source": [
    "# Poly model\n",
    "Working on a version of `design_linear.py` that takes a numpy  Polynomial class (or a list of coefficients) instead of a single value to apply linaerly as m * x + 0.0\n",
    "\n",
    "Also trying to evaluate polynominal over whole array not point."
   ]
  },
  {
   "cell_type": "code",
   "execution_count": 78,
   "metadata": {},
   "outputs": [],
   "source": [
    "%load_ext line_profiler"
   ]
  },
  {
   "cell_type": "code",
   "execution_count": 2,
   "metadata": {},
   "outputs": [],
   "source": [
    "import numpy as np\n",
    "from numpy.polynomial import Polynomial\n",
    "\n",
    "import cmm_error_map.design_poly as designp\n",
    "import cmm_error_map.design_linear as designl\n",
    "import cmm_error_map.data_cmpts as dc\n",
    "import cmm_error_map.config.config as cf"
   ]
  },
  {
   "cell_type": "code",
   "execution_count": 6,
   "metadata": {},
   "outputs": [],
   "source": [
    "model_params = dc.model_parameters_test.copy()\n"
   ]
  },
  {
   "cell_type": "code",
   "execution_count": 17,
   "metadata": {},
   "outputs": [],
   "source": [
    "# create polys from params\n",
    "coeffs = {\n",
    "    key: value if isinstance(value, list) else [0.0, value]\n",
    "    for key, value in model_params.items()\n",
    "}\n",
    "model_polys = {key: Polynomial(coeffs[key]) for key in model_params}"
   ]
  },
  {
   "cell_type": "code",
   "execution_count": 65,
   "metadata": {},
   "outputs": [],
   "source": [
    "def model_array(\n",
    "    xyz_in: np.ndarray,  # (3, n)\n",
    "    xyzt: np.ndarray,  # (3,)\n",
    "    model_polys: dict[str, Polynomial],\n",
    "    fixed_table=False,\n",
    "    bridge_axis=1,\n",
    "):\n",
    "    \"\"\" \"\"\"\n",
    "    if not fixed_table:\n",
    "        # table movement is in opposite direction to probe position for a moving table\n",
    "        dirn = [1, 1, 1]\n",
    "        table_axis = int(not bridge_axis)\n",
    "        dirn[table_axis] = -1\n",
    "        xyz = (xyz_in.T * dirn).T\n",
    "    else:\n",
    "        xyz = xyz_in\n",
    "\n",
    "    x, y, z = xyz\n",
    "    dep_dict = {\n",
    "        \"Txx\": x,\n",
    "        \"Txy\": x,\n",
    "        \"Txz\": x,\n",
    "        \"Tyx\": y,\n",
    "        \"Tyy\": y,\n",
    "        \"Tyz\": y,\n",
    "        \"Tzx\": z,\n",
    "        \"Tzy\": z,\n",
    "        \"Tzz\": z,\n",
    "        \"Rxx\": x,\n",
    "        \"Rxy\": x,\n",
    "        \"Rxz\": x,\n",
    "        \"Ryx\": y,\n",
    "        \"Ryy\": y,\n",
    "        \"Ryz\": y,\n",
    "        \"Rzx\": z,\n",
    "        \"Rzy\": z,\n",
    "        \"Rzz\": z,\n",
    "        \"Wxy\": x,\n",
    "        \"Wxz\": y,\n",
    "        \"Wyz\": z,\n",
    "    }\n",
    "    poly_evals = {}\n",
    "    for key in dep_dict:\n",
    "        poly_evals[key] = model_polys[key](dep_dict[key])\n",
    "    pl = poly_evals\n",
    "    # poly_evals = {key: model_polys[key](dep_dict[key]) for key in dep_dict}\n",
    "    dev_out = np.empty_like(xyz_in)\n",
    "    for i in range(xyz_in.shape[1]):\n",
    "        rxl = np.array(\n",
    "            [\n",
    "                [1.0, pl[\"Rxz\"][i], -pl[\"Rxy\"][i]],\n",
    "                [-pl[\"Rxz\"][i], 1.0, pl[\"Rxx\"][i]],\n",
    "                [pl[\"Rxy\"][i], -pl[\"Rxx\"][i], 1.0],\n",
    "            ]\n",
    "        )\n",
    "        ryl = np.array(\n",
    "            [\n",
    "                [1.0, pl[\"Ryz\"][i], -pl[\"Ryy\"][i]],\n",
    "                [-pl[\"Ryz\"][i], 1.0, pl[\"Ryx\"][i]],\n",
    "                [pl[\"Ryy\"][i], -pl[\"Ryx\"][i], 1.0],\n",
    "            ]\n",
    "        )\n",
    "        rzl = np.array(\n",
    "            [\n",
    "                [1.0, pl[\"Rzz\"][i], -pl[\"Rzy\"][i]],\n",
    "                [-pl[\"Rzz\"][i], 1.0, pl[\"Rzx\"][i]],\n",
    "                [pl[\"Rzy\"][i], -pl[\"Rzx\"][i], 1.0],\n",
    "            ]\n",
    "        )\n",
    "        # inverse of a rotation matrix is its transpose\n",
    "        inv_rxl = rxl.T\n",
    "        inv_ryl = ryl.T\n",
    "        inv_rzl = rzl.T\n",
    "        # translation\n",
    "        x, y, z = xyz[:, i]\n",
    "        xl = np.array([x + pl[\"Txx\"][i], pl[\"Txy\"][i], pl[\"Txz\"][i]])\n",
    "        yl = np.array([pl[\"Tyx\"][i], y + pl[\"Tyy\"][i], pl[\"Tyz\"][i]])\n",
    "        zl = np.array([pl[\"Tzx\"][i], pl[\"Tzy\"][i], z + pl[\"Tzz\"][i]])\n",
    "        # @ is matrix multiplication, fmt:skip keeps formatting when using ruff\n",
    "        if fixed_table and bridge_axis == 0:\n",
    "            # moving bridge, x axis across bridge - eg Hexagon ... (Bruce)\n",
    "            w = (\n",
    "                + yl\n",
    "                + inv_ryl @ xl\n",
    "                + inv_ryl @ inv_rxl @ zl\n",
    "                + inv_ryl @ inv_rxl @ inv_rzl @ xyzt\n",
    "            )  # fmt: skip\n",
    "\n",
    "        elif fixed_table and bridge_axis == 1:\n",
    "            # moving bridge y-axis across bridge - eg ? - for completeness\n",
    "            w = (\n",
    "                + xl\n",
    "                + inv_rxl @ yl\n",
    "                + inv_rxl @ inv_ryl @ zl\n",
    "                + inv_rxl @ inv_ryl @ inv_rzl @ xyzt\n",
    "            )  # fmt: skip\n",
    "        elif not fixed_table and bridge_axis == 0:\n",
    "            # fixed brige, moving table, x-axis across bridge eg. Mitutoyo  (Shishimi)\n",
    "            w =  (\n",
    "                - ryl @ yl \n",
    "                + ryl @ xl \n",
    "                + ryl @ inv_rxl @ zl \n",
    "                + ryl @ inv_rxl @ inv_rzl @ xyzt\n",
    "            )  # fmt: skip\n",
    "        elif not fixed_table and bridge_axis == 1:\n",
    "            # fixed brige, moving table, y-axis across bridge eg. old PMM866\n",
    "            w = (\n",
    "                - rxl @ xl \n",
    "                + rxl @ yl \n",
    "                + rxl @ inv_ryl @ zl \n",
    "                + rxl @ inv_ryl @ inv_rzl @ xyzt\n",
    "            )  # fmt: skip\n",
    "        else:\n",
    "            raise ValueError(\"Unknown cmm type\")\n",
    "\n",
    "        dev3d = w - xyz_in[:, i] - xyzt\n",
    "        dev_out[:, i] = dev3d\n",
    "\n",
    "    return dev_out\n"
   ]
  },
  {
   "cell_type": "code",
   "execution_count": 86,
   "metadata": {},
   "outputs": [],
   "source": [
    "ballspacing = 133.0\n",
    "x0, y0, z0 = 250.0, 50.0, 50.0\n",
    "# XY plane\n",
    "transform_mat_xy = dc.matrix_from_vectors([x0, y0, z0], [0.0, 0.0, 0.0])\n",
    "xt, yt, zt = 0.0, 0.0, -243.4852\n",
    "prb_xy = dc.Probe(title=\"P0\", name=\"p0\", length=np.array([xt, yt, zt]))\n",
    "mmt_xy = dc.Measurement(\n",
    "    title=\"Plate XY\",\n",
    "    name=\"mmt_00\",\n",
    "    artefact=cf.artefact_models[\"KOBA 0620\"],\n",
    "    transform_mat=transform_mat_xy,\n",
    "    probe=prb_xy,\n",
    "    cmm_nominal=None,\n",
    "    cmm_dev=None,\n",
    "    mmt_nominal=None,\n",
    "    mmt_dev=None,\n",
    ")\n",
    "mmt_xy.recalculate(model_params, dc.pmm_866.cmm_model)"
   ]
  },
  {
   "cell_type": "code",
   "execution_count": 66,
   "metadata": {},
   "outputs": [
    {
     "data": {
      "text/plain": [
       "array([[ 0.00340559,  0.00063631, -0.00086722],\n",
       "       [ 0.00474494,  0.00125001, -0.00211394],\n",
       "       [ 0.0060843 ,  0.0020406 , -0.00390549],\n",
       "       [ 0.00742365,  0.00300808, -0.00624187],\n",
       "       [ 0.008763  ,  0.00415245, -0.00912308],\n",
       "       [ 0.00211773, -0.00015851, -0.00061817],\n",
       "       [ 0.00336864,  0.00045518, -0.0017324 ],\n",
       "       [ 0.00461955,  0.00124577, -0.00339146],\n",
       "       [ 0.00587046,  0.00221325, -0.00559535],\n",
       "       [ 0.00712137,  0.00335762, -0.00834406],\n",
       "       [ 0.00082987, -0.00095334, -0.00036913],\n",
       "       [ 0.00199233, -0.00033965, -0.00135086],\n",
       "       [ 0.0031548 ,  0.00045094, -0.00287743],\n",
       "       [ 0.00431726,  0.00141842, -0.00494882],\n",
       "       [ 0.00547973,  0.00256279, -0.00756504],\n",
       "       [-0.00045799, -0.00174817, -0.00012008],\n",
       "       [ 0.00061603, -0.00113447, -0.00096932],\n",
       "       [ 0.00169005, -0.00034389, -0.0023634 ],\n",
       "       [ 0.00276407,  0.00062359, -0.0043023 ],\n",
       "       [ 0.00383809,  0.00176796, -0.00678603],\n",
       "       [-0.00174585, -0.002543  ,  0.00012897],\n",
       "       [-0.00076028, -0.0019293 , -0.00058778],\n",
       "       [ 0.0002253 , -0.00113872, -0.00184936],\n",
       "       [ 0.00121088, -0.00017124, -0.00365577],\n",
       "       [ 0.00219645,  0.00097313, -0.00600701]])"
      ]
     },
     "execution_count": 66,
     "metadata": {},
     "output_type": "execute_result"
    }
   ],
   "source": [
    "dev_out = model_array(mmt_xy.cmm_nominal, mmt_xy.probe.length, model_polys)\n",
    "dev_out.T"
   ]
  },
  {
   "cell_type": "code",
   "execution_count": 83,
   "metadata": {},
   "outputs": [
    {
     "data": {
      "text/plain": [
       "array([[ 0.00340559,  0.00063631, -0.00086722],\n",
       "       [ 0.00474494,  0.00125001, -0.00211394],\n",
       "       [ 0.0060843 ,  0.0020406 , -0.00390549],\n",
       "       [ 0.00742365,  0.00300808, -0.00624187],\n",
       "       [ 0.008763  ,  0.00415245, -0.00912308],\n",
       "       [ 0.00211773, -0.00015851, -0.00061817],\n",
       "       [ 0.00336864,  0.00045518, -0.0017324 ],\n",
       "       [ 0.00461955,  0.00124577, -0.00339146],\n",
       "       [ 0.00587046,  0.00221325, -0.00559535],\n",
       "       [ 0.00712137,  0.00335762, -0.00834406],\n",
       "       [ 0.00082987, -0.00095334, -0.00036913],\n",
       "       [ 0.00199233, -0.00033965, -0.00135086],\n",
       "       [ 0.0031548 ,  0.00045094, -0.00287743],\n",
       "       [ 0.00431726,  0.00141842, -0.00494882],\n",
       "       [ 0.00547973,  0.00256279, -0.00756504],\n",
       "       [-0.00045799, -0.00174817, -0.00012008],\n",
       "       [ 0.00061603, -0.00113447, -0.00096932],\n",
       "       [ 0.00169005, -0.00034389, -0.0023634 ],\n",
       "       [ 0.00276407,  0.00062359, -0.0043023 ],\n",
       "       [ 0.00383809,  0.00176796, -0.00678603],\n",
       "       [-0.00174585, -0.002543  ,  0.00012897],\n",
       "       [-0.00076028, -0.0019293 , -0.00058778],\n",
       "       [ 0.0002253 , -0.00113872, -0.00184936],\n",
       "       [ 0.00121088, -0.00017124, -0.00365577],\n",
       "       [ 0.00219645,  0.00097313, -0.00600701]])"
      ]
     },
     "execution_count": 83,
     "metadata": {},
     "output_type": "execute_result"
    }
   ],
   "source": [
    "designp.model_matrix(mmt_xy.cmm_nominal, mmt_xy.probe.length, model_params)"
   ]
  },
  {
   "cell_type": "code",
   "execution_count": 74,
   "metadata": {},
   "outputs": [
    {
     "name": "stdout",
     "output_type": "stream",
     "text": [
      "2.04 ms ± 171 μs per loop (mean ± std. dev. of 7 runs, 100 loops each)\n"
     ]
    }
   ],
   "source": [
    "%timeit model_array(mmt_xy.cmm_nominal, mmt_xy.probe.length, model_polys)"
   ]
  },
  {
   "cell_type": "code",
   "execution_count": 84,
   "metadata": {},
   "outputs": [
    {
     "name": "stdout",
     "output_type": "stream",
     "text": [
      "1.72 ms ± 117 μs per loop (mean ± std. dev. of 7 runs, 100 loops each)\n"
     ]
    }
   ],
   "source": [
    "%timeit designp.model_matrix(mmt_xy.cmm_nominal, mmt_xy.probe.length, model_params)"
   ]
  },
  {
   "cell_type": "code",
   "execution_count": 85,
   "metadata": {},
   "outputs": [
    {
     "name": "stdout",
     "output_type": "stream",
     "text": [
      "Timer unit: 1e-09 s\n",
      "\n",
      "Total time: 0.00343113 s\n",
      "File: /home/elfnor/gits/ls_cmm_error_map/src/cmm_error_map/design_poly.py\n",
      "Function: model_matrix at line 14\n",
      "\n",
      "Line #      Hits         Time  Per Hit   % Time  Line Contents\n",
      "==============================================================\n",
      "    14                                           def model_matrix(\n",
      "    15                                               xyz_in: np.ndarray,  # (3, n)\n",
      "    16                                               xyzt: np.ndarray,  # (3,)\n",
      "    17                                               model_params: dict[str, float | list[float]],\n",
      "    18                                               fixed_table=False,\n",
      "    19                                               bridge_axis=1,\n",
      "    20                                           ):\n",
      "    21                                               \"\"\" \"\"\"\n",
      "    22                                               # create polys from params\n",
      "    23         2      48599.0  24299.5      1.4      coeffs = {\n",
      "    24                                                   key: value if isinstance(value, list) else [0.0, value]\n",
      "    25         1       1449.0   1449.0      0.0          for key, value in model_params.items()\n",
      "    26                                               }\n",
      "    27         1     867961.0 867961.0     25.3      model_polys = {key: Polynomial(coeffs[key]) for key in model_params}\n",
      "    28                                           \n",
      "    29         1        654.0    654.0      0.0      if not fixed_table:\n",
      "    30                                                   # table movement is in opposite direction to probe position for a moving table\n",
      "    31         1        932.0    932.0      0.0          dirn = [1, 1, 1]\n",
      "    32         1       1912.0   1912.0      0.1          table_axis = int(not bridge_axis)\n",
      "    33         1       1063.0   1063.0      0.0          dirn[table_axis] = -1\n",
      "    34         1      40188.0  40188.0      1.2          xyz = (xyz_in.T * dirn).T\n",
      "    35                                               else:\n",
      "    36                                                   xyz = xyz_in\n",
      "    37                                           \n",
      "    38         1       9455.0   9455.0      0.3      x, y, z = xyz\n",
      "    39        19      24438.0   1286.2      0.7      dep_dict = {\n",
      "    40         1        455.0    455.0      0.0          \"Txx\": x,\n",
      "    41         1        494.0    494.0      0.0          \"Txy\": x,\n",
      "    42         1        461.0    461.0      0.0          \"Txz\": x,\n",
      "    43         1        409.0    409.0      0.0          \"Tyx\": y,\n",
      "    44         1        403.0    403.0      0.0          \"Tyy\": y,\n",
      "    45         1        405.0    405.0      0.0          \"Tyz\": y,\n",
      "    46         1        410.0    410.0      0.0          \"Tzx\": z,\n",
      "    47         1        416.0    416.0      0.0          \"Tzy\": z,\n",
      "    48         1        408.0    408.0      0.0          \"Tzz\": z,\n",
      "    49         1        414.0    414.0      0.0          \"Rxx\": x,\n",
      "    50         1        415.0    415.0      0.0          \"Rxy\": x,\n",
      "    51         1        405.0    405.0      0.0          \"Rxz\": x,\n",
      "    52         1        407.0    407.0      0.0          \"Ryx\": y,\n",
      "    53         1        408.0    408.0      0.0          \"Ryy\": y,\n",
      "    54         1        407.0    407.0      0.0          \"Ryz\": y,\n",
      "    55         1        427.0    427.0      0.0          \"Rzx\": z,\n",
      "    56         1        424.0    424.0      0.0          \"Rzy\": z,\n",
      "    57         1        448.0    448.0      0.0          \"Rzz\": z,\n",
      "    58         1        372.0    372.0      0.0          \"Wxy\": x,\n",
      "    59         1        391.0    391.0      0.0          \"Wxz\": y,\n",
      "    60         1        365.0    365.0      0.0          \"Wyz\": z,\n",
      "    61                                               }\n",
      "    62         1        534.0    534.0      0.0      poly_evals = {}\n",
      "    63        22      17021.0    773.7      0.5      for key in dep_dict:\n",
      "    64        21    1009468.0  48069.9     29.4          poly_evals[key] = model_polys[key](dep_dict[key])\n",
      "    65         1        596.0    596.0      0.0      pl = poly_evals\n",
      "    66                                               # poly_evals = {key: model_polys[key](dep_dict[key]) for key in dep_dict}\n",
      "    67         1       5869.0   5869.0      0.2      dev_out = np.empty_like(xyz_in)\n",
      "    68        26      12172.0    468.2      0.4      for i in range(xyz_in.shape[1]):\n",
      "    69        50      91534.0   1830.7      2.7          rxl = np.array(\n",
      "    70        25       6948.0    277.9      0.2              [\n",
      "    71        25      28460.0   1138.4      0.8                  [1.0, pl[\"Rxz\"][i], -pl[\"Rxy\"][i]],\n",
      "    72        25      21313.0    852.5      0.6                  [-pl[\"Rxz\"][i], 1.0, pl[\"Rxx\"][i]],\n",
      "    73        25      20859.0    834.4      0.6                  [pl[\"Rxy\"][i], -pl[\"Rxx\"][i], 1.0],\n",
      "    74                                                       ]\n",
      "    75                                                   )\n",
      "    76        50      62037.0   1240.7      1.8          ryl = np.array(\n",
      "    77        25       5714.0    228.6      0.2              [\n",
      "    78        25      20479.0    819.2      0.6                  [1.0, pl[\"Ryz\"][i], -pl[\"Ryy\"][i]],\n",
      "    79        25      34927.0   1397.1      1.0                  [-pl[\"Ryz\"][i], 1.0, pl[\"Ryx\"][i]],\n",
      "    80        25      18264.0    730.6      0.5                  [pl[\"Ryy\"][i], -pl[\"Ryx\"][i], 1.0],\n",
      "    81                                                       ]\n",
      "    82                                                   )\n",
      "    83        50      59994.0   1199.9      1.7          rzl = np.array(\n",
      "    84        25       5609.0    224.4      0.2              [\n",
      "    85        25      19517.0    780.7      0.6                  [1.0, pl[\"Rzz\"][i], -pl[\"Rzy\"][i]],\n",
      "    86        25      18190.0    727.6      0.5                  [-pl[\"Rzz\"][i], 1.0, pl[\"Rzx\"][i]],\n",
      "    87        25      17096.0    683.8      0.5                  [pl[\"Rzy\"][i], -pl[\"Rzx\"][i], 1.0],\n",
      "    88                                                       ]\n",
      "    89                                                   )\n",
      "    90                                                   # inverse of a rotation matrix is its transpose\n",
      "    91        25      26330.0   1053.2      0.8          inv_rxl = rxl.T\n",
      "    92        25      12819.0    512.8      0.4          inv_ryl = ryl.T\n",
      "    93        25      10756.0    430.2      0.3          inv_rzl = rzl.T\n",
      "    94                                                   # translation\n",
      "    95        25      76524.0   3061.0      2.2          x, y, z = xyz[:, i]\n",
      "    96        25      56948.0   2277.9      1.7          xl = np.array([x + pl[\"Txx\"][i], pl[\"Txy\"][i], pl[\"Txz\"][i]])\n",
      "    97        25      46682.0   1867.3      1.4          yl = np.array([pl[\"Tyx\"][i], y + pl[\"Tyy\"][i], pl[\"Tyz\"][i]])\n",
      "    98        25      44365.0   1774.6      1.3          zl = np.array([pl[\"Tzx\"][i], pl[\"Tzy\"][i], z + pl[\"Tzz\"][i]])\n",
      "    99                                                   # @ is matrix multiplication, fmt:skip keeps formatting when using ruff\n",
      "   100        25       7645.0    305.8      0.2          if fixed_table and bridge_axis == 0:\n",
      "   101                                                       # moving bridge, x axis across bridge - eg Hexagon ... (Bruce)\n",
      "   102                                                       w = (\n",
      "   103                                                           + yl\n",
      "   104                                                           + inv_ryl @ xl\n",
      "   105                                                           + inv_ryl @ inv_rxl @ zl\n",
      "   106                                                           + inv_ryl @ inv_rxl @ inv_rzl @ xyzt\n",
      "   107                                                       )  # fmt: skip\n",
      "   108                                           \n",
      "   109        25       7315.0    292.6      0.2          elif fixed_table and bridge_axis == 1:\n",
      "   110                                                       # moving bridge y-axis across bridge - eg ? - for completeness\n",
      "   111                                                       w = (\n",
      "   112                                                           + xl\n",
      "   113                                                           + inv_rxl @ yl\n",
      "   114                                                           + inv_rxl @ inv_ryl @ zl\n",
      "   115                                                           + inv_rxl @ inv_ryl @ inv_rzl @ xyzt\n",
      "   116                                                       )  # fmt: skip\n",
      "   117        25       9825.0    393.0      0.3          elif not fixed_table and bridge_axis == 0:\n",
      "   118                                                       # fixed brige, moving table, x-axis across bridge eg. Mitutoyo  (Shishimi)\n",
      "   119                                                       w =  (\n",
      "   120                                                           - ryl @ yl \n",
      "   121                                                           + ryl @ xl \n",
      "   122                                                           + ryl @ inv_rxl @ zl \n",
      "   123                                                           + ryl @ inv_rxl @ inv_rzl @ xyzt\n",
      "   124                                                       )  # fmt: skip\n",
      "   125        25       8454.0    338.2      0.2          elif not fixed_table and bridge_axis == 1:\n",
      "   126                                                       # fixed brige, moving table, y-axis across bridge eg. old PMM866\n",
      "   127        25       8017.0    320.7      0.2              w = (\n",
      "   128       100     200145.0   2001.5      5.8                  - rxl @ xl \n",
      "   129        25      47229.0   1889.2      1.4                  + rxl @ yl \n",
      "   130        25     105786.0   4231.4      3.1                  + rxl @ inv_ryl @ zl \n",
      "   131        25     135051.0   5402.0      3.9                  + rxl @ inv_ryl @ inv_rzl @ xyzt\n",
      "   132                                                       )  # fmt: skip\n",
      "   133                                                   else:\n",
      "   134                                                       raise ValueError(\"Unknown cmm type\")\n",
      "   135                                           \n",
      "   136        25      63297.0   2531.9      1.8          dev3d = w - xyz_in[:, i] - xyzt\n",
      "   137        25      81100.0   3244.0      2.4          dev_out[:, i] = dev3d\n",
      "   138                                           \n",
      "   139         1        849.0    849.0      0.0      return dev_out.T"
     ]
    }
   ],
   "source": [
    "%lprun -f designp.model_matrix designp.model_matrix(mmt_xy.cmm_nominal, mmt_xy.probe.length, model_params)"
   ]
  },
  {
   "cell_type": "code",
   "execution_count": 73,
   "metadata": {},
   "outputs": [
    {
     "data": {
      "text/plain": [
       "(25, 3)"
      ]
     },
     "execution_count": 73,
     "metadata": {},
     "output_type": "execute_result"
    }
   ],
   "source": [
    "d = designl.linear_model_matrix(mmt_xy.cmm_nominal.T, mmt_xy.probe.length, model_params)\n",
    "d.shape"
   ]
  },
  {
   "cell_type": "code",
   "execution_count": null,
   "metadata": {},
   "outputs": [],
   "source": []
  }
 ],
 "metadata": {
  "kernelspec": {
   "display_name": ".venv",
   "language": "python",
   "name": "python3"
  },
  "language_info": {
   "codemirror_mode": {
    "name": "ipython",
    "version": 3
   },
   "file_extension": ".py",
   "mimetype": "text/x-python",
   "name": "python",
   "nbconvert_exporter": "python",
   "pygments_lexer": "ipython3",
   "version": "3.11.9"
  }
 },
 "nbformat": 4,
 "nbformat_minor": 2
}
