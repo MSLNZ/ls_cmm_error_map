{
 "cells": [
  {
   "cell_type": "markdown",
   "metadata": {},
   "source": [
    "Comparing transform matrix implementations\n",
    "between blender mathutile, pyqtgraph scipy.spatial.transform and \n",
    "https://learnopencv.com/rotation-matrix-to-euler-angles/"
   ]
  },
  {
   "cell_type": "code",
   "execution_count": 6,
   "metadata": {},
   "outputs": [],
   "source": [
    "import math\n",
    "import numpy as np\n",
    "import mathutils as mu\n",
    "import scipy.spatial.transform as st\n",
    "import cmm_error_map.gui_cmpts as gc"
   ]
  },
  {
   "cell_type": "code",
   "execution_count": 70,
   "metadata": {},
   "outputs": [
    {
     "data": {
      "text/plain": [
       "[-0.17453292519943295, 0.3490658503988659, -0.5235987755982988]"
      ]
     },
     "execution_count": 70,
     "metadata": {},
     "output_type": "execute_result"
    }
   ],
   "source": [
    "vloc = [100, 20, 30]\n",
    "vrot_deg = [-10 , 20, -30] # degrees\n",
    "vrot_rad = [math.radians(x) for x in vrot_deg]\n",
    "vrot_rad"
   ]
  },
  {
   "cell_type": "code",
   "execution_count": 71,
   "metadata": {},
   "outputs": [
    {
     "data": {
      "text/plain": [
       "Transform3D((0.813798, 0.44097, 0.378522, 100, -0.469846, 0.882564, -0.0180283, 20, -0.34202, -0.163176, 0.925417, 30, 0, 0, 0, 1))"
      ]
     },
     "execution_count": 71,
     "metadata": {},
     "output_type": "execute_result"
    }
   ],
   "source": [
    "# pyqtgraph Transfrom3D (from pyqt) via gui_cmpts\n",
    "gc_transform = gc.vec_to_transform3d(vloc, vrot_deg)\n",
    "gc_transform"
   ]
  },
  {
   "cell_type": "code",
   "execution_count": 72,
   "metadata": {},
   "outputs": [
    {
     "data": {
      "text/plain": [
       "array([[ 0.81379765,  0.44096962,  0.37852228],\n",
       "       [-0.46984631,  0.88256407, -0.0180283 ],\n",
       "       [-0.34202012, -0.16317591,  0.92541653]])"
      ]
     },
     "execution_count": 72,
     "metadata": {},
     "output_type": "execute_result"
    }
   ],
   "source": [
    "gc_mat = gc_transform.matrix()[0:3,0:3]\n",
    "gc_mat"
   ]
  },
  {
   "cell_type": "code",
   "execution_count": 73,
   "metadata": {},
   "outputs": [
    {
     "data": {
      "text/plain": [
       "Matrix(((0.813797652721405, 0.4409696161746979, 0.3785223066806793),\n",
       "        (-0.46984633803367615, 0.882564127445221, -0.018028317019343376),\n",
       "        (-0.3420201241970062, -0.16317591071128845, 0.9254165887832642)))"
      ]
     },
     "execution_count": 73,
     "metadata": {},
     "output_type": "execute_result"
    }
   ],
   "source": [
    "# blender mathutils\n",
    "eul_mu = mu.Euler(vrot_rad)\n",
    "mat_rot = eul_mu.to_matrix()\n",
    "mat_rot"
   ]
  },
  {
   "cell_type": "code",
   "execution_count": 74,
   "metadata": {},
   "outputs": [
    {
     "data": {
      "text/plain": [
       "array([[ 0.81379765,  0.44096962,  0.37852231],\n",
       "       [-0.46984634,  0.88256413, -0.01802832],\n",
       "       [-0.34202012, -0.16317591,  0.92541659]])"
      ]
     },
     "execution_count": 74,
     "metadata": {},
     "output_type": "execute_result"
    }
   ],
   "source": [
    "mu_mat = np.array(mat_rot)\n",
    "mu_mat"
   ]
  },
  {
   "cell_type": "code",
   "execution_count": 75,
   "metadata": {},
   "outputs": [],
   "source": [
    "np.testing.assert_allclose(gc_mat, mu_mat, rtol=1e-5)"
   ]
  },
  {
   "cell_type": "code",
   "execution_count": 99,
   "metadata": {},
   "outputs": [
    {
     "data": {
      "text/plain": [
       "array([[ 0.81379768,  0.44096961,  0.37852231],\n",
       "       [-0.46984631,  0.88256412, -0.01802831],\n",
       "       [-0.34202014, -0.16317591,  0.92541658]])"
      ]
     },
     "execution_count": 99,
     "metadata": {},
     "output_type": "execute_result"
    }
   ],
   "source": [
    "# scipy.spatial.transform\n",
    "rot_st = st.Rotation.from_euler('ZYX', np.flip(vrot_rad))\n",
    "st_mat = rot_st.as_matrix()\n",
    "st_mat"
   ]
  },
  {
   "cell_type": "code",
   "execution_count": 100,
   "metadata": {},
   "outputs": [],
   "source": [
    "np.testing.assert_allclose(st_mat, mu_mat, rtol=1e-5)"
   ]
  },
  {
   "cell_type": "code",
   "execution_count": 96,
   "metadata": {},
   "outputs": [
    {
     "data": {
      "text/plain": [
       "array([[ 9.25416578e-01, -1.80283112e-02,  3.78522306e-01,\n",
       "         1.00000000e+02],\n",
       "       [-1.63175911e-01,  8.82564119e-01,  4.40969611e-01,\n",
       "         2.00000000e+01],\n",
       "       [-3.42020143e-01, -4.69846310e-01,  8.13797681e-01,\n",
       "         3.00000000e+01],\n",
       "       [ 0.00000000e+00,  0.00000000e+00,  0.00000000e+00,\n",
       "         1.00000000e+00]])"
      ]
     },
     "execution_count": 96,
     "metadata": {},
     "output_type": "execute_result"
    }
   ],
   "source": [
    "loc = np.array(vloc).reshape((-1,1))\n",
    "mat = np.hstack((st_mat,loc))\n",
    "np.vstack((mat, np.array([[0,0,0,1]])))\n"
   ]
  },
  {
   "cell_type": "code",
   "execution_count": null,
   "metadata": {},
   "outputs": [],
   "source": []
  },
  {
   "cell_type": "code",
   "execution_count": 47,
   "metadata": {},
   "outputs": [
    {
     "data": {
      "text/plain": [
       "array([0.17453293, 0.34906585, 0.52359878])"
      ]
     },
     "execution_count": 47,
     "metadata": {},
     "output_type": "execute_result"
    }
   ],
   "source": [
    "# scipy.spatial.transform from matrix to euler\n",
    "rot_st = st.Rotation.from_matrix(st_mat)\n",
    "rot_st.as_euler('ZYX')"
   ]
  },
  {
   "cell_type": "code",
   "execution_count": 101,
   "metadata": {},
   "outputs": [
    {
     "data": {
      "text/plain": [
       "array([[ 0.81379768,  0.44096961,  0.37852231],\n",
       "       [-0.46984631,  0.88256412, -0.01802831],\n",
       "       [-0.34202014, -0.16317591,  0.92541658]])"
      ]
     },
     "execution_count": 101,
     "metadata": {},
     "output_type": "execute_result"
    }
   ],
   "source": [
    "# scipy.spatial.transform using degrees\n",
    "rot_st = st.Rotation.from_euler('ZYX', np.flip(vrot_deg), degrees=True)\n",
    "mat_st = rot_st.as_matrix()\n",
    "mat_st"
   ]
  },
  {
   "cell_type": "code",
   "execution_count": 102,
   "metadata": {},
   "outputs": [
    {
     "data": {
      "text/plain": [
       "array([-30.,  20., -10.])"
      ]
     },
     "execution_count": 102,
     "metadata": {},
     "output_type": "execute_result"
    }
   ],
   "source": [
    "rot_st = st.Rotation.from_matrix(mat_st)\n",
    "rot_st.as_euler('ZYX', degrees= True)"
   ]
  }
 ],
 "metadata": {
  "kernelspec": {
   "display_name": ".venv",
   "language": "python",
   "name": "python3"
  },
  "language_info": {
   "codemirror_mode": {
    "name": "ipython",
    "version": 3
   },
   "file_extension": ".py",
   "mimetype": "text/x-python",
   "name": "python",
   "nbconvert_exporter": "python",
   "pygments_lexer": "ipython3",
   "version": "3.11.9"
  }
 },
 "nbformat": 4,
 "nbformat_minor": 2
}
