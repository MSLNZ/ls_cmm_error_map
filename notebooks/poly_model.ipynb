{
 "cells": [
  {
   "cell_type": "markdown",
   "metadata": {},
   "source": [
    "# Poly model\n",
    "Working on a version of `design_linear.py` that takes a numpy  Polynomial class (or a list of coefficients) instead of a single value to apply linaerly as m * x + 0.0"
   ]
  },
  {
   "cell_type": "code",
   "execution_count": 47,
   "metadata": {},
   "outputs": [],
   "source": [
    "import numpy as np\n",
    "import cmm_error_map.design_poly as designp\n",
    "import cmm_error_map.design_linear as designl\n",
    "import cmm_error_map.data_cmpts as dc\n",
    "import cmm_error_map.config as cf"
   ]
  },
  {
   "cell_type": "code",
   "execution_count": 19,
   "metadata": {},
   "outputs": [],
   "source": [
    "model = dc.model_parameters_test.copy()\n",
    "model_poly = {key: [0.0, value] for key, value in model.items()}"
   ]
  },
  {
   "cell_type": "code",
   "execution_count": 21,
   "metadata": {},
   "outputs": [],
   "source": [
    "xyz_in = np.array([10.0, 20.0, 30.0])\n",
    "xyzt = np.array([0.0, 0.0, -250.0])"
   ]
  },
  {
   "cell_type": "code",
   "execution_count": 24,
   "metadata": {},
   "outputs": [
    {
     "data": {
      "text/plain": [
       "{'Txx': 0.000133,\n",
       " 'Txy': 0.0,\n",
       " 'Txz': 0.0,\n",
       " 'Tyx': -0.000224,\n",
       " 'Tyy': -0.00010180000000000001,\n",
       " 'Tyz': 0.0,\n",
       " 'Tzx': 0.00078,\n",
       " 'Tzy': 0.000138,\n",
       " 'Tzz': 1.002e-06,\n",
       " 'Rxx': 7.489999999999999e-08,\n",
       " 'Rxy': 1.5399999999999998e-07,\n",
       " 'Rxz': 5e-08,\n",
       " 'Ryx': -9.16e-08,\n",
       " 'Ryy': -2.86e-07,\n",
       " 'Ryz': 4.3800000000000003e-07,\n",
       " 'Rzx': 7.47e-08,\n",
       " 'Rzy': -2.382e-08,\n",
       " 'Rzz': 1.434e-06,\n",
       " 'Wxy': 0.0,\n",
       " 'Wxz': 0.0,\n",
       " 'Wyz': 0.0}"
      ]
     },
     "execution_count": 24,
     "metadata": {},
     "output_type": "execute_result"
    }
   ],
   "source": [
    "designl.linear_dependency(xyz_in, model)"
   ]
  },
  {
   "cell_type": "code",
   "execution_count": 27,
   "metadata": {},
   "outputs": [
    {
     "data": {
      "text/plain": [
       "{'Txx': 0.000133,\n",
       " 'Txy': 0.0,\n",
       " 'Txz': 0.0,\n",
       " 'Tyx': -0.000224,\n",
       " 'Tyy': -0.00010180000000000001,\n",
       " 'Tyz': 0.0,\n",
       " 'Tzx': 0.00078,\n",
       " 'Tzy': 0.000138,\n",
       " 'Tzz': 1.002e-06,\n",
       " 'Rxx': 7.489999999999999e-08,\n",
       " 'Rxy': 1.5399999999999998e-07,\n",
       " 'Rxz': 5e-08,\n",
       " 'Ryx': -9.16e-08,\n",
       " 'Ryy': -2.86e-07,\n",
       " 'Ryz': 4.3800000000000003e-07,\n",
       " 'Rzx': 7.47e-08,\n",
       " 'Rzy': -2.382e-08,\n",
       " 'Rzz': 1.434e-06,\n",
       " 'Wxy': 0.0,\n",
       " 'Wxz': 0.0,\n",
       " 'Wyz': 0.0}"
      ]
     },
     "execution_count": 27,
     "metadata": {},
     "output_type": "execute_result"
    }
   ],
   "source": [
    "designp.poly_dependency(xyz_in, model)"
   ]
  },
  {
   "cell_type": "code",
   "execution_count": 28,
   "metadata": {},
   "outputs": [
    {
     "data": {
      "text/plain": [
       "array([7.22994912e-04, 5.17014183e-05, 9.60117688e-07])"
      ]
     },
     "execution_count": 28,
     "metadata": {},
     "output_type": "execute_result"
    }
   ],
   "source": [
    "designp.model_point(xyz_in, xyzt, model_poly)"
   ]
  },
  {
   "cell_type": "code",
   "execution_count": 30,
   "metadata": {},
   "outputs": [
    {
     "data": {
      "text/plain": [
       "array([7.22994912e-04, 5.17014183e-05, 9.60117688e-07])"
      ]
     },
     "execution_count": 30,
     "metadata": {},
     "output_type": "execute_result"
    }
   ],
   "source": [
    "designp.model_point(xyz_in, xyzt, model)"
   ]
  },
  {
   "cell_type": "code",
   "execution_count": 31,
   "metadata": {},
   "outputs": [
    {
     "data": {
      "text/plain": [
       "array([7.22994912e-04, 5.17014183e-05, 9.60117688e-07])"
      ]
     },
     "execution_count": 31,
     "metadata": {},
     "output_type": "execute_result"
    }
   ],
   "source": [
    "designl.linear_model_point(xyz_in, xyzt, model)"
   ]
  },
  {
   "cell_type": "code",
   "execution_count": null,
   "metadata": {},
   "outputs": [
    {
     "data": {
      "text/plain": [
       "{'Txx': [0.0, 1.33e-05],\n",
       " 'Txy': [0.0, 0.0],\n",
       " 'Txz': [0.0, 0.0],\n",
       " 'Tyx': [0.0, -1.12e-05],\n",
       " 'Tyy': [0.0, -5.09e-06],\n",
       " 'Tyz': [0.0, 0.0],\n",
       " 'Tzx': [0.0, 2.6e-05],\n",
       " 'Tzy': [0.0, 4.6e-06],\n",
       " 'Tzz': [0.0, 3.34e-08],\n",
       " 'Rxx': [0.0, 7.49e-09],\n",
       " 'Rxy': [0.0, 1.54e-08],\n",
       " 'Rxz': [0.0, 5e-09],\n",
       " 'Ryx': [0.0, -4.58e-09],\n",
       " 'Ryy': [0.0, -1.43e-08],\n",
       " 'Ryz': [0.0, 2.19e-08],\n",
       " 'Rzx': [0.0, 2.49e-09],\n",
       " 'Rzy': [0.0, -7.94e-10],\n",
       " 'Rzz': [0.0, 4.78e-08],\n",
       " 'Wxy': [0.0, 0.0],\n",
       " 'Wxz': [0.0, 0.0],\n",
       " 'Wyz': [0.0, 0.0]}"
      ]
     },
     "execution_count": 20,
     "metadata": {},
     "output_type": "execute_result"
    }
   ],
   "source": [
    "model_params = model_poly\n",
    "coeffs = {\n",
    "    key: value if isinstance(value, list) else [0.0, value]\n",
    "    for key, value in model_params.items()\n",
    "}\n",
    "coeffs"
   ]
  },
  {
   "cell_type": "markdown",
   "metadata": {},
   "source": [
    "## profiling\n",
    "`design_poly.poly_dependency`"
   ]
  },
  {
   "cell_type": "code",
   "execution_count": 32,
   "metadata": {},
   "outputs": [],
   "source": [
    "from numpy.polynomial import Polynomial"
   ]
  },
  {
   "cell_type": "code",
   "execution_count": 34,
   "metadata": {},
   "outputs": [
    {
     "name": "stdout",
     "output_type": "stream",
     "text": [
      "The line_profiler extension is already loaded. To reload it, use:\n",
      "  %reload_ext line_profiler\n"
     ]
    }
   ],
   "source": [
    "%load_ext line_profiler"
   ]
  },
  {
   "cell_type": "code",
   "execution_count": 36,
   "metadata": {},
   "outputs": [],
   "source": [
    "def pd1(\n",
    "    xyz: np.ndarray,\n",
    "    model_params: dict[str, float | list[float]],\n",
    ") -> dict[str, list[float]]:\n",
    "    \"\"\"\n",
    "    if model params[key] is a single value return a linear dependent\n",
    "    create a polynomial 0.0 * value * xyz[dependent_axis], that is\n",
    "    parameter * axis position value for the  axis the parameter is dependent on\n",
    "    if model params[key] is a list of values\n",
    "    calculate a polynomial form these coeficients and return\n",
    "    the polnominal evaluated at the axis value for the dependent axis\n",
    "    \"\"\"\n",
    "    x, y, z = xyz\n",
    "    ld_dict = {\n",
    "        \"Txx\": x,\n",
    "        \"Txy\": x,\n",
    "        \"Txz\": x,\n",
    "        \"Tyx\": y,\n",
    "        \"Tyy\": y,\n",
    "        \"Tyz\": y,\n",
    "        \"Tzx\": z,\n",
    "        \"Tzy\": z,\n",
    "        \"Tzz\": z,\n",
    "        \"Rxx\": x,\n",
    "        \"Rxy\": x,\n",
    "        \"Rxz\": x,\n",
    "        \"Ryx\": y,\n",
    "        \"Ryy\": y,\n",
    "        \"Ryz\": y,\n",
    "        \"Rzx\": z,\n",
    "        \"Rzy\": z,\n",
    "        \"Rzz\": z,\n",
    "        \"Wxy\": x,\n",
    "        \"Wxz\": y,\n",
    "        \"Wyz\": z,\n",
    "    }\n",
    "    # pl = {}\n",
    "    # for key, value in model_params.items():\n",
    "    #     if isinstance(value, list):\n",
    "    #         poly = Polynomial(value)\n",
    "    #     else:\n",
    "    #         poly = Polynomial([0.0, value])\n",
    "    #     pl[key] = poly(ld_dict[key])\n",
    "    coeffs = {\n",
    "        key: value if isinstance(value, list) else [0.0, value]\n",
    "        for key, value in model_params.items()\n",
    "    }\n",
    "    pl = {key: Polynomial(coeffs[key])(ld_dict[key]) for key in model_params}\n",
    "    return pl"
   ]
  },
  {
   "cell_type": "code",
   "execution_count": 37,
   "metadata": {},
   "outputs": [
    {
     "name": "stdout",
     "output_type": "stream",
     "text": [
      "Timer unit: 1e-09 s\n",
      "\n",
      "Total time: 0.00079638 s\n",
      "File: /tmp/ipykernel_21621/1854337976.py\n",
      "Function: pd1 at line 1\n",
      "\n",
      "Line #      Hits         Time  Per Hit   % Time  Line Contents\n",
      "==============================================================\n",
      "     1                                           def pd1(\n",
      "     2                                               xyz: np.ndarray,\n",
      "     3                                               model_params: dict[str, float | list[float]],\n",
      "     4                                           ) -> dict[str, list[float]]:\n",
      "     5                                               \"\"\"\n",
      "     6                                               if model params[key] is a single value return a linear dependent\n",
      "     7                                               create a polynomial 0.0 * value * xyz[dependent_axis], that is\n",
      "     8                                               parameter * axis position value for the  axis the parameter is dependent on\n",
      "     9                                               if model params[key] is a list of values\n",
      "    10                                               calculate a polynomial form these coeficients and return\n",
      "    11                                               the polnominal evaluated at the axis value for the dependent axis\n",
      "    12                                               \"\"\"\n",
      "    13         1       7832.0   7832.0      1.0      x, y, z = xyz\n",
      "    14        19      11766.0    619.3      1.5      ld_dict = {\n",
      "    15         1        262.0    262.0      0.0          \"Txx\": x,\n",
      "    16         1        196.0    196.0      0.0          \"Txy\": x,\n",
      "    17         1        180.0    180.0      0.0          \"Txz\": x,\n",
      "    18         1        170.0    170.0      0.0          \"Tyx\": y,\n",
      "    19         1        169.0    169.0      0.0          \"Tyy\": y,\n",
      "    20         1        168.0    168.0      0.0          \"Tyz\": y,\n",
      "    21         1        183.0    183.0      0.0          \"Tzx\": z,\n",
      "    22         1        173.0    173.0      0.0          \"Tzy\": z,\n",
      "    23         1        167.0    167.0      0.0          \"Tzz\": z,\n",
      "    24         1        167.0    167.0      0.0          \"Rxx\": x,\n",
      "    25         1        167.0    167.0      0.0          \"Rxy\": x,\n",
      "    26         1        171.0    171.0      0.0          \"Rxz\": x,\n",
      "    27         1        173.0    173.0      0.0          \"Ryx\": y,\n",
      "    28         1        172.0    172.0      0.0          \"Ryy\": y,\n",
      "    29         1        185.0    185.0      0.0          \"Ryz\": y,\n",
      "    30         1        189.0    189.0      0.0          \"Rzx\": z,\n",
      "    31         1        191.0    191.0      0.0          \"Rzy\": z,\n",
      "    32         1        208.0    208.0      0.0          \"Rzz\": z,\n",
      "    33         1        174.0    174.0      0.0          \"Wxy\": x,\n",
      "    34         1        193.0    193.0      0.0          \"Wxz\": y,\n",
      "    35         1        172.0    172.0      0.0          \"Wyz\": z,\n",
      "    36                                               }\n",
      "    37                                               # pl = {}\n",
      "    38                                               # for key, value in model_params.items():\n",
      "    39                                               #     if isinstance(value, list):\n",
      "    40                                               #         poly = Polynomial(value)\n",
      "    41                                               #     else:\n",
      "    42                                               #         poly = Polynomial([0.0, value])\n",
      "    43                                               #     pl[key] = poly(ld_dict[key])\n",
      "    44         2      26075.0  13037.5      3.3      coeffs = {\n",
      "    45                                                   key: value if isinstance(value, list) else [0.0, value]\n",
      "    46         1       1047.0   1047.0      0.1          for key, value in model_params.items()\n",
      "    47                                               }\n",
      "    48         1     745537.0 745537.0     93.6      pl = {key: Polynomial(coeffs[key])(ld_dict[key]) for key in model_params}\n",
      "    49         1        293.0    293.0      0.0      return pl"
     ]
    }
   ],
   "source": [
    "%lprun -f pd1 pd1(xyz_in, model)"
   ]
  },
  {
   "cell_type": "code",
   "execution_count": 38,
   "metadata": {},
   "outputs": [],
   "source": [
    "def pd2(\n",
    "    xyz: np.ndarray,\n",
    "    model_params: dict[str, float | list[float]],\n",
    ") -> dict[str, list[float]]:\n",
    "    \"\"\"\n",
    "    if model params[key] is a single value return a linear dependent\n",
    "    create a polynomial 0.0 * value * xyz[dependent_axis], that is\n",
    "    parameter * axis position value for the  axis the parameter is dependent on\n",
    "    if model params[key] is a list of values\n",
    "    calculate a polynomial form these coeficients and return\n",
    "    the polnominal evaluated at the axis value for the dependent axis\n",
    "    \"\"\"\n",
    "    x, y, z = xyz\n",
    "    ld_dict = {\n",
    "        \"Txx\": x,\n",
    "        \"Txy\": x,\n",
    "        \"Txz\": x,\n",
    "        \"Tyx\": y,\n",
    "        \"Tyy\": y,\n",
    "        \"Tyz\": y,\n",
    "        \"Tzx\": z,\n",
    "        \"Tzy\": z,\n",
    "        \"Tzz\": z,\n",
    "        \"Rxx\": x,\n",
    "        \"Rxy\": x,\n",
    "        \"Rxz\": x,\n",
    "        \"Ryx\": y,\n",
    "        \"Ryy\": y,\n",
    "        \"Ryz\": y,\n",
    "        \"Rzx\": z,\n",
    "        \"Rzy\": z,\n",
    "        \"Rzz\": z,\n",
    "        \"Wxy\": x,\n",
    "        \"Wxz\": y,\n",
    "        \"Wyz\": z,\n",
    "    }\n",
    "    # pl = {}\n",
    "    # for key, value in model_params.items():\n",
    "    #     if isinstance(value, list):\n",
    "    #         poly = Polynomial(value)\n",
    "    #     else:\n",
    "    #         poly = Polynomial([0.0, value])\n",
    "    #     pl[key] = poly(ld_dict[key])\n",
    "    coeffs = {\n",
    "        key: value if isinstance(value, list) else [0.0, value]\n",
    "        for key, value in model_params.items()\n",
    "    }\n",
    "    polys = {key: Polynomial(coeffs[key]) for key in model_params}\n",
    "    pl = {key: polys[key](ld_dict[key]) for key in model_params}\n",
    "    return pl"
   ]
  },
  {
   "cell_type": "code",
   "execution_count": 39,
   "metadata": {},
   "outputs": [
    {
     "name": "stdout",
     "output_type": "stream",
     "text": [
      "Timer unit: 1e-09 s\n",
      "\n",
      "Total time: 0.00121501 s\n",
      "File: /tmp/ipykernel_21621/1801258127.py\n",
      "Function: pd2 at line 1\n",
      "\n",
      "Line #      Hits         Time  Per Hit   % Time  Line Contents\n",
      "==============================================================\n",
      "     1                                           def pd2(\n",
      "     2                                               xyz: np.ndarray,\n",
      "     3                                               model_params: dict[str, float | list[float]],\n",
      "     4                                           ) -> dict[str, list[float]]:\n",
      "     5                                               \"\"\"\n",
      "     6                                               if model params[key] is a single value return a linear dependent\n",
      "     7                                               create a polynomial 0.0 * value * xyz[dependent_axis], that is\n",
      "     8                                               parameter * axis position value for the  axis the parameter is dependent on\n",
      "     9                                               if model params[key] is a list of values\n",
      "    10                                               calculate a polynomial form these coeficients and return\n",
      "    11                                               the polnominal evaluated at the axis value for the dependent axis\n",
      "    12                                               \"\"\"\n",
      "    13         1       8037.0   8037.0      0.7      x, y, z = xyz\n",
      "    14        19      10977.0    577.7      0.9      ld_dict = {\n",
      "    15         1        379.0    379.0      0.0          \"Txx\": x,\n",
      "    16         1        361.0    361.0      0.0          \"Txy\": x,\n",
      "    17         1        347.0    347.0      0.0          \"Txz\": x,\n",
      "    18         1        453.0    453.0      0.0          \"Tyx\": y,\n",
      "    19         1        158.0    158.0      0.0          \"Tyy\": y,\n",
      "    20         1        137.0    137.0      0.0          \"Tyz\": y,\n",
      "    21         1        141.0    141.0      0.0          \"Tzx\": z,\n",
      "    22         1        141.0    141.0      0.0          \"Tzy\": z,\n",
      "    23         1        135.0    135.0      0.0          \"Tzz\": z,\n",
      "    24         1        136.0    136.0      0.0          \"Rxx\": x,\n",
      "    25         1        133.0    133.0      0.0          \"Rxy\": x,\n",
      "    26         1        136.0    136.0      0.0          \"Rxz\": x,\n",
      "    27         1        164.0    164.0      0.0          \"Ryx\": y,\n",
      "    28         1        136.0    136.0      0.0          \"Ryy\": y,\n",
      "    29         1        140.0    140.0      0.0          \"Ryz\": y,\n",
      "    30         1        156.0    156.0      0.0          \"Rzx\": z,\n",
      "    31         1        156.0    156.0      0.0          \"Rzy\": z,\n",
      "    32         1        160.0    160.0      0.0          \"Rzz\": z,\n",
      "    33         1        143.0    143.0      0.0          \"Wxy\": x,\n",
      "    34         1        148.0    148.0      0.0          \"Wxz\": y,\n",
      "    35         1        155.0    155.0      0.0          \"Wyz\": z,\n",
      "    36                                               }\n",
      "    37                                               # pl = {}\n",
      "    38                                               # for key, value in model_params.items():\n",
      "    39                                               #     if isinstance(value, list):\n",
      "    40                                               #         poly = Polynomial(value)\n",
      "    41                                               #     else:\n",
      "    42                                               #         poly = Polynomial([0.0, value])\n",
      "    43                                               #     pl[key] = poly(ld_dict[key])\n",
      "    44         2      21497.0  10748.5      1.8      coeffs = {\n",
      "    45                                                   key: value if isinstance(value, list) else [0.0, value]\n",
      "    46         1        964.0    964.0      0.1          for key, value in model_params.items()\n",
      "    47                                               }\n",
      "    48         1     782233.0 782233.0     64.4      polys = {key: Polynomial(coeffs[key]) for key in model_params}\n",
      "    49         1     386612.0 386612.0     31.8      pl = {key: polys[key](ld_dict[key]) for key in model_params}\n",
      "    50         1        677.0    677.0      0.1      return pl"
     ]
    }
   ],
   "source": [
    "%lprun -f pd2 pd2(xyz_in, model)"
   ]
  },
  {
   "cell_type": "code",
   "execution_count": 40,
   "metadata": {},
   "outputs": [
    {
     "name": "stdout",
     "output_type": "stream",
     "text": [
      "251 μs ± 10.1 μs per loop (mean ± std. dev. of 7 runs, 1,000 loops each)\n"
     ]
    }
   ],
   "source": [
    "%timeit pd2(xyz_in, model)"
   ]
  },
  {
   "cell_type": "code",
   "execution_count": 41,
   "metadata": {},
   "outputs": [
    {
     "name": "stdout",
     "output_type": "stream",
     "text": [
      " "
     ]
    },
    {
     "name": "stdout",
     "output_type": "stream",
     "text": [
      "         659 function calls in 0.002 seconds\n",
      "\n",
      "   Ordered by: internal time\n",
      "\n",
      "   ncalls  tottime  percall  cumtime  percall filename:lineno(function)\n",
      "       63    0.000    0.000    0.000    0.000 {built-in method numpy.array}\n",
      "       21    0.000    0.000    0.001    0.000 polyutils.py:84(as_series)\n",
      "        1    0.000    0.000    0.002    0.002 {built-in method builtins.exec}\n",
      "       21    0.000    0.000    0.000    0.000 polynomial.py:664(polyval)\n",
      "       21    0.000    0.000    0.000    0.000 type_check.py:682(common_type)\n",
      "       21    0.000    0.000    0.001    0.000 _polybase.py:304(__init__)\n",
      "       21    0.000    0.000    0.000    0.000 polyutils.py:260(mapparms)\n",
      "       21    0.000    0.000    0.000    0.000 _polybase.py:510(__call__)\n",
      "        1    0.000    0.000    0.001    0.001 1801258127.py:48(<dictcomp>)\n",
      "        1    0.000    0.000    0.001    0.001 1801258127.py:1(pd2)\n",
      "       42    0.000    0.000    0.000    0.000 polyutils.py:142(<genexpr>)\n",
      "        1    0.000    0.000    0.000    0.000 1801258127.py:49(<dictcomp>)\n",
      "       42    0.000    0.000    0.000    0.000 {built-in method builtins.any}\n",
      "        1    0.000    0.000    0.001    0.001 <string>:1(<module>)\n",
      "       21    0.000    0.000    0.000    0.000 type_check.py:302(iscomplexobj)\n",
      "       21    0.000    0.000    0.000    0.000 polyutils.py:134(<listcomp>)\n",
      "       21    0.000    0.000    0.000    0.000 polyutils.py:156(<listcomp>)\n",
      "       63    0.000    0.000    0.000    0.000 {built-in method builtins.isinstance}\n",
      "       21    0.000    0.000    0.000    0.000 polyutils.py:135(<listcomp>)\n",
      "        1    0.000    0.000    0.000    0.000 1801258127.py:44(<dictcomp>)\n",
      "       42    0.000    0.000    0.000    0.000 polyutils.py:137(<genexpr>)\n",
      "       21    0.000    0.000    0.000    0.000 {built-in method builtins.min}\n",
      "       21    0.000    0.000    0.000    0.000 {built-in method builtins.max}\n",
      "       42    0.000    0.000    0.000    0.000 {built-in method builtins.issubclass}\n",
      "       21    0.000    0.000    0.000    0.000 {method 'get' of 'dict' objects}\n",
      "       21    0.000    0.000    0.000    0.000 type_check.py:205(_is_type_dispatcher)\n",
      "       21    0.000    0.000    0.000    0.000 {method 'isidentifier' of 'str' objects}\n",
      "       21    0.000    0.000    0.000    0.000 {built-in method builtins.len}\n",
      "        1    0.000    0.000    0.000    0.000 {method 'disable' of '_lsprof.Profiler' objects}\n",
      "       21    0.000    0.000    0.000    0.000 type_check.py:678(_common_type_dispatcher)\n",
      "        1    0.000    0.000    0.000    0.000 {method 'items' of 'dict' objects}"
     ]
    }
   ],
   "source": [
    "%prun pd2(xyz_in, model)"
   ]
  },
  {
   "cell_type": "code",
   "execution_count": 42,
   "metadata": {},
   "outputs": [
    {
     "name": "stdout",
     "output_type": "stream",
     "text": [
      "6.09 μs ± 139 ns per loop (mean ± std. dev. of 7 runs, 100,000 loops each)\n"
     ]
    }
   ],
   "source": [
    "%timeit designl.linear_dependency(xyz_in, model)"
   ]
  },
  {
   "cell_type": "code",
   "execution_count": 44,
   "metadata": {},
   "outputs": [],
   "source": [
    "def pd3(\n",
    "    xyz: np.ndarray,\n",
    "    model_params: dict[str, float | list[float]],\n",
    ") -> dict[str, list[float]]:\n",
    "    \"\"\"\n",
    "    if model params[key] is a single value return a linear dependent\n",
    "    create a polynomial 0.0 * value * xyz[dependent_axis], that is\n",
    "    parameter * axis position value for the  axis the parameter is dependent on\n",
    "    if model params[key] is a list of values\n",
    "    calculate a polynomial form these coeficients and return\n",
    "    the polnominal evaluated at the axis value for the dependent axis\n",
    "    \"\"\"\n",
    "    x, y, z = xyz\n",
    "    ld_dict = {\n",
    "        \"Txx\": x,\n",
    "        \"Txy\": x,\n",
    "        \"Txz\": x,\n",
    "        \"Tyx\": y,\n",
    "        \"Tyy\": y,\n",
    "        \"Tyz\": y,\n",
    "        \"Tzx\": z,\n",
    "        \"Tzy\": z,\n",
    "        \"Tzz\": z,\n",
    "        \"Rxx\": x,\n",
    "        \"Rxy\": x,\n",
    "        \"Rxz\": x,\n",
    "        \"Ryx\": y,\n",
    "        \"Ryy\": y,\n",
    "        \"Ryz\": y,\n",
    "        \"Rzx\": z,\n",
    "        \"Rzy\": z,\n",
    "        \"Rzz\": z,\n",
    "        \"Wxy\": x,\n",
    "        \"Wxz\": y,\n",
    "        \"Wyz\": z,\n",
    "    }\n",
    "    pl = {}\n",
    "    for key, value in model_params.items():\n",
    "        if isinstance(value, list):\n",
    "            poly = Polynomial(value)\n",
    "        else:\n",
    "            poly = Polynomial([0.0, value])\n",
    "        pl[key] = poly(ld_dict[key])\n",
    "\n",
    "    return pl"
   ]
  },
  {
   "cell_type": "code",
   "execution_count": 45,
   "metadata": {},
   "outputs": [
    {
     "name": "stdout",
     "output_type": "stream",
     "text": [
      "297 μs ± 16.3 μs per loop (mean ± std. dev. of 7 runs, 1,000 loops each)\n"
     ]
    }
   ],
   "source": [
    "%timeit pd3(xyz_in, model)"
   ]
  },
  {
   "cell_type": "code",
   "execution_count": 46,
   "metadata": {},
   "outputs": [
    {
     "name": "stdout",
     "output_type": "stream",
     "text": [
      "Timer unit: 1e-09 s\n",
      "\n",
      "Total time: 0.00062353 s\n",
      "File: /tmp/ipykernel_21621/397047319.py\n",
      "Function: pd3 at line 1\n",
      "\n",
      "Line #      Hits         Time  Per Hit   % Time  Line Contents\n",
      "==============================================================\n",
      "     1                                           def pd3(\n",
      "     2                                               xyz: np.ndarray,\n",
      "     3                                               model_params: dict[str, float | list[float]],\n",
      "     4                                           ) -> dict[str, list[float]]:\n",
      "     5                                               \"\"\"\n",
      "     6                                               if model params[key] is a single value return a linear dependent\n",
      "     7                                               create a polynomial 0.0 * value * xyz[dependent_axis], that is\n",
      "     8                                               parameter * axis position value for the  axis the parameter is dependent on\n",
      "     9                                               if model params[key] is a list of values\n",
      "    10                                               calculate a polynomial form these coeficients and return\n",
      "    11                                               the polnominal evaluated at the axis value for the dependent axis\n",
      "    12                                               \"\"\"\n",
      "    13         1       7157.0   7157.0      1.1      x, y, z = xyz\n",
      "    14        19       9556.0    502.9      1.5      ld_dict = {\n",
      "    15         1        209.0    209.0      0.0          \"Txx\": x,\n",
      "    16         1        168.0    168.0      0.0          \"Txy\": x,\n",
      "    17         1        148.0    148.0      0.0          \"Txz\": x,\n",
      "    18         1        142.0    142.0      0.0          \"Tyx\": y,\n",
      "    19         1        141.0    141.0      0.0          \"Tyy\": y,\n",
      "    20         1        141.0    141.0      0.0          \"Tyz\": y,\n",
      "    21         1        164.0    164.0      0.0          \"Tzx\": z,\n",
      "    22         1        155.0    155.0      0.0          \"Tzy\": z,\n",
      "    23         1        141.0    141.0      0.0          \"Tzz\": z,\n",
      "    24         1        139.0    139.0      0.0          \"Rxx\": x,\n",
      "    25         1        154.0    154.0      0.0          \"Rxy\": x,\n",
      "    26         1        147.0    147.0      0.0          \"Rxz\": x,\n",
      "    27         1        144.0    144.0      0.0          \"Ryx\": y,\n",
      "    28         1        147.0    147.0      0.0          \"Ryy\": y,\n",
      "    29         1        146.0    146.0      0.0          \"Ryz\": y,\n",
      "    30         1        160.0    160.0      0.0          \"Rzx\": z,\n",
      "    31         1        156.0    156.0      0.0          \"Rzy\": z,\n",
      "    32         1        161.0    161.0      0.0          \"Rzz\": z,\n",
      "    33         1        172.0    172.0      0.0          \"Wxy\": x,\n",
      "    34         1        167.0    167.0      0.0          \"Wxz\": y,\n",
      "    35         1        147.0    147.0      0.0          \"Wyz\": z,\n",
      "    36                                               }\n",
      "    37         1        231.0    231.0      0.0      pl = {}\n",
      "    38        22      10553.0    479.7      1.7      for key, value in model_params.items():\n",
      "    39        21      10464.0    498.3      1.7          if isinstance(value, list):\n",
      "    40                                                       poly = Polynomial(value)\n",
      "    41                                                   else:\n",
      "    42        21     395160.0  18817.1     63.4              poly = Polynomial([0.0, value])\n",
      "    43        21     186971.0   8903.4     30.0          pl[key] = poly(ld_dict[key])\n",
      "    44                                           \n",
      "    45         1        189.0    189.0      0.0      return pl"
     ]
    }
   ],
   "source": [
    "%lprun -f pd3 pd3(xyz_in, model)"
   ]
  },
  {
   "cell_type": "code",
   "execution_count": null,
   "metadata": {},
   "outputs": [],
   "source": [
    "ballspacing = 133.0\n",
    "x0, y0, z0 = 250.0, 50.0, 50.0\n",
    "# XY plane\n",
    "transform_mat_xy = dc.matrix_from_vectors([x0, y0, z0], [0.0, 0.0, 0.0])\n",
    "xt, yt, zt = 0.0, 0.0, -243.4852\n",
    "prb_xy = dc.Probe(title=\"P0\", name=\"p0\", length=np.array([xt, yt, zt]))\n",
    "mmt_xy = dc.Measurement(\n",
    "    title=\"Plate XY\",\n",
    "    name=\"mmt_00\",\n",
    "    artefact=cf.artefact_models[\"KOBA 0620\"],\n",
    "    transform_mat=transform_mat_xy,\n",
    "    probe=prb_xy,\n",
    "    cmm_nominal=None,\n",
    "    cmm_dev=None,\n",
    "    mmt_nominal=None,\n",
    "    mmt_dev=None,\n",
    ")"
   ]
  },
  {
   "cell_type": "code",
   "execution_count": null,
   "metadata": {},
   "outputs": [],
   "source": [
    "cmm_dev = designl.linear_model_matrix(mmt.cmm_nominal.T, mmt.probe.length, model)"
   ]
  }
 ],
 "metadata": {
  "kernelspec": {
   "display_name": ".venv",
   "language": "python",
   "name": "python3"
  },
  "language_info": {
   "codemirror_mode": {
    "name": "ipython",
    "version": 3
   },
   "file_extension": ".py",
   "mimetype": "text/x-python",
   "name": "python",
   "nbconvert_exporter": "python",
   "pygments_lexer": "ipython3",
   "version": "3.11.9"
  }
 },
 "nbformat": 4,
 "nbformat_minor": 2
}
