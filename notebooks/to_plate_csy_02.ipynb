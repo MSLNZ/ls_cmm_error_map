{
 "cells": [
  {
   "cell_type": "markdown",
   "metadata": {},
   "source": [
    "# to plate CSY\n",
    "\n",
    "looking at functiosn to transform from CMM CSY to plate CSY as they differ between new and old code."
   ]
  },
  {
   "cell_type": "code",
   "execution_count": 2,
   "metadata": {},
   "outputs": [],
   "source": [
    "import numpy as np\n",
    "\n",
    "import cmm_error_map.config.config as cf\n",
    "import cmm_error_map.data_cmpts as dc\n",
    "import cmm_error_map.mpl_2014.design_matrix_linear as design_old\n",
    "from cmm_error_map.mpl_2014.ballplate_plots import single_grid_plot"
   ]
  },
  {
   "cell_type": "code",
   "execution_count": 3,
   "metadata": {},
   "outputs": [],
   "source": [
    "# build matrix directly\n",
    "def cmm_to_plate_csy_matrix(mmt):\n",
    "    \"\"\"\n",
    "    transform cmm_deform to plate CSY\n",
    "\n",
    "    origin point ball 0\n",
    "    z-plane through balls 0, 4, 20\n",
    "    x-axis through balls 0, 4\n",
    "    \"\"\"\n",
    "    cmm_deform = mmt.cmm_nominal + mmt.cmm_dev\n",
    "    nx, ny = mmt.artefact.nballs\n",
    "    xindex = nx - 1\n",
    "    yindex = nx * (ny - 1)\n",
    "    xyz0 = cmm_deform[:, 0]\n",
    "    vx = cmm_deform[:, xindex] - xyz0\n",
    "    vy = cmm_deform[:, yindex] - xyz0\n",
    "\n",
    "    vx = vx / np.linalg.norm(vx)\n",
    "    vy = vy / np.linalg.norm(vy)\n",
    "    vz = np.cross(vx, vy)\n",
    "    vz = vz / np.linalg.norm(vz)\n",
    "\n",
    "    mat = np.array(\n",
    "        [\n",
    "            [vx[0], vy[0], vz[0], xyz0[0]],\n",
    "            [vx[1], vy[1], vz[1], xyz0[1]],\n",
    "            [vx[2], vy[2], vz[2], xyz0[2]],\n",
    "            [0.0, 0.0, 0.0, 1.0],\n",
    "        ]\n",
    "    )\n",
    "\n",
    "    inv_mat = np.linalg.inv(mat)\n",
    "    cmm_deform1 = np.vstack((cmm_deform, np.ones((1, nx * ny))))\n",
    "    mmt_deform = inv_mat @ cmm_deform1\n",
    "\n",
    "    return mmt_deform[:3, :]"
   ]
  },
  {
   "cell_type": "code",
   "execution_count": 4,
   "metadata": {},
   "outputs": [],
   "source": [
    "def cmm_to_plate_csy(mmt):\n",
    "    \"\"\"\n",
    "    transform cmm_deform to plate CSY\n",
    "\n",
    "    origin point ball 0\n",
    "    z-plane through balls 0, 4, 20\n",
    "    x-axis through balls 0, 4\n",
    "\n",
    "    previous code calculating a matrix directly from axis vectors\n",
    "    suffered from round off errors\n",
    "\n",
    "    2025-01-20 adding extra rotations to zero z values of corners.\n",
    "    \"\"\"\n",
    "\n",
    "    # transfer to plate CSY\n",
    "    cmm_deform = mmt.cmm_nominal + mmt.cmm_dev\n",
    "    cmm_deform1 = np.vstack((cmm_deform, np.ones_like(cmm_deform[0, :])))\n",
    "    XYZp = np.dot(np.linalg.inv(mmt.transform_mat), cmm_deform1)\n",
    "    # subtract ball 1 row from each position\n",
    "    XYZp[:3, :] = XYZp[:3, :] - XYZp[:3, 0:1]\n",
    "    # also rotate about plate z so y=0 for ball 5\n",
    "    ang = -1.0 * np.arctan2(XYZp[1, 4], XYZp[0, 4])\n",
    "    cang = np.cos(ang)\n",
    "    sang = np.sin(ang)\n",
    "    RZ = np.array(\n",
    "        [\n",
    "            [cang, -sang, 0.0, 0.0],\n",
    "            [sang, cang, 0.0, 0.0],\n",
    "            [0.0, 0.0, 1.0, 0.0],\n",
    "            [0.0, 0.0, 0.0, 1.0],\n",
    "        ]\n",
    "    )\n",
    "    XYZp = np.dot(RZ, XYZp)\n",
    "\n",
    "    mmt_deform = XYZp[:3, :]\n",
    "    return mmt_deform"
   ]
  },
  {
   "cell_type": "code",
   "execution_count": 5,
   "metadata": {},
   "outputs": [],
   "source": [
    "def cmm_to_plate_csy_3R(mmt):\n",
    "    \"\"\"\n",
    "    transform cmm_deform to plate CSY\n",
    "\n",
    "    origin point ball 0\n",
    "    z-plane through balls 0, 4, 20\n",
    "    x-axis through balls 0, 4\n",
    "\n",
    "    previous code calculating a matrix directly from axis vectors\n",
    "    suffered from round off errors\n",
    "\n",
    "    2025-01-20 adding extra rotations to zero z values of corners.\n",
    "    \"\"\"\n",
    "\n",
    "    # transfer to plate CSY\n",
    "    cmm_deform = mmt.cmm_nominal + mmt.cmm_dev\n",
    "    cmm_deform1 = np.vstack((cmm_deform, np.ones_like(cmm_deform[0, :])))\n",
    "    XYZp = np.dot(np.linalg.inv(mmt.transform_mat), cmm_deform1)\n",
    "    # subtract ball 1 row from each position\n",
    "    XYZp[:3, :] = XYZp[:3, :] - XYZp[:3, 0:1]\n",
    "    # rotate about plate z so y=0 for ball 5\n",
    "    ang = -1.0 * np.arctan2(XYZp[1, 4], XYZp[0, 4])\n",
    "    cang = np.cos(ang)\n",
    "    sang = np.sin(ang)\n",
    "    RZ = np.array(\n",
    "        [\n",
    "            [cang, -sang, 0.0, 0.0],\n",
    "            [sang, cang, 0.0, 0.0],\n",
    "            [0.0, 0.0, 1.0, 0.0],\n",
    "            [0.0, 0.0, 0.0, 1.0],\n",
    "        ]\n",
    "    )\n",
    "    XYZp = np.dot(RZ, XYZp)\n",
    "\n",
    "    # rotate about plate y so z=0 for ball 5\n",
    "    ang = 1.0 * np.arctan2(XYZp[1, 4], XYZp[2, 4])\n",
    "    cang = np.cos(ang)\n",
    "    sang = np.sin(ang)\n",
    "    RY = np.array(\n",
    "        [\n",
    "            [cang, 0, sang, 0.0],\n",
    "            [0.0, 1.0, 0.0, 0.0],\n",
    "            [-sang, 0.0, cang, 0.0],\n",
    "            [0.0, 0.0, 0.0, 1.0],\n",
    "        ]\n",
    "    )\n",
    "\n",
    "    XYZp = np.dot(RY, XYZp)\n",
    "    mmt_deform = XYZp[:3, :]\n",
    "    return mmt_deform"
   ]
  },
  {
   "cell_type": "code",
   "execution_count": 6,
   "metadata": {},
   "outputs": [],
   "source": [
    "def make_mmts():\n",
    "    \"\"\"\n",
    "    return a dict of dc.Measurement\n",
    "    one for each CMM plane XY, XZ, YZ\n",
    "    \"\"\"\n",
    "    ballspacing = 133.0\n",
    "    x0, y0, z0 = 250.0, 50.0, 50.0\n",
    "    # XY plane\n",
    "    x0xy, y0xy, z0xy = x0, y0, z0\n",
    "    transform_mat_xy = np.array(\n",
    "        [\n",
    "            [1.0, 0.0, 0.0, x0xy],\n",
    "            [0.0, 1.0, 0.0, y0xy],\n",
    "            [0.0, 0.0, 1.0, z0xy],\n",
    "            [0.0, 0.0, 0.0, 1.0],\n",
    "        ]\n",
    "    )\n",
    "\n",
    "    xt, yt, zt = 0.0, 0.0, -243.4852\n",
    "    prb_xy = dc.Probe(title=\"P0\", name=\"p0\", length=np.array([xt, yt, zt]))\n",
    "    mmt_xy = dc.Measurement(\n",
    "        title=\"Plate XY\",\n",
    "        name=\"mmt_00\",\n",
    "        artefact=cf.artefact_models[\"KOBA 0620\"],\n",
    "        transform_mat=transform_mat_xy,\n",
    "        probe=prb_xy,\n",
    "        cmm_nominal=None,\n",
    "        cmm_dev=None,\n",
    "        mmt_nominal=None,\n",
    "        mmt_dev=None,\n",
    "    )\n",
    "    # XZ plane\n",
    "    x0xz, y0xz, z0xz = x0, y0 + 2.0 * ballspacing, z0\n",
    "    transform_mat_xz = np.array(\n",
    "        [\n",
    "            [1.0, 0.0, 0.0, x0xz],\n",
    "            [0.0, 0.0, 1.0, y0xz],\n",
    "            [0.0, 1.0, 0.0, z0xz],\n",
    "            [0.0, 0.0, 0.0, 1.0],\n",
    "        ]\n",
    "    )\n",
    "\n",
    "    xt_xz, yt_xz, zt_xz = 0.0, 130.0, -243.4852\n",
    "    prb_xz = dc.Probe(title=\"PXZ\", name=\"pxz\", length=np.array([xt_xz, yt_xz, zt_xz]))\n",
    "    mmt_xz = dc.Measurement(\n",
    "        title=\"Plate XZ\",\n",
    "        name=\"mmt_01\",\n",
    "        artefact=cf.artefact_models[\"KOBA 0620\"],\n",
    "        transform_mat=transform_mat_xz,\n",
    "        probe=prb_xz,\n",
    "        cmm_nominal=None,\n",
    "        cmm_dev=None,\n",
    "        mmt_nominal=None,\n",
    "        mmt_dev=None,\n",
    "    )\n",
    "    # YZ plane\n",
    "    x0yz, y0yz, z0yz = x0 + 2.0 * ballspacing, y0, z0\n",
    "    transform_mat_yz = np.array(\n",
    "        [\n",
    "            [0.0, 0.0, 1.0, x0yz],\n",
    "            [1.0, 0.0, 0.0, y0yz],\n",
    "            [0.0, 1.0, 0.0, z0yz],\n",
    "            [0.0, 0.0, 0.0, 1.0],\n",
    "        ]\n",
    "    )\n",
    "    xt_yz, yt_yz, zt_yz = 130.0, 0.0, -243.4852\n",
    "    prb_yz = dc.Probe(title=\"PYZ\", name=\"pyz\", length=np.array([xt_yz, yt_yz, zt_yz]))\n",
    "    mmt_yz = dc.Measurement(\n",
    "        title=\"Plate YZ\",\n",
    "        name=\"mmt_02\",\n",
    "        artefact=cf.artefact_models[\"KOBA 0620\"],\n",
    "        transform_mat=transform_mat_yz,\n",
    "        probe=prb_yz,\n",
    "        cmm_nominal=None,\n",
    "        cmm_dev=None,\n",
    "        mmt_nominal=None,\n",
    "        mmt_dev=None,\n",
    "    )\n",
    "\n",
    "    mmts = {\"mmt XY\": mmt_xy, \"mmt XZ\": mmt_xz, \"mmt YZ\": mmt_yz}\n",
    "    return mmts\n",
    "\n",
    "\n",
    "mmt_tests = make_mmts()\n"
   ]
  },
  {
   "cell_type": "code",
   "execution_count": 7,
   "metadata": {},
   "outputs": [],
   "source": [
    "model = dc.model_parameters_test.copy()"
   ]
  },
  {
   "cell_type": "code",
   "execution_count": 8,
   "metadata": {},
   "outputs": [],
   "source": [
    "for mmt in mmt_tests.values():\n",
    "    mmt.recalculate(model, dc.pmm_866.cmm_model)\n"
   ]
  },
  {
   "cell_type": "code",
   "execution_count": 9,
   "metadata": {},
   "outputs": [],
   "source": [
    "mmt_deform_A = cmm_to_plate_csy_matrix(mmt_tests[\"mmt YZ\"])\n",
    "mmt_deform_B = cmm_to_plate_csy(mmt_tests[\"mmt YZ\"])\n",
    "mmt_deform_C = cmm_to_plate_csy_3R(mmt_tests[\"mmt YZ\"])"
   ]
  },
  {
   "cell_type": "code",
   "execution_count": 10,
   "metadata": {},
   "outputs": [
    {
     "data": {
      "text/plain": [
       "(array([7.10542736e-15, 7.10542736e-15, 1.13686838e-13]),\n",
       " array([0., 0., 0.]),\n",
       " array([0., 0., 0.]))"
      ]
     },
     "execution_count": 10,
     "metadata": {},
     "output_type": "execute_result"
    }
   ],
   "source": [
    "mmt_deform_A[:, 0], mmt_deform_B[:, 0], mmt_deform_C[:, 0]"
   ]
  },
  {
   "cell_type": "code",
   "execution_count": 11,
   "metadata": {},
   "outputs": [
    {
     "data": {
      "text/plain": [
       "(array([5.31998335e+02, 7.10542736e-15, 0.00000000e+00]),\n",
       " array([ 5.31998335e+02, -1.04371470e-19, -5.85901992e-03]),\n",
       " array([-5.31998335e+02, -1.04371470e-19,  5.85901992e-03]))"
      ]
     },
     "execution_count": 11,
     "metadata": {},
     "output_type": "execute_result"
    }
   ],
   "source": [
    "mmt_deform_A[:, 4], mmt_deform_B[:, 4], mmt_deform_C[:, 4]"
   ]
  },
  {
   "cell_type": "code",
   "execution_count": 12,
   "metadata": {},
   "outputs": [
    {
     "data": {
      "text/plain": [
       "(array([7.10542736e-15, 5.32000073e+02, 1.13686838e-13]),\n",
       " array([7.18651456e-03, 5.32000073e+02, 1.77818230e-02]))"
      ]
     },
     "execution_count": 12,
     "metadata": {},
     "output_type": "execute_result"
    }
   ],
   "source": [
    "mmt_deform_A[:, 20], mmt_deform_B[:, 20]"
   ]
  },
  {
   "cell_type": "code",
   "execution_count": 13,
   "metadata": {},
   "outputs": [
    {
     "data": {
      "image/png": "[encoded data removed]",
      "text/plain": [
       "<Figure size 640x480 with 1 Axes>"
      ]
     },
     "metadata": {},
     "output_type": "display_data"
    }
   ],
   "source": [
    "mmt_dev_A = mmt_deform_A - mmt_tests[\"mmt YZ\"].mmt_nominal\n",
    "single_grid_plot(mmt_dev_A[:-1, :].T, 10000);"
   ]
  },
  {
   "cell_type": "code",
   "execution_count": 14,
   "metadata": {},
   "outputs": [
    {
     "data": {
      "image/png": "[encoded data removed]",
      "text/plain": [
       "<Figure size 640x480 with 1 Axes>"
      ]
     },
     "metadata": {},
     "output_type": "display_data"
    }
   ],
   "source": [
    "mmt_dev_B = mmt_deform_B - mmt_tests[\"mmt YZ\"].mmt_nominal\n",
    "single_grid_plot(mmt_dev_B[:-1, :].T, 10000);"
   ]
  },
  {
   "cell_type": "code",
   "execution_count": 15,
   "metadata": {},
   "outputs": [],
   "source": [
    "def t_matrix(points, corner_inds):\n",
    "    xyz0 = points[:, corner_inds[0]]\n",
    "    vx = points[:, corner_inds[1]] - xyz0\n",
    "    vy = points[:, corner_inds[2]] - xyz0\n",
    "\n",
    "    vz = np.cross(vx, vy)\n",
    "    vy = -1 * np.cross(vx, vz)\n",
    "\n",
    "    vx = vx / np.linalg.norm(vx)\n",
    "    vy = vy / np.linalg.norm(vy)\n",
    "    vz = vz / np.linalg.norm(vz)\n",
    "\n",
    "    mat = np.array(\n",
    "        [\n",
    "            [vx[0], vy[0], vz[0], xyz0[0]],\n",
    "            [vx[1], vy[1], vz[1], xyz0[1]],\n",
    "            [vx[2], vy[2], vz[2], xyz0[2]],\n",
    "            [0.0, 0.0, 0.0, 1.0],\n",
    "        ]\n",
    "    )\n",
    "\n",
    "    inv_mat = np.linalg.inv(mat)\n",
    "\n",
    "    return mat, inv_mat"
   ]
  },
  {
   "cell_type": "code",
   "execution_count": 16,
   "metadata": {},
   "outputs": [
    {
     "data": {
      "text/plain": [
       "(3, 4)"
      ]
     },
     "execution_count": 16,
     "metadata": {},
     "output_type": "execute_result"
    }
   ],
   "source": [
    "points = np.array([[0, 0, 0], [1, 0.2, 0], [0, 1, 0], [1, 1, 0]]).T\n",
    "points.shape"
   ]
  },
  {
   "cell_type": "code",
   "execution_count": 17,
   "metadata": {},
   "outputs": [
    {
     "data": {
      "text/plain": [
       "(array([[ 0.98058068, -0.19611614,  0.        ,  0.        ],\n",
       "        [ 0.19611614,  0.98058068,  0.        ,  0.        ],\n",
       "        [ 0.        , -0.        ,  1.        ,  0.        ],\n",
       "        [ 0.        ,  0.        ,  0.        ,  1.        ]]),\n",
       " array([[ 0.98058068,  0.19611614,  0.        ,  0.        ],\n",
       "        [-0.19611614,  0.98058068,  0.        ,  0.        ],\n",
       "        [ 0.        ,  0.        ,  1.        ,  0.        ],\n",
       "        [ 0.        ,  0.        ,  0.        ,  1.        ]]))"
      ]
     },
     "execution_count": 17,
     "metadata": {},
     "output_type": "execute_result"
    }
   ],
   "source": [
    "t_matrix(points, [0, 1, 2])"
   ]
  },
  {
   "cell_type": "code",
   "execution_count": 18,
   "metadata": {},
   "outputs": [
    {
     "data": {
      "text/plain": [
       "Measurement(title='Plate YZ', name='mmt_02', artefact=ArtefactType(title='KOBA 0620', nballs=[5, 5], ball_spacing=133.0), transform_mat=array([[  0.,   0.,   1., 516.],\n",
       "       [  1.,   0.,   0.,  50.],\n",
       "       [  0.,   1.,   0.,  50.],\n",
       "       [  0.,   0.,   0.,   1.]]), probe=Probe(title='PYZ', name='pyz', length=array([ 130.    ,    0.    , -243.4852])), cmm_nominal=array([[516., 516., 516., 516., 516., 516., 516., 516., 516., 516., 516.,\n",
       "        516., 516., 516., 516., 516., 516., 516., 516., 516., 516., 516.,\n",
       "        516., 516., 516.],\n",
       "       [ 50., 183., 316., 449., 582.,  50., 183., 316., 449., 582.,  50.,\n",
       "        183., 316., 449., 582.,  50., 183., 316., 449., 582.,  50., 183.,\n",
       "        316., 449., 582.],\n",
       "       [ 50.,  50.,  50.,  50.,  50., 183., 183., 183., 183., 183., 316.,\n",
       "        316., 316., 316., 316., 449., 449., 449., 449., 449., 582., 582.,\n",
       "        582., 582., 582.]]), cmm_dev=array([[ 0.0060843 ,  0.00461954,  0.00315479,  0.00169003,  0.00022528,\n",
       "         0.01052977,  0.00881206,  0.00709435,  0.00537663,  0.00365891,\n",
       "         0.01497523,  0.01300456,  0.01103389,  0.00906322,  0.00709254,\n",
       "         0.01942068,  0.01719706,  0.01497343,  0.01274979,  0.01052616,\n",
       "         0.02386612,  0.02138954,  0.01891295,  0.01643636,  0.01395976],\n",
       "       [ 0.00282905,  0.00241287,  0.0019967 ,  0.00158052,  0.00116436,\n",
       "         0.00386439,  0.00352924,  0.00319409,  0.00285893,  0.00252378,\n",
       "         0.00489973,  0.0046456 ,  0.00439147,  0.00413734,  0.00388321,\n",
       "         0.00593508,  0.00576197,  0.00558886,  0.00541576,  0.00524264,\n",
       "         0.00697042,  0.00687834,  0.00678625,  0.00669417,  0.00660207],\n",
       "       [-0.00484041, -0.00407913, -0.00331785, -0.00255656, -0.00179528,\n",
       "        -0.00482226, -0.00406097, -0.00329968, -0.00253839, -0.00177711,\n",
       "        -0.00480411, -0.00404281, -0.00328152, -0.00252022, -0.00175893,\n",
       "        -0.00478595, -0.00402465, -0.00326335, -0.00250205, -0.00174076,\n",
       "        -0.0047678 , -0.00400649, -0.00324518, -0.00248388, -0.00172258]]), mmt_nominal=array([[  0., 133., 266., 399., 532.,   0., 133., 266., 399., 532.,   0.,\n",
       "        133., 266., 399., 532.,   0., 133., 266., 399., 532.,   0., 133.,\n",
       "        266., 399., 532.],\n",
       "       [  0.,   0.,   0.,   0.,   0., 133., 133., 133., 133., 133., 266.,\n",
       "        266., 266., 266., 266., 399., 399., 399., 399., 399., 532., 532.,\n",
       "        532., 532., 532.],\n",
       "       [  0.,   0.,   0.,   0.,   0.,   0.,   0.,   0.,   0.,   0.,   0.,\n",
       "          0.,   0.,   0.,   0.,   0.,   0.,   0.,   0.,   0.,   0.,   0.,\n",
       "          0.,   0.,   0.]]), mmt_dev=array([[ 0.00000000e+00, -4.16166219e-04, -8.32329993e-04,\n",
       "        -1.24849132e-03, -1.66465021e-03,  1.79657920e-03,\n",
       "         1.46143961e-03,  1.12630098e-03,  7.91163323e-04,\n",
       "         4.56026638e-04,  3.59315873e-03,  3.33904575e-03,\n",
       "         3.08493227e-03,  2.83081829e-03,  2.57670380e-03,\n",
       "         5.38973857e-03,  5.21665221e-03,  5.04356387e-03,\n",
       "         4.87047356e-03,  4.69738128e-03,  7.18631872e-03,\n",
       "         7.09425898e-03,  7.00219580e-03,  6.91012916e-03,\n",
       "         6.81805908e-03],\n",
       "       [ 0.00000000e+00, -1.62292935e-09, -2.16382290e-09,\n",
       "        -1.62285829e-09,  0.00000000e+00,  1.82183095e-05,\n",
       "         1.82148623e-05,  1.82114361e-05,  1.82080309e-05,\n",
       "         1.82046466e-05,  3.64372250e-05,  3.64319534e-05,\n",
       "         3.64256418e-05,  3.64182904e-05,  3.64098991e-05,\n",
       "         5.46567466e-05,  5.46496505e-05,  5.46404535e-05,\n",
       "         5.46291558e-05,  5.46157573e-05,  7.28768739e-05,\n",
       "         7.28679535e-05,  7.28558713e-05,  7.28406271e-05,\n",
       "         7.28222213e-05],\n",
       "       [ 1.13686838e-13,  3.68970632e-09,  4.91945684e-09,\n",
       "         3.68970632e-09,  0.00000000e+00,  1.73048420e-08,\n",
       "        -2.52935894e-04, -5.05892025e-04, -7.58851088e-04,\n",
       "        -1.01181308e-03,  2.30731985e-08, -5.05887015e-04,\n",
       "        -1.01180051e-03, -1.51771740e-03, -2.02363770e-03,\n",
       "         1.73047283e-08, -7.58849672e-04, -1.51772052e-03,\n",
       "        -2.27659525e-03, -3.03547386e-03,  1.13686838e-13,\n",
       "        -1.01182387e-03, -2.02365208e-03, -3.03548464e-03,\n",
       "        -4.04732155e-03]]), fixed=False)"
      ]
     },
     "execution_count": 18,
     "metadata": {},
     "output_type": "execute_result"
    }
   ],
   "source": [
    "mmt"
   ]
  },
  {
   "cell_type": "code",
   "execution_count": 20,
   "metadata": {},
   "outputs": [
    {
     "data": {
      "text/plain": [
       "array([516., 582., 582.])"
      ]
     },
     "execution_count": 20,
     "metadata": {},
     "output_type": "execute_result"
    }
   ],
   "source": [
    "mmt.cmm_nominal.max(axis=1)"
   ]
  },
  {
   "cell_type": "code",
   "execution_count": null,
   "metadata": {},
   "outputs": [
    {
     "data": {
      "text/plain": [
       "array([516., 316., 316.])"
      ]
     },
     "execution_count": 22,
     "metadata": {},
     "output_type": "execute_result"
    }
   ],
   "source": [
    "mmt_max = mmt.cmm_nominal.max(axis=1)\n",
    "mmt_min = mmt.cmm_nominal.min(axis=1)\n",
    "mmt_centre = (mmt_max + mmt_min) / 2\n",
    "mmt_centre"
   ]
  },
  {
   "cell_type": "code",
   "execution_count": 23,
   "metadata": {},
   "outputs": [
    {
     "data": {
      "text/plain": [
       "array([516.,  50.,  50.])"
      ]
     },
     "execution_count": 23,
     "metadata": {},
     "output_type": "execute_result"
    }
   ],
   "source": [
    "mmt_min"
   ]
  },
  {
   "cell_type": "code",
   "execution_count": 24,
   "metadata": {},
   "outputs": [
    {
     "data": {
      "text/plain": [
       "array([516., 582., 582.])"
      ]
     },
     "execution_count": 24,
     "metadata": {},
     "output_type": "execute_result"
    }
   ],
   "source": [
    "mmt_max"
   ]
  },
  {
   "cell_type": "code",
   "execution_count": 28,
   "metadata": {},
   "outputs": [
    {
     "data": {
      "text/plain": [
       "array([400., 300., 300.])"
      ]
     },
     "execution_count": 28,
     "metadata": {},
     "output_type": "execute_result"
    }
   ],
   "source": [
    "cmm_centre = np.array(dc.pmm_866.cmm_model.size) / 2.0\n",
    "cmm_centre"
   ]
  },
  {
   "cell_type": "code",
   "execution_count": 30,
   "metadata": {},
   "outputs": [
    {
     "data": {
      "text/plain": [
       "array([116.,  16.,  16.])"
      ]
     },
     "execution_count": 30,
     "metadata": {},
     "output_type": "execute_result"
    }
   ],
   "source": [
    "mmt_centre - cmm_centre"
   ]
  },
  {
   "cell_type": "code",
   "execution_count": null,
   "metadata": {},
   "outputs": [],
   "source": []
  }
 ],
 "metadata": {
  "kernelspec": {
   "display_name": ".venv",
   "language": "python",
   "name": "python3"
  },
  "language_info": {
   "codemirror_mode": {
    "name": "ipython",
    "version": 3
   },
   "file_extension": ".py",
   "mimetype": "text/x-python",
   "name": "python",
   "nbconvert_exporter": "python",
   "pygments_lexer": "ipython3",
   "version": "3.11.9"
  }
 },
 "nbformat": 4,
 "nbformat_minor": 2
}
