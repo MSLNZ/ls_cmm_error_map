{
 "cells": [
  {
   "cell_type": "markdown",
   "metadata": {},
   "source": [
    "# to plate CSY\n",
    "\n",
    "looking at functiosn to transform from CMM CSY to plate CSY as they differ between new and old code."
   ]
  },
  {
   "cell_type": "code",
   "execution_count": 1,
   "metadata": {},
   "outputs": [],
   "source": [
    "import numpy as np\n",
    "\n",
    "import cmm_error_map.config.config as cf\n",
    "import cmm_error_map.data_cmpts as dc\n",
    "import cmm_error_map.mpl_2014.design_matrix_linear as design_old\n",
    "from cmm_error_map.mpl_2014.ballplate_plots import single_grid_plot"
   ]
  },
  {
   "cell_type": "code",
   "execution_count": 50,
   "metadata": {},
   "outputs": [],
   "source": [
    "# build matrix directly\n",
    "def cmm_to_plate_csy_matrix(mmt):\n",
    "    \"\"\"\n",
    "    transform cmm_deform to plate CSY\n",
    "\n",
    "    origin point ball 0\n",
    "    z-plane through balls 0, 4, 20\n",
    "    x-axis through balls 0, 4\n",
    "    \"\"\"\n",
    "    cmm_deform = mmt.cmm_nominal + mmt.cmm_dev\n",
    "    nx, ny = mmt.artefact.nballs\n",
    "    xindex = nx - 1\n",
    "    yindex = nx * (ny - 1)\n",
    "    xyz0 = cmm_deform[:, 0]\n",
    "    vx = cmm_deform[:, xindex] - xyz0\n",
    "    vy = cmm_deform[:, yindex] - xyz0\n",
    "\n",
    "    vx = vx / np.linalg.norm(vx)\n",
    "    vy = vy / np.linalg.norm(vy)\n",
    "    vz = np.cross(vx, vy)\n",
    "    vz = vz / np.linalg.norm(vz)\n",
    "\n",
    "    mat = np.array(\n",
    "        [\n",
    "            [vx[0], vy[0], vz[0], xyz0[0]],\n",
    "            [vx[1], vy[1], vz[1], xyz0[1]],\n",
    "            [vx[2], vy[2], vz[2], xyz0[2]],\n",
    "            [0.0, 0.0, 0.0, 1.0],\n",
    "        ]\n",
    "    )\n",
    "\n",
    "    inv_mat = np.linalg.inv(mat)\n",
    "    cmm_deform1 = np.vstack((cmm_deform, np.ones((1, nx * ny))))\n",
    "    mmt_deform = inv_mat @ cmm_deform1\n",
    "\n",
    "    return mmt_deform[:3, :]"
   ]
  },
  {
   "cell_type": "code",
   "execution_count": 51,
   "metadata": {},
   "outputs": [],
   "source": [
    "def cmm_to_plate_csy(mmt):\n",
    "    \"\"\"\n",
    "    transform cmm_deform to plate CSY\n",
    "\n",
    "    origin point ball 0\n",
    "    z-plane through balls 0, 4, 20\n",
    "    x-axis through balls 0, 4\n",
    "\n",
    "    previous code calculating a matrix directly from axis vectors\n",
    "    suffered from round off errors\n",
    "\n",
    "    2025-01-20 adding extra rotations to zero z values of corners.\n",
    "    \"\"\"\n",
    "\n",
    "    # transfer to plate CSY\n",
    "    cmm_deform = mmt.cmm_nominal + mmt.cmm_dev\n",
    "    cmm_deform1 = np.vstack((cmm_deform, np.ones_like(cmm_deform[0, :])))\n",
    "    XYZp = np.dot(np.linalg.inv(mmt.transform_mat), cmm_deform1)\n",
    "    # subtract ball 1 row from each position\n",
    "    XYZp[:3, :] = XYZp[:3, :] - XYZp[:3, 0:1]\n",
    "    # also rotate about plate z so y=0 for ball 5\n",
    "    ang = -1.0 * np.arctan2(XYZp[1, 4], XYZp[0, 4])\n",
    "    cang = np.cos(ang)\n",
    "    sang = np.sin(ang)\n",
    "    RZ = np.array(\n",
    "        [\n",
    "            [cang, -sang, 0.0, 0.0],\n",
    "            [sang, cang, 0.0, 0.0],\n",
    "            [0.0, 0.0, 1.0, 0.0],\n",
    "            [0.0, 0.0, 0.0, 1.0],\n",
    "        ]\n",
    "    )\n",
    "    XYZp = np.dot(RZ, XYZp)\n",
    "\n",
    "    mmt_deform = XYZp[:3, :]\n",
    "    return mmt_deform"
   ]
  },
  {
   "cell_type": "code",
   "execution_count": 67,
   "metadata": {},
   "outputs": [],
   "source": [
    "def cmm_to_plate_csy_3R(mmt):\n",
    "    \"\"\"\n",
    "    transform cmm_deform to plate CSY\n",
    "\n",
    "    origin point ball 0\n",
    "    z-plane through balls 0, 4, 20\n",
    "    x-axis through balls 0, 4\n",
    "\n",
    "    previous code calculating a matrix directly from axis vectors\n",
    "    suffered from round off errors\n",
    "\n",
    "    2025-01-20 adding extra rotations to zero z values of corners.\n",
    "    \"\"\"\n",
    "\n",
    "    # transfer to plate CSY\n",
    "    cmm_deform = mmt.cmm_nominal + mmt.cmm_dev\n",
    "    cmm_deform1 = np.vstack((cmm_deform, np.ones_like(cmm_deform[0, :])))\n",
    "    XYZp = np.dot(np.linalg.inv(mmt.transform_mat), cmm_deform1)\n",
    "    # subtract ball 1 row from each position\n",
    "    XYZp[:3, :] = XYZp[:3, :] - XYZp[:3, 0:1]\n",
    "    # rotate about plate z so y=0 for ball 5\n",
    "    ang = -1.0 * np.arctan2(XYZp[1, 4], XYZp[0, 4])\n",
    "    cang = np.cos(ang)\n",
    "    sang = np.sin(ang)\n",
    "    RZ = np.array(\n",
    "        [\n",
    "            [cang, -sang, 0.0, 0.0],\n",
    "            [sang, cang, 0.0, 0.0],\n",
    "            [0.0, 0.0, 1.0, 0.0],\n",
    "            [0.0, 0.0, 0.0, 1.0],\n",
    "        ]\n",
    "    )\n",
    "    XYZp = np.dot(RZ, XYZp)\n",
    "\n",
    "    # rotate about plate y so z=0 for ball 5\n",
    "    ang = 1.0 * np.arctan2(XYZp[1, 4], XYZp[2, 4])\n",
    "    cang = np.cos(ang)\n",
    "    sang = np.sin(ang)\n",
    "    RY = np.array(\n",
    "        [\n",
    "            [cang, 0, sang, 0.0],\n",
    "            [0.0, 1.0, 0.0, 0.0],\n",
    "            [-sang, 0.0, cang, 0.0],\n",
    "            [0.0, 0.0, 0.0, 1.0],\n",
    "        ]\n",
    "    )\n",
    "\n",
    "    XYZp = np.dot(RY, XYZp)\n",
    "    mmt_deform = XYZp[:3, :]\n",
    "    return mmt_deform"
   ]
  },
  {
   "cell_type": "code",
   "execution_count": 53,
   "metadata": {},
   "outputs": [],
   "source": [
    "def make_mmts():\n",
    "    \"\"\"\n",
    "    return a dict of dc.Measurement\n",
    "    one for each CMM plane XY, XZ, YZ\n",
    "    \"\"\"\n",
    "    ballspacing = 133.0\n",
    "    x0, y0, z0 = 250.0, 50.0, 50.0\n",
    "    # XY plane\n",
    "    x0xy, y0xy, z0xy = x0, y0, z0\n",
    "    transform_mat_xy = np.array(\n",
    "        [\n",
    "            [1.0, 0.0, 0.0, x0xy],\n",
    "            [0.0, 1.0, 0.0, y0xy],\n",
    "            [0.0, 0.0, 1.0, z0xy],\n",
    "            [0.0, 0.0, 0.0, 1.0],\n",
    "        ]\n",
    "    )\n",
    "\n",
    "    xt, yt, zt = 0.0, 0.0, -243.4852\n",
    "    prb_xy = dc.Probe(title=\"P0\", name=\"p0\", length=np.array([xt, yt, zt]))\n",
    "    mmt_xy = dc.Measurement(\n",
    "        title=\"Plate XY\",\n",
    "        name=\"mmt_00\",\n",
    "        artefact=cf.artefact_models[\"KOBA 0620\"],\n",
    "        transform_mat=transform_mat_xy,\n",
    "        probe=prb_xy,\n",
    "        cmm_nominal=None,\n",
    "        cmm_dev=None,\n",
    "        mmt_nominal=None,\n",
    "        mmt_dev=None,\n",
    "    )\n",
    "    # XZ plane\n",
    "    x0xz, y0xz, z0xz = x0, y0 + 2.0 * ballspacing, z0\n",
    "    transform_mat_xz = np.array(\n",
    "        [\n",
    "            [1.0, 0.0, 0.0, x0xz],\n",
    "            [0.0, 0.0, 1.0, y0xz],\n",
    "            [0.0, 1.0, 0.0, z0xz],\n",
    "            [0.0, 0.0, 0.0, 1.0],\n",
    "        ]\n",
    "    )\n",
    "\n",
    "    xt_xz, yt_xz, zt_xz = 0.0, 130.0, -243.4852\n",
    "    prb_xz = dc.Probe(title=\"PXZ\", name=\"pxz\", length=np.array([xt_xz, yt_xz, zt_xz]))\n",
    "    mmt_xz = dc.Measurement(\n",
    "        title=\"Plate XZ\",\n",
    "        name=\"mmt_01\",\n",
    "        artefact=cf.artefact_models[\"KOBA 0620\"],\n",
    "        transform_mat=transform_mat_xz,\n",
    "        probe=prb_xz,\n",
    "        cmm_nominal=None,\n",
    "        cmm_dev=None,\n",
    "        mmt_nominal=None,\n",
    "        mmt_dev=None,\n",
    "    )\n",
    "    # YZ plane\n",
    "    x0yz, y0yz, z0yz = x0 + 2.0 * ballspacing, y0, z0\n",
    "    transform_mat_yz = np.array(\n",
    "        [\n",
    "            [0.0, 0.0, 1.0, x0yz],\n",
    "            [1.0, 0.0, 0.0, y0yz],\n",
    "            [0.0, 1.0, 0.0, z0yz],\n",
    "            [0.0, 0.0, 0.0, 1.0],\n",
    "        ]\n",
    "    )\n",
    "    xt_yz, yt_yz, zt_yz = 130.0, 0.0, -243.4852\n",
    "    prb_yz = dc.Probe(title=\"PYZ\", name=\"pyz\", length=np.array([xt_yz, yt_yz, zt_yz]))\n",
    "    mmt_yz = dc.Measurement(\n",
    "        title=\"Plate YZ\",\n",
    "        name=\"mmt_02\",\n",
    "        artefact=cf.artefact_models[\"KOBA 0620\"],\n",
    "        transform_mat=transform_mat_yz,\n",
    "        probe=prb_yz,\n",
    "        cmm_nominal=None,\n",
    "        cmm_dev=None,\n",
    "        mmt_nominal=None,\n",
    "        mmt_dev=None,\n",
    "    )\n",
    "\n",
    "    mmts = {\"mmt XY\": mmt_xy, \"mmt XZ\": mmt_xz, \"mmt YZ\": mmt_yz}\n",
    "    return mmts\n",
    "\n",
    "\n",
    "mmt_tests = make_mmts()\n"
   ]
  },
  {
   "cell_type": "code",
   "execution_count": 54,
   "metadata": {},
   "outputs": [],
   "source": [
    "model = dc.model_parameters_test.copy()"
   ]
  },
  {
   "cell_type": "code",
   "execution_count": 55,
   "metadata": {},
   "outputs": [],
   "source": [
    "for mmt in mmt_tests.values():\n",
    "    mmt.recalculate(model, dc.pmm_866.cmm_model)\n"
   ]
  },
  {
   "cell_type": "code",
   "execution_count": 66,
   "metadata": {},
   "outputs": [],
   "source": [
    "mmt_deform_A = cmm_to_plate_csy_matrix(mmt_tests[\"mmt YZ\"])\n",
    "mmt_deform_B = cmm_to_plate_csy(mmt_tests[\"mmt YZ\"])\n",
    "mmt_deform_C = cmm_to_plate_csy_3R(mmt_tests[\"mmt YZ\"])"
   ]
  },
  {
   "cell_type": "code",
   "execution_count": 61,
   "metadata": {},
   "outputs": [
    {
     "data": {
      "text/plain": [
       "(array([7.10542736e-15, 7.10542736e-15, 1.13686838e-13]),\n",
       " array([0., 0., 0.]),\n",
       " array([0., 0., 0.]))"
      ]
     },
     "execution_count": 61,
     "metadata": {},
     "output_type": "execute_result"
    }
   ],
   "source": [
    "mmt_deform_A[:, 0], mmt_deform_B[:, 0], mmt_deform_C[:, 0]"
   ]
  },
  {
   "cell_type": "code",
   "execution_count": 62,
   "metadata": {},
   "outputs": [
    {
     "data": {
      "text/plain": [
       "(array([5.31998335e+02, 7.10542736e-15, 0.00000000e+00]),\n",
       " array([ 5.31998335e+02, -1.04371470e-19, -5.85901992e-03]),\n",
       " array([-5.31998335e+02, -1.04371470e-19,  5.85901992e-03]))"
      ]
     },
     "execution_count": 62,
     "metadata": {},
     "output_type": "execute_result"
    }
   ],
   "source": [
    "mmt_deform_A[:, 4], mmt_deform_B[:, 4], mmt_deform_C[:, 4]"
   ]
  },
  {
   "cell_type": "code",
   "execution_count": 41,
   "metadata": {},
   "outputs": [
    {
     "data": {
      "text/plain": [
       "(array([1097.9973045 ,  566.03349416,   99.98563074]),\n",
       " array([7.18651456e-03, 5.32000073e+02, 1.77818230e-02]))"
      ]
     },
     "execution_count": 41,
     "metadata": {},
     "output_type": "execute_result"
    }
   ],
   "source": [
    "mmt_deform_A[:, 20], mmt_deform_B[:, 20]"
   ]
  },
  {
   "cell_type": "code",
   "execution_count": 42,
   "metadata": {},
   "outputs": [
    {
     "data": {
      "image/png": "[encoded data removed]",
      "text/plain": [
       "<Figure size 640x480 with 1 Axes>"
      ]
     },
     "metadata": {},
     "output_type": "display_data"
    }
   ],
   "source": [
    "mmt_dev_A = mmt_deform_A - mmt_tests[\"mmt YZ\"].mmt_nominal\n",
    "single_grid_plot(mmt_dev_A[:-1, :].T, 10000);"
   ]
  },
  {
   "cell_type": "code",
   "execution_count": 43,
   "metadata": {},
   "outputs": [
    {
     "data": {
      "image/png": "[encoded data removed]",
      "text/plain": [
       "<Figure size 640x480 with 1 Axes>"
      ]
     },
     "metadata": {},
     "output_type": "display_data"
    }
   ],
   "source": [
    "mmt_dev_B = mmt_deform_B - mmt_tests[\"mmt YZ\"].mmt_nominal\n",
    "single_grid_plot(mmt_dev_B[:-1, :].T, 10000);"
   ]
  },
  {
   "cell_type": "code",
   "execution_count": 25,
   "metadata": {},
   "outputs": [],
   "source": [
    "def t_matrix(points, corner_inds):\n",
    "    xyz0 = points[:, corner_inds[0]]\n",
    "    vx = points[:, corner_inds[1]] - xyz0\n",
    "    vy = points[:, corner_inds[2]] - xyz0\n",
    "\n",
    "    vz = np.cross(vx, vy)\n",
    "    vy = -1 * np.cross(vx, vz)\n",
    "\n",
    "    vx = vx / np.linalg.norm(vx)\n",
    "    vy = vy / np.linalg.norm(vy)\n",
    "    vz = vz / np.linalg.norm(vz)\n",
    "\n",
    "    mat = np.array(\n",
    "        [\n",
    "            [vx[0], vy[0], vz[0], xyz0[0]],\n",
    "            [vx[1], vy[1], vz[1], xyz0[1]],\n",
    "            [vx[2], vy[2], vz[2], xyz0[2]],\n",
    "            [0.0, 0.0, 0.0, 1.0],\n",
    "        ]\n",
    "    )\n",
    "\n",
    "    inv_mat = np.linalg.inv(mat)\n",
    "\n",
    "    return mat, inv_mat"
   ]
  },
  {
   "cell_type": "code",
   "execution_count": 22,
   "metadata": {},
   "outputs": [
    {
     "data": {
      "text/plain": [
       "(3, 4)"
      ]
     },
     "execution_count": 22,
     "metadata": {},
     "output_type": "execute_result"
    }
   ],
   "source": [
    "points = np.array([[0, 0, 0], [1, 0.2, 0], [0, 1, 0], [1, 1, 0]]).T\n",
    "points.shape"
   ]
  },
  {
   "cell_type": "code",
   "execution_count": 26,
   "metadata": {},
   "outputs": [
    {
     "data": {
      "text/plain": [
       "(array([[ 0.98058068, -0.19611614,  0.        ,  0.        ],\n",
       "        [ 0.19611614,  0.98058068,  0.        ,  0.        ],\n",
       "        [ 0.        , -0.        ,  1.        ,  0.        ],\n",
       "        [ 0.        ,  0.        ,  0.        ,  1.        ]]),\n",
       " array([[ 0.98058068,  0.19611614,  0.        ,  0.        ],\n",
       "        [-0.19611614,  0.98058068,  0.        ,  0.        ],\n",
       "        [ 0.        ,  0.        ,  1.        ,  0.        ],\n",
       "        [ 0.        ,  0.        ,  0.        ,  1.        ]]))"
      ]
     },
     "execution_count": 26,
     "metadata": {},
     "output_type": "execute_result"
    }
   ],
   "source": [
    "t_matrix(points, [0, 1, 2])"
   ]
  }
 ],
 "metadata": {
  "kernelspec": {
   "display_name": ".venv",
   "language": "python",
   "name": "python3"
  },
  "language_info": {
   "codemirror_mode": {
    "name": "ipython",
    "version": 3
   },
   "file_extension": ".py",
   "mimetype": "text/x-python",
   "name": "python",
   "nbconvert_exporter": "python",
   "pygments_lexer": "ipython3",
   "version": "3.11.9"
  }
 },
 "nbformat": 4,
 "nbformat_minor": 2
}
