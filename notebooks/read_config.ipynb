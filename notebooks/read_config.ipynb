{
 "cells": [
  {
   "cell_type": "code",
   "execution_count": 31,
   "metadata": {},
   "outputs": [],
   "source": [
    "from pathlib import Path\n",
    "import tomllib as toml\n",
    "import cmm_error_map.data_cmpts as dc\n",
    "import cmm_error_map.config.config as cf"
   ]
  },
  {
   "cell_type": "code",
   "execution_count": 32,
   "metadata": {},
   "outputs": [
    {
     "data": {
      "text/plain": [
       "PosixPath('/home/elfnor/gits/ls_cmm_error_map/src/cmm_error_map/config/machines.toml')"
      ]
     },
     "execution_count": 32,
     "metadata": {},
     "output_type": "execute_result"
    }
   ],
   "source": [
    "\n",
    "cf.machines_toml"
   ]
  },
  {
   "cell_type": "code",
   "execution_count": 33,
   "metadata": {},
   "outputs": [
    {
     "data": {
      "text/plain": [
       "{'PMM866': {'title': 'PMM866',\n",
       "  'size': [800, 600, 600],\n",
       "  'fixed_table': False,\n",
       "  'bridge_axis': 1,\n",
       "  'box_spacing': [200.0, 200.0, 200.0]},\n",
       " 'Legex574': {'title': 'Legex574',\n",
       "  'size': [500, 700, 400],\n",
       "  'fixed_table': False,\n",
       "  'bridge_axis': 0,\n",
       "  'box_spacing': [100.0, 100.0, 100.0]},\n",
       " 'Hexagon_Global': {'title': 'Hexagon_Global',\n",
       "  'size': [1200, 2200, 1000],\n",
       "  'fixed_table': True,\n",
       "  'bridge_axis': 0,\n",
       "  'box_spacing': [200.0, 200.0, 200.0]}}"
      ]
     },
     "execution_count": 33,
     "metadata": {},
     "output_type": "execute_result"
    }
   ],
   "source": [
    "with open(cf.machines_toml, 'rb') as f:\n",
    "    machines = toml.load(f)\n",
    "machines"
   ]
  },
  {
   "cell_type": "code",
   "execution_count": 34,
   "metadata": {},
   "outputs": [
    {
     "name": "stdout",
     "output_type": "stream",
     "text": [
      "PMM866\n",
      "MachineType(title='PMM866', size=[800, 600, 600], fixed_table=False, bridge_axis=1, box_spacing=[200.0, 200.0, 200.0])\n",
      "\n",
      "Legex574\n",
      "MachineType(title='Legex574', size=[500, 700, 400], fixed_table=False, bridge_axis=0, box_spacing=[100.0, 100.0, 100.0])\n",
      "\n",
      "Hexagon_Global\n",
      "MachineType(title='Hexagon_Global', size=[1200, 2200, 1000], fixed_table=True, bridge_axis=0, box_spacing=[200.0, 200.0, 200.0])\n",
      "\n"
     ]
    }
   ],
   "source": [
    "machines = {key: dc.MachineType(**value) for key, value in machines.items()}\n",
    "for key, value in machines.items():\n",
    "    print(key)\n",
    "    print(value)\n",
    "    print()"
   ]
  },
  {
   "cell_type": "code",
   "execution_count": 35,
   "metadata": {},
   "outputs": [
    {
     "data": {
      "text/plain": [
       "{'PMM866': MachineType(title='PMM866', size=[800, 600, 600], fixed_table=False, bridge_axis=1, box_spacing=[200.0, 200.0, 200.0]),\n",
       " 'Legex574': MachineType(title='Legex574', size=[500, 700, 400], fixed_table=False, bridge_axis=0, box_spacing=[100.0, 100.0, 100.0]),\n",
       " 'Hexagon_Global': MachineType(title='Hexagon_Global', size=[1200, 2200, 1000], fixed_table=True, bridge_axis=0, box_spacing=[200.0, 200.0, 200.0])}"
      ]
     },
     "execution_count": 35,
     "metadata": {},
     "output_type": "execute_result"
    }
   ],
   "source": [
    "cf.cmm_models"
   ]
  }
 ],
 "metadata": {
  "kernelspec": {
   "display_name": ".venv",
   "language": "python",
   "name": "python3"
  },
  "language_info": {
   "codemirror_mode": {
    "name": "ipython",
    "version": 3
   },
   "file_extension": ".py",
   "mimetype": "text/x-python",
   "name": "python",
   "nbconvert_exporter": "python",
   "pygments_lexer": "ipython3",
   "version": "3.11.9"
  }
 },
 "nbformat": 4,
 "nbformat_minor": 2
}
